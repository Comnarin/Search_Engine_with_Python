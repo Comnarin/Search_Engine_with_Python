{
 "cells": [
  {
   "cell_type": "code",
   "execution_count": 7,
   "metadata": {},
   "outputs": [],
   "source": [
    "import unittest\n",
    "from unittest.mock import patch\n",
    "from mymodule import make_doc\n",
    "\n",
    "class TestMakeDoc(unittest.TestCase):\n",
    "\n",
    "    def setUp(self):\n",
    "        self.link = \"https://example.com/article\"\n",
    "        self.ref = {\"https://example.com\": 1}\n",
    "\n",
    "    @patch(\"mymodule.check_lang\")\n",
    "    def test_make_doc(self, mock_check_lang):\n",
    "        body = \"The cat sat on a mat\"\n",
    "        word = {\"cat\":1, \"sit\":1, \"mat\":1}\n",
    "        title = \"Cute cat\"\n",
    "        location = \"United States\"\n",
    "        mock_check_lang.return_value = (body, word, title, location)\n",
    "        expected_output = {\n",
    "            \"link\": self.link,\n",
    "            \"title\": title,\n",
    "            \"body\": body,\n",
    "            \"location\": location,\n",
    "            \"word\": word,\n",
    "            \"ref\": 1\n",
    "        }\n",
    "        self.assertEqual(make_doc(self.link, self.ref), expected_output)\n",
    "    "
   ]
  },
  {
   "cell_type": "code",
   "execution_count": 8,
   "metadata": {},
   "outputs": [
    {
     "name": "stderr",
     "output_type": "stream",
     "text": [
      "."
     ]
    },
    {
     "name": "stdout",
     "output_type": "stream",
     "text": [
      "{'link': 'https://example.com/article', 'title': 'Cute cat', 'body': 'The cat sat on a mat', 'location': 'United States', 'word': {'cat': 1, 'sit': 1, 'mat': 1}, 'ref': 1}\n"
     ]
    },
    {
     "name": "stderr",
     "output_type": "stream",
     "text": [
      "\n",
      "----------------------------------------------------------------------\n",
      "Ran 1 test in 0.001s\n",
      "\n",
      "OK\n"
     ]
    },
    {
     "data": {
      "text/plain": [
       "<unittest.runner.TextTestResult run=1 errors=0 failures=0>"
      ]
     },
     "execution_count": 8,
     "metadata": {},
     "output_type": "execute_result"
    }
   ],
   "source": [
    "suite = unittest.TestLoader().loadTestsFromTestCase(TestMakeDoc)\n",
    "unittest.TextTestRunner().run(suite)"
   ]
  },
  {
   "cell_type": "code",
   "execution_count": null,
   "metadata": {},
   "outputs": [],
   "source": []
  }
 ],
 "metadata": {
  "kernelspec": {
   "display_name": "base",
   "language": "python",
   "name": "python3"
  },
  "language_info": {
   "codemirror_mode": {
    "name": "ipython",
    "version": 3
   },
   "file_extension": ".py",
   "mimetype": "text/x-python",
   "name": "python",
   "nbconvert_exporter": "python",
   "pygments_lexer": "ipython3",
   "version": "3.8.16"
  },
  "orig_nbformat": 4
 },
 "nbformat": 4,
 "nbformat_minor": 2
}
