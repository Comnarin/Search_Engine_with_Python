{
 "cells": [
  {
   "cell_type": "code",
   "execution_count": 1,
   "metadata": {},
   "outputs": [
    {
     "name": "stdout",
     "output_type": "stream",
     "text": [
      "[]\n",
      "[]\n"
     ]
    }
   ],
   "source": [
    "from mymodule import get_word"
   ]
  },
  {
   "cell_type": "code",
   "execution_count": 8,
   "metadata": {},
   "outputs": [],
   "source": [
    "import unittest\n",
    "\n",
    "class TestGetWord(unittest.TestCase):\n",
    "    def test_single_word(self):\n",
    "        body = [\"hello\"]\n",
    "        expected_output = {\"hello\": 1}\n",
    "        self.assertEqual(get_word(body), expected_output)\n",
    "        \n",
    "    def test_multiple_words(self):\n",
    "        body = [\"hello\", \"world\", \"hello\"]\n",
    "        expected_output = {\"hello\": 2, \"world\": 1}\n",
    "        self.assertEqual(get_word(body), expected_output)\n",
    "        \n",
    "    def test_empty_string(self):\n",
    "        body = \"\"\n",
    "        expected_output = {}\n",
    "        self.assertEqual(get_word(body), expected_output)\n",
    "        \n",
    "    def test_punctuation(self):\n",
    "        body = [\"Hello\", \"world!\"]\n",
    "        expected_output = {\"Hello\": 1, \"world!\": 1}\n",
    "        self.assertEqual(get_word(body), expected_output)\n",
    "        \n",
    "    def test_case_sensitivity(self):\n",
    "        body = [\"Hello\",\"hello\",\"world\", \"World\"]\n",
    "        expected_output = {\"Hello\": 1, \"hello\": 1, \"world\": 1, \"World\": 1}\n",
    "        self.assertEqual(get_word(body), expected_output)\n",
    "        "
   ]
  },
  {
   "cell_type": "code",
   "execution_count": 9,
   "metadata": {},
   "outputs": [
    {
     "name": "stderr",
     "output_type": "stream",
     "text": [
      ".....\n",
      "----------------------------------------------------------------------\n",
      "Ran 5 tests in 0.003s\n",
      "\n",
      "OK\n"
     ]
    },
    {
     "data": {
      "text/plain": [
       "<unittest.runner.TextTestResult run=5 errors=0 failures=0>"
      ]
     },
     "execution_count": 9,
     "metadata": {},
     "output_type": "execute_result"
    }
   ],
   "source": [
    "suite = unittest.TestLoader().loadTestsFromTestCase(TestGetWord)\n",
    "unittest.TextTestRunner().run(suite)"
   ]
  },
  {
   "cell_type": "code",
   "execution_count": null,
   "metadata": {},
   "outputs": [],
   "source": []
  }
 ],
 "metadata": {
  "kernelspec": {
   "display_name": "base",
   "language": "python",
   "name": "python3"
  },
  "language_info": {
   "codemirror_mode": {
    "name": "ipython",
    "version": 3
   },
   "file_extension": ".py",
   "mimetype": "text/x-python",
   "name": "python",
   "nbconvert_exporter": "python",
   "pygments_lexer": "ipython3",
   "version": "3.8.16"
  },
  "orig_nbformat": 4
 },
 "nbformat": 4,
 "nbformat_minor": 2
}
