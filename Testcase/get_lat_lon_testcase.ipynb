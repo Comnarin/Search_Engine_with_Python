{
 "cells": [
  {
   "cell_type": "code",
   "execution_count": 3,
   "metadata": {},
   "outputs": [],
   "source": [
    "import unittest\n",
    "from unittest.mock import patch\n",
    "from mymodule import get_lat_lon\n",
    "\n",
    "class TestGetLatLon(unittest.TestCase):\n",
    "    \n",
    "    @patch('mymodule.Nominatim')\n",
    "    def test_get_lat_lon_success(self, mock_geolocator):\n",
    "        mock_location = mock_geolocator.return_value.geocode.return_value\n",
    "        mock_location.latitude = 40.712776\n",
    "        mock_location.longitude = -74.005974\n",
    "        result = get_lat_lon(\"New York City\")\n",
    "        self.assertEqual(result, (40.712776, -74.005974))\n",
    "        \n",
    "    @patch('mymodule.Nominatim')\n",
    "    def test_get_lat_lon_failure(self, mock_geolocator):\n",
    "        mock_geolocator.return_value.geocode.side_effect = Exception(\"Unable to geocode location\")\n",
    "        result = get_lat_lon(\"Invalid location\")\n",
    "        self.assertEqual(result, ('Not found', 'Not found'))"
   ]
  },
  {
   "cell_type": "code",
   "execution_count": 4,
   "metadata": {},
   "outputs": [
    {
     "name": "stderr",
     "output_type": "stream",
     "text": [
      "..\n",
      "----------------------------------------------------------------------\n",
      "Ran 2 tests in 0.004s\n",
      "\n",
      "OK\n"
     ]
    },
    {
     "data": {
      "text/plain": [
       "<unittest.runner.TextTestResult run=2 errors=0 failures=0>"
      ]
     },
     "execution_count": 4,
     "metadata": {},
     "output_type": "execute_result"
    }
   ],
   "source": [
    "suite = unittest.TestLoader().loadTestsFromTestCase(TestGetLatLon)\n",
    "unittest.TextTestRunner().run(suite)"
   ]
  },
  {
   "cell_type": "code",
   "execution_count": null,
   "metadata": {},
   "outputs": [],
   "source": []
  }
 ],
 "metadata": {
  "kernelspec": {
   "display_name": "base",
   "language": "python",
   "name": "python3"
  },
  "language_info": {
   "codemirror_mode": {
    "name": "ipython",
    "version": 3
   },
   "file_extension": ".py",
   "mimetype": "text/x-python",
   "name": "python",
   "nbconvert_exporter": "python",
   "pygments_lexer": "ipython3",
   "version": "3.8.16"
  },
  "orig_nbformat": 4
 },
 "nbformat": 4,
 "nbformat_minor": 2
}
