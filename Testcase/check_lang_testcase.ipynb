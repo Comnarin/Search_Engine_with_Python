{
 "cells": [
  {
   "cell_type": "code",
   "execution_count": 9,
   "metadata": {},
   "outputs": [],
   "source": [
    "import unittest\n",
    "from unittest.mock import patch, Mock\n",
    "from mymodule import check_lang\n",
    "\n",
    "class TestCheckLang(unittest.TestCase):\n",
    "\n",
    "    @patch('mymodule.scrap_tags', return_value=([\"สวัสดีครับ\"], \"เรื่องที่น่าสนใจ\"))\n",
    "    def test_thai_language(self, mock_scrap_tags):\n",
    "        with patch('mymodule.Thai') as mock_thai_class:\n",
    "            mock_thai_instance = Mock()\n",
    "            mock_thai_instance.word = [\"ฉัน\", \"รัก\",\"เมือง\",\"ไทย\"]\n",
    "            mock_thai_instance.get_location.return_value = ['ชลบุรี']\n",
    "            mock_thai_class.return_value = mock_thai_instance\n",
    "            url = \"https://www.example.com/thai-article\"\n",
    "            result = check_lang(url)\n",
    "            self.assertEqual(result[3], 'Thailand')\n",
    "            self.assertEqual(result[1], {'ฉัน':1, 'รัก':1,'เมือง':1, 'ไทย':1})\n",
    "            self.assertEqual(result[2], \"เรื่องที่น่าสนใจ\")\n",
    "\n",
    "    @patch('mymodule.scrap_tags', return_value=([\"Hello, world!\"], \"Interesting Article\"))\n",
    "    @patch('mymodule.cleansing', return_value=\"Hello world!\")\n",
    "    @patch('mymodule.spacy_process', return_value=[\"Hello\", \"world\"])\n",
    "    @patch('mymodule.get_word', return_value={\"hello\":1, \"world\":1})\n",
    "    @patch('mymodule.eng_location', return_value=['United States'])\n",
    "    def test_english_language(self, mock_eng_location, mock_get_word, mock_spacy_process, mock_cleansing, mock_scrap_tags):\n",
    "        url = \"https://www.example.com/english-article\"\n",
    "        result = check_lang(url)\n",
    "        self.assertEqual(result[3], ['United States'])\n",
    "        self.assertEqual(result[1], {'hello':1, 'world':1})\n",
    "        self.assertEqual(result[2], \"Interesting Article\")"
   ]
  },
  {
   "cell_type": "code",
   "execution_count": 10,
   "metadata": {},
   "outputs": [
    {
     "name": "stderr",
     "output_type": "stream",
     "text": [
      "..\n",
      "----------------------------------------------------------------------\n",
      "Ran 2 tests in 0.006s\n",
      "\n",
      "OK\n"
     ]
    },
    {
     "data": {
      "text/plain": [
       "<unittest.runner.TextTestResult run=2 errors=0 failures=0>"
      ]
     },
     "execution_count": 10,
     "metadata": {},
     "output_type": "execute_result"
    }
   ],
   "source": [
    "suite = unittest.TestLoader().loadTestsFromTestCase(TestCheckLang)\n",
    "unittest.TextTestRunner().run(suite)"
   ]
  },
  {
   "cell_type": "code",
   "execution_count": null,
   "metadata": {},
   "outputs": [],
   "source": []
  }
 ],
 "metadata": {
  "kernelspec": {
   "display_name": "base",
   "language": "python",
   "name": "python3"
  },
  "language_info": {
   "codemirror_mode": {
    "name": "ipython",
    "version": 3
   },
   "file_extension": ".py",
   "mimetype": "text/x-python",
   "name": "python",
   "nbconvert_exporter": "python",
   "pygments_lexer": "ipython3",
   "version": "3.8.16"
  },
  "orig_nbformat": 4
 },
 "nbformat": 4,
 "nbformat_minor": 2
}
