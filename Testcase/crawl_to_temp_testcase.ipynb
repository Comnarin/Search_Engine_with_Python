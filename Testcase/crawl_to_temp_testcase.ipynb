{
 "cells": [
  {
   "cell_type": "code",
   "execution_count": 56,
   "metadata": {},
   "outputs": [],
   "source": [
    "from mymodule import spyder\n",
    "import sqlite3"
   ]
  },
  {
   "cell_type": "code",
   "execution_count": 80,
   "metadata": {},
   "outputs": [],
   "source": [
    "import unittest\n",
    "from unittest.mock import MagicMock, patch\n",
    "from mymodule import Crawl_to_temp\n",
    "\n",
    "class TestCrawlToTemp(unittest.TestCase):\n",
    "    def test_crawl_to_temp_query_check(self):\n",
    "        # Mock the database connection\n",
    "        conn_mock = MagicMock()\n",
    "\n",
    "        # Mock the cursor and fetchone method\n",
    "        cursor_mock = MagicMock()\n",
    "        cursor_mock.fetchone.return_value = None\n",
    "        conn_mock.execute.return_value = cursor_mock\n",
    "\n",
    "        # Mock the spyder object\n",
    "        spyder_mock = MagicMock()\n",
    "        spyder_mock.get_check_domain.return_value = ['http://example.com/1']\n",
    "\n",
    "        # Call the function with some target links and the mocked database\n",
    "        target_links = ['http://example.com', 'http://example.org']\n",
    "        with patch('sqlite3.connect', return_value=conn_mock):\n",
    "            with patch('mymodule.spyder', return_value=spyder_mock):\n",
    "                Crawl_to_temp(target_links, 'mocked.db')\n",
    "\n",
    "        # Check that the domain links were added to the database\n",
    "        conn_mock.execute.assert_any_call('INSERT INTO domain_link (domain_link) VALUES (?)', ('http://example.com',))\n",
    "        conn_mock.execute.assert_any_call('INSERT INTO domain_link (domain_link) VALUES (?)', ('http://example.org',))\n",
    "        conn_mock.commit.assert_called()\n",
    "\n",
    "        # Check that the Temp links were added to the database\n",
    "        conn_mock.execute.assert_any_call('INSERT INTO Temp_link (Link) VALUES (?);', ('http://example.com/1',))\n",
    "        conn_mock.commit.assert_called()\n"
   ]
  },
  {
   "cell_type": "code",
   "execution_count": 81,
   "metadata": {},
   "outputs": [
    {
     "name": "stderr",
     "output_type": "stream",
     "text": [
      ".\n",
      "----------------------------------------------------------------------\n",
      "Ran 1 test in 0.004s\n",
      "\n",
      "OK\n"
     ]
    },
    {
     "data": {
      "text/plain": [
       "<unittest.runner.TextTestResult run=1 errors=0 failures=0>"
      ]
     },
     "execution_count": 81,
     "metadata": {},
     "output_type": "execute_result"
    }
   ],
   "source": [
    "suite = unittest.TestLoader().loadTestsFromTestCase(TestCrawlToTemp)\n",
    "unittest.TextTestRunner().run(suite)"
   ]
  },
  {
   "cell_type": "code",
   "execution_count": null,
   "metadata": {},
   "outputs": [],
   "source": []
  }
 ],
 "metadata": {
  "kernelspec": {
   "display_name": "base",
   "language": "python",
   "name": "python3"
  },
  "language_info": {
   "codemirror_mode": {
    "name": "ipython",
    "version": 3
   },
   "file_extension": ".py",
   "mimetype": "text/x-python",
   "name": "python",
   "nbconvert_exporter": "python",
   "pygments_lexer": "ipython3",
   "version": "3.8.16"
  },
  "orig_nbformat": 4
 },
 "nbformat": 4,
 "nbformat_minor": 2
}
