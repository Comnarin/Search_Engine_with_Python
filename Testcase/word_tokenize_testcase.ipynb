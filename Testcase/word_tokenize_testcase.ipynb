{
 "cells": [
  {
   "cell_type": "code",
   "execution_count": 1,
   "metadata": {},
   "outputs": [],
   "source": [
    "import unittest\n",
    "from mymodule import spacy_process"
   ]
  },
  {
   "cell_type": "code",
   "execution_count": 2,
   "metadata": {},
   "outputs": [],
   "source": [
    "class TestSpacyProcess(unittest.TestCase):\n",
    "    \n",
    "    def test_single_word(self):\n",
    "        text = \"sat\"\n",
    "        expected_output = ['sit']\n",
    "        self.assertEqual(spacy_process(text), expected_output)\n",
    "        \n",
    "    def test_simple_sentence(self):\n",
    "        text = \"The quick brown fox jumped over the lazy dog.\"\n",
    "        expected_output = ['quick', 'brown', 'fox', 'jump', 'lazy', 'dog']\n",
    "        self.assertEqual(spacy_process(text), expected_output)\n",
    "        \n",
    "    def test_complex_sentence(self):\n",
    "        text = \"I am going to the store to buy some milk, bread, and cheese.\"\n",
    "        expected_output = ['store', 'buy', 'milk', 'bread', 'cheese']\n",
    "        self.assertEqual(spacy_process(text), expected_output)\n",
    "        \n",
    "    def test_repeated_words(self):\n",
    "        text = \"She sells seashells by the seashore.\"\n",
    "        expected_output = ['sell', 'seashell', 'seashore']\n",
    "        self.assertEqual(spacy_process(text), expected_output)\n",
    "        \n",
    "    def test_punctuation_marks(self):\n",
    "        text = \"The cat sat on the mat.\"\n",
    "        expected_output = ['cat', 'sit', 'mat']\n",
    "        self.assertEqual(spacy_process(text), expected_output)\n",
    "    \n",
    "    def test_no_word(self):\n",
    "        expected_output = ['No word found']\n",
    "        self.assertEqual(spacy_process(None), expected_output)"
   ]
  },
  {
   "cell_type": "code",
   "execution_count": 3,
   "metadata": {},
   "outputs": [
    {
     "name": "stderr",
     "output_type": "stream",
     "text": [
      "......\n",
      "----------------------------------------------------------------------\n",
      "Ran 6 tests in 1.963s\n",
      "\n",
      "OK\n"
     ]
    },
    {
     "data": {
      "text/plain": [
       "<unittest.runner.TextTestResult run=6 errors=0 failures=0>"
      ]
     },
     "execution_count": 3,
     "metadata": {},
     "output_type": "execute_result"
    }
   ],
   "source": [
    "suite = unittest.TestLoader().loadTestsFromTestCase(TestSpacyProcess)\n",
    "unittest.TextTestRunner().run(suite)"
   ]
  },
  {
   "cell_type": "code",
   "execution_count": null,
   "metadata": {},
   "outputs": [],
   "source": []
  }
 ],
 "metadata": {
  "kernelspec": {
   "display_name": "base",
   "language": "python",
   "name": "python3"
  },
  "language_info": {
   "codemirror_mode": {
    "name": "ipython",
    "version": 3
   },
   "file_extension": ".py",
   "mimetype": "text/x-python",
   "name": "python",
   "nbconvert_exporter": "python",
   "pygments_lexer": "ipython3",
   "version": "3.8.16"
  },
  "orig_nbformat": 4
 },
 "nbformat": 4,
 "nbformat_minor": 2
}
