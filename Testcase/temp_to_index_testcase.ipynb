{
 "cells": [
  {
   "cell_type": "code",
   "execution_count": 1,
   "metadata": {},
   "outputs": [
    {
     "name": "stdout",
     "output_type": "stream",
     "text": [
      "[]\n",
      "[]\n"
     ]
    }
   ],
   "source": [
    "import unittest\n",
    "from unittest.mock import patch, MagicMock\n",
    "import sqlite3\n",
    "\n",
    "# Import the function we want to test\n",
    "from mymodule import temp_to_index\n",
    "\n",
    "class TestTempToIndex(unittest.TestCase):\n",
    "    @patch('mymodule.get_ref')\n",
    "    @patch('mymodule.make_doc')\n",
    "    @patch('mymodule.insert_to_database')\n",
    "    def test_temp_to_index(self, mock_insert, mock_make_doc, mock_get_ref):\n",
    "        # Mock the database connection and cursor\n",
    "        mock_conn = MagicMock(spec=sqlite3.Connection)\n",
    "        mock_cursor = MagicMock(spec=sqlite3.Cursor)\n",
    "        mock_conn.cursor.return_value = mock_cursor\n",
    "\n",
    "        # Mock the results of the query\n",
    "        mock_links = [('https://example.com/page1',), ('https://example.com/page2',)]\n",
    "        mock_cursor.execute.return_value.fetchall.return_value = mock_links\n",
    "\n",
    "        # Mock the return value of get_ref()\n",
    "        mock_ref = {'https://example.com/': 3, 'https://google.com/': 1}\n",
    "        mock_get_ref.return_value = mock_ref\n",
    "\n",
    "        # Mock the return value of make_doc()\n",
    "        mock_doc = {\n",
    "            'link': 'https://example.com/page1',\n",
    "            'title': 'Example Page',\n",
    "            'body': 'This is the body of the page',\n",
    "            'location': 'United States',\n",
    "            'word': {'example': 2, 'page': 1, 'body': 1},\n",
    "            'ref': 3\n",
    "        }\n",
    "        mock_make_doc.return_value = mock_doc\n",
    "\n",
    "        # Call the function we want to test\n",
    "        temp_to_index(mock_conn)\n",
    "\n",
    "        # Check that the functions were called with the correct arguments\n",
    "        mock_make_doc.assert_called_with('https://example.com/page1', mock_ref)\n",
    "        mock_insert.assert_called_with([mock_doc])\n",
    "        mock_cursor.execute.assert_called_with('SELECT Link FROM temp_link ')\n"
   ]
  },
  {
   "cell_type": "code",
   "execution_count": 2,
   "metadata": {},
   "outputs": [
    {
     "name": "stderr",
     "output_type": "stream",
     "text": [
      "F\n",
      "======================================================================\n",
      "FAIL: test_temp_to_index (__main__.TestTempToIndex)\n",
      "----------------------------------------------------------------------\n",
      "Traceback (most recent call last):\n",
      "  File \"/Users/narin/opt/anaconda3/lib/python3.8/unittest/mock.py\", line 1325, in patched\n",
      "    return func(*newargs, **newkeywargs)\n",
      "  File \"/var/folders/bv/xhy_0rwx2k58c6gr44nl0gqm0000gn/T/ipykernel_19954/1783529112.py\", line 41, in test_temp_to_index\n",
      "    mock_make_doc.assert_called_with('https://example.com/page1', mock_ref)\n",
      "  File \"/Users/narin/opt/anaconda3/lib/python3.8/unittest/mock.py\", line 904, in assert_called_with\n",
      "    raise AssertionError(error_message)\n",
      "AssertionError: expected call not found.\n",
      "Expected: make_doc('https://example.com/page1', {'https://example.com/': 3, 'https://google.com/': 1})\n",
      "Actual: not called.\n",
      "\n",
      "----------------------------------------------------------------------\n",
      "Ran 1 test in 0.009s\n",
      "\n",
      "FAILED (failures=1)\n"
     ]
    },
    {
     "data": {
      "text/plain": [
       "<unittest.runner.TextTestResult run=1 errors=0 failures=1>"
      ]
     },
     "execution_count": 2,
     "metadata": {},
     "output_type": "execute_result"
    }
   ],
   "source": [
    "suite = unittest.TestLoader().loadTestsFromTestCase(TestTempToIndex)\n",
    "unittest.TextTestRunner().run(suite)"
   ]
  },
  {
   "cell_type": "code",
   "execution_count": 4,
   "metadata": {},
   "outputs": [
    {
     "name": "stdout",
     "output_type": "stream",
     "text": [
      "dict_keys(['a', 'b'])\n"
     ]
    },
    {
     "data": {
      "text/plain": [
       "dict_values([1, 2])"
      ]
     },
     "execution_count": 4,
     "metadata": {},
     "output_type": "execute_result"
    }
   ],
   "source": [
    "a= {'a':1,'b':2}\n",
    "print(a.keys())\n",
    "a.values()"
   ]
  },
  {
   "cell_type": "code",
   "execution_count": null,
   "metadata": {},
   "outputs": [],
   "source": []
  }
 ],
 "metadata": {
  "kernelspec": {
   "display_name": "base",
   "language": "python",
   "name": "python3"
  },
  "language_info": {
   "codemirror_mode": {
    "name": "ipython",
    "version": 3
   },
   "file_extension": ".py",
   "mimetype": "text/x-python",
   "name": "python",
   "nbconvert_exporter": "python",
   "pygments_lexer": "ipython3",
   "version": "3.8.16"
  },
  "orig_nbformat": 4
 },
 "nbformat": 4,
 "nbformat_minor": 2
}
