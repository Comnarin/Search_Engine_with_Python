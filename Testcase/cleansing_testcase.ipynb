{
 "cells": [
  {
   "cell_type": "code",
   "execution_count": 2,
   "metadata": {},
   "outputs": [],
   "source": [
    "import unittest\n",
    "from mymodule import cleansing"
   ]
  },
  {
   "cell_type": "code",
   "execution_count": 13,
   "metadata": {},
   "outputs": [],
   "source": [
    "class TestCleansing(unittest.TestCase):\n",
    "    \n",
    "    def test_cleansing(self):# Test case 1\n",
    "        input_1 = ['''Hello\\nworld! \n",
    "                   Welcome\\xa0to my website! \n",
    "                    \n",
    "                    \\n \\n \\n ®Copyright''']\n",
    "        \n",
    "        expected_output_1 = 'Hello world! Welcome to my website! Copyright'\n",
    "        self.assertEqual(cleansing(input_1), expected_output_1)\n",
    "\n",
    "    def test_cleansing2(self):   # Test case 2\n",
    "        input_2 = ['This is a test; here are some charactersâ that need to be removed']\n",
    "        expected_output_2 = 'This is a test here are some characters that need to be removed'\n",
    "        self.assertEqual(cleansing(input_2), expected_output_2)\n",
    "\n",
    "    def test_cleansing3(self):   # Test case 3\n",
    "        input_3 = ['\\n\\n\\n\\n', '\\xa0\\xa0\\xa0\\xa0', ';;;;;;']\n",
    "        expected_output_3 = ''\n",
    "        self.assertEqual(cleansing(input_3), expected_output_3)\n",
    "        "
   ]
  },
  {
   "cell_type": "code",
   "execution_count": 14,
   "metadata": {},
   "outputs": [
    {
     "name": "stderr",
     "output_type": "stream",
     "text": [
      "...\n",
      "----------------------------------------------------------------------\n",
      "Ran 3 tests in 0.002s\n",
      "\n",
      "OK\n"
     ]
    },
    {
     "data": {
      "text/plain": [
       "<unittest.runner.TextTestResult run=3 errors=0 failures=0>"
      ]
     },
     "execution_count": 14,
     "metadata": {},
     "output_type": "execute_result"
    }
   ],
   "source": [
    "suite = unittest.TestLoader().loadTestsFromTestCase(TestCleansing)\n",
    "unittest.TextTestRunner().run(suite)"
   ]
  },
  {
   "cell_type": "code",
   "execution_count": null,
   "metadata": {},
   "outputs": [],
   "source": []
  }
 ],
 "metadata": {
  "kernelspec": {
   "display_name": "base",
   "language": "python",
   "name": "python3"
  },
  "language_info": {
   "codemirror_mode": {
    "name": "ipython",
    "version": 3
   },
   "file_extension": ".py",
   "mimetype": "text/x-python",
   "name": "python",
   "nbconvert_exporter": "python",
   "pygments_lexer": "ipython3",
   "version": "3.8.16"
  },
  "orig_nbformat": 4
 },
 "nbformat": 4,
 "nbformat_minor": 2
}
