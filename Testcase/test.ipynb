{
 "cells": [
  {
   "cell_type": "code",
   "execution_count": 1,
   "metadata": {},
   "outputs": [
    {
     "name": "stdout",
     "output_type": "stream",
     "text": [
      "[]\n",
      "[]\n"
     ]
    }
   ],
   "source": [
    "from mymodule import spyder"
   ]
  },
  {
   "cell_type": "code",
   "execution_count": 8,
   "metadata": {},
   "outputs": [
    {
     "name": "stdout",
     "output_type": "stream",
     "text": [
      "{'http://www.bbc.co.uk/cbbc', 'http://www.bbc.co.uk/bitesize', 'http://www.bbc.co.uk/usingthebbc/terms/', 'http://www.bbc.co.uk/editorialguidelines/guidance/feeds-and-links', 'http://www.bbc.co.uk/weather', 'http://www.bbc.co.uk/accessibility/', 'http://ichef.bbci.co.uk/news/976/cpsprodpb/A4AD/production/_128875124_weech.2.jpg.webp', 'http://account.bbc.com/account', 'http://www.bbc.co.uk/sport', 'http://www.bbc.co.uk/aboutthebbc', 'http://www.bbc.co.uk/notifications', 'http://www.bbc.co.uk/cbeebies', 'http://www.bbc.co.uk/worldserviceradio/', 'http://www.bbc.co.uk/bbcnewsletter', 'http://www.bbc.co.uk/contact/complaints/make-a-complaint/', 'http://search.bbc.co.uk/search?scope=all&destination=HOMEPAGE_GNL', 'http://www.bbc.co.uk/guidance', 'http://www.bbcglobalnews.com/', 'http://www.bbc.co.uk/programmes/p01k2bx3', 'http://www.bbc.co.uk/contact', 'http://www.bbc.co.uk/sounds', 'http://www.bbc.co.uk/iplayer', 'http://www.bbc.co.uk/food', 'http://www.bbc.co.uk/news/business-64860802', 'http://www.bbc.co.uk/usingthebbc/cookies/', 'http://www.bbc.co.uk/schedules/p00fzl9m', 'http://www.bbc.co.uk/news', 'http://www.bbc.co.uk/usingthebbc/privacy/', 'http://www.bbc.co.uk'}\n",
      "29\n"
     ]
    }
   ],
   "source": [
    "targetlink = ['www.bbc.com']\n",
    "for i in targetlink:\n",
    "    web = spyder(targetlink,i,1)\n",
    "    x = web.get_check_not_domain()\n",
    "    print(x)\n",
    "    print(len(x))\n",
    "    "
   ]
  },
  {
   "cell_type": "code",
   "execution_count": null,
   "metadata": {},
   "outputs": [],
   "source": []
  }
 ],
 "metadata": {
  "kernelspec": {
   "display_name": "base",
   "language": "python",
   "name": "python3"
  },
  "language_info": {
   "codemirror_mode": {
    "name": "ipython",
    "version": 3
   },
   "file_extension": ".py",
   "mimetype": "text/x-python",
   "name": "python",
   "nbconvert_exporter": "python",
   "pygments_lexer": "ipython3",
   "version": "3.8.16"
  },
  "orig_nbformat": 4
 },
 "nbformat": 4,
 "nbformat_minor": 2
}
