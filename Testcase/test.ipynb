{
 "cells": [
  {
   "cell_type": "code",
   "execution_count": 11,
   "metadata": {},
   "outputs": [
    {
     "ename": "ImportError",
     "evalue": "cannot import name 'location_search' from 'mymodule' (/Users/narin/Documents/Kmutnb/Year2/S2/Softdev2/Exercise/softdev2/Testcase/mymodule.py)",
     "output_type": "error",
     "traceback": [
      "\u001b[0;31m---------------------------------------------------------------------------\u001b[0m",
      "\u001b[0;31mImportError\u001b[0m                               Traceback (most recent call last)",
      "Cell \u001b[0;32mIn[11], line 1\u001b[0m\n\u001b[0;32m----> 1\u001b[0m \u001b[39mfrom\u001b[39;00m \u001b[39mmymodule\u001b[39;00m \u001b[39mimport\u001b[39;00m location_search\n",
      "\u001b[0;31mImportError\u001b[0m: cannot import name 'location_search' from 'mymodule' (/Users/narin/Documents/Kmutnb/Year2/S2/Softdev2/Exercise/softdev2/Testcase/mymodule.py)"
     ]
    }
   ],
   "source": [
    "from mymodule import location_search"
   ]
  },
  {
   "cell_type": "code",
   "execution_count": 12,
   "metadata": {},
   "outputs": [],
   "source": [
    "from geopy.geocoders import Nominatim\n",
    "def get_lat_lon(data):\n",
    "    geolocator = Nominatim(user_agent=\"geoapiExercises\")\n",
    "    try:\n",
    "        location = geolocator.geocode(data)\n",
    "        latitude,longtitude = location.latitude, location.longitude\n",
    "    except:\n",
    "        latitude,longtitude = 'Not found'\n",
    "    return (latitude,longtitude)"
   ]
  },
  {
   "cell_type": "code",
   "execution_count": 10,
   "metadata": {},
   "outputs": [
    {
     "ename": "NameError",
     "evalue": "name 'location_search' is not defined",
     "output_type": "error",
     "traceback": [
      "\u001b[0;31m---------------------------------------------------------------------------\u001b[0m",
      "\u001b[0;31mNameError\u001b[0m                                 Traceback (most recent call last)",
      "Cell \u001b[0;32mIn[10], line 1\u001b[0m\n\u001b[0;32m----> 1\u001b[0m data \u001b[39m=\u001b[39m location_search\n\u001b[1;32m      2\u001b[0m result \u001b[39m=\u001b[39m[]\n\u001b[1;32m      3\u001b[0m \u001b[39mfor\u001b[39;00m i \u001b[39min\u001b[39;00m data:\n",
      "\u001b[0;31mNameError\u001b[0m: name 'location_search' is not defined"
     ]
    }
   ],
   "source": [
    "data = location_search()\n",
    "result =[]\n",
    "for i in data:\n",
    "   lat,lon =  get_lat_lon(i[0])\n",
    "   result .append([lat,lon],i[1])\n",
    "print(result)\n",
    "    "
   ]
  },
  {
   "cell_type": "code",
   "execution_count": null,
   "metadata": {},
   "outputs": [],
   "source": []
  }
 ],
 "metadata": {
  "kernelspec": {
   "display_name": "base",
   "language": "python",
   "name": "python3"
  },
  "language_info": {
   "codemirror_mode": {
    "name": "ipython",
    "version": 3
   },
   "file_extension": ".py",
   "mimetype": "text/x-python",
   "name": "python",
   "nbconvert_exporter": "python",
   "pygments_lexer": "ipython3",
   "version": "3.8.16"
  },
  "orig_nbformat": 4
 },
 "nbformat": 4,
 "nbformat_minor": 2
}
