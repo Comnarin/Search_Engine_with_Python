{
 "cells": [
  {
   "cell_type": "code",
   "execution_count": 1,
   "metadata": {},
   "outputs": [],
   "source": [
    "import unittest\n",
    "import sqlite3\n",
    "import requests\n",
    "from bs4 import BeautifulSoup \n",
    "from mock import MagicMock\n",
    "import time\n",
    "from urllib.parse import urljoin"
   ]
  },
  {
   "cell_type": "code",
   "execution_count": 68,
   "metadata": {},
   "outputs": [],
   "source": [
    "class spyder:\n",
    "    def __init__( self ,links,base_url,depth ):\n",
    "        self.base_url = base_url\n",
    "        target_links={}\n",
    "        for i in links:\n",
    "            target_links[i]=0 \n",
    "        self.target_links = target_links\n",
    "        self.depth = depth\n",
    "    \n",
    "    def get_crawler(self):\n",
    "        self.result_crawler = self.crawl(self.base_url,self.depth,0,set())\n",
    "        return self.result_crawler\n",
    "    \n",
    "    def get_check_domain(self):\n",
    "        self.check_domain_result = self.check_domain(self.base_url,self.get_crawler())\n",
    "        return self.check_domain_result\n",
    "    \n",
    "    def get_check_not_domain(self):\n",
    "        self.check_not_domain_result = self.check_not_domain(self.base_url,self.get_crawler())   \n",
    "        return self.check_not_domain_result\n",
    "    \n",
    "    def get_check_ref(self):\n",
    "        self.check_ref_result = self.check_ref(self.get_check_not_domain(),self.target_links)\n",
    "        return self.check_ref_result\n",
    "    \n",
    "    def crawl(self,url,n, depth,visited):\n",
    "        if depth < n :\n",
    "            visited.add(url)\n",
    "            headers = {'User-Agent': \"Mozilla/5.0 (Windows NT 10.0; Win64; x64) AppleWebKit/537.36 (KHTML, like Gecko) Chrome/42.0.2311.135 Safari/537.36 Edge/12.246\"}\n",
    "            time.sleep(0.3)\n",
    "            response = requests.get(url,headers=headers)\n",
    "            try:\n",
    "                soup = BeautifulSoup(response.text, 'html.parser')\n",
    "            except:\n",
    "                soup = BeautifulSoup(response.text, 'lxml')\n",
    "            links = soup.find_all('a')\n",
    "            links = [link.get('href') for link in links if link.get('href') and not link.get('href').startswith('#')]\n",
    "            links = [urljoin(url, link) for link in links if link]\n",
    "\n",
    "            for link in links:\n",
    "                if link not in visited:\n",
    "                    link = link.replace(' ','')\n",
    "                    visited.add(link)\n",
    "                    if link.startswith(url):\n",
    "                        self.crawl(link,n=n,depth=depth+1, visited=visited)\n",
    "        return visited\n",
    "    \n",
    "    def check_domain(self,base_url,links):\n",
    "        result= set()\n",
    "        for link in links :\n",
    "            if link.startswith(base_url):\n",
    "                result.add(link)\n",
    "        return result\n",
    "    \n",
    "    def check_not_domain(self,base_url,links):\n",
    "        result= set()\n",
    "        for link in links :\n",
    "            if not link.startswith(base_url):\n",
    "                result.add(link)\n",
    "        return result\n",
    "    \n",
    "    def check_ref(self,links,target_links):\n",
    "        for i in links:\n",
    "            for j in target_links:\n",
    "                if i.startswith(j):\n",
    "                    target_links[j]+=1\n",
    "        return target_links"
   ]
  },
  {
   "cell_type": "code",
   "execution_count": 102,
   "metadata": {},
   "outputs": [],
   "source": [
    "class TestSpyder(unittest.TestCase):\n",
    "    def setUp(self):\n",
    "        self.base_url = \"https://www.bbc.com/news\"\n",
    "        self.links = [\"https://www.bbc.com\"]\n",
    "        self.depth = 1\n",
    "        self.spyder = spyder(self.links, self.base_url, self.depth)\n",
    "        \n",
    "    def test_crawl(self):\n",
    "        visited = self.spyder.crawl(self.base_url, self.depth, 0, set())\n",
    "        self.assertIn(self.base_url, visited)\n",
    "            \n",
    "    def test_check_domain(self):\n",
    "        links = self.links\n",
    "        domain_links = self.spyder.check_domain(\"https://www.bbc.com\", [\"https://www.bbc.com/news\"])\n",
    "        self.assertIn(\"https://www.bbc.com/news\", domain_links)\n",
    "        self.assertNotIn(\"https://www.bbc.co.uk\", domain_links)\n",
    "        \n",
    "    def test_check_not_domain(self):\n",
    "        links = self.links\n",
    "        not_domain_links = self.spyder.check_not_domain(self.base_url, links)\n",
    "        self.assertNotIn(\"https://www.bbc.com/news\", not_domain_links)\n",
    "        self.assertIn(\"https://www.bbc.com\", not_domain_links)\n",
    "        \n",
    "    def test_check_ref(self):\n",
    "        links = [\"https://www.example.com/about\"]\n",
    "        target_links = {\"https://www.example.com\": 0}\n",
    "        ref_counts = self.spyder.check_ref(links, target_links)\n",
    "        self.assertEqual(ref_counts,{\"https://www.example.com\": 1})\n",
    "        "
   ]
  },
  {
   "cell_type": "code",
   "execution_count": 103,
   "metadata": {},
   "outputs": [],
   "source": [
    "suite = unittest.TestLoader().loadTestsFromTestCase(TestSpyder)"
   ]
  },
  {
   "cell_type": "code",
   "execution_count": 104,
   "metadata": {},
   "outputs": [
    {
     "name": "stderr",
     "output_type": "stream",
     "text": [
      "....\n",
      "----------------------------------------------------------------------\n",
      "Ran 4 tests in 0.645s\n",
      "\n",
      "OK\n"
     ]
    },
    {
     "data": {
      "text/plain": [
       "<unittest.runner.TextTestResult run=4 errors=0 failures=0>"
      ]
     },
     "execution_count": 104,
     "metadata": {},
     "output_type": "execute_result"
    }
   ],
   "source": [
    "unittest.TextTestRunner().run(suite)"
   ]
  },
  {
   "cell_type": "code",
   "execution_count": null,
   "metadata": {},
   "outputs": [],
   "source": []
  }
 ],
 "metadata": {
  "kernelspec": {
   "display_name": "base",
   "language": "python",
   "name": "python3"
  },
  "language_info": {
   "codemirror_mode": {
    "name": "ipython",
    "version": 3
   },
   "file_extension": ".py",
   "mimetype": "text/x-python",
   "name": "python",
   "nbconvert_exporter": "python",
   "pygments_lexer": "ipython3",
   "version": "3.8.16"
  },
  "orig_nbformat": 4
 },
 "nbformat": 4,
 "nbformat_minor": 2
}
