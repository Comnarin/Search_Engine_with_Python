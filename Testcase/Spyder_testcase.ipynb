{
 "cells": [
  {
   "cell_type": "code",
   "execution_count": 8,
   "metadata": {},
   "outputs": [],
   "source": [
    "import unittest\n",
    "from mymodule import spyder"
   ]
  },
  {
   "cell_type": "code",
   "execution_count": 9,
   "metadata": {},
   "outputs": [],
   "source": [
    "class TestSpyder(unittest.TestCase):\n",
    "    def setUp(self):\n",
    "        self.base_url = \"https://www.bbc.com/news\"\n",
    "        self.links = [\"https://www.bbc.com\"]\n",
    "        self.depth = 1\n",
    "        self.spyder = spyder(self.links, self.base_url, self.depth)\n",
    "        \n",
    "    def test_crawl(self):\n",
    "        visited = self.spyder.crawl(self.base_url, self.depth, 0, set())\n",
    "        self.assertIn(self.base_url, visited)\n",
    "            \n",
    "    def test_check_domain(self):\n",
    "        links = self.links\n",
    "        domain_links = self.spyder.check_domain(\"https://www.bbc.com\", [\"https://www.bbc.com/news\"])\n",
    "        self.assertIn(\"https://www.bbc.com/news\", domain_links)\n",
    "        self.assertNotIn(\"https://www.bbc.co.uk\", domain_links)\n",
    "        \n",
    "    def test_check_not_domain(self):\n",
    "        links = self.links\n",
    "        not_domain_links = self.spyder.check_not_domain(self.base_url, links)\n",
    "        self.assertNotIn(\"https://www.bbc.com/news\", not_domain_links)\n",
    "        self.assertIn(\"https://www.bbc.com\", not_domain_links)\n",
    "        \n",
    "    def test_check_ref(self):\n",
    "        links = [\"https://www.example.com/about\"]\n",
    "        target_links = {\"https://www.example.com\": 0}\n",
    "        ref_counts = self.spyder.check_ref(links, target_links)\n",
    "        self.assertEqual(ref_counts,{\"https://www.example.com\": 1})\n",
    "        "
   ]
  },
  {
   "cell_type": "code",
   "execution_count": 10,
   "metadata": {},
   "outputs": [
    {
     "name": "stderr",
     "output_type": "stream",
     "text": [
      "....\n",
      "----------------------------------------------------------------------\n",
      "Ran 4 tests in 0.677s\n",
      "\n",
      "OK\n"
     ]
    },
    {
     "data": {
      "text/plain": [
       "<unittest.runner.TextTestResult run=4 errors=0 failures=0>"
      ]
     },
     "execution_count": 10,
     "metadata": {},
     "output_type": "execute_result"
    }
   ],
   "source": [
    "suite = unittest.TestLoader().loadTestsFromTestCase(TestSpyder)\n",
    "unittest.TextTestRunner().run(suite)"
   ]
  }
 ],
 "metadata": {
  "kernelspec": {
   "display_name": "base",
   "language": "python",
   "name": "python3"
  },
  "language_info": {
   "codemirror_mode": {
    "name": "ipython",
    "version": 3
   },
   "file_extension": ".py",
   "mimetype": "text/x-python",
   "name": "python",
   "nbconvert_exporter": "python",
   "pygments_lexer": "ipython3",
   "version": "3.8.16"
  },
  "orig_nbformat": 4
 },
 "nbformat": 4,
 "nbformat_minor": 2
}
