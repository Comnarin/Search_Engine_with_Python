{
 "cells": [
  {
   "cell_type": "code",
   "execution_count": 4,
   "metadata": {},
   "outputs": [],
   "source": [
    "from mymodule import eng_location"
   ]
  },
  {
   "cell_type": "code",
   "execution_count": 23,
   "metadata": {},
   "outputs": [],
   "source": [
    "import unittest\n",
    "\n",
    "class TestEngLocation(unittest.TestCase):\n",
    "\n",
    "    def test_location_in_data(self):\n",
    "        data = (\"I'm planning a trip to France next month.\",)\n",
    "        title = \"Travel Plans\"\n",
    "        self.assertEqual(eng_location(data, title), ['France'])\n",
    "\n",
    "    def test_location_in_title(self):\n",
    "        data = (\"The weather is nice today.\",)\n",
    "        title = \"What's the weather like in Spain?\"\n",
    "        self.assertEqual(eng_location(data, title), ['Spain'])\n",
    "\n",
    "    def test_no_location(self):\n",
    "        data = (\"I'm just writing a random sentence.\",)\n",
    "        title = \"Random Thoughts\"\n",
    "        self.assertEqual(eng_location(data, title), ['None'])\n",
    "\n",
    "    def test_multiple_locations(self):\n",
    "        data = (\"I'm torn between visiting Japan and Thailand.\",)\n",
    "        title = \"Travel Dilemma\"\n",
    "        self.assertEqual(eng_location(data, title), ['Japan', 'Thailand'])"
   ]
  },
  {
   "cell_type": "code",
   "execution_count": 24,
   "metadata": {},
   "outputs": [
    {
     "name": "stderr",
     "output_type": "stream",
     "text": [
      "....\n",
      "----------------------------------------------------------------------\n",
      "Ran 4 tests in 0.778s\n",
      "\n",
      "OK\n"
     ]
    },
    {
     "data": {
      "text/plain": [
       "<unittest.runner.TextTestResult run=4 errors=0 failures=0>"
      ]
     },
     "execution_count": 24,
     "metadata": {},
     "output_type": "execute_result"
    }
   ],
   "source": [
    "suite = unittest.TestLoader().loadTestsFromTestCase(TestEngLocation)\n",
    "unittest.TextTestRunner().run(suite)"
   ]
  },
  {
   "cell_type": "code",
   "execution_count": null,
   "metadata": {},
   "outputs": [],
   "source": []
  }
 ],
 "metadata": {
  "kernelspec": {
   "display_name": "base",
   "language": "python",
   "name": "python3"
  },
  "language_info": {
   "codemirror_mode": {
    "name": "ipython",
    "version": 3
   },
   "file_extension": ".py",
   "mimetype": "text/x-python",
   "name": "python",
   "nbconvert_exporter": "python",
   "pygments_lexer": "ipython3",
   "version": "3.8.16"
  },
  "orig_nbformat": 4
 },
 "nbformat": 4,
 "nbformat_minor": 2
}
