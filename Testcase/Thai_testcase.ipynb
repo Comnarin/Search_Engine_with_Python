{
 "cells": [
  {
   "cell_type": "code",
   "execution_count": 17,
   "metadata": {},
   "outputs": [],
   "source": [
    "import unittest\n",
    "from mymodule import Thai\n",
    "\n",
    "class TestThai(unittest.TestCase):\n",
    "    \n",
    "    def setUp(self):\n",
    "        self.data = 'สวัสดี ชื่อ ฟ้า มา จาก จังหวัด เชียงใหม่'\n",
    "        self.thai_obj = Thai(self.data)\n",
    "        \n",
    "    def test_get_sentence(self):\n",
    "        expected = 'สวัสดีชื่อฟ้ามาจากจังหวัดเชียงใหม่'\n",
    "        actual = self.thai_obj.get_sentence()\n",
    "        self.assertEqual(actual, expected)\n",
    "        \n",
    "    def test_get_word(self):\n",
    "        expected = ['สวัสดี', 'ชื่อ', 'ฟ้า', 'มาจาก', 'จังหวัด', 'เชียงใหม่']\n",
    "        actual = self.thai_obj.get_word()\n",
    "        self.assertEqual(actual, expected)\n",
    "        \n",
    "    def test_location(self):\n",
    "        expected = [('เชียงใหม่', 'B-LOCATION')]\n",
    "        actual = self.thai_obj.location()\n",
    "        self.assertEqual(actual, expected)"
   ]
  },
  {
   "cell_type": "code",
   "execution_count": 18,
   "metadata": {},
   "outputs": [
    {
     "name": "stderr",
     "output_type": "stream",
     "text": [
      "...\n",
      "----------------------------------------------------------------------\n",
      "Ran 3 tests in 0.006s\n",
      "\n",
      "OK\n"
     ]
    },
    {
     "data": {
      "text/plain": [
       "<unittest.runner.TextTestResult run=3 errors=0 failures=0>"
      ]
     },
     "execution_count": 18,
     "metadata": {},
     "output_type": "execute_result"
    }
   ],
   "source": [
    "suite = unittest.TestLoader().loadTestsFromTestCase(TestThai)\n",
    "unittest.TextTestRunner().run(suite)"
   ]
  },
  {
   "cell_type": "code",
   "execution_count": null,
   "metadata": {},
   "outputs": [],
   "source": []
  }
 ],
 "metadata": {
  "kernelspec": {
   "display_name": "base",
   "language": "python",
   "name": "python3"
  },
  "language_info": {
   "codemirror_mode": {
    "name": "ipython",
    "version": 3
   },
   "file_extension": ".py",
   "mimetype": "text/x-python",
   "name": "python",
   "nbconvert_exporter": "python",
   "pygments_lexer": "ipython3",
   "version": "3.8.16"
  },
  "orig_nbformat": 4
 },
 "nbformat": 4,
 "nbformat_minor": 2
}
