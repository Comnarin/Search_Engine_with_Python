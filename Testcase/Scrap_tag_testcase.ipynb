{
 "cells": [
  {
   "cell_type": "code",
   "execution_count": 1,
   "metadata": {},
   "outputs": [],
   "source": [
    "import unittest\n",
    "from mymodule import scrap_tags"
   ]
  },
  {
   "cell_type": "code",
   "execution_count": 9,
   "metadata": {},
   "outputs": [],
   "source": [
    "class TestScrapTags(unittest.TestCase):\n",
    "\n",
    "    def test_valid_url(self):\n",
    "        url = 'https://www.wikipedia.org'\n",
    "        expected_title_tag = 'Wikipedia'\n",
    "        self.assertTrue(expected_title_tag in scrap_tags(url)[1])\n",
    "\n",
    "    def test_invalid_url_title(self):\n",
    "        url = 'https://www.aaaa.com'\n",
    "        expected_title_tag = 'Not Found Title'\n",
    "        self.assertEqual(scrap_tags(url)[1], expected_title_tag)\n",
    "    \n",
    "    def test_invalid_url_body(self):\n",
    "        url = 'https://www.aaaa.com'\n",
    "        expected_body_tag = ['Not Found Body']\n",
    "        self.assertEqual(scrap_tags(url)[0], expected_body_tag)\n"
   ]
  },
  {
   "cell_type": "code",
   "execution_count": 10,
   "metadata": {},
   "outputs": [
    {
     "name": "stderr",
     "output_type": "stream",
     "text": [
      "...\n",
      "----------------------------------------------------------------------\n",
      "Ran 3 tests in 1.199s\n",
      "\n",
      "OK\n"
     ]
    },
    {
     "data": {
      "text/plain": [
       "<unittest.runner.TextTestResult run=3 errors=0 failures=0>"
      ]
     },
     "execution_count": 10,
     "metadata": {},
     "output_type": "execute_result"
    }
   ],
   "source": [
    "suite = unittest.TestLoader().loadTestsFromTestCase(TestScrapTags)\n",
    "unittest.TextTestRunner().run(suite)"
   ]
  },
  {
   "cell_type": "code",
   "execution_count": null,
   "metadata": {},
   "outputs": [],
   "source": []
  }
 ],
 "metadata": {
  "kernelspec": {
   "display_name": "base",
   "language": "python",
   "name": "python3"
  },
  "language_info": {
   "codemirror_mode": {
    "name": "ipython",
    "version": 3
   },
   "file_extension": ".py",
   "mimetype": "text/x-python",
   "name": "python",
   "nbconvert_exporter": "python",
   "pygments_lexer": "ipython3",
   "version": "3.8.16"
  },
  "orig_nbformat": 4
 },
 "nbformat": 4,
 "nbformat_minor": 2
}
