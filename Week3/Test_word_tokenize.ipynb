{
 "cells": [
  {
   "cell_type": "code",
   "execution_count": 3,
   "metadata": {},
   "outputs": [
    {
     "name": "stderr",
     "output_type": "stream",
     "text": [
      "[nltk_data] Downloading package punkt to /Users/narin/nltk_data...\n",
      "[nltk_data]   Package punkt is already up-to-date!\n"
     ]
    },
    {
     "data": {
      "text/plain": [
       "['Hello everyone.',\n",
       " 'Welcome to GeeksforGeeks.',\n",
       " 'You are studying NLP article']"
      ]
     },
     "execution_count": 3,
     "metadata": {},
     "output_type": "execute_result"
    }
   ],
   "source": [
    "from nltk.tokenize import sent_tokenize\n",
    "import nltk\n",
    "nltk.download('punkt')\n",
    "text = \"Hello everyone. Welcome to GeeksforGeeks. You are studying NLP article\"\n",
    "sent_tokenize(text)"
   ]
  },
  {
   "cell_type": "code",
   "execution_count": 4,
   "metadata": {},
   "outputs": [
    {
     "data": {
      "text/plain": [
       "['Hello', 'everyone', '.', 'Welcome', 'to', 'GeeksforGeeks', '.']"
      ]
     },
     "execution_count": 4,
     "metadata": {},
     "output_type": "execute_result"
    }
   ],
   "source": [
    "from nltk.tokenize import word_tokenize\n",
    " \n",
    "text = \"Hello everyone. Welcome to GeeksforGeeks.\"\n",
    "word_tokenize(text)"
   ]
  },
  {
   "cell_type": "code",
   "execution_count": 5,
   "metadata": {},
   "outputs": [],
   "source": [
    "import requests\n",
    "from bs4 import BeautifulSoup as bs\n",
    "\n",
    "class BBC:\n",
    "    def __init__(self, url:str):\n",
    "        article = requests.get(url)\n",
    "        self.soup = bs(article.content, \"html.parser\")\n",
    "        self.body = self.get_body()\n",
    "        self.title = self.get_title()\n",
    "        \n",
    "    def get_body(self) -> list:\n",
    "        body = self.soup.find(property=\"articleBody\")\n",
    "        return [p.text for p in body.find_all(\"p\")]\n",
    "    \n",
    "    def get_title(self) -> str:\n",
    "        return self.soup.find(class_=\"story__h1\").text"
   ]
  },
  {
   "cell_type": "code",
   "execution_count": 6,
   "metadata": {},
   "outputs": [],
   "source": [
    "url = 'https://www.bbc.com/news/world-asia-64100577'\n",
    "\n",
    "article = requests.get(url)\n",
    "\n",
    "soup = bs(article.content, 'html.parser')\n",
    "soup2 = bs(article.content, 'html.parser')\n",
    "title = soup.find(\"b\", class_=\"ssrcss-hmf8ql-BoldText e5tfeyi3\")\n",
    "\n"
   ]
  },
  {
   "cell_type": "code",
   "execution_count": 7,
   "metadata": {},
   "outputs": [],
   "source": [
    "import requests\n",
    "url = 'https://www.bbc.com/news/world-asia-china-64102176'\n",
    "\n",
    "article = requests.get(url)\n",
    "\n",
    "soup = bs(article.content, 'html.parser')\n",
    "soup = bs(article.content, 'html.parser')\n",
    "title2 = soup.find(\"b\", class_=\"ssrcss-hmf8ql-BoldText e5tfeyi3\")"
   ]
  },
  {
   "cell_type": "code",
   "execution_count": 9,
   "metadata": {},
   "outputs": [
    {
     "name": "stdout",
     "output_type": "stream",
     "text": [
      "Taiwan will extend mandatory military service from four months to one year, President Tsai Ing-wen has said.\n",
      "Chinese people have rushed to book overseas travel after Beijing announced it would reopen its borders next month.\n"
     ]
    }
   ],
   "source": [
    "print(title.text)\n",
    "print(title2.text)"
   ]
  },
  {
   "cell_type": "code",
   "execution_count": 10,
   "metadata": {},
   "outputs": [
    {
     "data": {
      "text/plain": [
       "['Taiwan',\n",
       " 'will',\n",
       " 'extend',\n",
       " 'mandatory',\n",
       " 'military',\n",
       " 'service',\n",
       " 'from',\n",
       " 'four',\n",
       " 'months',\n",
       " 'to',\n",
       " 'one',\n",
       " 'year',\n",
       " ',',\n",
       " 'President',\n",
       " 'Tsai',\n",
       " 'Ing-wen',\n",
       " 'has',\n",
       " 'said',\n",
       " '.']"
      ]
     },
     "execution_count": 10,
     "metadata": {},
     "output_type": "execute_result"
    }
   ],
   "source": [
    "from nltk.tokenize import word_tokenize\n",
    "\n",
    " \n",
    "word_tokenize(title.text)\n",
    "\n"
   ]
  },
  {
   "cell_type": "code",
   "execution_count": 11,
   "metadata": {},
   "outputs": [
    {
     "data": {
      "text/plain": [
       "['Chinese',\n",
       " 'people',\n",
       " 'have',\n",
       " 'rushed',\n",
       " 'to',\n",
       " 'book',\n",
       " 'overseas',\n",
       " 'travel',\n",
       " 'after',\n",
       " 'Beijing',\n",
       " 'announced',\n",
       " 'it',\n",
       " 'would',\n",
       " 'reopen',\n",
       " 'its',\n",
       " 'borders',\n",
       " 'next',\n",
       " 'month',\n",
       " '.']"
      ]
     },
     "execution_count": 11,
     "metadata": {},
     "output_type": "execute_result"
    }
   ],
   "source": [
    "word_tokenize(title2.text)"
   ]
  },
  {
   "cell_type": "code",
   "execution_count": null,
   "metadata": {},
   "outputs": [],
   "source": []
  }
 ],
 "metadata": {
  "kernelspec": {
   "display_name": "base",
   "language": "python",
   "name": "python3"
  },
  "language_info": {
   "codemirror_mode": {
    "name": "ipython",
    "version": 3
   },
   "file_extension": ".py",
   "mimetype": "text/x-python",
   "name": "python",
   "nbconvert_exporter": "python",
   "pygments_lexer": "ipython3",
   "version": "3.8.8"
  },
  "orig_nbformat": 4,
  "vscode": {
   "interpreter": {
    "hash": "f77b640396ee907328d3f2b1dbf7d1073670d4b49ce003bfc4c9fbcbcb50868c"
   }
  }
 },
 "nbformat": 4,
 "nbformat_minor": 2
}
