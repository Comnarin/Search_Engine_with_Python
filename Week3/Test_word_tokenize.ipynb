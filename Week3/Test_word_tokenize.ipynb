{
 "cells": [
  {
   "cell_type": "code",
   "execution_count": 2,
   "metadata": {},
   "outputs": [
    {
     "name": "stderr",
     "output_type": "stream",
     "text": [
      "[nltk_data] Downloading package punkt to C:\\Users\\Nattavee\n",
      "[nltk_data]     Narischat\\AppData\\Roaming\\nltk_data...\n",
      "[nltk_data]   Unzipping tokenizers\\punkt.zip.\n"
     ]
    },
    {
     "data": {
      "text/plain": [
       "['Hello everyone.',\n",
       " 'Welcome to GeeksforGeeks.',\n",
       " 'You are studying NLP article']"
      ]
     },
     "execution_count": 2,
     "metadata": {},
     "output_type": "execute_result"
    }
   ],
   "source": [
    "from nltk.tokenize import sent_tokenize\n",
    "import nltk\n",
    "nltk.download('punkt')\n",
    "text = \"Hello everyone. Welcome to GeeksforGeeks. You are studying NLP article\"\n",
    "sent_tokenize(text)"
   ]
  },
  {
   "cell_type": "code",
   "execution_count": 74,
   "metadata": {},
   "outputs": [
    {
     "data": {
      "text/plain": [
       "['Hello', 'everyone', '.', 'Welcome', 'to', 'GeeksforGeeks', '.']"
      ]
     },
     "execution_count": 74,
     "metadata": {},
     "output_type": "execute_result"
    }
   ],
   "source": [
    "from nltk.tokenize import word_tokenize\n",
    " \n",
    "text = \"Hello everyone. Welcome to GeeksforGeeks.\"\n",
    "word_tokenize(text)"
   ]
  },
  {
   "cell_type": "code",
   "execution_count": 25,
   "metadata": {},
   "outputs": [],
   "source": [
    "import requests\n",
    "from bs4 import BeautifulSoup as bs\n",
    "\n",
    "class BBC:\n",
    "    def __init__(self, url:str):\n",
    "        article = requests.get(url)\n",
    "        self.soup = bs(article.content, \"html.parser\")\n",
    "        self.body = self.get_body()\n",
    "        self.title = self.get_title()\n",
    "        \n",
    "    def get_body(self) -> list:\n",
    "        body = self.soup.find(property=\"articleBody\")\n",
    "        return [p.text for p in body.find_all(\"p\")]\n",
    "    \n",
    "    def get_title(self) -> str:\n",
    "        return self.soup.find(class_=\"story__h1\").text"
   ]
  },
  {
   "cell_type": "code",
   "execution_count": 69,
   "metadata": {},
   "outputs": [],
   "source": [
    "url = 'https://www.bbc.com/news/world-asia-64100577'\n",
    "\n",
    "article = requests.get(url)\n",
    "\n",
    "soup = bs(article.content, 'html.parser')\n",
    "soup2 = bs(article.content, 'html.parser')\n",
    "title = soup.find(\"b\", class_=\"ssrcss-hmf8ql-BoldText e5tfeyi3\")\n",
    "\n"
   ]
  },
  {
   "cell_type": "code",
   "execution_count": 70,
   "metadata": {},
   "outputs": [],
   "source": [
    "url = 'https://www.bbc.com/news/world-asia-china-64102176'\n",
    "\n",
    "article = requests.get(url)\n",
    "\n",
    "soup = bs(article.content, 'html.parser')\n",
    "soup = bs(article.content, 'html.parser')\n",
    "title2 = soup.find(\"b\", class_=\"ssrcss-hmf8ql-BoldText e5tfeyi3\")"
   ]
  },
  {
   "cell_type": "code",
   "execution_count": 71,
   "metadata": {},
   "outputs": [
    {
     "name": "stdout",
     "output_type": "stream",
     "text": [
      "<b class=\"ssrcss-hmf8ql-BoldText e5tfeyi3\">Taiwan will extend mandatory military service from four months to one year, President Tsai Ing-wen has said.</b>\n",
      "<b class=\"ssrcss-hmf8ql-BoldText e5tfeyi3\">Chinese people have rushed to book overseas travel after Beijing announced it would reopen its borders next month.</b>\n"
     ]
    }
   ],
   "source": [
    "print(title)\n",
    "print(title2)"
   ]
  },
  {
   "cell_type": "code",
   "execution_count": 72,
   "metadata": {},
   "outputs": [
    {
     "name": "stdout",
     "output_type": "stream",
     "text": [
      "Taiwan will extend mandatory military service from four months to one year, President Tsai Ing-wen has said.\n",
      "------------\n",
      "Chinese people have rushed to book overseas travel after Beijing announced it would reopen its borders next month.\n"
     ]
    }
   ],
   "source": [
    "import re\n",
    "to_clean = re.compile('<.*?>')\n",
    "cleantext = re.sub(to_clean, '', str(title))\n",
    "cleantext2 = re.sub(to_clean, '', str(title2))\n",
    "print(cleantext)\n",
    "print(\"------------\")\n",
    "print(cleantext2)"
   ]
  },
  {
   "cell_type": "code",
   "execution_count": 76,
   "metadata": {},
   "outputs": [
    {
     "data": {
      "text/plain": [
       "['Taiwan',\n",
       " 'will',\n",
       " 'extend',\n",
       " 'mandatory',\n",
       " 'military',\n",
       " 'service',\n",
       " 'from',\n",
       " 'four',\n",
       " 'months',\n",
       " 'to',\n",
       " 'one',\n",
       " 'year',\n",
       " ',',\n",
       " 'President',\n",
       " 'Tsai',\n",
       " 'Ing-wen',\n",
       " 'has',\n",
       " 'said',\n",
       " '.']"
      ]
     },
     "execution_count": 76,
     "metadata": {},
     "output_type": "execute_result"
    }
   ],
   "source": [
    "from nltk.tokenize import word_tokenize\n",
    "\n",
    " \n",
    "word_tokenize(cleantext)\n",
    "\n"
   ]
  },
  {
   "cell_type": "code",
   "execution_count": 77,
   "metadata": {},
   "outputs": [
    {
     "data": {
      "text/plain": [
       "['Chinese',\n",
       " 'people',\n",
       " 'have',\n",
       " 'rushed',\n",
       " 'to',\n",
       " 'book',\n",
       " 'overseas',\n",
       " 'travel',\n",
       " 'after',\n",
       " 'Beijing',\n",
       " 'announced',\n",
       " 'it',\n",
       " 'would',\n",
       " 'reopen',\n",
       " 'its',\n",
       " 'borders',\n",
       " 'next',\n",
       " 'month',\n",
       " '.']"
      ]
     },
     "execution_count": 77,
     "metadata": {},
     "output_type": "execute_result"
    }
   ],
   "source": [
    "word_tokenize(cleantext2)"
   ]
  },
  {
   "cell_type": "code",
   "execution_count": null,
   "metadata": {},
   "outputs": [],
   "source": []
  }
 ],
 "metadata": {
  "kernelspec": {
   "display_name": "base",
   "language": "python",
   "name": "python3"
  },
  "language_info": {
   "codemirror_mode": {
    "name": "ipython",
    "version": 3
   },
   "file_extension": ".py",
   "mimetype": "text/x-python",
   "name": "python",
   "nbconvert_exporter": "python",
   "pygments_lexer": "ipython3",
   "version": "3.9.7"
  },
  "orig_nbformat": 4,
  "vscode": {
   "interpreter": {
    "hash": "d6dbe31fb58d2a925cb6cf70124d8310e9312b8d1336a5bee8b6adf692fc3cfd"
   }
  }
 },
 "nbformat": 4,
 "nbformat_minor": 2
}
