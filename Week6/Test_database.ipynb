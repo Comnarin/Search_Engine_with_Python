{
 "cells": [
  {
   "cell_type": "code",
   "execution_count": null,
   "metadata": {},
   "outputs": [],
   "source": [
    "import requests\n",
    "from bs4 import BeautifulSoup \n",
    "import re\n",
    "import unicodedata\n",
    "import pythainlp.util\n",
    "from pythainlp.tokenize import word_tokenize\n",
    "from pythainlp.util import find_keyword\n",
    "from pythainlp.util import rank\n",
    "#from pythainlp.summarize import extract_keywords\n",
    "from pythainlp.summarize import summarize\n",
    "import itertools\n",
    "import sqlite3\n",
    "from urllib.parse import urljoin"
   ]
  },
  {
   "cell_type": "code",
   "execution_count": null,
   "metadata": {},
   "outputs": [],
   "source": [
    "def get_all_links(url, depth=0, visited={}):\n",
    "  headers = {'User-Agent': \"Mozilla/5.0 (Windows NT 10.0; Win64; x64) AppleWebKit/537.36 (KHTML, like Gecko) Chrome/42.0.2311.135 Safari/537.36 Edge/12.246\"}\n",
    "  response = requests.get(url,headers=headers)\n",
    "  soup = BeautifulSoup(response.text, 'html.parser')\n",
    "  links = soup.find_all('a')\n",
    "  links = [link.get('href') for link in links if link.get('href') and not link.get('href').startswith('#')]\n",
    "  links = [link for link in links if link.startswith(url) or link.startswith('/')]\n",
    "  links = [urljoin(url, link) for link in links if link]\n",
    "\n",
    "\n",
    "  # Recursively crawl the links at the next depth level\n",
    "  if depth < 2: #3\n",
    "    new_links = []\n",
    "    for link in links:\n",
    "      # Increment the visit count for the link\n",
    "      if link in visited:\n",
    "        visited[link] += 1\n",
    "      else:\n",
    "        visited[link] = 1\n",
    "      # Get the newly-crawled links and add them to the list\n",
    "        new_links.extend(get_all_links(link, depth=depth+1, visited=visited))\n",
    "      # Add the newly-crawled links to the original list\n",
    "    links.extend(new_links)\n",
    "\n",
    "  return visited\n",
    "\n",
    "base_url = 'https://www.thairath.co.th'\n",
    "website_dict1 = get_all_links(base_url, depth=0, visited={})\n",
    "print(website_dict1)\n"
   ]
  },
  {
   "cell_type": "code",
   "execution_count": null,
   "metadata": {},
   "outputs": [],
   "source": [
    "def crawl(url, depth,visited = set()):\n",
    "    if depth < 2 :\n",
    "        visited.add(url)\n",
    "        headers = {'User-Agent': \"Mozilla/5.0 (Windows NT 10.0; Win64; x64) AppleWebKit/537.36 (KHTML, like Gecko) Chrome/42.0.2311.135 Safari/537.36 Edge/12.246\"}\n",
    "        response = requests.get(url,headers=headers)\n",
    "        soup = BeautifulSoup(response.text, 'html.parser')\n",
    "        links = soup.find_all('a')\n",
    "        links = [link.get('href') for link in links if link.get('href') and not link.get('href').startswith('#')]\n",
    "        links = [link for link in links if link.startswith(url) or link.startswith('/')]\n",
    "        links = [urljoin(url, link) for link in links if link]\n",
    "        for link in links:\n",
    "            if link not in visited:\n",
    "                crawl(link,depth=depth+1, visited=visited)\n",
    "    return visited\n",
    "base_url = 'https://www.msn.com/th-th'\n",
    "website_dict2 = crawl(base_url, 0, visited=set())\n",
    "print(website_dict2)\n"
   ]
  },
  {
   "cell_type": "code",
   "execution_count": 23,
   "metadata": {},
   "outputs": [
    {
     "name": "stdout",
     "output_type": "stream",
     "text": [
      "{'https://thairath.co.th/podcast/program/extratime/episode63', 'https://thairath.co.th/member/profile/following', 'https://thairath.co.th/business/investment/gold', 'https://thairath.co.th/refresh', 'https://thairath.co.th/lifestyle/life', 'https://thairath.co.th/column/newspaper/around', 'https://thairath.co.th/sport/eurofootball/premierleague/2621005', 'https://thairath.co.th/tv', 'https://thairath.co.th/lifestyle', 'https://thairath.co.th/news/politic/2620233', 'https://thairath.co.th/scoop/theissue/2561886', 'https://thairath.co.th/tv/program/Setthee_Pai_Deang', 'https://thairath.co.th/tags/พ.พาทินี', 'https://thairath.co.th/tv/program/Setthee_Pai_Deang/710265', 'https://thairath.co.th/business/investment/gold/topic', 'https://thairath.co.th/news/local/bangkok/2620225', 'https://thairath.co.th/tv/program/thairath_news_show/719005', 'https://thairath.co.th/lifestyle/caption/2206631', 'https://thairath.co.th', 'https://thairath.co.th/lifestyle/caption', 'https://thairath.co.th/news/crime/2621221', 'https://thairath.co.th/tv/program/Setthee_Pai_Deang/713101', 'https://thairath.co.th/tv/program', 'https://thairath.co.th/podcast/program/horoballthreepoints/episode13', 'https://thairath.co.th/scoop/theissue/2620528', 'https://thairath.co.th/scoop/flashback/2620025', 'https://thairath.co.th/multimedia/gallery', 'https://thairath.co.th/horoscope/dailyhoro/2620840', 'https://thairath.co.th/lifestyle/life/2529290', 'https://thairath.co.th/scoop/infographic', 'https://thairath.co.th/column/newspaper/greenhead', 'https://thairath.co.th/multimedia/gallery/lifestyle/travel/33851', 'https://thairath.co.th/scoop/interview/2620466', 'https://thairath.co.th/tv/program/Setthee_Pai_Deang/707330', 'https://thairath.co.th/tv/live', 'https://thairath.co.th/tv/program/thairath_news_show/719006', 'https://thairath.co.th/scoop/infographic/2621111', 'https://thairath.co.th/lifestyle/life/2621301', 'https://thairath.co.th/tv/watch/news', 'https://thairath.co.th/column/newspaper/wikroh', 'https://thairath.co.th/scoop/flashback', 'https://thairath.co.th/news/local', 'https://thairath.co.th/news/politic/2621248', 'https://thairath.co.th/video', 'https://thairath.co.th/spotlight', 'https://thairath.co.th/horoscope/horoscope-seer/2591033', 'https://thairath.co.th/tv/program/thairath_news_show/719016', 'https://thairath.co.th/lifestyle/life/2029959', 'https://thairath.co.th/horoscope/horoscope-seer', 'https://thairath.co.th/news/foreign/2620175', 'https://thairath.co.th/scoop/culture/2620038', 'https://thairath.co.th/multimedia/gallery/lifestyle/travel/33860', 'https://thairath.co.th/multimedia/gallery/sport/worldcup/34208', 'https://thairath.co.th/podcast', 'https://thairath.co.th/column', 'https://thairath.co.th/multimedia/gallery/entertain/news/34218', 'https://thairath.co.th/entertain/news/2621138', 'https://thairath.co.th/news/local/2619423', 'https://thairath.co.th/spotlight/digitaltv', 'https://thairath.co.th/lottery', 'https://thairath.co.th/multimedia/gallery/lifestyle/travel/34225', 'https://thairath.co.th/news/local/central/2621268', 'https://thairath.co.th/tv/program/thairath_news_show', 'https://thairath.co.th/news/politic/2607053', 'https://thairath.co.th/news/politic/2620153', 'https://thairath.co.th/column/newspaper/page1scoop', 'https://thairath.co.th/scoop', 'https://thairath.co.th/scoop/theissue', 'https://thairath.co.th/tv/program/Setthee_Pai_Deang/715568', 'https://thairath.co.th/scoop/interview', 'https://thairath.co.th/news/local/2619108', 'https://thairath.co.th/tv/watch', 'https://thairath.co.th/scoop/theissue/2621218', 'https://thairath.co.th/multimedia/gallery/entertain/news/34326', 'https://thairath.co.th/column/newspaper/kaablook', 'https://thairath.co.th/news/politic/2620640', 'https://thairath.co.th/lifestyle/caption/2030884', 'https://thairath.co.th/business/investment/gold/history', 'https://thairath.co.th/tv/program/thairath_news_show/719011'}\n"
     ]
    }
   ],
   "source": [
    "def crawl(url, depth,visited = set()):\n",
    "    if depth < 4 :\n",
    "        visited.add(url)\n",
    "        headers = {'User-Agent': \"Mozilla/5.0 (Windows NT 10.0; Win64; x64) AppleWebKit/537.36 (KHTML, like Gecko) Chrome/42.0.2311.135 Safari/537.36 Edge/12.246\"}\n",
    "        response = requests.get(url,headers=headers)\n",
    "        try:\n",
    "            soup = BeautifulSoup(response.text, 'html.parser')\n",
    "        except:\n",
    "            soup = BeautifulSoup(response.text, 'lxml')\n",
    "        links = soup.find_all('a')\n",
    "        links = [link.get('href') for link in links if link.get('href') and not link.get('href').startswith('#')]\n",
    "        links = [link for link in links if link.startswith(url) or link.startswith('/')]\n",
    "        links = [urljoin(url, link) for link in links if link]\n",
    "        for link in links:\n",
    "            if link not in visited:\n",
    "                crawl(link,depth=depth+1, visited=visited)\n",
    "    return visited\n",
    "base_url = 'https://thairath.co.th'\n",
    "website_dict2 = crawl(base_url, 0, visited=set())\n",
    "print(website_dict2)\n"
   ]
  },
  {
   "cell_type": "code",
   "execution_count": null,
   "metadata": {},
   "outputs": [],
   "source": [
    "def crawl(url, depth,visited = set()):\n",
    "    if depth < 3 :\n",
    "        visited.add(url)\n",
    "        headers = {'User-Agent': \"Mozilla/5.0 (Windows NT 10.0; Win64; x64) AppleWebKit/537.36 (KHTML, like Gecko) Chrome/42.0.2311.135 Safari/537.36 Edge/12.246\"}\n",
    "        response = requests.get(url,headers=headers)\n",
    "        soup = BeautifulSoup(response.text, 'html.parser')\n",
    "        links = soup.find_all('a')\n",
    "        links = [link.get('href') for link in links if link.get('href') and not link.get('href').startswith('#')]\n",
    "        links = [urljoin(url, link) for link in links if link or link.startswith('/') ]\n",
    "        for link in links:\n",
    "            if link not in visited:\n",
    "                crawl(link,depth=depth+1, visited=visited)\n",
    "    return visited\n",
    "base_url = 'https://www.thairath.co.th'\n",
    "website_dict3 = crawl(base_url, 0, visited=set())\n",
    "print(website_dict2)"
   ]
  },
  {
   "cell_type": "code",
   "execution_count": 1,
   "metadata": {},
   "outputs": [
    {
     "ename": "NameError",
     "evalue": "name 'website_dict2' is not defined",
     "output_type": "error",
     "traceback": [
      "\u001b[0;31m---------------------------------------------------------------------------\u001b[0m",
      "\u001b[0;31mNameError\u001b[0m                                 Traceback (most recent call last)",
      "Cell \u001b[0;32mIn[1], line 3\u001b[0m\n\u001b[1;32m      1\u001b[0m a1\u001b[39m=\u001b[39m{\u001b[39m'\u001b[39m\u001b[39mhttps://www.thairath.co.th/home\u001b[39m\u001b[39m'\u001b[39m: \u001b[39m1\u001b[39m, \u001b[39m'\u001b[39m\u001b[39mhttps://www.thairath.co.th/tv/live\u001b[39m\u001b[39m'\u001b[39m: \u001b[39m2\u001b[39m, \u001b[39m'\u001b[39m\u001b[39mhttps://www.thairath.co.th/news/local/north/2620546\u001b[39m\u001b[39m'\u001b[39m: \u001b[39m4\u001b[39m, \u001b[39m'\u001b[39m\u001b[39mhttps://www.thairath.co.th/news/local/central/2620555\u001b[39m\u001b[39m'\u001b[39m: \u001b[39m4\u001b[39m, \u001b[39m'\u001b[39m\u001b[39mhttps://www.thairath.co.th/sport/eurofootball/premierleague/2620385\u001b[39m\u001b[39m'\u001b[39m: \u001b[39m4\u001b[39m, \u001b[39m'\u001b[39m\u001b[39mhttps://www.thairath.co.th/news/politic/2620501\u001b[39m\u001b[39m'\u001b[39m: \u001b[39m4\u001b[39m, \u001b[39m'\u001b[39m\u001b[39mhttps://www.thairath.co.th/entertain/news/2620506\u001b[39m\u001b[39m'\u001b[39m: \u001b[39m4\u001b[39m, \u001b[39m'\u001b[39m\u001b[39mhttps://www.thairath.co.th/scoop/interview/2620466\u001b[39m\u001b[39m'\u001b[39m: \u001b[39m4\u001b[39m, \u001b[39m'\u001b[39m\u001b[39mhttps://www.thairath.co.th/spotlight\u001b[39m\u001b[39m'\u001b[39m: \u001b[39m2\u001b[39m, \u001b[39m'\u001b[39m\u001b[39mhttps://www.thairath.co.th/spotlight/covid-19-vaccine\u001b[39m\u001b[39m'\u001b[39m: \u001b[39m6\u001b[39m, \u001b[39m'\u001b[39m\u001b[39mhttps://www.thairath.co.th/spotlight/bualuang-printing\u001b[39m\u001b[39m'\u001b[39m: \u001b[39m4\u001b[39m, \u001b[39m'\u001b[39m\u001b[39mhttps://www.thairath.co.th/spotlight/bblfinancialtree/\u001b[39m\u001b[39m'\u001b[39m: \u001b[39m4\u001b[39m, \u001b[39m'\u001b[39m\u001b[39mhttps://www.thairath.co.th/spotlight/onlinelearning\u001b[39m\u001b[39m'\u001b[39m: \u001b[39m4\u001b[39m, \u001b[39m'\u001b[39m\u001b[39mhttps://www.thairath.co.th/column\u001b[39m\u001b[39m'\u001b[39m: \u001b[39m2\u001b[39m, \u001b[39m'\u001b[39m\u001b[39mhttps://www.thairath.co.th/news/politic/2618973\u001b[39m\u001b[39m'\u001b[39m: \u001b[39m2\u001b[39m, \u001b[39m'\u001b[39m\u001b[39mhttps://www.thairath.co.th/column/newspaper/greenhead\u001b[39m\u001b[39m'\u001b[39m: \u001b[39m1\u001b[39m, \u001b[39m'\u001b[39m\u001b[39mhttps://www.thairath.co.th/news/foreign/2618970\u001b[39m\u001b[39m'\u001b[39m: \u001b[39m1\u001b[39m, \u001b[39m'\u001b[39m\u001b[39mhttps://www.thairath.co.th/column/newspaper/worldsky\u001b[39m\u001b[39m'\u001b[39m: \u001b[39m1\u001b[39m, \u001b[39m'\u001b[39m\u001b[39mhttps://www.thairath.co.th/sport/others/2619893\u001b[39m\u001b[39m'\u001b[39m: \u001b[39m1\u001b[39m, \u001b[39m'\u001b[39m\u001b[39mhttps://www.thairath.co.th/news/local/2619015\u001b[39m\u001b[39m'\u001b[39m: \u001b[39m1\u001b[39m, \u001b[39m'\u001b[39m\u001b[39mhttps://www.thairath.co.th/column/newspaper/page1scoop\u001b[39m\u001b[39m'\u001b[39m: \u001b[39m1\u001b[39m, \u001b[39m'\u001b[39m\u001b[39mhttps://www.thairath.co.th/news/politic/2619663\u001b[39m\u001b[39m'\u001b[39m: \u001b[39m1\u001b[39m, \u001b[39m'\u001b[39m\u001b[39mhttps://www.thairath.co.th/column/newspaper/wikroh\u001b[39m\u001b[39m'\u001b[39m: \u001b[39m1\u001b[39m, \u001b[39m'\u001b[39m\u001b[39mhttps://www.thairath.co.th/member/profile/following\u001b[39m\u001b[39m'\u001b[39m: \u001b[39m2\u001b[39m, \u001b[39m'\u001b[39m\u001b[39mhttps://www.thairath.co.th/scoop\u001b[39m\u001b[39m'\u001b[39m: \u001b[39m2\u001b[39m, \u001b[39m'\u001b[39m\u001b[39mhttps://www.thairath.co.th/scoop/theissue/2620528\u001b[39m\u001b[39m'\u001b[39m: \u001b[39m2\u001b[39m, \u001b[39m'\u001b[39m\u001b[39mhttps://www.thairath.co.th/scoop/theissue\u001b[39m\u001b[39m'\u001b[39m: \u001b[39m3\u001b[39m, \u001b[39m'\u001b[39m\u001b[39mhttps://www.thairath.co.th/scoop/flashback/2620025\u001b[39m\u001b[39m'\u001b[39m: \u001b[39m2\u001b[39m, \u001b[39m'\u001b[39m\u001b[39mhttps://www.thairath.co.th/scoop/flashback\u001b[39m\u001b[39m'\u001b[39m: \u001b[39m1\u001b[39m, \u001b[39m'\u001b[39m\u001b[39mhttps://www.thairath.co.th/scoop/theissue/2619623\u001b[39m\u001b[39m'\u001b[39m: \u001b[39m2\u001b[39m, \u001b[39m'\u001b[39m\u001b[39mhttps://www.thairath.co.th/scoop/theissue/2619605\u001b[39m\u001b[39m'\u001b[39m: \u001b[39m2\u001b[39m, \u001b[39m'\u001b[39m\u001b[39mhttps://www.thairath.co.th/scoop/culture/2619553\u001b[39m\u001b[39m'\u001b[39m: \u001b[39m2\u001b[39m, \u001b[39m'\u001b[39m\u001b[39mhttps://www.thairath.co.th/scoop/culture\u001b[39m\u001b[39m'\u001b[39m: \u001b[39m1\u001b[39m, \u001b[39m'\u001b[39m\u001b[39mhttps://www.thairath.co.th/worldcupactivity\u001b[39m\u001b[39m'\u001b[39m: \u001b[39m3\u001b[39m, \u001b[39m'\u001b[39m\u001b[39mhttps://www.thairath.co.th/campaign/vote\u001b[39m\u001b[39m'\u001b[39m: \u001b[39m2\u001b[39m, \u001b[39m'\u001b[39m\u001b[39mhttps://www.thairath.co.th/refresh\u001b[39m\u001b[39m'\u001b[39m: \u001b[39m3\u001b[39m, \u001b[39m'\u001b[39m\u001b[39mhttps://www.thairath.co.th/news/politic/2607053\u001b[39m\u001b[39m'\u001b[39m: \u001b[39m2\u001b[39m, \u001b[39m'\u001b[39m\u001b[39mhttps://www.thairath.co.th/lifestyle/life/2529290\u001b[39m\u001b[39m'\u001b[39m: \u001b[39m2\u001b[39m, \u001b[39m'\u001b[39m\u001b[39mhttps://www.thairath.co.th/scoop/theissue/2561886\u001b[39m\u001b[39m'\u001b[39m: \u001b[39m2\u001b[39m, \u001b[39m'\u001b[39m\u001b[39mhttps://www.thairath.co.th/video\u001b[39m\u001b[39m'\u001b[39m: \u001b[39m2\u001b[39m, \u001b[39m'\u001b[39m\u001b[39mhttps://www.thairath.co.th/podcast\u001b[39m\u001b[39m'\u001b[39m: \u001b[39m2\u001b[39m, \u001b[39m'\u001b[39m\u001b[39mhttps://www.thairath.co.th/podcast/program/ghoststation/episode72\u001b[39m\u001b[39m'\u001b[39m: \u001b[39m2\u001b[39m, \u001b[39m'\u001b[39m\u001b[39mhttps://www.thairath.co.th/podcast/program/Howtolove/episode141\u001b[39m\u001b[39m'\u001b[39m: \u001b[39m2\u001b[39m, \u001b[39m'\u001b[39m\u001b[39mhttps://www.thairath.co.th/lifestyle\u001b[39m\u001b[39m'\u001b[39m: \u001b[39m2\u001b[39m, \u001b[39m'\u001b[39m\u001b[39mhttps://www.thairath.co.th/news/local/2619423\u001b[39m\u001b[39m'\u001b[39m: \u001b[39m2\u001b[39m, \u001b[39m'\u001b[39m\u001b[39mhttps://www.thairath.co.th/news/local\u001b[39m\u001b[39m'\u001b[39m: \u001b[39m2\u001b[39m, \u001b[39m'\u001b[39m\u001b[39mhttps://www.thairath.co.th/news/local/2619108\u001b[39m\u001b[39m'\u001b[39m: \u001b[39m2\u001b[39m, \u001b[39m'\u001b[39m\u001b[39mhttps://www.thairath.co.th/horoscope/dailyhoro/2614590\u001b[39m\u001b[39m'\u001b[39m: \u001b[39m2\u001b[39m, \u001b[39m'\u001b[39m\u001b[39mhttps://www.thairath.co.th/tags/พ.พาทินี\u001b[39m\u001b[39m'\u001b[39m: \u001b[39m1\u001b[39m, \u001b[39m'\u001b[39m\u001b[39mhttps://www.thairath.co.th/horoscope/horoscope-seer/2591033\u001b[39m\u001b[39m'\u001b[39m: \u001b[39m2\u001b[39m, \u001b[39m'\u001b[39m\u001b[39mhttps://www.thairath.co.th/horoscope/horoscope-seer\u001b[39m\u001b[39m'\u001b[39m: \u001b[39m1\u001b[39m, \u001b[39m'\u001b[39m\u001b[39mhttps://www.thairath.co.th/lifestyle/life/2620008\u001b[39m\u001b[39m'\u001b[39m: \u001b[39m2\u001b[39m, \u001b[39m'\u001b[39m\u001b[39mhttps://www.thairath.co.th/lifestyle/life\u001b[39m\u001b[39m'\u001b[39m: \u001b[39m3\u001b[39m, \u001b[39m'\u001b[39m\u001b[39mhttps://www.thairath.co.th/lifestyle/life/2620181\u001b[39m\u001b[39m'\u001b[39m: \u001b[39m2\u001b[39m, \u001b[39m'\u001b[39m\u001b[39mhttps://www.thairath.co.th/lifestyle/life/2619120\u001b[39m\u001b[39m'\u001b[39m: \u001b[39m2\u001b[39m, \u001b[39m'\u001b[39m\u001b[39mhttps://www.thairath.co.th/lifestyle/food/2619526\u001b[39m\u001b[39m'\u001b[39m: \u001b[39m2\u001b[39m, \u001b[39m'\u001b[39m\u001b[39mhttps://www.thairath.co.th/lifestyle/food\u001b[39m\u001b[39m'\u001b[39m: \u001b[39m1\u001b[39m, \u001b[39m'\u001b[39m\u001b[39mhttps://www.thairath.co.th/tv\u001b[39m\u001b[39m'\u001b[39m: \u001b[39m1\u001b[39m, \u001b[39m'\u001b[39m\u001b[39mhttps://www.thairath.co.th/tv/program/khao_chao_hua_khiew\u001b[39m\u001b[39m'\u001b[39m: \u001b[39m1\u001b[39m, \u001b[39m'\u001b[39m\u001b[39mhttps://www.thairath.co.th/tv/program/talon_khao\u001b[39m\u001b[39m'\u001b[39m: \u001b[39m1\u001b[39m, \u001b[39m'\u001b[39m\u001b[39mhttps://www.thairath.co.th/tv/program/khao_tieng_thairath\u001b[39m\u001b[39m'\u001b[39m: \u001b[39m1\u001b[39m, \u001b[39m'\u001b[39m\u001b[39mhttps://www.thairath.co.th/tv/program/khoa_yen_thairath\u001b[39m\u001b[39m'\u001b[39m: \u001b[39m1\u001b[39m, \u001b[39m'\u001b[39m\u001b[39mhttps://www.thairath.co.th/tv/program/khao_sai_khai\u001b[39m\u001b[39m'\u001b[39m: \u001b[39m2\u001b[39m, \u001b[39m'\u001b[39m\u001b[39mhttps://www.thairath.co.th/tv/program/thairath_news_show\u001b[39m\u001b[39m'\u001b[39m: \u001b[39m5\u001b[39m, \u001b[39m'\u001b[39m\u001b[39mhttps://www.thairath.co.th/tv/program\u001b[39m\u001b[39m'\u001b[39m: \u001b[39m1\u001b[39m, \u001b[39m'\u001b[39m\u001b[39mhttps://www.thairath.co.th/tv/watch/news\u001b[39m\u001b[39m'\u001b[39m: \u001b[39m2\u001b[39m, \u001b[39m'\u001b[39m\u001b[39mhttps://www.thairath.co.th/tv/program/thairath_news_show/718740\u001b[39m\u001b[39m'\u001b[39m: \u001b[39m2\u001b[39m, \u001b[39m'\u001b[39m\u001b[39mhttps://www.thairath.co.th/tv/program/thairath_news_show/718735\u001b[39m\u001b[39m'\u001b[39m: \u001b[39m2\u001b[39m, \u001b[39m'\u001b[39m\u001b[39mhttps://www.thairath.co.th/tv/program/thairath_news_show/718725\u001b[39m\u001b[39m'\u001b[39m: \u001b[39m2\u001b[39m, \u001b[39m'\u001b[39m\u001b[39mhttps://www.thairath.co.th/tv/program/thairath_news_show/718721\u001b[39m\u001b[39m'\u001b[39m: \u001b[39m2\u001b[39m, \u001b[39m'\u001b[39m\u001b[39mhttps://www.thairath.co.th/tv/program/khao_sai_khai/718730\u001b[39m\u001b[39m'\u001b[39m: \u001b[39m2\u001b[39m, \u001b[39m'\u001b[39m\u001b[39mhttps://www.thairath.co.th/tv/program/Poet_Pak_Kap_Phak_phum/718710\u001b[39m\u001b[39m'\u001b[39m: \u001b[39m2\u001b[39m, \u001b[39m'\u001b[39m\u001b[39mhttps://www.thairath.co.th/tv/program/Poet_Pak_Kap_Phak_phum\u001b[39m\u001b[39m'\u001b[39m: \u001b[39m1\u001b[39m, \u001b[39m'\u001b[39m\u001b[39mhttps://www.thairath.co.th/tv/program/buntoeng_thairath/718638\u001b[39m\u001b[39m'\u001b[39m: \u001b[39m2\u001b[39m, \u001b[39m'\u001b[39m\u001b[39mhttps://www.thairath.co.th/tv/program/buntoeng_thairath\u001b[39m\u001b[39m'\u001b[39m: \u001b[39m1\u001b[39m, \u001b[39m'\u001b[39m\u001b[39mhttps://www.thairath.co.th/tv/watch\u001b[39m\u001b[39m'\u001b[39m: \u001b[39m2\u001b[39m, \u001b[39m'\u001b[39m\u001b[39mhttps://www.thairath.co.th/tv/program/Setthee_Pai_Deang/715568\u001b[39m\u001b[39m'\u001b[39m: \u001b[39m2\u001b[39m, \u001b[39m'\u001b[39m\u001b[39mhttps://www.thairath.co.th/tv/program/Setthee_Pai_Deang\u001b[39m\u001b[39m'\u001b[39m: \u001b[39m4\u001b[39m, \u001b[39m'\u001b[39m\u001b[39mhttps://www.thairath.co.th/tv/program/Setthee_Pai_Deang/713101\u001b[39m\u001b[39m'\u001b[39m: \u001b[39m2\u001b[39m, \u001b[39m'\u001b[39m\u001b[39mhttps://www.thairath.co.th/tv/program/Setthee_Pai_Deang/710265\u001b[39m\u001b[39m'\u001b[39m: \u001b[39m2\u001b[39m, \u001b[39m'\u001b[39m\u001b[39mhttps://www.thairath.co.th/tv/program/Setthee_Pai_Deang/707330\u001b[39m\u001b[39m'\u001b[39m: \u001b[39m2\u001b[39m, \u001b[39m'\u001b[39m\u001b[39mhttps://www.thairath.co.th/lottery\u001b[39m\u001b[39m'\u001b[39m: \u001b[39m3\u001b[39m, \u001b[39m'\u001b[39m\u001b[39mhttps://www.thairath.co.th/business/investment/gold/history\u001b[39m\u001b[39m'\u001b[39m: \u001b[39m2\u001b[39m, \u001b[39m'\u001b[39m\u001b[39mhttps://www.thairath.co.th/business/investment/gold\u001b[39m\u001b[39m'\u001b[39m: \u001b[39m1\u001b[39m, \u001b[39m'\u001b[39m\u001b[39mhttps://www.thairath.co.th/business/investment/gold/topic\u001b[39m\u001b[39m'\u001b[39m: \u001b[39m1\u001b[39m, \u001b[39m'\u001b[39m\u001b[39mhttps://www.thairath.co.th/multimedia/gallery\u001b[39m\u001b[39m'\u001b[39m: \u001b[39m2\u001b[39m, \u001b[39m'\u001b[39m\u001b[39mhttps://www.thairath.co.th/multimedia/gallery/entertain/news/34218\u001b[39m\u001b[39m'\u001b[39m: \u001b[39m6\u001b[39m, \u001b[39m'\u001b[39m\u001b[39mhttps://www.thairath.co.th/multimedia/gallery/sport/worldcup/34208\u001b[39m\u001b[39m'\u001b[39m: \u001b[39m6\u001b[39m, \u001b[39m'\u001b[39m\u001b[39mhttps://www.thairath.co.th/multimedia/gallery/lifestyle/travel/33860\u001b[39m\u001b[39m'\u001b[39m: \u001b[39m6\u001b[39m, \u001b[39m'\u001b[39m\u001b[39mhttps://www.thairath.co.th/multimedia/gallery/lifestyle/travel/33851\u001b[39m\u001b[39m'\u001b[39m: \u001b[39m6\u001b[39m, \u001b[39m'\u001b[39m\u001b[39mhttps://www.thairath.co.th/multimedia/gallery/entertain/news/34310\u001b[39m\u001b[39m'\u001b[39m: \u001b[39m4\u001b[39m, \u001b[39m'\u001b[39m\u001b[39mhttps://www.thairath.co.th/multimedia/gallery/lifestyle/travel/34225\u001b[39m\u001b[39m'\u001b[39m: \u001b[39m4\u001b[39m, \u001b[39m'\u001b[39m\u001b[39mhttps://www.thairath.co.th/ads/thairathOnline\u001b[39m\u001b[39m'\u001b[39m: \u001b[39m1\u001b[39m}\n\u001b[1;32m      2\u001b[0m b2\u001b[39m=\u001b[39m{\u001b[39m'\u001b[39m\u001b[39mhttps://www.thairath.co.th/scoop/theissue/2619605\u001b[39m\u001b[39m'\u001b[39m, \u001b[39m'\u001b[39m\u001b[39mhttps://www.thairath.co.th/news/local/north/2620546\u001b[39m\u001b[39m'\u001b[39m, \u001b[39m'\u001b[39m\u001b[39mhttps://www.thairath.co.th/sport/eurofootball/premierleague/2620385\u001b[39m\u001b[39m'\u001b[39m, \u001b[39m'\u001b[39m\u001b[39mhttps://www.thairath.co.th/news/local/2619015\u001b[39m\u001b[39m'\u001b[39m, \u001b[39m'\u001b[39m\u001b[39mhttps://www.thairath.co.th/spotlight/bualuang-printing\u001b[39m\u001b[39m'\u001b[39m, \u001b[39m'\u001b[39m\u001b[39mhttps://www.thairath.co.th/tv/program/Setthee_Pai_Deang/713101\u001b[39m\u001b[39m'\u001b[39m, \u001b[39m'\u001b[39m\u001b[39mhttps://www.thairath.co.th/video\u001b[39m\u001b[39m'\u001b[39m, \u001b[39m'\u001b[39m\u001b[39mhttps://www.thairath.co.th/tv/program/khao_sai_khai\u001b[39m\u001b[39m'\u001b[39m, \u001b[39m'\u001b[39m\u001b[39mhttps://www.thairath.co.th/tv/watch/news\u001b[39m\u001b[39m'\u001b[39m, \u001b[39m'\u001b[39m\u001b[39mhttps://www.thairath.co.th/podcast/program/Howtolove/episode141\u001b[39m\u001b[39m'\u001b[39m, \u001b[39m'\u001b[39m\u001b[39mhttps://www.thairath.co.th/scoop/flashback/2620025\u001b[39m\u001b[39m'\u001b[39m, \u001b[39m'\u001b[39m\u001b[39mhttps://www.thairath.co.th/lifestyle/life/2529290\u001b[39m\u001b[39m'\u001b[39m, \u001b[39m'\u001b[39m\u001b[39mhttps://www.thairath.co.th\u001b[39m\u001b[39m'\u001b[39m, \u001b[39m'\u001b[39m\u001b[39mhttps://www.thairath.co.th/entertain/news/2620506\u001b[39m\u001b[39m'\u001b[39m, \u001b[39m'\u001b[39m\u001b[39mhttps://www.thairath.co.th/tv\u001b[39m\u001b[39m'\u001b[39m, \u001b[39m'\u001b[39m\u001b[39mhttps://www.thairath.co.th/column/newspaper/page1scoop\u001b[39m\u001b[39m'\u001b[39m, \u001b[39m'\u001b[39m\u001b[39mhttps://www.thairath.co.th/tv/program/buntoeng_thairath/718638\u001b[39m\u001b[39m'\u001b[39m, \u001b[39m'\u001b[39m\u001b[39mhttps://www.thairath.co.th/column/newspaper/wikroh\u001b[39m\u001b[39m'\u001b[39m, \u001b[39m'\u001b[39m\u001b[39mhttps://www.thairath.co.th/news/politic/2607053\u001b[39m\u001b[39m'\u001b[39m, \u001b[39m'\u001b[39m\u001b[39mhttps://www.thairath.co.th/news/local\u001b[39m\u001b[39m'\u001b[39m, \u001b[39m'\u001b[39m\u001b[39mhttps://www.thairath.co.th/news/local/central/2620555\u001b[39m\u001b[39m'\u001b[39m, \u001b[39m'\u001b[39m\u001b[39mhttps://www.thairath.co.th/spotlight\u001b[39m\u001b[39m'\u001b[39m, \u001b[39m'\u001b[39m\u001b[39mhttps://www.thairath.co.th/spotlight/bblfinancialtree/\u001b[39m\u001b[39m'\u001b[39m, \u001b[39m'\u001b[39m\u001b[39mhttps://www.thairath.co.th/business/investment/gold/topic\u001b[39m\u001b[39m'\u001b[39m, \u001b[39m'\u001b[39m\u001b[39mhttps://www.thairath.co.th/multimedia/gallery/sport/worldcup/34208\u001b[39m\u001b[39m'\u001b[39m, \u001b[39m'\u001b[39m\u001b[39mhttps://www.thairath.co.th/multimedia/gallery/lifestyle/travel/33851\u001b[39m\u001b[39m'\u001b[39m, \u001b[39m'\u001b[39m\u001b[39mhttps://www.thairath.co.th/tv/watch\u001b[39m\u001b[39m'\u001b[39m, \u001b[39m'\u001b[39m\u001b[39mhttps://www.thairath.co.th/podcast\u001b[39m\u001b[39m'\u001b[39m, \u001b[39m'\u001b[39m\u001b[39mhttps://www.thairath.co.th/multimedia/gallery/entertain/news/34218\u001b[39m\u001b[39m'\u001b[39m, \u001b[39m'\u001b[39m\u001b[39mhttps://www.thairath.co.th/news/politic/2619663\u001b[39m\u001b[39m'\u001b[39m, \u001b[39m'\u001b[39m\u001b[39mhttps://www.thairath.co.th/horoscope/horoscope-seer\u001b[39m\u001b[39m'\u001b[39m, \u001b[39m'\u001b[39m\u001b[39mhttps://www.thairath.co.th/multimedia/gallery/lifestyle/travel/34225\u001b[39m\u001b[39m'\u001b[39m, \u001b[39m'\u001b[39m\u001b[39mhttps://www.thairath.co.th/lottery\u001b[39m\u001b[39m'\u001b[39m, \u001b[39m'\u001b[39m\u001b[39mhttps://www.thairath.co.th/tv/program/Poet_Pak_Kap_Phak_phum\u001b[39m\u001b[39m'\u001b[39m, \u001b[39m'\u001b[39m\u001b[39mhttps://www.thairath.co.th/column/newspaper/greenhead\u001b[39m\u001b[39m'\u001b[39m, \u001b[39m'\u001b[39m\u001b[39mhttps://www.thairath.co.th/scoop/theissue/2620528\u001b[39m\u001b[39m'\u001b[39m, \u001b[39m'\u001b[39m\u001b[39mhttps://www.thairath.co.th/tv/program/thairath_news_show/718740\u001b[39m\u001b[39m'\u001b[39m, \u001b[39m'\u001b[39m\u001b[39mhttps://www.thairath.co.th/column/newspaper/worldsky\u001b[39m\u001b[39m'\u001b[39m, \u001b[39m'\u001b[39m\u001b[39mhttps://www.thairath.co.th/podcast/program/ghoststation/episode72\u001b[39m\u001b[39m'\u001b[39m, \u001b[39m'\u001b[39m\u001b[39mhttps://www.thairath.co.th/tv/program/thairath_news_show/718721\u001b[39m\u001b[39m'\u001b[39m, \u001b[39m'\u001b[39m\u001b[39mhttps://www.thairath.co.th/campaign/vote\u001b[39m\u001b[39m'\u001b[39m, \u001b[39m'\u001b[39m\u001b[39mhttps://www.thairath.co.th/sport/others/2619893\u001b[39m\u001b[39m'\u001b[39m, \u001b[39m'\u001b[39m\u001b[39mhttps://www.thairath.co.th/business/investment/gold/history\u001b[39m\u001b[39m'\u001b[39m, \u001b[39m'\u001b[39m\u001b[39mhttps://www.thairath.co.th/spotlight/covid-19-vaccine\u001b[39m\u001b[39m'\u001b[39m, \u001b[39m'\u001b[39m\u001b[39mhttps://www.thairath.co.th/lifestyle/life/2619120\u001b[39m\u001b[39m'\u001b[39m, \u001b[39m'\u001b[39m\u001b[39mhttps://www.thairath.co.th/column\u001b[39m\u001b[39m'\u001b[39m, \u001b[39m'\u001b[39m\u001b[39mhttps://www.thairath.co.th/lifestyle\u001b[39m\u001b[39m'\u001b[39m, \u001b[39m'\u001b[39m\u001b[39mhttps://www.thairath.co.th/tv/program/Setthee_Pai_Deang\u001b[39m\u001b[39m'\u001b[39m, \u001b[39m'\u001b[39m\u001b[39mhttps://www.thairath.co.th/scoop/culture/2619553\u001b[39m\u001b[39m'\u001b[39m, \u001b[39m'\u001b[39m\u001b[39mhttps://www.thairath.co.th/lifestyle/food/2619526\u001b[39m\u001b[39m'\u001b[39m, \u001b[39m'\u001b[39m\u001b[39mhttps://www.thairath.co.th/scoop/theissue/2619623\u001b[39m\u001b[39m'\u001b[39m, \u001b[39m'\u001b[39m\u001b[39mhttps://www.thairath.co.th/tv/program/khao_sai_khai/718730\u001b[39m\u001b[39m'\u001b[39m, \u001b[39m'\u001b[39m\u001b[39mhttps://www.thairath.co.th/business/investment/gold\u001b[39m\u001b[39m'\u001b[39m, \u001b[39m'\u001b[39m\u001b[39mhttps://www.thairath.co.th/scoop/theissue\u001b[39m\u001b[39m'\u001b[39m, \u001b[39m'\u001b[39m\u001b[39mhttps://www.thairath.co.th/tv/program/talon_khao\u001b[39m\u001b[39m'\u001b[39m, \u001b[39m'\u001b[39m\u001b[39mhttps://www.thairath.co.th/news/politic/2618973\u001b[39m\u001b[39m'\u001b[39m, \u001b[39m'\u001b[39m\u001b[39mhttps://www.thairath.co.th/news/local/2619108\u001b[39m\u001b[39m'\u001b[39m, \u001b[39m'\u001b[39m\u001b[39mhttps://www.thairath.co.th/horoscope/dailyhoro/2614590\u001b[39m\u001b[39m'\u001b[39m, \u001b[39m'\u001b[39m\u001b[39mhttps://www.thairath.co.th/tv/program/thairath_news_show/718725\u001b[39m\u001b[39m'\u001b[39m, \u001b[39m'\u001b[39m\u001b[39mhttps://www.thairath.co.th/multimedia/gallery/lifestyle/travel/33860\u001b[39m\u001b[39m'\u001b[39m, \u001b[39m'\u001b[39m\u001b[39mhttps://www.thairath.co.th/lifestyle/life\u001b[39m\u001b[39m'\u001b[39m, \u001b[39m'\u001b[39m\u001b[39mhttps://www.thairath.co.th/news/foreign/2618970\u001b[39m\u001b[39m'\u001b[39m, \u001b[39m'\u001b[39m\u001b[39mhttps://www.thairath.co.th/tv/program/buntoeng_thairath\u001b[39m\u001b[39m'\u001b[39m, \u001b[39m'\u001b[39m\u001b[39mhttps://www.thairath.co.th/tv/program/khoa_yen_thairath\u001b[39m\u001b[39m'\u001b[39m, \u001b[39m'\u001b[39m\u001b[39mhttps://www.thairath.co.th/member/profile/following\u001b[39m\u001b[39m'\u001b[39m, \u001b[39m'\u001b[39m\u001b[39mhttps://www.thairath.co.th/horoscope/horoscope-seer/2591033\u001b[39m\u001b[39m'\u001b[39m, \u001b[39m'\u001b[39m\u001b[39mhttps://www.thairath.co.th/lifestyle/life/2620008\u001b[39m\u001b[39m'\u001b[39m, \u001b[39m'\u001b[39m\u001b[39mhttps://www.thairath.co.th/tv/live\u001b[39m\u001b[39m'\u001b[39m, \u001b[39m'\u001b[39m\u001b[39mhttps://www.thairath.co.th/scoop/culture\u001b[39m\u001b[39m'\u001b[39m, \u001b[39m'\u001b[39m\u001b[39mhttps://www.thairath.co.th/lifestyle/life/2620181\u001b[39m\u001b[39m'\u001b[39m, \u001b[39m'\u001b[39m\u001b[39mhttps://www.thairath.co.th/refresh\u001b[39m\u001b[39m'\u001b[39m, \u001b[39m'\u001b[39m\u001b[39mhttps://www.thairath.co.th/tags/พ.พาทินี\u001b[39m\u001b[39m'\u001b[39m, \u001b[39m'\u001b[39m\u001b[39mhttps://www.thairath.co.th/tv/program/khao_chao_hua_khiew\u001b[39m\u001b[39m'\u001b[39m, \u001b[39m'\u001b[39m\u001b[39mhttps://www.thairath.co.th/worldcupactivity\u001b[39m\u001b[39m'\u001b[39m, \u001b[39m'\u001b[39m\u001b[39mhttps://www.thairath.co.th/tv/program/khao_tieng_thairath\u001b[39m\u001b[39m'\u001b[39m, \u001b[39m'\u001b[39m\u001b[39mhttps://www.thairath.co.th/home\u001b[39m\u001b[39m'\u001b[39m, \u001b[39m'\u001b[39m\u001b[39mhttps://www.thairath.co.th/lifestyle/food\u001b[39m\u001b[39m'\u001b[39m, \u001b[39m'\u001b[39m\u001b[39mhttps://www.thairath.co.th/multimedia/gallery/entertain/news/34310\u001b[39m\u001b[39m'\u001b[39m, \u001b[39m'\u001b[39m\u001b[39mhttps://www.thairath.co.th/tv/program/Setthee_Pai_Deang/707330\u001b[39m\u001b[39m'\u001b[39m, \u001b[39m'\u001b[39m\u001b[39mhttps://www.thairath.co.th/tv/program/Setthee_Pai_Deang/715568\u001b[39m\u001b[39m'\u001b[39m, \u001b[39m'\u001b[39m\u001b[39mhttps://www.thairath.co.th/ads/thairathOnline\u001b[39m\u001b[39m'\u001b[39m, \u001b[39m'\u001b[39m\u001b[39mhttps://www.thairath.co.th/scoop/theissue/2561886\u001b[39m\u001b[39m'\u001b[39m, \u001b[39m'\u001b[39m\u001b[39mhttps://www.thairath.co.th/tv/program\u001b[39m\u001b[39m'\u001b[39m, \u001b[39m'\u001b[39m\u001b[39mhttps://www.thairath.co.th/tv/program/Poet_Pak_Kap_Phak_phum/718710\u001b[39m\u001b[39m'\u001b[39m, \u001b[39m'\u001b[39m\u001b[39mhttps://www.thairath.co.th/tv/program/thairath_news_show\u001b[39m\u001b[39m'\u001b[39m, \u001b[39m'\u001b[39m\u001b[39mhttps://www.thairath.co.th/scoop\u001b[39m\u001b[39m'\u001b[39m, \u001b[39m'\u001b[39m\u001b[39mhttps://www.thairath.co.th/news/local/2619423\u001b[39m\u001b[39m'\u001b[39m, \u001b[39m'\u001b[39m\u001b[39mhttps://www.thairath.co.th/news/politic/2620501\u001b[39m\u001b[39m'\u001b[39m, \u001b[39m'\u001b[39m\u001b[39mhttps://www.thairath.co.th/multimedia/gallery\u001b[39m\u001b[39m'\u001b[39m, \u001b[39m'\u001b[39m\u001b[39mhttps://www.thairath.co.th/tv/program/thairath_news_show/718735\u001b[39m\u001b[39m'\u001b[39m, \u001b[39m'\u001b[39m\u001b[39mhttps://www.thairath.co.th/spotlight/onlinelearning\u001b[39m\u001b[39m'\u001b[39m, \u001b[39m'\u001b[39m\u001b[39mhttps://www.thairath.co.th/tv/program/Setthee_Pai_Deang/710265\u001b[39m\u001b[39m'\u001b[39m, \u001b[39m'\u001b[39m\u001b[39mhttps://www.thairath.co.th/scoop/interview/2620466\u001b[39m\u001b[39m'\u001b[39m, \u001b[39m'\u001b[39m\u001b[39mhttps://www.thairath.co.th/scoop/flashback\u001b[39m\u001b[39m'\u001b[39m}\n\u001b[0;32m----> 3\u001b[0m a\u001b[39m=\u001b[39mwebsite_dict2\n\u001b[1;32m      4\u001b[0m b\u001b[39m=\u001b[39mwebsite_dict3\n\u001b[1;32m      5\u001b[0m \u001b[39mprint\u001b[39m (\u001b[39mlen\u001b[39m(a))\n",
      "\u001b[0;31mNameError\u001b[0m: name 'website_dict2' is not defined"
     ]
    }
   ],
   "source": [
    "a1={'https://www.thairath.co.th/home': 1, 'https://www.thairath.co.th/tv/live': 2, 'https://www.thairath.co.th/news/local/north/2620546': 4, 'https://www.thairath.co.th/news/local/central/2620555': 4, 'https://www.thairath.co.th/sport/eurofootball/premierleague/2620385': 4, 'https://www.thairath.co.th/news/politic/2620501': 4, 'https://www.thairath.co.th/entertain/news/2620506': 4, 'https://www.thairath.co.th/scoop/interview/2620466': 4, 'https://www.thairath.co.th/spotlight': 2, 'https://www.thairath.co.th/spotlight/covid-19-vaccine': 6, 'https://www.thairath.co.th/spotlight/bualuang-printing': 4, 'https://www.thairath.co.th/spotlight/bblfinancialtree/': 4, 'https://www.thairath.co.th/spotlight/onlinelearning': 4, 'https://www.thairath.co.th/column': 2, 'https://www.thairath.co.th/news/politic/2618973': 2, 'https://www.thairath.co.th/column/newspaper/greenhead': 1, 'https://www.thairath.co.th/news/foreign/2618970': 1, 'https://www.thairath.co.th/column/newspaper/worldsky': 1, 'https://www.thairath.co.th/sport/others/2619893': 1, 'https://www.thairath.co.th/news/local/2619015': 1, 'https://www.thairath.co.th/column/newspaper/page1scoop': 1, 'https://www.thairath.co.th/news/politic/2619663': 1, 'https://www.thairath.co.th/column/newspaper/wikroh': 1, 'https://www.thairath.co.th/member/profile/following': 2, 'https://www.thairath.co.th/scoop': 2, 'https://www.thairath.co.th/scoop/theissue/2620528': 2, 'https://www.thairath.co.th/scoop/theissue': 3, 'https://www.thairath.co.th/scoop/flashback/2620025': 2, 'https://www.thairath.co.th/scoop/flashback': 1, 'https://www.thairath.co.th/scoop/theissue/2619623': 2, 'https://www.thairath.co.th/scoop/theissue/2619605': 2, 'https://www.thairath.co.th/scoop/culture/2619553': 2, 'https://www.thairath.co.th/scoop/culture': 1, 'https://www.thairath.co.th/worldcupactivity': 3, 'https://www.thairath.co.th/campaign/vote': 2, 'https://www.thairath.co.th/refresh': 3, 'https://www.thairath.co.th/news/politic/2607053': 2, 'https://www.thairath.co.th/lifestyle/life/2529290': 2, 'https://www.thairath.co.th/scoop/theissue/2561886': 2, 'https://www.thairath.co.th/video': 2, 'https://www.thairath.co.th/podcast': 2, 'https://www.thairath.co.th/podcast/program/ghoststation/episode72': 2, 'https://www.thairath.co.th/podcast/program/Howtolove/episode141': 2, 'https://www.thairath.co.th/lifestyle': 2, 'https://www.thairath.co.th/news/local/2619423': 2, 'https://www.thairath.co.th/news/local': 2, 'https://www.thairath.co.th/news/local/2619108': 2, 'https://www.thairath.co.th/horoscope/dailyhoro/2614590': 2, 'https://www.thairath.co.th/tags/พ.พาทินี': 1, 'https://www.thairath.co.th/horoscope/horoscope-seer/2591033': 2, 'https://www.thairath.co.th/horoscope/horoscope-seer': 1, 'https://www.thairath.co.th/lifestyle/life/2620008': 2, 'https://www.thairath.co.th/lifestyle/life': 3, 'https://www.thairath.co.th/lifestyle/life/2620181': 2, 'https://www.thairath.co.th/lifestyle/life/2619120': 2, 'https://www.thairath.co.th/lifestyle/food/2619526': 2, 'https://www.thairath.co.th/lifestyle/food': 1, 'https://www.thairath.co.th/tv': 1, 'https://www.thairath.co.th/tv/program/khao_chao_hua_khiew': 1, 'https://www.thairath.co.th/tv/program/talon_khao': 1, 'https://www.thairath.co.th/tv/program/khao_tieng_thairath': 1, 'https://www.thairath.co.th/tv/program/khoa_yen_thairath': 1, 'https://www.thairath.co.th/tv/program/khao_sai_khai': 2, 'https://www.thairath.co.th/tv/program/thairath_news_show': 5, 'https://www.thairath.co.th/tv/program': 1, 'https://www.thairath.co.th/tv/watch/news': 2, 'https://www.thairath.co.th/tv/program/thairath_news_show/718740': 2, 'https://www.thairath.co.th/tv/program/thairath_news_show/718735': 2, 'https://www.thairath.co.th/tv/program/thairath_news_show/718725': 2, 'https://www.thairath.co.th/tv/program/thairath_news_show/718721': 2, 'https://www.thairath.co.th/tv/program/khao_sai_khai/718730': 2, 'https://www.thairath.co.th/tv/program/Poet_Pak_Kap_Phak_phum/718710': 2, 'https://www.thairath.co.th/tv/program/Poet_Pak_Kap_Phak_phum': 1, 'https://www.thairath.co.th/tv/program/buntoeng_thairath/718638': 2, 'https://www.thairath.co.th/tv/program/buntoeng_thairath': 1, 'https://www.thairath.co.th/tv/watch': 2, 'https://www.thairath.co.th/tv/program/Setthee_Pai_Deang/715568': 2, 'https://www.thairath.co.th/tv/program/Setthee_Pai_Deang': 4, 'https://www.thairath.co.th/tv/program/Setthee_Pai_Deang/713101': 2, 'https://www.thairath.co.th/tv/program/Setthee_Pai_Deang/710265': 2, 'https://www.thairath.co.th/tv/program/Setthee_Pai_Deang/707330': 2, 'https://www.thairath.co.th/lottery': 3, 'https://www.thairath.co.th/business/investment/gold/history': 2, 'https://www.thairath.co.th/business/investment/gold': 1, 'https://www.thairath.co.th/business/investment/gold/topic': 1, 'https://www.thairath.co.th/multimedia/gallery': 2, 'https://www.thairath.co.th/multimedia/gallery/entertain/news/34218': 6, 'https://www.thairath.co.th/multimedia/gallery/sport/worldcup/34208': 6, 'https://www.thairath.co.th/multimedia/gallery/lifestyle/travel/33860': 6, 'https://www.thairath.co.th/multimedia/gallery/lifestyle/travel/33851': 6, 'https://www.thairath.co.th/multimedia/gallery/entertain/news/34310': 4, 'https://www.thairath.co.th/multimedia/gallery/lifestyle/travel/34225': 4, 'https://www.thairath.co.th/ads/thairathOnline': 1}\n",
    "b2={'https://www.thairath.co.th/scoop/theissue/2619605', 'https://www.thairath.co.th/news/local/north/2620546', 'https://www.thairath.co.th/sport/eurofootball/premierleague/2620385', 'https://www.thairath.co.th/news/local/2619015', 'https://www.thairath.co.th/spotlight/bualuang-printing', 'https://www.thairath.co.th/tv/program/Setthee_Pai_Deang/713101', 'https://www.thairath.co.th/video', 'https://www.thairath.co.th/tv/program/khao_sai_khai', 'https://www.thairath.co.th/tv/watch/news', 'https://www.thairath.co.th/podcast/program/Howtolove/episode141', 'https://www.thairath.co.th/scoop/flashback/2620025', 'https://www.thairath.co.th/lifestyle/life/2529290', 'https://www.thairath.co.th', 'https://www.thairath.co.th/entertain/news/2620506', 'https://www.thairath.co.th/tv', 'https://www.thairath.co.th/column/newspaper/page1scoop', 'https://www.thairath.co.th/tv/program/buntoeng_thairath/718638', 'https://www.thairath.co.th/column/newspaper/wikroh', 'https://www.thairath.co.th/news/politic/2607053', 'https://www.thairath.co.th/news/local', 'https://www.thairath.co.th/news/local/central/2620555', 'https://www.thairath.co.th/spotlight', 'https://www.thairath.co.th/spotlight/bblfinancialtree/', 'https://www.thairath.co.th/business/investment/gold/topic', 'https://www.thairath.co.th/multimedia/gallery/sport/worldcup/34208', 'https://www.thairath.co.th/multimedia/gallery/lifestyle/travel/33851', 'https://www.thairath.co.th/tv/watch', 'https://www.thairath.co.th/podcast', 'https://www.thairath.co.th/multimedia/gallery/entertain/news/34218', 'https://www.thairath.co.th/news/politic/2619663', 'https://www.thairath.co.th/horoscope/horoscope-seer', 'https://www.thairath.co.th/multimedia/gallery/lifestyle/travel/34225', 'https://www.thairath.co.th/lottery', 'https://www.thairath.co.th/tv/program/Poet_Pak_Kap_Phak_phum', 'https://www.thairath.co.th/column/newspaper/greenhead', 'https://www.thairath.co.th/scoop/theissue/2620528', 'https://www.thairath.co.th/tv/program/thairath_news_show/718740', 'https://www.thairath.co.th/column/newspaper/worldsky', 'https://www.thairath.co.th/podcast/program/ghoststation/episode72', 'https://www.thairath.co.th/tv/program/thairath_news_show/718721', 'https://www.thairath.co.th/campaign/vote', 'https://www.thairath.co.th/sport/others/2619893', 'https://www.thairath.co.th/business/investment/gold/history', 'https://www.thairath.co.th/spotlight/covid-19-vaccine', 'https://www.thairath.co.th/lifestyle/life/2619120', 'https://www.thairath.co.th/column', 'https://www.thairath.co.th/lifestyle', 'https://www.thairath.co.th/tv/program/Setthee_Pai_Deang', 'https://www.thairath.co.th/scoop/culture/2619553', 'https://www.thairath.co.th/lifestyle/food/2619526', 'https://www.thairath.co.th/scoop/theissue/2619623', 'https://www.thairath.co.th/tv/program/khao_sai_khai/718730', 'https://www.thairath.co.th/business/investment/gold', 'https://www.thairath.co.th/scoop/theissue', 'https://www.thairath.co.th/tv/program/talon_khao', 'https://www.thairath.co.th/news/politic/2618973', 'https://www.thairath.co.th/news/local/2619108', 'https://www.thairath.co.th/horoscope/dailyhoro/2614590', 'https://www.thairath.co.th/tv/program/thairath_news_show/718725', 'https://www.thairath.co.th/multimedia/gallery/lifestyle/travel/33860', 'https://www.thairath.co.th/lifestyle/life', 'https://www.thairath.co.th/news/foreign/2618970', 'https://www.thairath.co.th/tv/program/buntoeng_thairath', 'https://www.thairath.co.th/tv/program/khoa_yen_thairath', 'https://www.thairath.co.th/member/profile/following', 'https://www.thairath.co.th/horoscope/horoscope-seer/2591033', 'https://www.thairath.co.th/lifestyle/life/2620008', 'https://www.thairath.co.th/tv/live', 'https://www.thairath.co.th/scoop/culture', 'https://www.thairath.co.th/lifestyle/life/2620181', 'https://www.thairath.co.th/refresh', 'https://www.thairath.co.th/tags/พ.พาทินี', 'https://www.thairath.co.th/tv/program/khao_chao_hua_khiew', 'https://www.thairath.co.th/worldcupactivity', 'https://www.thairath.co.th/tv/program/khao_tieng_thairath', 'https://www.thairath.co.th/home', 'https://www.thairath.co.th/lifestyle/food', 'https://www.thairath.co.th/multimedia/gallery/entertain/news/34310', 'https://www.thairath.co.th/tv/program/Setthee_Pai_Deang/707330', 'https://www.thairath.co.th/tv/program/Setthee_Pai_Deang/715568', 'https://www.thairath.co.th/ads/thairathOnline', 'https://www.thairath.co.th/scoop/theissue/2561886', 'https://www.thairath.co.th/tv/program', 'https://www.thairath.co.th/tv/program/Poet_Pak_Kap_Phak_phum/718710', 'https://www.thairath.co.th/tv/program/thairath_news_show', 'https://www.thairath.co.th/scoop', 'https://www.thairath.co.th/news/local/2619423', 'https://www.thairath.co.th/news/politic/2620501', 'https://www.thairath.co.th/multimedia/gallery', 'https://www.thairath.co.th/tv/program/thairath_news_show/718735', 'https://www.thairath.co.th/spotlight/onlinelearning', 'https://www.thairath.co.th/tv/program/Setthee_Pai_Deang/710265', 'https://www.thairath.co.th/scoop/interview/2620466', 'https://www.thairath.co.th/scoop/flashback'}\n",
    "a=website_dict2\n",
    "b=website_dict3\n",
    "print (len(a))\n",
    "print(len(b))\n",
    "\n",
    "for i in a:\n",
    "    if i not in b :\n",
    "        print((i))"
   ]
  },
  {
   "cell_type": "code",
   "execution_count": null,
   "metadata": {},
   "outputs": [],
   "source": [
    "class Thai:\n",
    "    def __init__(self,data:list):\n",
    "        self.data_value = data\n",
    "        self.sentence = self.get_sentence()\n",
    "        self.keyword = self.get_keyword()\n",
    "        self.summarize = self.get_summarize()\n",
    "    def make_sentence(self,list_word):\n",
    "        self.sentence_value = ''\n",
    "        for i in list_word:\n",
    "            for i in list_word:\n",
    "                if pythainlp.util.countthai(i)<10:\n",
    "                    list_word.remove(i)\n",
    "        self.sentence_value = ' '.join(list_word)\n",
    "        return self.sentence_value\n",
    "    def get_sentence(self):\n",
    "        self.sentence_result = self.make_sentence(self.data_value)\n",
    "        return self.sentence_result\n",
    "    def get_keyword(self):\n",
    "        self.keyword_result = {}\n",
    "        self.keyword_value = word_tokenize(self.sentence, engine=\"newmm\")\n",
    "        self.keyword_dict = find_keyword(self.keyword_value)\n",
    "        # Iterate over the keys in the dictionary\n",
    "        for key in self.keyword_dict:\n",
    "        # Check if the key is text (i.e., not a space or quotation mark)\n",
    "            if key.isalpha():\n",
    "            # If the key is text, add it to the new dictionary\n",
    "                self.keyword_result[key] = self.keyword_dict[key]\n",
    "        return self.keyword_result\n",
    "    def get_summarize(self):\n",
    "        self.summarize_result =[]\n",
    "        self.summarize_result = summarize(self.sentence,n=5)\n",
    "        return self.summarize_result\n"
   ]
  },
  {
   "cell_type": "code",
   "execution_count": null,
   "metadata": {},
   "outputs": [],
   "source": [
    "def scrape_tags(url):\n",
    "  response = requests.get(url)\n",
    "  soup = BeautifulSoup(response.text, 'html.parser')\n",
    "  title_tag = soup.find('title').text\n",
    "  p_tags = soup.find_all('p')\n",
    "  p_list =[]\n",
    "  for p in p_tags:\n",
    "    if p.string != None:\n",
    "      p_list.append(unicodedata.normalize(\"NFKD\", p.string))\n",
    "  if len(p_list) == 0:\n",
    "    p_list.append('ไม่พบข้อความในเว็บนี้')\n",
    "  \n",
    "  p_tag = \"\".join(p_list)\n",
    "  thai_nlp = Thai(p_list)\n",
    "  keyword = thai_nlp.keyword\n",
    "  keyword = {k: v for k, v in sorted(keyword.items(), key=lambda item: item[1], reverse=True)}\n",
    "  keyword = dict(itertools.islice(keyword.items(), 5))\n",
    "  summarize_article = thai_nlp.summarize\n",
    "  \n",
    "  if  title_tag == None:\n",
    "    title_tag = summarize_article[0]\n",
    "    \n",
    "  return p_tag, title_tag, keyword\n",
    "\n",
    "def insert_data_to_db(website, p_tag, title, keyword, website_dict):\n",
    "  \n",
    "  for i in keyword:\n",
    "    conn.execute(\"INSERT INTO DATA (WEBSITE, BODY, TITLE, KEYWORD, WORD_FREQUENCY ,REF) VALUES (?, ?, ?, ?, ?, ?)\", (website, p_tag, title, i, keyword[i],website_dict[website]))\n",
    "    conn.commit()\n",
    "    print(f'For website {website}')\n",
    "    print(f'For the p tags is:{p_tag}') \n",
    "    print(f'For the title tag is: {title}')\n",
    "    print(f'For the keyword is:{i}')\n",
    "    print(f'Forthe word frequency is:{keyword[i]}')\n",
    "    print(f'For the ref is:{website_dict[website]}')\n",
    " \n",
    "\n",
    "# Iterate through the websites\n",
    "conn = sqlite3.connect('scraped_data.db')\n",
    "conn.execute('''CREATE TABLE DATA\n",
    "             (ID INTEGER PRIMARY KEY AUTOINCREMENT,\n",
    "             WEBSITE STRING NOT NULL,\n",
    "             BODY TEXT NOT NULL,\n",
    "             TITLE TEXT NOT NULL,\n",
    "             KEYWORD TEXT NOT NULL,\n",
    "             WORD_FREQUENCY INT NOT NULL,\n",
    "             REF INT NOT NULL);''')\n",
    "for website in website_dict1.keys():\n",
    "    if 'news' in website:\n",
    "        p_tag, title, keyword = scrape_tags(website)\n",
    "        insert_data_to_db(website, p_tag, title, keyword, website_dict1)\n",
    "\n",
    "conn.close()\n",
    "\n",
    "\n",
    "\n",
    "\n"
   ]
  },
  {
   "cell_type": "code",
   "execution_count": null,
   "metadata": {},
   "outputs": [],
   "source": [
    "keyword = {}\n",
    "keyword = {k: v for k, v in sorted(keyword.items(), key=lambda item: item[1], reverse=True)}\n",
    "print(keyword)"
   ]
  },
  {
   "cell_type": "code",
   "execution_count": null,
   "metadata": {},
   "outputs": [],
   "source": []
  }
 ],
 "metadata": {
  "kernelspec": {
   "display_name": "base",
   "language": "python",
   "name": "python3"
  },
  "language_info": {
   "codemirror_mode": {
    "name": "ipython",
    "version": 3
   },
   "file_extension": ".py",
   "mimetype": "text/x-python",
   "name": "python",
   "nbconvert_exporter": "python",
   "pygments_lexer": "ipython3",
   "version": "3.8.16"
  },
  "orig_nbformat": 4,
  "vscode": {
   "interpreter": {
    "hash": "f77b640396ee907328d3f2b1dbf7d1073670d4b49ce003bfc4c9fbcbcb50868c"
   }
  }
 },
 "nbformat": 4,
 "nbformat_minor": 2
}
