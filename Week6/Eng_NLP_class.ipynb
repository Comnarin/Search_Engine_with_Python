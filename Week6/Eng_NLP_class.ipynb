{
 "cells": [
  {
   "cell_type": "code",
   "execution_count": 2,
   "metadata": {},
   "outputs": [],
   "source": [
    "import bs4 as bs\n",
    "import urllib.request\n",
    "import re\n",
    "import nltk\n",
    "import heapq\n",
    "from keybert import KeyBERT"
   ]
  },
  {
   "cell_type": "code",
   "execution_count": 3,
   "metadata": {},
   "outputs": [],
   "source": [
    "class Eng:\n",
    "    def __init__(self,data:list):\n",
    "        self.data_value = data\n",
    "        self.sentence = self.get_sentence()\n",
    "        \n",
    "    def get_sentence(self):\n",
    "        self.sentence_result = self.make_sentence(self.data_value)\n",
    "        return self.sentence_result\n",
    "    def make_sentence(self,list_word):\n",
    "        self.sentence_value = ' '.join(list_word)\n",
    "        return self.sentence_value\n",
    "    def tokenize(self):\n",
    "        self.sentence_list = nltk.sent_tokenize(self.sentence)\n",
    "        return self.sentence_list\n",
    "    def create_formatted_article(self):\n",
    "        # Removing special characters and digits\n",
    "        self.get_sentence()\n",
    "        self.formatted_article_text = re.sub('[^a-zA-Z]', ' ', self.sentence_result )\n",
    "        self.formatted_article_text = re.sub(r'\\s+', ' ', self.formatted_article_text)\n",
    "        return self.formatted_article_text\n",
    "    def find_word_frequencies(self):\n",
    "        self.tokenize()\n",
    "        self.create_formatted_article()\n",
    "        stopwords = nltk.corpus.stopwords.words('english')\n",
    "        self.word_frequencies = {}\n",
    "        for word in nltk.word_tokenize(self.formatted_article_text):\n",
    "            if word not in stopwords:\n",
    "                if word not in self.word_frequencies.keys():\n",
    "                    self.word_frequencies[word] = 1\n",
    "                else:\n",
    "                    self.word_frequencies[word] += 1\n",
    "        return self.word_frequencies\n",
    "    def find_maximum_frequncy(self):\n",
    "        self.find_word_frequencies()\n",
    "        maximum_frequncy = max(self.word_frequencies.values())\n",
    "        for word in self.word_frequencies.keys():\n",
    "            self.word_frequencies[word] = (self.word_frequencies[word]/maximum_frequncy)\n",
    "    def find_sentence_scores(self):\n",
    "        self.sentence_scores = {}\n",
    "        self.tokenize()\n",
    "        self.find_word_frequencies()\n",
    "        for sent in self.sentence_list:\n",
    "            for word in nltk.word_tokenize(sent.lower()):\n",
    "                if word in self.word_frequencies.keys():\n",
    "                    if len(sent.split(' ')) < 30:\n",
    "                        if sent not in self.sentence_scores.keys():\n",
    "                            self.sentence_scores[sent] = self.word_frequencies[word]\n",
    "                        else:\n",
    "                            self.sentence_scores[sent] += self.word_frequencies[word]\n",
    "        return self.sentence_scores\n",
    "    def summary_sentences(self):\n",
    "        self.find_sentence_scores()\n",
    "        self.summary_sentences = heapq.nlargest(5, self.sentence_scores, key=self.sentence_scores.get)\n",
    "        summary = ' '.join(self.summary_sentences)\n",
    "        return self.summary_sentences\n",
    "    def find_keyword(self):\n",
    "        self.get_sentence()\n",
    "        kw_model = KeyBERT()\n",
    "        keywords = kw_model.extract_keywords(self.sentence_result)\n",
    "        return kw_model.extract_keywords(self.sentence_result, keyphrase_ngram_range=(1, 1), stop_words=None)"
   ]
  },
  {
   "cell_type": "code",
   "execution_count": 24,
   "metadata": {},
   "outputs": [],
   "source": [
    "eng = Eng([\"More classified material found at Biden's home\", 'Top secret documents reportedly found in Biden cache', 'Four unanswered questions about the Biden documents', 'How Biden and Trump secret files cases compare', 'Delay in telling public about files may haunt Biden', \"Republicans want to know who visited Biden's homes\", 'The problem with politicians and classified files', 'Biden under investigation', 'How much trouble is the president in over classified documents found at his home?', 'Who is the special counsel in the Biden probe?', 'Special counsel appointed to investigate Biden files', 'Second batch of classified Biden documents found', 'Jill Biden has surgery to remove cancerous skin lesions', \"Biden 'surprised' about classified files discovery\", 'Biden visits US-Mexico border in trip to Texas', 'Western allies to send fighting vehicles to Ukraine', 'What will change with Republicans controlling the House', \"What's actually in the $1.7tn US spending bill?\", \"Zelensky trip shows US doesn't want peace - Russia\", 'Ukraine is alive and kicking, Zelensky tells US'])"
   ]
  },
  {
   "cell_type": "code",
   "execution_count": 25,
   "metadata": {},
   "outputs": [
    {
     "data": {
      "text/plain": [
       "\"More classified material found at Biden's home Top secret documents reportedly found in Biden cache Four unanswered questions about the Biden documents How Biden and Trump secret files cases compare Delay in telling public about files may haunt Biden Republicans want to know who visited Biden's homes The problem with politicians and classified files Biden under investigation How much trouble is the president in over classified documents found at his home? Who is the special counsel in the Biden probe? Special counsel appointed to investigate Biden files Second batch of classified Biden documents found Jill Biden has surgery to remove cancerous skin lesions Biden 'surprised' about classified files discovery Biden visits US-Mexico border in trip to Texas Western allies to send fighting vehicles to Ukraine What will change with Republicans controlling the House What's actually in the $1.7tn US spending bill? Zelensky trip shows US doesn't want peace - Russia Ukraine is alive and kicking, Zelensky tells US\""
      ]
     },
     "execution_count": 25,
     "metadata": {},
     "output_type": "execute_result"
    }
   ],
   "source": [
    "eng.get_sentence()\n"
   ]
  },
  {
   "cell_type": "code",
   "execution_count": 26,
   "metadata": {},
   "outputs": [
    {
     "data": {
      "text/plain": [
       "[\"Zelensky trip shows US doesn't want peace - Russia Ukraine is alive and kicking, Zelensky tells US\",\n",
       " 'Who is the special counsel in the Biden probe?']"
      ]
     },
     "execution_count": 26,
     "metadata": {},
     "output_type": "execute_result"
    }
   ],
   "source": [
    "eng.summary_sentences()"
   ]
  },
  {
   "cell_type": "code",
   "execution_count": 27,
   "metadata": {},
   "outputs": [
    {
     "data": {
      "text/plain": [
       "[('biden', 0.4392),\n",
       " ('documents', 0.3501),\n",
       " ('classified', 0.3172),\n",
       " ('politicians', 0.2588),\n",
       " ('files', 0.2574)]"
      ]
     },
     "execution_count": 27,
     "metadata": {},
     "output_type": "execute_result"
    }
   ],
   "source": [
    "eng.find_keyword()"
   ]
  },
  {
   "cell_type": "code",
   "execution_count": 28,
   "metadata": {},
   "outputs": [
    {
     "data": {
      "text/plain": [
       "[\"More classified material found at Biden's home Top secret documents reportedly found in Biden cache Four unanswered questions about the Biden documents How Biden and Trump secret files cases compare Delay in telling public about files may haunt Biden Republicans want to know who visited Biden's homes The problem with politicians and classified files Biden under investigation How much trouble is the president in over classified documents found at his home?\",\n",
       " 'Who is the special counsel in the Biden probe?',\n",
       " \"Special counsel appointed to investigate Biden files Second batch of classified Biden documents found Jill Biden has surgery to remove cancerous skin lesions Biden 'surprised' about classified files discovery Biden visits US-Mexico border in trip to Texas Western allies to send fighting vehicles to Ukraine What will change with Republicans controlling the House What's actually in the $1.7tn US spending bill?\",\n",
       " \"Zelensky trip shows US doesn't want peace - Russia Ukraine is alive and kicking, Zelensky tells US\"]"
      ]
     },
     "execution_count": 28,
     "metadata": {},
     "output_type": "execute_result"
    }
   ],
   "source": [
    "eng.tokenize()"
   ]
  },
  {
   "cell_type": "code",
   "execution_count": 19,
   "metadata": {},
   "outputs": [
    {
     "data": {
      "text/plain": [
       "{'German Chancellor Olaf Scholz has decided to send Leopard 2 tanks to Ukraine, and allow other countries to do the same, reports in Germany say.': 24,\n",
       " 'Leopard 2s are made in Germany and Berlin needs to approve their export.': 4,\n",
       " 'Germany has been hesitant to send its own - or allow other nations to send theirs - over concerns it could escalate the conflict with Russia.': 23,\n",
       " 'But now Mr Scholz has decided to send the at least a company of Leopard 2 A6 tanks, several German outlets say.': 24,\n",
       " 'The news was broken by Der Spiegel in Germany, citing government sources, before being seemingly confirmed elsewhere.': 9,\n",
       " 'There has been no official statement from the German government yet.': 6,\n",
       " 'Ukraine sees the tanks as vital for breaking through Russian lines and to beat an anticipated Russian offensive this spring.': 16,\n",
       " 'Ukraine President Volodymyr Zelensky believes about 300 Leopard tanks would help it defeat Russia.': 12,\n",
       " 'Allied nations have become frustrated at what they perceive as German reluctance to send the armoured vehicles in recent days.': 17,\n",
       " 'What weapons are being supplied to Ukraine?': 2,\n",
       " \"The bacteria controlling your brain The simple error that 16% of us make Gen Z's latest surprising obsession A return to old-school Canadian glamour © 2023 BBC.\": 12,\n",
       " 'The BBC is not responsible for the content of external sites.': 5,\n",
       " 'Read about our approach to external linking.': 5}"
      ]
     },
     "execution_count": 19,
     "metadata": {},
     "output_type": "execute_result"
    }
   ],
   "source": [
    "eng.find_sentence_scores()"
   ]
  },
  {
   "cell_type": "code",
   "execution_count": 20,
   "metadata": {},
   "outputs": [
    {
     "data": {
      "text/plain": [
       "{'German': 4,\n",
       " 'Chancellor': 1,\n",
       " 'Olaf': 1,\n",
       " 'Scholz': 2,\n",
       " 'decided': 2,\n",
       " 'send': 7,\n",
       " 'Leopard': 5,\n",
       " 'tanks': 8,\n",
       " 'Ukraine': 9,\n",
       " 'allow': 2,\n",
       " 'countries': 1,\n",
       " 'reports': 2,\n",
       " 'Germany': 8,\n",
       " 'say': 2,\n",
       " 'made': 1,\n",
       " 'Berlin': 1,\n",
       " 'needs': 1,\n",
       " 'approve': 1,\n",
       " 'export': 1,\n",
       " 'hesitant': 1,\n",
       " 'nations': 2,\n",
       " 'concerns': 1,\n",
       " 'could': 1,\n",
       " 'escalate': 1,\n",
       " 'conflict': 1,\n",
       " 'Russia': 2,\n",
       " 'But': 1,\n",
       " 'Mr': 1,\n",
       " 'least': 1,\n",
       " 'company': 2,\n",
       " 'A': 3,\n",
       " 'several': 1,\n",
       " 'outlets': 1,\n",
       " 'usually': 1,\n",
       " 'number': 2,\n",
       " 'Leopards': 1,\n",
       " 'Poland': 1,\n",
       " 'wants': 1,\n",
       " 'Challenger': 1,\n",
       " 'UK': 1,\n",
       " 'already': 1,\n",
       " 'committed': 1,\n",
       " 'The': 6,\n",
       " 'news': 1,\n",
       " 'broken': 1,\n",
       " 'Der': 1,\n",
       " 'Spiegel': 1,\n",
       " 'citing': 1,\n",
       " 'government': 2,\n",
       " 'sources': 1,\n",
       " 'seemingly': 1,\n",
       " 'confirmed': 1,\n",
       " 'elsewhere': 1,\n",
       " 'There': 1,\n",
       " 'official': 1,\n",
       " 'statement': 1,\n",
       " 'yet': 2,\n",
       " 'sees': 1,\n",
       " 'vital': 1,\n",
       " 'breaking': 1,\n",
       " 'Russian': 3,\n",
       " 'lines': 1,\n",
       " 'beat': 1,\n",
       " 'anticipated': 1,\n",
       " 'offensive': 1,\n",
       " 'spring': 1,\n",
       " 'President': 1,\n",
       " 'Volodymyr': 1,\n",
       " 'Zelensky': 1,\n",
       " 'believes': 1,\n",
       " 'would': 1,\n",
       " 'help': 1,\n",
       " 'defeat': 1,\n",
       " 'Allied': 1,\n",
       " 'become': 1,\n",
       " 'frustrated': 1,\n",
       " 'perceive': 1,\n",
       " 'reluctance': 1,\n",
       " 'armoured': 1,\n",
       " 'vehicles': 1,\n",
       " 'recent': 1,\n",
       " 'days': 1,\n",
       " 'Polish': 1,\n",
       " 'PM': 1,\n",
       " 'Mateusz': 1,\n",
       " 'Morawiecki': 1,\n",
       " 'told': 1,\n",
       " 'BBC': 3,\n",
       " 'earlier': 1,\n",
       " 'Tuesday': 1,\n",
       " 'special': 1,\n",
       " 'responsibility': 1,\n",
       " 'support': 1,\n",
       " 'built': 1,\n",
       " 'huge': 1,\n",
       " 'funds': 1,\n",
       " 'war': 1,\n",
       " 'buying': 1,\n",
       " 'gas': 1,\n",
       " 'What': 3,\n",
       " 'weapons': 1,\n",
       " 'supplied': 1,\n",
       " 'block': 1,\n",
       " 'tank': 1,\n",
       " 'exports': 1,\n",
       " 'foreign': 1,\n",
       " 'minister': 1,\n",
       " 'commit': 1,\n",
       " 'sending': 1,\n",
       " 'Top': 1,\n",
       " 'officials': 1,\n",
       " 'quit': 1,\n",
       " 'corruption': 1,\n",
       " 'crackdown': 1,\n",
       " 'Classified': 1,\n",
       " 'documents': 1,\n",
       " 'found': 1,\n",
       " 'Mike': 1,\n",
       " 'Pence': 1,\n",
       " 'home': 1,\n",
       " 'Oscars': 1,\n",
       " 'nominations': 1,\n",
       " 'full': 1,\n",
       " 'How': 1,\n",
       " 'read': 1,\n",
       " 'Doomsday': 1,\n",
       " 'Clock': 1,\n",
       " 'Men': 1,\n",
       " 'must': 1,\n",
       " 'stand': 1,\n",
       " 'Afghan': 1,\n",
       " 'women': 1,\n",
       " 'professor': 1,\n",
       " 'Hero': 1,\n",
       " 'disarmed': 1,\n",
       " 'gunman': 1,\n",
       " 'never': 1,\n",
       " 'seen': 1,\n",
       " 'real': 1,\n",
       " 'gun': 1,\n",
       " 'Eight': 1,\n",
       " 'year': 1,\n",
       " 'old': 2,\n",
       " 'Indian': 1,\n",
       " 'diamond': 1,\n",
       " 'heiress': 1,\n",
       " 'became': 1,\n",
       " 'nun': 1,\n",
       " 'need': 1,\n",
       " 'know': 1,\n",
       " 'Nigeria': 1,\n",
       " 'elections': 1,\n",
       " 'Englishman': 1,\n",
       " 'helped': 1,\n",
       " 'plot': 1,\n",
       " 'Morocco': 1,\n",
       " 'World': 1,\n",
       " 'Cup': 1,\n",
       " 'run': 1,\n",
       " 'future': 1,\n",
       " 'India': 1,\n",
       " 'sinking': 1,\n",
       " 'Himalayan': 1,\n",
       " 'town': 1,\n",
       " 'bacteria': 1,\n",
       " 'controlling': 1,\n",
       " 'brain': 1,\n",
       " 'simple': 1,\n",
       " 'error': 1,\n",
       " 'us': 1,\n",
       " 'make': 1,\n",
       " 'Gen': 1,\n",
       " 'Z': 1,\n",
       " 'latest': 1,\n",
       " 'surprising': 1,\n",
       " 'obsession': 1,\n",
       " 'return': 1,\n",
       " 'school': 1,\n",
       " 'Canadian': 1,\n",
       " 'glamour': 1,\n",
       " 'responsible': 1,\n",
       " 'content': 1,\n",
       " 'external': 2,\n",
       " 'sites': 1,\n",
       " 'Read': 1,\n",
       " 'approach': 1,\n",
       " 'linking': 1}"
      ]
     },
     "execution_count": 20,
     "metadata": {},
     "output_type": "execute_result"
    }
   ],
   "source": [
    "eng.find_word_frequencies()"
   ]
  },
  {
   "cell_type": "code",
   "execution_count": 13,
   "metadata": {},
   "outputs": [
    {
     "name": "stdout",
     "output_type": "stream",
     "text": [
      "['German Chancellor Olaf Scholz has decided to send Leopard 2 tanks to Ukraine, and allow other countries to do the same, reports in Germany say.', 'Leopard 2s are made in Germany and Berlin needs to approve their export.', 'Germany has been hesitant to send its own - or allow other nations to send theirs - over concerns it could escalate the conflict with Russia.', 'But now Mr Scholz has decided to send the at least a company of Leopard 2 A6 tanks, several German outlets say.', 'A company is usually 14 tanks - the same number of Leopards Poland wants to send, and the same number of Challenger 2 tanks the UK has already committed to Ukraine.', 'The news was broken by Der Spiegel in Germany, citing government sources, before being seemingly confirmed elsewhere.', 'There has been no official statement from the German government yet.', 'Ukraine sees the tanks as vital for breaking through Russian lines and to beat an anticipated Russian offensive this spring.', 'Ukraine President Volodymyr Zelensky believes about 300 Leopard tanks would help it defeat Russia.', 'Allied nations have become frustrated at what they perceive as German reluctance to send the armoured vehicles in recent days.', 'Polish PM Mateusz Morawiecki told the BBC earlier on Tuesday that Germany had a \"special responsibility\" to support Ukraine, having built up \"huge Russian funds\" before the war by buying its gas.', 'What weapons are being supplied to Ukraine?', \"Germany won't block tank exports - foreign minister\", 'Germany yet to commit to sending tanks to Ukraine', 'Germany to send Leopard tanks to Ukraine - reports', 'Top Ukraine officials quit in corruption crackdown', \"Classified documents found at Mike Pence's home\", 'Oscars 2023: The nominations in full', 'How to read the Doomsday Clock', 'Men must stand up for Afghan women - professor', 'Hero who disarmed gunman had never seen a real gun', 'Eight-year-old Indian diamond heiress who became a nun', \"What you need to know about Nigeria's elections\", \"The Englishman who helped plot Morocco's World Cup run\", \"What’s the future of India's sinking Himalayan town?\", 'The bacteria controlling your brain', 'The simple error that 16% of us make', \"Gen Z's latest surprising obsession\", 'A return to old-school Canadian glamour', '© 2023 BBC. The BBC is not responsible for the content of external sites. Read about our approach to external linking.']\n"
     ]
    }
   ],
   "source": [
    "from bs4 import BeautifulSoup\n",
    "import requests\n",
    "\n",
    "url = \"https://www.bbc.com/news/world-europe-64391272\"\n",
    "page = requests.get(url)\n",
    "soup = BeautifulSoup(page.content, \"html.parser\")\n",
    "p_tags = soup.find_all(\"p\")\n",
    "p_texts = [tag.get_text() for tag in p_tags]\n",
    "print(p_texts)"
   ]
  },
  {
   "cell_type": "code",
   "execution_count": null,
   "metadata": {},
   "outputs": [],
   "source": []
  }
 ],
 "metadata": {
  "kernelspec": {
   "display_name": "base",
   "language": "python",
   "name": "python3"
  },
  "language_info": {
   "codemirror_mode": {
    "name": "ipython",
    "version": 3
   },
   "file_extension": ".py",
   "mimetype": "text/x-python",
   "name": "python",
   "nbconvert_exporter": "python",
   "pygments_lexer": "ipython3",
   "version": "3.9.13"
  },
  "orig_nbformat": 4,
  "vscode": {
   "interpreter": {
    "hash": "d6dbe31fb58d2a925cb6cf70124d8310e9312b8d1336a5bee8b6adf692fc3cfd"
   }
  }
 },
 "nbformat": 4,
 "nbformat_minor": 2
}
