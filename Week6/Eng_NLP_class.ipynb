{
 "cells": [
  {
   "cell_type": "code",
   "execution_count": 32,
   "metadata": {},
   "outputs": [],
   "source": [
    "import bs4 as bs\n",
    "import urllib.request\n",
    "import re\n",
    "import nltk\n",
    "import heapq\n",
    "from keybert import KeyBERT"
   ]
  },
  {
   "cell_type": "code",
   "execution_count": 33,
   "metadata": {},
   "outputs": [],
   "source": [
    "class Eng:\n",
    "    def __init__(self,data:list):\n",
    "        self.data_value = data\n",
    "        self.sentence = self.get_sentence()\n",
    "        \n",
    "    def get_sentence(self):\n",
    "        self.sentence_result = self.make_sentence(self.data_value)\n",
    "        return self.sentence_result\n",
    "    def make_sentence(self,list_word):\n",
    "        self.sentence_value = ' '.join(list_word)\n",
    "        return self.sentence_value\n",
    "    def tokenize(self):\n",
    "        self.sentence_list = nltk.sent_tokenize(self.sentence)\n",
    "        return self.sentence_list\n",
    "    def create_formatted_article(self):\n",
    "        # Removing special characters and digits\n",
    "        self.get_sentence()\n",
    "        self.formatted_article_text = re.sub('[^a-zA-Z]', ' ', self.sentence_result )\n",
    "        self.formatted_article_text = re.sub(r'\\s+', ' ', self.formatted_article_text)\n",
    "        return self.formatted_article_text\n",
    "    def find_word_frequencies(self):\n",
    "        self.tokenize()\n",
    "        self.create_formatted_article()\n",
    "        stopwords = nltk.corpus.stopwords.words('english')\n",
    "        self.word_frequencies = {}\n",
    "        for word in nltk.word_tokenize(self.formatted_article_text):\n",
    "            if word not in stopwords:\n",
    "                if word not in self.word_frequencies.keys():\n",
    "                    self.word_frequencies[word] = 1\n",
    "                else:\n",
    "                    self.word_frequencies[word] += 1\n",
    "        return self.word_frequencies\n",
    "    def find_maximum_frequncy(self):\n",
    "        self.find_word_frequencies()\n",
    "        maximum_frequncy = max(self.word_frequencies.values())\n",
    "        for word in self.word_frequencies.keys():\n",
    "            self.word_frequencies[word] = (self.word_frequencies[word]/maximum_frequncy)\n",
    "    def find_sentence_scores(self):\n",
    "        self.sentence_scores = {}\n",
    "        self.tokenize()\n",
    "        self.find_word_frequencies()\n",
    "        for sent in self.sentence_list:\n",
    "            for word in nltk.word_tokenize(sent.lower()):\n",
    "                if word in self.word_frequencies.keys():\n",
    "                    if len(sent.split(' ')) < 30:\n",
    "                        if sent not in self.sentence_scores.keys():\n",
    "                            self.sentence_scores[sent] = self.word_frequencies[word]\n",
    "                        else:\n",
    "                            self.sentence_scores[sent] += self.word_frequencies[word]\n",
    "        return self.sentence_scores\n",
    "    def summary_sentences(self):\n",
    "        self.find_sentence_scores()\n",
    "        self.summary_sentences = heapq.nlargest(5, self.sentence_scores, key=self.sentence_scores.get)\n",
    "        summary = ' '.join(self.summary_sentences)\n",
    "        return self.summary_sentences\n",
    "    def find_keyword(self):\n",
    "        self.get_sentence()\n",
    "        kw_model = KeyBERT()\n",
    "        keywords = kw_model.extract_keywords(self.sentence_result)\n",
    "        return kw_model.extract_keywords(self.sentence_result, keyphrase_ngram_range=(1, 1), stop_words=None)"
   ]
  },
  {
   "cell_type": "code",
   "execution_count": 34,
   "metadata": {},
   "outputs": [],
   "source": [
    "eng = Eng([\"More classified material found at Biden's home\", 'Top secret documents reportedly found in Biden cache', 'Four unanswered questions about the Biden documents', 'How Biden and Trump secret files cases compare', 'Delay in telling public about files may haunt Biden', \"Republicans want to know who visited Biden's homes\", 'The problem with politicians and classified files', 'Biden under investigation', 'How much trouble is the president in over classified documents found at his home?', 'Who is the special counsel in the Biden probe?', 'Special counsel appointed to investigate Biden files', 'Second batch of classified Biden documents found', 'Jill Biden has surgery to remove cancerous skin lesions', \"Biden 'surprised' about classified files discovery\", 'Biden visits US-Mexico border in trip to Texas', 'Western allies to send fighting vehicles to Ukraine', 'What will change with Republicans controlling the House', \"What's actually in the $1.7tn US spending bill?\", \"Zelensky trip shows US doesn't want peace - Russia\", 'Ukraine is alive and kicking, Zelensky tells US'])"
   ]
  },
  {
   "cell_type": "code",
   "execution_count": 35,
   "metadata": {},
   "outputs": [
    {
     "data": {
      "text/plain": [
       "\"More classified material found at Biden's home Top secret documents reportedly found in Biden cache Four unanswered questions about the Biden documents How Biden and Trump secret files cases compare Delay in telling public about files may haunt Biden Republicans want to know who visited Biden's homes The problem with politicians and classified files Biden under investigation How much trouble is the president in over classified documents found at his home? Who is the special counsel in the Biden probe? Special counsel appointed to investigate Biden files Second batch of classified Biden documents found Jill Biden has surgery to remove cancerous skin lesions Biden 'surprised' about classified files discovery Biden visits US-Mexico border in trip to Texas Western allies to send fighting vehicles to Ukraine What will change with Republicans controlling the House What's actually in the $1.7tn US spending bill? Zelensky trip shows US doesn't want peace - Russia Ukraine is alive and kicking, Zelensky tells US\""
      ]
     },
     "execution_count": 35,
     "metadata": {},
     "output_type": "execute_result"
    }
   ],
   "source": [
    "eng.get_sentence()\n"
   ]
  },
  {
   "cell_type": "code",
   "execution_count": 36,
   "metadata": {},
   "outputs": [
    {
     "data": {
      "text/plain": [
       "[\"Zelensky trip shows US doesn't want peace - Russia Ukraine is alive and kicking, Zelensky tells US\",\n",
       " 'Who is the special counsel in the Biden probe?']"
      ]
     },
     "execution_count": 36,
     "metadata": {},
     "output_type": "execute_result"
    }
   ],
   "source": [
    "eng.summary_sentences()"
   ]
  },
  {
   "cell_type": "code",
   "execution_count": 37,
   "metadata": {},
   "outputs": [
    {
     "data": {
      "text/plain": [
       "[('biden', 0.4392),\n",
       " ('documents', 0.3501),\n",
       " ('classified', 0.3172),\n",
       " ('politicians', 0.2588),\n",
       " ('files', 0.2574)]"
      ]
     },
     "execution_count": 37,
     "metadata": {},
     "output_type": "execute_result"
    }
   ],
   "source": [
    "eng.find_keyword()"
   ]
  },
  {
   "cell_type": "code",
   "execution_count": null,
   "metadata": {},
   "outputs": [],
   "source": []
  }
 ],
 "metadata": {
  "kernelspec": {
   "display_name": "base",
   "language": "python",
   "name": "python3"
  },
  "language_info": {
   "codemirror_mode": {
    "name": "ipython",
    "version": 3
   },
   "file_extension": ".py",
   "mimetype": "text/x-python",
   "name": "python",
   "nbconvert_exporter": "python",
   "pygments_lexer": "ipython3",
   "version": "3.9.13"
  },
  "orig_nbformat": 4,
  "vscode": {
   "interpreter": {
    "hash": "d6dbe31fb58d2a925cb6cf70124d8310e9312b8d1336a5bee8b6adf692fc3cfd"
   }
  }
 },
 "nbformat": 4,
 "nbformat_minor": 2
}
