{
 "cells": [
  {
   "cell_type": "code",
   "execution_count": 1,
   "metadata": {},
   "outputs": [
    {
     "name": "stdout",
     "output_type": "stream",
     "text": [
      "['https://www.matichon.co.th/./world-cup-2022/wcnews', 'https://www.matichon.co.th/sport/footballinter/footballinterengland/news_3773511']\n"
     ]
    }
   ],
   "source": [
    "website_dict={'https://www.matichon.co.th/./stock-finance': 6, 'https://www.matichon.co.th/./stock-finance/daily-stock-markets': 7, 'https://www.matichon.co.th/./stock-finance/stock-markets': 7, 'https://www.matichon.co.th/./stock-finance/analysis': 7, 'https://www.matichon.co.th/./world-cup-2022': 6, 'https://www.matichon.co.th/./world-cup-2022/wcnews': 7, 'https://www.matichon.co.th/./world-cup-2022/wcstars': 7, 'https://www.matichon.co.th/./world-cup-2022/wcscoops': 7, 'https://www.matichon.co.th/./world-cup-2022/wctalk': 7, 'https://www.matichon.co.th/./world-cup-2022/wcgallery': 7, 'https://www.matichon.co.th/./local': 6, 'https://www.matichon.co.th/./local/crime': 7, 'https://www.matichon.co.th/./local/quality-life': 7, 'https://www.matichon.co.th/./region': 6, 'https://www.matichon.co.th/./foreign': 6, 'https://www.matichon.co.th/./foreign/indepth': 7, 'https://www.matichon.co.th/./foreign/odd': 7, 'https://www.matichon.co.th/./education': 6, 'https://www.matichon.co.th/./education/religious-cultural': 7, 'https://www.matichon.co.th/./education/%e0%b8%a1%e0%b8%b8%e0%b8%a1%e0%b8%9a%e0%b8%a3%e0%b8%b4%e0%b8%81%e0%b8%b2%e0%b8%a3': 1, 'https://www.matichon.co.th/./lifestyle': 6, 'https://www.matichon.co.th/./lifestyle/horoscope-lifestyle': 7, 'https://www.matichon.co.th/./lifestyle/tech': 7, 'https://www.matichon.co.th/./lifestyle/social-women': 7, 'https://www.matichon.co.th/./lifestyle/health-beauty': 7, 'https://www.matichon.co.th/./lifestyle/food-travel': 7, 'https://www.matichon.co.th/./lifestyle/children-teenagers': 7, 'https://www.matichon.co.th/./lifestyle/fashion': 7, 'https://www.matichon.co.th/sport': 6, 'https://www.matichon.co.th/sport/footballinter/footballinterengland/news_3773511':2}\n",
    "filtered_keys = []\n",
    "for key in website_dict.keys():\n",
    "    if 'news' in key:\n",
    "        filtered_keys.append(key)\n",
    "\n",
    "print(filtered_keys)\n"
   ]
  },
  {
   "cell_type": "code",
   "execution_count": null,
   "metadata": {},
   "outputs": [],
   "source": []
  }
 ],
 "metadata": {
  "kernelspec": {
   "display_name": "base",
   "language": "python",
   "name": "python3"
  },
  "language_info": {
   "codemirror_mode": {
    "name": "ipython",
    "version": 3
   },
   "file_extension": ".py",
   "mimetype": "text/x-python",
   "name": "python",
   "nbconvert_exporter": "python",
   "pygments_lexer": "ipython3",
   "version": "3.8.8 (default, Apr 13 2021, 12:59:45) \n[Clang 10.0.0 ]"
  },
  "orig_nbformat": 4,
  "vscode": {
   "interpreter": {
    "hash": "f77b640396ee907328d3f2b1dbf7d1073670d4b49ce003bfc4c9fbcbcb50868c"
   }
  }
 },
 "nbformat": 4,
 "nbformat_minor": 2
}
