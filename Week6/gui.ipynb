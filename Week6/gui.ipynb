{
 "cells": [
  {
   "cell_type": "code",
   "execution_count": 1,
   "metadata": {},
   "outputs": [
    {
     "name": "stderr",
     "output_type": "stream",
     "text": [
      "Exception in Tkinter callback\n",
      "Traceback (most recent call last):\n",
      "  File \"/Users/narin/opt/anaconda3/lib/python3.8/tkinter/__init__.py\", line 1892, in __call__\n",
      "    return self.func(*args)\n",
      "  File \"<ipython-input-1-85cc868d1fc7>\", line 33, in <lambda>\n",
      "    submit_button = ttk.Button(input_frame, text='Submit', command = lambda: submit_query())\n",
      "  File \"<ipython-input-1-85cc868d1fc7>\", line 47, in submit_query\n",
      "    cursor.execute(query, ('%'+user_input_value+'%',))\n",
      "sqlite3.OperationalError: database is locked\n",
      "Exception in Tkinter callback\n",
      "Traceback (most recent call last):\n",
      "  File \"/Users/narin/opt/anaconda3/lib/python3.8/tkinter/__init__.py\", line 1892, in __call__\n",
      "    return self.func(*args)\n",
      "  File \"<ipython-input-1-85cc868d1fc7>\", line 33, in <lambda>\n",
      "    submit_button = ttk.Button(input_frame, text='Submit', command = lambda: submit_query())\n",
      "  File \"<ipython-input-1-85cc868d1fc7>\", line 47, in submit_query\n",
      "    cursor.execute(query, ('%'+user_input_value+'%',))\n",
      "sqlite3.OperationalError: database is locked\n"
     ]
    }
   ],
   "source": [
    "import sqlite3\n",
    "from tkinter import *\n",
    "from tkinter import ttk\n",
    "\n",
    "# Connect to the .db file\n",
    "conn = sqlite3.connect('scraped_data.db')\n",
    "cursor = conn.cursor()\n",
    "\n",
    "# Create a Tkinter window\n",
    "root = Tk()\n",
    "root.title(\"Search\")\n",
    "\n",
    "# Create a style for the widgets\n",
    "style = ttk.Style()\n",
    "style.configure('.', font=('Arial', 18))\n",
    "\n",
    "# Create a label for the title\n",
    "title_label = ttk.Label(root, text=\"Search data\", style='Title.TLabel')\n",
    "title_label.pack()\n",
    "\n",
    "# Create a Frame for the input\n",
    "input_frame = ttk.Frame(root)\n",
    "input_frame.pack()\n",
    "\n",
    "# Create a StringVar to store the user input\n",
    "user_input = StringVar()\n",
    "\n",
    "# Create an Entry widget for the user to input text\n",
    "entry = ttk.Entry(input_frame, textvariable=user_input)\n",
    "entry.grid(row=0, column=0)\n",
    "\n",
    "# Create a button to submit the input\n",
    "submit_button = ttk.Button(input_frame, text='Submit', command = lambda: submit_query())\n",
    "submit_button.grid(row=0, column=1)\n",
    "\n",
    "# Create a Listbox widget to display the results\n",
    "listbox = Listbox(root, height=40, width=90)\n",
    "listbox.pack()\n",
    "\n",
    "def submit_query():\n",
    "    # Get user input\n",
    "    user_input_value = user_input.get()\n",
    "    # Clear the Listbox\n",
    "    listbox.delete(0, END)\n",
    "    # Execute the SQL query with user input\n",
    "    query = \"SELECT DISTINCT website,title,ref FROM DATA WHERE TITLE like ? order by ref desc\"\n",
    "    cursor.execute(query, ('%'+user_input_value+'%',))\n",
    "    # Fetch the results\n",
    "    results = cursor.fetchall()\n",
    "    # Iterate through the rows of the results\n",
    "    for row in results:\n",
    "        # Iterate through the columns of the current row\n",
    "        for column in row:\n",
    "            # Insert the column value into the Listbox\n",
    "            listbox.insert(END, column)\n",
    "        listbox.insert(END, '\\n')\n",
    "\n",
    "root.mainloop()\n"
   ]
  },
  {
   "cell_type": "code",
   "execution_count": null,
   "metadata": {},
   "outputs": [],
   "source": []
  }
 ],
 "metadata": {
  "kernelspec": {
   "display_name": "base",
   "language": "python",
   "name": "python3"
  },
  "language_info": {
   "codemirror_mode": {
    "name": "ipython",
    "version": 3
   },
   "file_extension": ".py",
   "mimetype": "text/x-python",
   "name": "python",
   "nbconvert_exporter": "python",
   "pygments_lexer": "ipython3",
   "version": "3.8.8 (default, Apr 13 2021, 12:59:45) \n[Clang 10.0.0 ]"
  },
  "orig_nbformat": 4,
  "vscode": {
   "interpreter": {
    "hash": "f77b640396ee907328d3f2b1dbf7d1073670d4b49ce003bfc4c9fbcbcb50868c"
   }
  }
 },
 "nbformat": 4,
 "nbformat_minor": 2
}
