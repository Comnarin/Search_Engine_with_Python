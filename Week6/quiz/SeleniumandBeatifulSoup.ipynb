{
 "cells": [
  {
   "cell_type": "code",
   "execution_count": 7,
   "metadata": {},
   "outputs": [],
   "source": [
    "from selenium import webdriver\n",
    "from bs4 import BeautifulSoup\n",
    "import time\n",
    "\n",
    "driver = webdriver.Chrome()\n",
    "driver.get(\"https://www.thairath.co.th/news/local/bangkok/2600753\")\n",
    "\n",
    "# Scroll down to the bottom of the page\n",
    "driver.execute_script(\"window.scrollTo(0, document.body.scrollHeight);\")\n",
    "\n",
    "# Wait for the page to load\n",
    "time.sleep(5)\n",
    "\n",
    "# Get the page source\n",
    "html = driver.page_source\n",
    "\n",
    "# Create a BeautifulSoup object\n",
    "soup = BeautifulSoup(html, 'html.parser')\n",
    "\n",
    "# Find and extract the information you want\n",
    "list_word =[]\n",
    "for i in soup.find_all('p'):\n",
    "  list_word.append(i.text)\n",
    "\n",
    "# Close the browser\n",
    "driver.quit()"
   ]
  },
  {
   "cell_type": "code",
   "execution_count": 8,
   "metadata": {},
   "outputs": [
    {
     "name": "stdout",
     "output_type": "stream",
     "text": [
      "['อัปเดตค่าฝุ่น PM 2.5 ในพื้นที่กรุงเทพฯ - ปริมณฑล ช่วงเช้าวันนี้มีแนวโน้มลดลง\\xa0พบว่าอยู่ในเกณฑ์มาตรฐานทุกพื้นที่ที่มีการตรวจวัด', 'วันที่ 12 มกราคม 2566 ศูนย์ข้อมูลคุณภาพอากาศกรุงเทพมหานคร รายงานผลการตรวจวัด PM 2.5 ณ เวลา 07.00 น. ตรวจวัดค่าฝุ่นละออง PM 2.5 ได้ 12-33 ไมโครกรัมต่อลูกบาศก์เมตร (มคก./ลบ.ม.) โดยมีแนวโน้มลดลง เมื่อเทียบกับเมื่อวานในช่วงเวลาเดียวกัน และพบว่าอยู่ในเกณฑ์มาตรฐานทุกพื้นที่ที่มีการตรวจวัด PM 2.5 ค่ามาตรฐาน เฉลี่ย 24 ชม. ไม่เกิน 50 มคก./ลบ.ม.', 'ตั้งแต่ช่วงวันที่ 10 - 16 มกราคม 2566 คาดว่าอัตราการระบายอ่อน ยกเว้นวันที่ 15 ที่ไม่ดี เนื่องจากปรากฏสภาวะอินเวอร์ชันใกล้ผิวพื้น (อากาศปิด) หลังจากนั้นอากาศจะค่อนข้างเปิด ส่งผลให้การสะสมของฝุ่นละออง PM 2.5 ทรงตัว', 'โดยวันนี้กรุงเทพมหานครและปริมณฑลมีฝนร้อยละ 30 ของพื้นที่ ช่วงวันที่ 12-15 มกราคม 2566 จะมีแนวโน้มสถานการณ์ที่ดีในพื้นที่กรุงเทพมหานครและปริมณฑล เนื่องจากอากาศที่เปิดมากขึ้น ประกอบกับลมตะวันออกเฉียงเหนือที่มีกำลังแรงเข้าช่วย และช่วงวันที่ 16-17 มกราคม 2566 พื้นที่กรุงเทพและปริมณฑลควรเฝ้าระวังการสะสมของฝุ่นละออง เนื่องจากสภาพอากาศที่นิ่ง และปิด โดยพื้นที่ที่ควรเฝ้าระวัง ได้แก่พื้นที่กรุงเทพกลาง กรุงธนเหนือ และกรุงธนใต้', 'จากการตรวจสอบข้อมูลจุดความร้อน (hotspot) ผ่านดาวเทียม จากหน่วยงาน NASA ในวันนี้ ไม่พบค่าความร้อนสูงผิดปกติจากค่าความร้อนบนผิวโลกในบริเวณพื้นที่กรุงเทพมหานคร.', '', 'SPONSORED', 'SPONSORED', 'SPONSORED', 'SPONSORED', 'เราใช้คุ้กกี้\\xa0', 'เพื่อให้ทุกคนได้ประสบการณ์การใช้งานที่ดียิ่งขึ้น ', 'อ่านเพิ่มเติมคลิก (Privacy Policy) และ (Cookie Policy)']\n"
     ]
    }
   ],
   "source": [
    "print(list_word)"
   ]
  },
  {
   "cell_type": "code",
   "execution_count": 8,
   "metadata": {},
   "outputs": [
    {
     "name": "stdout",
     "output_type": "stream",
     "text": [
      "The website is dynamic.\n"
     ]
    }
   ],
   "source": [
    "import requests\n",
    "\n",
    "url = \"https://www.bbc.com\"\n",
    "response = requests.get(url)\n",
    "content = response.content\n",
    "\n",
    "if \"html\" in content[:100].decode(\"utf-8\").lower():\n",
    "    print(\"The website is dynamic.\")\n",
    "else:\n",
    "    print(\"The website is static.\")"
   ]
  },
  {
   "cell_type": "code",
   "execution_count": 46,
   "metadata": {},
   "outputs": [],
   "source": [
    "from selenium import webdriver\n",
    "import time\n",
    "option = webdriver.ChromeOptions()\n",
    "#option.add_argument(\"-incognito\")\n",
    "option.add_experimental_option(\"excludeSwitches\", ['enable-automation']);\n",
    "#option.add_argument(\"--headless\") Use this and the following option to run Headless\n",
    "#option.add_argument(\"disable-gpu\")\n",
    "#browser = webdriver.Chrome(executable_path='/home/srujan/chromedriver', options=option)\n",
    "browser = webdriver.Chrome()\n",
    "browser.get(\"https://docs.google.com/forms/d/e/1FAIpQLScA1SJqTZ_hMccIZQkalVsfJZWcWXMpH_eLNcyeqEWrKpEUqA/viewform?usp=sf_link\")\n",
    "username = \"s6401012620021@email.kmutnb.ac.th\"\n",
    "password = \"0815335658Moss\"\n",
    "\n",
    "time.sleep(5)\n",
    "login = browser.find_element(\"xpath\", '/html/body/div[2]/div/div[2]/div[3]/div[2]')\n",
    "login.click()\n",
    "\n",
    "time.sleep(5)\n",
    "username_input = browser.find_element(\"xpath\", '//*[@id=\"identifierId\"]')\n",
    "username_nextbutton = browser.find_element(\"xpath\", '//*[@id=\"identifierNext\"]/div/button')\n",
    "username_input.send_keys(username)\n",
    "username_nextbutton.click()\n",
    "time.sleep(5)\n",
    "\n",
    "password_input = browser.find_element(\"xpath\", '//*[@id=\"password\"]/div[1]/div/div[1]/input')\n",
    "password_nextbutton = browser.find_element(\"xpath\", '//*[@id=\"passwordNext\"]/div/button')\n",
    "password_input.send_keys(password)\n",
    "password_nextbutton.click()\n",
    "time.sleep(5)\n",
    "# Use the following snippets to get elements by their class names\n",
    "#textboxes1 = browser.find_element(\"xpath\", '//*[@id=\"mG61Hd\"]/div[2]/div/div[2]/div[1]/div/div/div[2]/div/div[1]/div/div[1]/input')\n",
    "#textboxes2 = browser.find_element(\"xpath\", '//*[@id=\"mG61Hd\"]/div[2]/div/div[2]/div[2]/div/div/div[2]/div/div[1]/div[2]/textarea')\n",
    "#radiobuttons = browser.find_elements_by_class_name(\"docssharedWizToggleLabeledLabelWrapper\")\n",
    "#checkboxes = browser.find_elements_by_class_name(\"quantumWizTogglePapercheckboxInnerBox\")\n",
    "#submitbutton = browser.find_element(\"xpath\", '//*[@id=\"mG61Hd\"]/div[2]/div/div[3]/div[1]/div[1]/div')\n",
    "\n",
    "# Use the following snippets to get elements by their XPath\n",
    "#otherboxes = browser.find_element_by_xpath(\"<Paste the XPath here>\")\n",
    "\n",
    "\n",
    "\n",
    "\n",
    "#textboxes1.send_keys(\"Hello World\")\n",
    "#textboxes2.send_keys(\"mossZmossZ\")\n",
    "\n",
    "#radiobuttons[2].click()\n",
    "\n",
    "#checkboxes[1].click()\n",
    "#checkboxes[3].click()\n",
    "\n",
    "#submitbutton.click()\n",
    "\n",
    "#browser.close()"
   ]
  },
  {
   "cell_type": "code",
   "execution_count": null,
   "metadata": {},
   "outputs": [],
   "source": []
  },
  {
   "cell_type": "code",
   "execution_count": null,
   "metadata": {},
   "outputs": [],
   "source": []
  }
 ],
 "metadata": {
  "kernelspec": {
   "display_name": "base",
   "language": "python",
   "name": "python3"
  },
  "language_info": {
   "codemirror_mode": {
    "name": "ipython",
    "version": 3
   },
   "file_extension": ".py",
   "mimetype": "text/x-python",
   "name": "python",
   "nbconvert_exporter": "python",
   "pygments_lexer": "ipython3",
   "version": "3.9.13"
  },
  "orig_nbformat": 4,
  "vscode": {
   "interpreter": {
    "hash": "d6dbe31fb58d2a925cb6cf70124d8310e9312b8d1336a5bee8b6adf692fc3cfd"
   }
  }
 },
 "nbformat": 4,
 "nbformat_minor": 2
}
