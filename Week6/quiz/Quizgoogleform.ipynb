{
 "cells": [
  {
   "cell_type": "code",
   "execution_count": 80,
   "metadata": {},
   "outputs": [],
   "source": [
    "from selenium import webdriver\n",
    "import undetected_chromedriver as uc\n",
    "import time\n",
    "t = time.localtime()\n",
    "#option = webdriver.Safari()\n",
    "#option.add_argument(\"-incognito\")\n",
    "#option.add_experimental_option(\"excludeSwitches\", ['enable-automation'])\n",
    "#option.add_argument(\"--headless\") Use this and the following option to run Headless\n",
    "#option.add_argument(\"disable-gpu\")\n",
    "#browser = webdriver.Chrome(executable_path='/home/srujan/chromedriver', options=option)\n",
    "browser = uc.Chrome()\n",
    "browser.get(\"https://docs.google.com/forms/d/e/1FAIpQLScA1SJqTZ_hMccIZQkalVsfJZWcWXMpH_eLNcyeqEWrKpEUqA/viewform?usp=sf_link\")\n",
    "username = \"email\"\n",
    "password = \"password\"\n",
    "\n",
    "time.sleep(1)\n",
    "login = browser.find_element(\"xpath\", '/html/body/div[2]/div/div[2]/div[3]/div[2]')\n",
    "login.click()\n",
    "\n",
    "time.sleep(1)\n",
    "username_input = browser.find_element(\"xpath\", '//*[@id=\"identifierId\"]')\n",
    "username_nextbutton = browser.find_element(\"xpath\", '//*[@id=\"identifierNext\"]/div/button')\n",
    "username_input.send_keys(username)\n",
    "username_nextbutton.click()\n",
    "time.sleep(5)\n",
    "\n",
    "password_input = browser.find_element(\"xpath\", '//*[@id=\"password\"]/div[1]/div/div[1]/input')\n",
    "password_nextbutton = browser.find_element(\"xpath\", '//*[@id=\"passwordNext\"]/div/button')\n",
    "password_input.send_keys(password)\n",
    "password_nextbutton.click()\n",
    "time.sleep(10)\n",
    "\n",
    "# Use the following snippets to get elements by their class names\n",
    "name = browser.find_element(\"xpath\", '//*[@id=\"mG61Hd\"]/div[2]/div/div[2]/div[1]/div/div/div[2]/div/div[1]/div/div[1]/input')\n",
    "name_input = name.send_keys(\"Narin\")\n",
    "sirname = browser.find_element(\"xpath\", '//*[@id=\"mG61Hd\"]/div[2]/div/div[2]/div[2]/div/div/div[2]/div/div[1]/div/div[1]/input')\n",
    "sirname = sirname.send_keys(\"Sirinapuk\")\n",
    "\n",
    "age = browser.find_element(\"xpath\", '//*[@id=\"i26\"]/div[3]/div')\n",
    "age_input = age.click()\n",
    "\n",
    "rating = browser.find_element(\"xpath\", '//*[@id=\"mG61Hd\"]/div[2]/div/div[2]/div[5]/div/div/div[2]/div[1]/span/div/label[5]/div[2]/div/div/div[3]/div')\n",
    "rating_input = rating.click()\n",
    "\n",
    "thai_food = browser.find_element(\"xpath\", '//*[@id=\"i47\"]/div[2]')\n",
    "thai_food.click()\n",
    "\n",
    "date = browser.find_element(\"xpath\", '//*[@id=\"mG61Hd\"]/div[2]/div/div[2]/div[3]/div/div/div[2]/div/div/div[2]/div[1]/div/div[1]/input')\n",
    "date.send_keys('26/09/2001')\n",
    "\n",
    "current_time = time.strftime(\"%H:%M\", t)\n",
    "hours,minute = current_time.split(':')\n",
    "hour_input = browser.find_element(\"xpath\", '//*[@id=\"mG61Hd\"]/div[2]/div/div[2]/div[4]/div/div/div[2]/div/div[1]/div[2]/div[1]/div/div[1]/input')\n",
    "hour_input.send_keys(hours)\n",
    "minute_input = browser.find_element(\"xpath\", '//*[@id=\"mG61Hd\"]/div[2]/div/div[2]/div[4]/div/div/div[2]/div/div[3]/div/div[1]/div/div[1]/input')\n",
    "minute_input.send_keys(minute)\n",
    "\n",
    "choose = browser.find_element(\"xpath\", '//*[@id=\"mG61Hd\"]/div[2]/div/div[2]/div[7]/div/div/div[2]/div/div[1]/div[1]/div[1]/span')\n",
    "choose_click =choose.click()\n",
    "time.sleep(1)\n",
    "male = browser.find_element(\"xpath\", '//*[@id=\"mG61Hd\"]/div[2]/div/div[2]/div[7]/div/div/div[2]/div/div[2]/div[3]/span')\n",
    "#browser.execute_script(\"arguments[0].click();\", male)\n",
    "#male = browser.find_element(\"xpath\", '//*[@id=\"mG61Hd\"]/div[2]/div/div[2]/div[7]/div/div/div[2]/div/div[1]/div[1]/div[3]/span')\n",
    "browser.execute_script(\"arguments[0].click();\", male)\n",
    "#male.click()\n",
    "time.sleep(5)\n",
    "submitbutton = browser.find_element(\"xpath\", '//*[@id=\"mG61Hd\"]/div[2]/div/div[3]/div[1]/div[1]/div/span/span')\n",
    "submitbutton.click()\n",
    "time.sleep(5)\n",
    "browser.close()\n"
   ]
  },
  {
   "cell_type": "code",
   "execution_count": 64,
   "metadata": {},
   "outputs": [
    {
     "name": "stdout",
     "output_type": "stream",
     "text": [
      "01:13:AM\n"
     ]
    }
   ],
   "source": [
    "import time\n",
    "\n",
    "t = time.localtime()\n",
    "current_time = time.strftime(\"%H:%M:%p\", t)\n",
    "#hours,minute = current_time.split(':')\n",
    "print(current_time)"
   ]
  },
  {
   "cell_type": "code",
   "execution_count": null,
   "metadata": {},
   "outputs": [],
   "source": []
  }
 ],
 "metadata": {
  "kernelspec": {
   "display_name": "base",
   "language": "python",
   "name": "python3"
  },
  "language_info": {
   "codemirror_mode": {
    "name": "ipython",
    "version": 3
   },
   "file_extension": ".py",
   "mimetype": "text/x-python",
   "name": "python",
   "nbconvert_exporter": "python",
   "pygments_lexer": "ipython3",
   "version": "3.8.8 (default, Apr 13 2021, 12:59:45) \n[Clang 10.0.0 ]"
  },
  "orig_nbformat": 4,
  "vscode": {
   "interpreter": {
    "hash": "f77b640396ee907328d3f2b1dbf7d1073670d4b49ce003bfc4c9fbcbcb50868c"
   }
  }
 },
 "nbformat": 4,
 "nbformat_minor": 2
}
