{
 "cells": [
  {
   "cell_type": "code",
   "execution_count": 1,
   "metadata": {},
   "outputs": [],
   "source": [
    "from selenium import webdriver\n",
    "import time"
   ]
  },
  {
   "cell_type": "code",
   "execution_count": 16,
   "metadata": {},
   "outputs": [],
   "source": [
    "class googleform:\n",
    "    def __init__(self,url:str,username:str,password:str,name:str,surname:str,age:int,rate:int,food:int,date:str):\n",
    "        self.t = time.localtime()\n",
    "        self.username = username\n",
    "        self.password = password\n",
    "        self.name = name\n",
    "        self.surname = surname\n",
    "        self.date = date\n",
    "        self.age = age\n",
    "        self.rate = rate\n",
    "        self.food = food\n",
    "        self.browser = webdriver.Chrome()\n",
    "        self.browser.get(url)\n",
    "        self.get_login()\n",
    "        self.input_login_username()\n",
    "        self.input_login_password()\n",
    "        self.input_name_surname()\n",
    "        self.input_age()\n",
    "        self.input_rating()\n",
    "        self.input_food()\n",
    "        self.input_date()\n",
    "        self.input_time()\n",
    "        self.input_choose()\n",
    "        self.input_male()\n",
    "        self.input_submit()\n",
    "    def get_login(self):\n",
    "        time.sleep(1)\n",
    "        login = self.browser.find_element(\"xpath\", '/html/body/div[2]/div/div[2]/div[3]/div[2]')\n",
    "        login.click()\n",
    "    def input_login_username(self):\n",
    "        time.sleep(1)\n",
    "        value_username_input = self.browser.find_element(\"xpath\", '//*[@id=\"identifierId\"]')\n",
    "        value_username_nextbutton = self.browser.find_element(\"xpath\", '//*[@id=\"identifierNext\"]/div/button')\n",
    "        value_username_input.send_keys(self.username)\n",
    "        value_username_nextbutton.click()\n",
    "        time.sleep(5)\n",
    "    def input_login_password(self):\n",
    "        value_password_input = self.browser.find_element(\"xpath\", '//*[@id=\"password\"]/div[1]/div/div[1]/input')\n",
    "        value_password_nextbutton = self.browser.find_element(\"xpath\", '//*[@id=\"passwordNext\"]/div/button')\n",
    "        value_password_input.send_keys(self.password)\n",
    "        value_password_nextbutton.click()\n",
    "        time.sleep(10)\n",
    "    def input_name_surname(self):\n",
    "        value_name = self.browser.find_element(\"xpath\", '//*[@id=\"mG61Hd\"]/div[2]/div/div[2]/div[1]/div/div/div[2]/div/div[1]/div/div[1]/input')\n",
    "        value_name_input = value_name.send_keys(self.name)\n",
    "        surname = self.browser.find_element(\"xpath\", '//*[@id=\"mG61Hd\"]/div[2]/div/div[2]/div[2]/div/div/div[2]/div/div[1]/div/div[1]/input')\n",
    "        surname = surname.send_keys(self.surname)\n",
    "    def input_age(self):\n",
    "        if self.age == 1:\n",
    "            value_age = self.browser.find_element(\"xpath\", '//*[@id=\"i26\"]/div[3]/div')\n",
    "        elif self.age == 2:\n",
    "            value_age = self.browser.find_element(\"xpath\", '//*[@id=\"i29\"]/div[3]/div')\n",
    "        elif self.age == 3:\n",
    "            value_age = self.browser.find_element(\"xpath\", '//*[@id=\"i32\"]/div[3]/div')\n",
    "        elif self.age == 4:\n",
    "            value_age = self.browser.find_element(\"xpath\", '//*[@id=\"i35\"]/div[3]/div')\n",
    "        age_input = value_age.click()\n",
    "    def input_rating(self):\n",
    "        if self.rate == 1:\n",
    "            rating = self.browser.find_element(\"xpath\", '//*[@id=\"mG61Hd\"]/div[2]/div/div[2]/div[5]/div/div/div[2]/div[1]/span/div/label[1]/div[2]/div/div/div[3]/div')\n",
    "        if self.rate == 2:\n",
    "            rating = self.browser.find_element(\"xpath\", '//*[@id=\"mG61Hd\"]/div[2]/div/div[2]/div[5]/div/div/div[2]/div[1]/span/div/label[2]/div[2]/div/div/div[3]/div')\n",
    "        if self.rate == 3:\n",
    "            rating = self.browser.find_element(\"xpath\", '//*[@id=\"mG61Hd\"]/div[2]/div/div[2]/div[5]/div/div/div[2]/div[1]/span/div/label[3]/div[2]/div/div/div[3]/div')\n",
    "        if self.rate == 4:\n",
    "            rating = self.browser.find_element(\"xpath\", '//*[@id=\"mG61Hd\"]/div[2]/div/div[2]/div[5]/div/div/div[2]/div[1]/span/div/label[4]/div[2]/div/div/div[3]/div')\n",
    "        if self.rate == 5:\n",
    "            rating = self.browser.find_element(\"xpath\", '//*[@id=\"mG61Hd\"]/div[2]/div/div[2]/div[5]/div/div/div[2]/div[1]/span/div/label[5]/div[2]/div/div/div[3]/div')\n",
    "        rating_input = rating.click()\n",
    "    def input_food(self):\n",
    "        if self.food == 'Thai Food':\n",
    "            value_food = self.browser.find_element(\"xpath\", '//*[@id=\"i47\"]/div[2]')\n",
    "        if self.food == 'Japanese Food':\n",
    "            value_food = self.browser.find_element(\"xpath\", '//*[@id=\"i50\"]/div[2]')\n",
    "        if self.food == 'Chinese Food':\n",
    "            value_food = self.browser.find_element(\"xpath\", '//*[@id=\"i53\"]/div[3]')\n",
    "        value_food.click()\n",
    "    def input_date(self):\n",
    "        input_date = self.browser.find_element(\"xpath\", '//*[@id=\"mG61Hd\"]/div[2]/div/div[2]/div[3]/div/div/div[2]/div/div/div[2]/div[1]/div/div[1]/input')\n",
    "        input_date.send_keys(self.date)\n",
    "    def input_time(self):\n",
    "        current_time = time.strftime(\"%H:%M\", self.t)\n",
    "        hours,minute = current_time.split(':')\n",
    "        hour_input = self.browser.find_element(\"xpath\", '//*[@id=\"mG61Hd\"]/div[2]/div/div[2]/div[4]/div/div/div[2]/div/div[1]/div[2]/div[1]/div/div[1]/input')\n",
    "        hour_input.send_keys(hours)\n",
    "        minute_input = self.browser.find_element(\"xpath\", '//*[@id=\"mG61Hd\"]/div[2]/div/div[2]/div[4]/div/div/div[2]/div/div[3]/div/div[1]/div/div[1]/input')\n",
    "        minute_input.send_keys(minute)\n",
    "    def input_choose(self):\n",
    "        choose = self.browser.find_element(\"xpath\", '//*[@id=\"mG61Hd\"]/div[2]/div/div[2]/div[7]/div/div/div[2]/div/div[1]/div[1]/div[1]/span')\n",
    "        choose_click = choose.click()\n",
    "        time.sleep(1)\n",
    "    def input_male(self):\n",
    "        male = self.browser.find_element(\"xpath\", '//*[@id=\"mG61Hd\"]/div[2]/div/div[2]/div[7]/div/div/div[2]/div/div[2]/div[3]/span')\n",
    "        self.browser.execute_script(\"arguments[0].click();\",male)\n",
    "        female = self.browser.find_element(\"xpath\", '//*[@id=\"mG61Hd\"]/div[2]/div/div[2]/div[7]/div/div/div[2]/div/div[2]/div[4]/span')\n",
    "        self.browser.execute_script(\"arguments[0].click();\", female)\n",
    "        undefined = self.browser.find_element(\"xpath\", '//*[@id=\"mG61Hd\"]/div[2]/div/div[2]/div[7]/div/div/div[2]/div/div[2]/div[5]/span')\n",
    "        self.browser.execute_script(\"arguments[0].click();\",undefined)\n",
    "        other = self.browser.find_element(\"xpath\", '//*[@id=\"mG61Hd\"]/div[2]/div/div[2]/div[7]/div/div/div[2]/div/div[2]/div[6]/span')\n",
    "        self.browser.execute_script(\"arguments[0].click();\",other)\n",
    "    def input_submit(self):\n",
    "        time.sleep(5)\n",
    "        submitbutton = self.browser.find_element(\"xpath\", '//*[@id=\"mG61Hd\"]/div[2]/div/div[3]/div[1]/div[1]/div/span/span')\n",
    "        submitbutton.click()\n",
    "        time.sleep(5)\n",
    "        self.browser.close()\n",
    "    "
   ]
  },
  {
   "cell_type": "code",
   "execution_count": 17,
   "metadata": {},
   "outputs": [
    {
     "data": {
      "text/plain": [
       "<__main__.googleform at 0x10e0590c8e0>"
      ]
     },
     "execution_count": 17,
     "metadata": {},
     "output_type": "execute_result"
    }
   ],
   "source": [
    "#self,url:str,username:str,password:str,name:str,surname:str,age:int,rate:int,food:int,date:str):\n",
    "googleform(\"https://forms.gle/PSEQY5ST8SpVzY2G7\",\"ใส่ email\",\"ใส่ password\",\"mossZ\",\"Narischat\",2,3,\"Thai Food\",\"01/04/2003\")"
   ]
  },
  {
   "cell_type": "code",
   "execution_count": null,
   "metadata": {},
   "outputs": [],
   "source": []
  },
  {
   "cell_type": "code",
   "execution_count": null,
   "metadata": {},
   "outputs": [],
   "source": []
  }
 ],
 "metadata": {
  "kernelspec": {
   "display_name": "base",
   "language": "python",
   "name": "python3"
  },
  "language_info": {
   "codemirror_mode": {
    "name": "ipython",
    "version": 3
   },
   "file_extension": ".py",
   "mimetype": "text/x-python",
   "name": "python",
   "nbconvert_exporter": "python",
   "pygments_lexer": "ipython3",
   "version": "3.9.13"
  },
  "orig_nbformat": 4,
  "vscode": {
   "interpreter": {
    "hash": "d6dbe31fb58d2a925cb6cf70124d8310e9312b8d1336a5bee8b6adf692fc3cfd"
   }
  }
 },
 "nbformat": 4,
 "nbformat_minor": 2
}
