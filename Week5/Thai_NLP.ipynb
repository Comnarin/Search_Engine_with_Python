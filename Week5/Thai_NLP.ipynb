{
 "cells": [
  {
   "cell_type": "code",
   "execution_count": 4,
   "metadata": {},
   "outputs": [],
   "source": [
    "import requests\n",
    "from bs4 import BeautifulSoup as bs\n",
    "import re\n",
    "import unicodedata\n",
    "import pythainlp.util\n",
    "from pythainlp.tokenize import word_tokenize\n",
    "from pythainlp.util import find_keyword\n",
    "from pythainlp.util import rank\n",
    "#from pythainlp.summarize import extract_keywords\n",
    "from pythainlp.summarize import summarize"
   ]
  },
  {
   "cell_type": "code",
   "execution_count": 5,
   "metadata": {},
   "outputs": [],
   "source": [
    "class Thai:\n",
    "    def __init__(self,data:list):\n",
    "        self.data_value = data\n",
    "        self.sentence = self.get_sentence()\n",
    "        self.keyword = self.get_keyword()\n",
    "        self.summarize = self.get_summarize()\n",
    "    def make_sentence(self,list_word):\n",
    "        self.sentence_value = ''\n",
    "        for i in list_word:\n",
    "            for i in list_word:\n",
    "                if pythainlp.util.countthai(i)<30:\n",
    "                    list_word.remove(i)\n",
    "        self.sentence_value = ' '.join(list_word)\n",
    "        return self.sentence_value\n",
    "    def get_sentence(self):\n",
    "        self.sentence_result = self.make_sentence(self.data_value)\n",
    "        return self.sentence_result\n",
    "    def get_keyword(self):\n",
    "        self.keyword_result = {}\n",
    "        self.keyword_value = word_tokenize(self.sentence, engine=\"newmm\")\n",
    "        self.keyword_dict = find_keyword(self.keyword_value)\n",
    "        # Iterate over the keys in the dictionary\n",
    "        for key in self.keyword_dict:\n",
    "        # Check if the key is text (i.e., not a space or quotation mark)\n",
    "            if key.isalpha():\n",
    "            # If the key is text, add it to the new dictionary\n",
    "                self.keyword_result[key] = self.keyword_dict[key]\n",
    "        return self.keyword_result\n",
    "    def get_summarize(self):\n",
    "        self.summarize_result =[]\n",
    "        self.summarize_result = summarize(self.sentence,n=10)\n",
    "        return self.summarize_result\n"
   ]
  },
  {
   "cell_type": "code",
   "execution_count": 4,
   "metadata": {},
   "outputs": [],
   "source": [
    "data_loadout = ['การทำเกษตรกรรมในปัจจุบันต้องยอมรับว่า “มีการนำสารเคมี และยากำจัดศัตรูพืช” เข้ามาใช้ประโยชน์อย่างแพร่หลาย “เพื่อช่วยเพิ่มปริมาณผลผลิตและทางกายภาพที่สวยงาม” ให้สามารถจำหน่ายแข่งขันในท้องตลาดได้ ทำให้มีการนำเข้าสารเคมีกลุ่มนี้ปริมาณสูงขึ้นอย่างต่อเนื่องทุกปี', 'กลายเป็นว่า “สารเคมีเหล่านี้ตกค้างในสิ่งแวดล้อมและผลผลิต” ส่งผลกระทบเป็นอันตรายต่อสุขภาพคนไทยจากการรับประทานอาหารปนเปื้อนเข้าสู่ร่างกาย ทำให้ในช่วงที่ผ่านมามีการเรียกร้องให้ยกเลิกการใช้สารพาราควอต ไกลโฟเซต และคลอร์ไพริฟอส เพื่อให้เกิดความปลอดภัยในการบริโภคผลิตผลทางการเกษตรนั้น', 'แล้วไม่นานมานี้ Thai Climate Justice for All ร่วมกับสมัชชาองค์กรเอกชนด้านการคุ้มครองสิ่งแวดล้อมและอนุรักษ์ทรัพยากร และศูนย์มานุษยวิทยาสิรินธร (องค์การมหาชน) จัดเวที Ted Talk Climate Change สิ่งแวดล้อมประจำปี 2565 จากมุมมองนักเคลื่อนไหวภาคประชาสังคม และนักวิชาการทำงานกับประชาชนแต่ละด้าน']\n",
    "Web_thai = Thai(data_loadout)"
   ]
  },
  {
   "cell_type": "code",
   "execution_count": 40,
   "metadata": {},
   "outputs": [
    {
     "data": {
      "text/plain": [
       "'ณัฐวีร์ นริศชาติ นริทร์ ศิริณภัค'"
      ]
     },
     "execution_count": 40,
     "metadata": {},
     "output_type": "execute_result"
    }
   ],
   "source": [
    "\n",
    "Web_thai.sentence"
   ]
  },
  {
   "cell_type": "code",
   "execution_count": 41,
   "metadata": {},
   "outputs": [
    {
     "data": {
      "text/plain": [
       "{}"
      ]
     },
     "execution_count": 41,
     "metadata": {},
     "output_type": "execute_result"
    }
   ],
   "source": [
    "Web_thai.keyword"
   ]
  },
  {
   "cell_type": "code",
   "execution_count": 42,
   "metadata": {},
   "outputs": [
    {
     "data": {
      "text/plain": [
       "[]"
      ]
     },
     "execution_count": 42,
     "metadata": {},
     "output_type": "execute_result"
    }
   ],
   "source": [
    "Web_thai.summarize"
   ]
  },
  {
   "cell_type": "code",
   "execution_count": null,
   "metadata": {},
   "outputs": [],
   "source": []
  }
 ],
 "metadata": {
  "kernelspec": {
   "display_name": "base",
   "language": "python",
   "name": "python3"
  },
  "language_info": {
   "codemirror_mode": {
    "name": "ipython",
    "version": 3
   },
   "file_extension": ".py",
   "mimetype": "text/x-python",
   "name": "python",
   "nbconvert_exporter": "python",
   "pygments_lexer": "ipython3",
   "version": "3.8.8 (default, Apr 13 2021, 12:59:45) \n[Clang 10.0.0 ]"
  },
  "orig_nbformat": 4,
  "vscode": {
   "interpreter": {
    "hash": "f77b640396ee907328d3f2b1dbf7d1073670d4b49ce003bfc4c9fbcbcb50868c"
   }
  }
 },
 "nbformat": 4,
 "nbformat_minor": 2
}
