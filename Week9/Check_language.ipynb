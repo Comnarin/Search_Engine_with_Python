{
 "cells": [
  {
   "cell_type": "code",
   "execution_count": 1,
   "metadata": {},
   "outputs": [],
   "source": [
    "import requests\n",
    "from bs4 import BeautifulSoup \n",
    "import re\n",
    "import unicodedata\n",
    "import pythainlp.util\n",
    "from pythainlp.tokenize import word_tokenize\n",
    "from pythainlp.util import find_keyword\n",
    "from pythainlp.util import rank\n",
    "#from pythainlp.summarize import extract_keywords\n",
    "from pythainlp.summarize import summarize\n",
    "import itertools\n",
    "import sqlite3\n",
    "from urllib.parse import urljoin\n",
    "import time\n",
    "import heapq\n",
    "from keybert import KeyBERT\n",
    "import nltk"
   ]
  },
  {
   "cell_type": "code",
   "execution_count": 21,
   "metadata": {},
   "outputs": [],
   "source": [
    "class Thai:\n",
    "    def __init__(self,data:list):\n",
    "        self.data_value = data\n",
    "        self.sentence = self.get_sentence()\n",
    "        self.keyword = self.get_keyword()\n",
    "        self.summarize = self.get_summarize()\n",
    "    def make_sentence(self,list_word):\n",
    "        list_word = [list_word]\n",
    "        self.sentence_value = ''\n",
    "        for i in list_word:\n",
    "            for i in list_word:\n",
    "                if pythainlp.util.countthai(i)<10:\n",
    "                    list_word.remove(i)\n",
    "        self.sentence_value = ' '.join(list_word)\n",
    "        return self.sentence_value\n",
    "    def get_sentence(self):\n",
    "        self.sentence_result = self.make_sentence(self.data_value)\n",
    "        return self.sentence_result\n",
    "    def get_keyword(self):\n",
    "        self.keyword_value = word_tokenize(self.sentence, engine=\"newmm\")\n",
    "        return self.keyword_value\n",
    "    def get_summarize(self):\n",
    "        self.summarize_result =[]\n",
    "        self.summarize_result = summarize(self.sentence,n=5)\n",
    "        return self.summarize_result\n"
   ]
  },
  {
   "cell_type": "code",
   "execution_count": 23,
   "metadata": {},
   "outputs": [],
   "source": [
    "def scrape_tags(url):\n",
    "  response = requests.get(url)\n",
    "  soup = BeautifulSoup(response.text, 'html.parser')\n",
    "  try:\n",
    "    title_tag = soup.find('title').text\n",
    "  except:\n",
    "    title_tag = soup.find('title')\n",
    "  body_tag = soup.find('body')\n",
    "  text_below_body = body_tag.get_text() \n",
    "  body_list =[]\n",
    "  body_list.append(text_below_body)\n",
    "  return (body_list,title_tag)"
   ]
  },
  {
   "cell_type": "code",
   "execution_count": 31,
   "metadata": {},
   "outputs": [],
   "source": [
    "#check language function\n",
    "def check_lang(url:str):\n",
    "    data_lang = scrape_tags(url)\n",
    "    percent = pythainlp.util.countthai(data_lang)\n",
    "    print(data_lang)\n",
    "    print(percent)\n",
    "    "
   ]
  },
  {
   "cell_type": "code",
   "execution_count": 32,
   "metadata": {},
   "outputs": [
    {
     "name": "stdout",
     "output_type": "stream",
     "text": [
      "BBC News, AfriqueAller au contenuRubriquesPage en cours, AccueilAfriqueMondeSantéBien-êtreScienceTechnologieEconomieCultureVidéosNos émissionsEcoutez en directPage en cours, AccueilAfriqueMondeSantéBien-êtreScienceTechnologieEconomieCultureVidéosNos émissionsEcoutez en directBBC News, Afrique - AccueilÀ la uneCamilla Pang, autiste, biochimiste auteur d'un livre qui transcende l'humainÀ 28 ans, Camilla est devenue la plus jeune lauréate d'un prix décerné auparavant aux scientifiques tels que Stephen Hawking.il y a 2 heuresLire plusComment la biologie quantique peut fournir des indices sur la raison pour laquelle nous sommes vivants ?L'histoire étonnante de la scientifique qui, suite à un accident vasculaire cérébral qui l'a temporairement paralysée, a fait une grande découvertePourquoi le génome humain n'a jamais été entièrement déchiffréLe déchiffrement du génome humain est considéré par les experts comme l'un des jalons scientifiques les plus importants de l'histoire.il y a 5 heuresComment retrouver la motivation et la passion du travailPour certaines personnes, la perte de passion dans le travail est interprétée comme un signe : elles doivent changer de carrière, mais ce changement radical n'est pas toujours possible.il y a 7 heuresPourquoi le président tunisien s'en prend aux migrants subsahariensKais Saied a déclaré que les migrants subsahariens tentaient de changer la nature de la société tunisienne.il y a 9 heuresPourquoi la stratégie de guerre énergétique de la Russie ne fonctionne pasLes tactiques d'attaque destructrices mais sporadiques de la Russie pourraient indiquer une pénurie de certaines armes.14 mars 2023La femme qui utilise l'éducation en Inde pour défier les talibansRazia Muradi explique que sa réussite est \"douce-amère\", car sa famille n'a pas pu se rendre en Inde pour fêter l'événement avec elle.13 mars 2023L'Angola va déployer des troupes en RD Congo suite à l'échec de la trêveLes soldats angolais doivent aider à sécuriser les zones rebelles du M23 après l'échec d'un cessez-le-feu négocié par l'Angola.13 mars 2023Un scientifique américain tente de vivre 100 jours sous l’eauAvec une expérience de plus de 28 ans en tant que plongeur dans la marine américaine, le docteur en génie biomédical Joseph Dituri, chercheur et professeur à l’Université de Floride du Sud (USF), a développé une grande passion pour les sous-marins. Surnommé Dr. Deep Sea, Dituri, est âgé de 55 ans.13 mars 2023Comment choisir les méthodes de contraception les plus appropriées ?Bien que les contraceptifs soient en constante évolution, le grand combat reste l'utilisation d'au moins un contraceptif.13 mars 2023À ne pas manquer\"L'Afrique ne doit pas se contenter d'exporter ses talents en matière de basket-ball\"À l'occasion de la nouvelle saison, le président de la BAL, Amadou Gallo Fall, déclare qu'il veut voir le continent produire ses propres talents.13 mars 2023Chine : les nouvelles règles en matière de fabrication de gènes humains inquiètent les expertsLes nouvelles règles chinoises qui visent à réglementer la fabrication de gènes chez l'homme risquent de ne pas prospérer, a averti une éminente experte.12 mars 2023Manger des aliments cuits est-il mauvais pour la santé ?Une substance appelée acrylamide se forme lorsque l'on chauffe certains aliments comme les pommes de terre, le pain, les biscuits, les céréales et le café à plus de 120°C.11 mars 2023L'affaire des migrants subsahariens en Tunisie, et les fake news sur les réseaux sociauxNous avons analysé plusieurs vidéos qui circulent sur le net, dans lesquelles on peut voir de supposés migrants de l'Afrique subsaharienne en Tunisie. Mais elles ont été filmées ailleurs.11 mars 2023Pourquoi l’ancien Premier ministre du Sénégal, Cheikh Hadjibou Soumaré est-il placé sous contrôle judiciaire ?L’ancien Premier ministre sénégalais Cheikh Hadjibou Soumaré a été déféré au parquet après sa convocation au commissariat central de Dakar. Il a finalement libéré puis placé sous contrôle judiciaire.10 mars 2023L'histoire étonnante de la scientifique qui, suite à un accident vasculaire cérébral qui l'a temporairement paralysée, a fait une grande découverteElle avait l'impression d'être morte. Il lui a fallu huit ans pour se rétablir et, malgré toutes les difficultés, Jill Bolte Taylor affirme que si elle pouvait revenir en arrière, elle ne ferait rien pour éviter son attaque.6 mars 2023Comprendre l'actualité mondialeLa Russie reconnaît l'utilisation de missiles hypersoniquesLes autorités russes ont reconnu l'utilisation recente d'un missile hypersonique le jeudi 9 mars dans le cadre d’attaques intenses contre l’Ukraine. Bilan : au moins neuf morts et de multiples infrastructures détruites.13 mars 2023Tremblement de terre en Syrie : Pourquoi l'aide de l'ONU a tardé ?Des experts juridiques ont déclaré à la BBC que les Nations unies ont tardé à acheminer de l’aide, notamment de la nourriture et des denrées de première nécessité, au peuple syrien victime d'un tremblement de terre, le mois dernier.11 mars 2023Le rapprochement stratégique de la Chine et de la Biélorussie en pleine guerre d'UkraineMinsk et Pékin entretiennent des liens diplomatiques et commerciaux étroits, mais leur relation a pris de l'ampleur l'année dernière en raison de leurs liens avec la Russie.4 mars 2023Qu'est-il arrivé au convoi militaire de 56 km envoyé à Kiev au début de la guerre ?Un énorme convoi russe se dirigeant vers Kiev a lancé le début du projet du président Poutine de s'emparer de la capitale, mais le convoi s'est immobilisé et a semble avoir disparu du jour au lendemain. Qu'est-il arrivé à cette force colossale ?2 mars 2023Comment 650 filles ont été empoisonnées en Iran pour les empêcher d'aller à l'écoleLa BBC a établi qu'au moins 650 écolières ont été empoisonnées en Iran, les autorités admettent enfin qu'il s'agit d'une attaque délibérée contre elles.1 mars 2023\"Nous ne savons pas s'ils ont été enterrés ou jetés dans le désert ou la mer\" : les exécutions secrètes en Arabie saouditeLes proches des personnes exécutées n'ont pas été informés de l'application de la peine de mort et n'ont pas reçu les corps de leurs proches pour les enterrer.19 février 2023Journaux et Magazines05:00Listen Next, SUIVANT Le Journal, 05:00, 15 mars 2023, Durée 15,00 Le premier rendez-vous d'information de la matinée.15:0018:10Ecoutez, A Vous L'antenne, 18:10, 14 mars 2023, Durée 20,00 Du lundi au vendredi les auditeurs réagissent à chaud sur les sujets qui rythment l'actualité 20:0012:20Ecoutez, A Vous L'antenne, 12:20, 14 mars 2023, Durée 10,00 Du lundi au vendredi les auditeurs réagissent à chaud sur les sujets qui rythment l'actualité 10:0012:10Ecoutez, Au Coeur De L'actu, 12:10, 14 mars 2023, Durée 10,00 Un jour, un thème pour aller plus en profondeur sur les sujets qui font bouger l’Afrique10:00Choix de la rédactionCinq choses à savoir sur l’opposant sénégalais Ousmane SonkoOusmane Sonko, inspecteur des impôts et domaines a connu en quelques années une ascension politique fulgurante. De fonctionnaire radié, il devient député à l’Assemblée nationale, puis maire de la ville de Ziguinchor.12 mars 2023Ladoum, ces moutons VIP qui n'ont rien à envier aux humainsAu Sénégal, le mouton ladoum qui constitue la crème de l'élevage des ovins est traité avec beaucoup de soin et respect. Des éleveurs dépensent de fortes sommes d'argent pour la construction de leurs bergeries modernes avec tout le confort , un vrai plaisir pour les yeux.10 mars 2023Comment ces migrants camerounais se sont retrouvés sur une île dont ils n'avaient jamais entendu parlerDes centaines de Camerounais sont bloqués à Antigua, sans argent pour poursuivre leur voyage vers les États-Unis.7 mars 2023« J’ai tout laissé derrière moi », Thierry Niambré, ivoirien rapatrié de TunisieSamedi, plus d’une centaine d’Ivoiriens ont quitté la Tunisie et sont arrivés dans leur pays. L'état s'est occupé de leur rapatriement de Tunis à Abidjan.8 mars 2023Vérification des allégations de fraude lors des élections au NigeriaQuelle est la crédibilité des allégations de fraude de l'opposition lors de l'élection présidentielle au Nigeria ?2 mars 2023\"Femmes, enfants, bébés sont dans la rue et il fait froid\"- Saadia Mosbah, militante tunisienne des droits humainsAprès des interpellations, arrestations et violences contre des ressortissants noirs d’Afrique Sub-saharienne en Tunisie, le discours virulent du Président Kaïs Saïed censé dénoncer l’immigration illégale, a mis le feu aux poudres.2 mars 2023Quel « nouveau partenariat » la France veut-elle entretenir avec les pays africains ?A la veille d'une tournée en Afrique centrale, le Président Emmanuel Macron s’est exprimé dans un discours tenu ce lundi depuis le Palais de l’Élysée sur la nouvelle politique avec l’Afrique qui se veut plus inclusive. Mais que retenir du discours et des réactions qu’il a suscitées ?2 mars 2023Le combat d'un Camerounais pour sauver la plus grande grenouille du mondeLa quête d'un homme pour découvrir les secrets de cette grenouille menacée d'extinction qui atteint la taille d'un chat domestique.27 février 2023Des déchets alimentaires transformés en protéine grâce aux mouches soldats noirsAffecté par le coup et la quantité de déchets alimentaires qu’il devait jeter, Murhula Zigabe s’est spécialisé dans la transformation des déchets alimentaires en protéine pour l’alimentation de volaille, des bétails et des poissons grâce aux mouches soldats noirs.26 février 2023VidéoTout voirMounou K., celui qui donne une seconde vie au téléphoneMounou Koffi, artiste visuel ivoirien fait de l'art à partir des carcasses de téléphones usés.24 novembre 2022Le malade mental a aussi besoin d'amour - thérapie différente en Côte d'IvoireEn Côte d'Ivoire, le centre Victor Houali soigne des malades mentaux venus de tout le pays.24 novembre 2022Danse et préparation à l'accouchement spécial pour femmes enceintes\"J'ai vu des femmes mourir à l'accouchement parce qu'elle n'avait pas certaines informations\".23 novembre 2022L’amour pour son pays, son mariage : Abdou Diallo parle à cœur ouvertA 26 ans, Abdou Diallo a remporté la première Coupe d'Afrique des Nations de l'histoire du football sénégalais.12 août 2022Tuée pour blasphème au Nigeria - les parents de Deborah Samuel parlent de leur douleurSa mère et son père ont déclaré à la BBC que leur vie avait radicalement changé depuis son assassinat.12 août 2022Nos émissionsTout voirMag de la culture : \"Après 20 ans, beaucoup de gens ont pensé que je n'avais plus rien à dire\", John KIFFI, musicien chanteur ivoirien.Cette semaine, Valérie Bony reçoit John KIFFI, musicien chanteur ivoirien.29:30Ecoutez, Afrique Avenir : Entre conception de jeux de société et livres pour enfants, l'univers de Cissé Diambissy, Durée 29,30Afrique Avenir reçoit Reçoit Cissé Diambissy conceptrice de jeux de société sur l’histoire et les cultures en Afrique et auteure de livres de jeunesse.13 janvier 2023Mama Cax, le mannequin handicapé qui s'est battu pour l'inclusion dans la modeGoogle a rendu hommage au mannequin à l'occasion du quatrième anniversaire de ses débuts sur le podium à New York et de sa mort.15 février 202329:30Ecoutez, Afrique Avenir : Lengo, la plateforme qui connecte grandes marques et boutiquiers, Durée 29,30Afrique Avenir reçoit Max Smith et Yaye Biaye de Lengo, une plateforme d'intelligence artificielle pour les produits de grande consommation en Afrique.18 novembre 202229:30Ecoutez, C’est le moment : \"la jeunesse africaine en a marre de ne pas être respectée par la France\", Durée 29,30Le rappeur camerounais Valsero est l’invité d’Ata Ahli AHEBLA pour présenter son EP qui a pour titre \"Mon idée de la France\".8 avril 202250:33Ecoutez, Le Débat BBC Afrique- Africa Radio avec Jean-Serge Bokassa, Durée 50,33Le Débat BBC Afrique- Africa Radio avec Jean-Serge Bokassa10 mars 2023Santé et Bien-êtreComment les virus peuvent-ils s'échapper des laboratoires ?L'ancien directeur des prestigieux Centres américains de contrôle et de prévention des maladies a déclaré à un groupe d'experts du Congrès qu'il pensait que le Covid-19 était probablement le résultat d'une fuite accidentelle d'un laboratoire en Chine. Mais est-il facile pour un virus de s'échapper d'un laboratoire ? Cela s'est-il déjà produit ?10 mars 2023Les femmes ne devraient pas attendre trois mois pour annoncer leur grossesse, selon les expertsPour de nombreux spécialistes du deuil gestationnel ou périnatal - qui traite de la perte de l'embryon à tout âge jusqu'à la mort après la naissance - le secret autour des premières semaines de grossesse peut être contre-productif.9 mars 2023Poisson gras : types, avantages et comment les mangerLe poisson gras est-il sain – et si oui, quels sont les meilleurs types et à quelle fréquence devriez-vous le consommer ?7 mars 2023Pourquoi nous perdons peu à peu notre odoratTout, du goût de nos aliments à nos relations sociales, en dépend.6 mars 2023La circoncision a-t-elle un impact sur la vie sexuelle ?C'est une chirurgie qui est pratiquée depuis des milliers d'années. Les historiens pensent que la circoncision existait déjà il y a 15 000 ans dans la société égyptienne et qu'elle a survécu jusqu'à nos jours, avec environ un homme sur trois circoncis dans le monde.26 février 2023\"Mon kyste ovarien était plus gros qu'un bébé\"Mariana a soupçonné qu'il y avait sûrement quelque chose qui n'allait pas avec sa santé quand elle a commencé à ressentir des douleurs dans son abdomen - mais elle n'était pas enceinte.28 février 2023Le manque d'hygiène peut provoquer un cancer du pénisApprenez à identifier le cancer du pénis, une maladie que peut causer le manque d'hygiène.20 février 2023Les cinq principaux avantages des crevettes pour notre santéProfitez des crevettes dans le cadre de votre alimentation pour une source de protéines, de vitamines et de minéraux tels que l'iode.17 février 2023Le bienfait surprenant d'une activité physique pour votre cerveauDes preuves scientifiques montrent que l'activité physique n'est pas seulement bonne pour le corps, mais aussi pour le cerveau. Mais certains exercices sont-ils meilleurs que d'autres à cet effet ?14 février 2023CoronavirusQue sait-on du nouveau variant Covid XBB.1.5 ?Le dernier variant d'Omicron attire l'attention des scientifiques. Que devez-vous savoir ?13 janvier 20233 clés pour comprendre l'augmentation \"explosive\" des cas de Covid en ChineLes hôpitaux chinois sont soumis à une pression intense en raison de l'arrivée massive de patients infectés par le covid-19 dans les unités de soins intensifs, selon des informations en provenance de ce pays asiatique.30 décembre 2022Que savons-nous des résultats et des effets secondaires des vaccins contre le Covid-19 ?Les recherches montrent que la vaccination a largement contribué à réduire les vagues d'hospitalisations et de décès dans le monde. Mais la bataille n'est pas encore gagnée.25 décembre 2022Omicron \"silencieux\" : à quoi ressemble le sous-variant BA.2, qui est déjà dominant dans le monde entier ?Une sous-espèce du variant omicron, plus contagieuse, gagne du terrain dans le monde, même si son danger reste faible. A quel point devons-nous nous inquiéter ?4 avril 2022Pendant combien de temps une personne atteinte de Covid est-elle contagieuse ?Le variant Omicron se répand rapidement avec un taux d'infection élevé. Sait-on combien de temps les personnes testées positives doivent s'auto-isoler ?21 janvier 2022Science et technologieTout voirPourrons-nous un jour prédire les tremblements de terre ?Les scientifiques cherchent des moyens de détecter les signes avant-coureurs des tremblements de terre, ces catastrophes naturelles des plus imprévisibles.19 février 2023Une percée quantique qui pourrait révolutionner l'informatiqueLes scientifiques ont fait un pas de plus vers la fabrication d'ordinateurs \"quantiques\" multitâches, plus puissants que les superordinateurs les plus avancés d'aujourd'hui.18 février 2023Comment des animaux disparus pourraient être ramenés d'entre les mortsD'une grenouille australienne qui a avalé ses propres œufs aux mammouths laineux, les scientifiques sont de plus en plus près de pouvoir ramener d'entre les morts des espèces disparues depuis longtemps.30 janvier 2023Des innovations qui améliorent les chances des patients atteints de cancerS'il y a quelques années, les possibilités de traitement du cancer se limitaient à la chimiothérapie et à la radiothérapie, ces techniques - qui détruisent les cellules cancéreuses, mais endommagent également les cellules saines - sont de plus en plus remplacées par des options moins toxiques et davantage axées sur les caractéristiques spécifiques de chaque patient.14 janvier 2023Comment les mammifères ont-ils survécu aux dinosaures ?Comment une bande de petits mammifères insignifiants a-t-elle survécue à l'astéroïde qui a tué les dinosaures il y a 66 millions d'années ?8 janvier 2023Ce que les scientifiques cherchent à réaliser en 2023À 1h30 du matin le lundi 5 décembre, le Lawrence Livermore National Laboratory en Californie, aux États-Unis, a allumé le faisceau laser le plus puissant sur Terre, dans le cadre d'une expérience qui a provoqué un énorme émoi dans le monde de la physique et dans d'autres domaines.2 janvier 2023En imagesTout voirCe que révèle une vue à vol d'oiseau de l'AfriqueDes images prises du ciel montrent comment le paysage du continent est transformé par l'activité humaine.9 mars 2023L'artiste nigérian qui réinvente une vieillesse élégante par l'IALes œuvres d'art générées par l'intelligence artificielle (IA) sont devenues une source de controverse, mais le cinéaste et artiste nigérian Malik Afegbua défend l'idée qu'elle peut nous inciter à créer un monde réel meilleur - et un monde plus élégant pour les personnes âgées.22 janvier 2023Nager avec des prédateurs marins - le photographe qui a réalisé son \"rêve fou\"Amos Nachoum a établi de nouvelles normes en matière de photographie sous-marine en prenant des risques énormes. Il a plongé sans cage de sécurité et a capturé des images primées de prédateurs marins. Il raconte ici à la BBC d'où vient sa passion et comment sa relation avec son père l'a façonné en tant qu'homme.8 juin 2022Des photos inédites des habitants de MadagascarEmile Rakotondrazaka, dit Ramily et considéré comme le grand-père de la photographie malgache, est décédé en 2017. Une exposition à l'espace d'art contemporain Hakanto à Antananarivo, présente son travail dans des portraits inédits de gens ordinaires et de la vie quotidienne.4 juin 2022Des nageurs rouges aux théières flottantes, Dakar accueille l’art moderneL'un des plus grands événements d'art moderne d'Afrique revient au Sénégal après une interruption de quatre ans.27 mai 2022Journal TVSuivez, BBC InfosLe journal télévisé international de BBC Afrique. Reportages, éclairages, analyses, l'équipe de BBC Afrique est mobilisée pour vous faire vivre les temps forts de l'actualité tout au long de la semaine.SuivezEcoutez BBC AfriqueBBC Afrique en directBBC Afrique en direct24 avril 2020Réseaux sociauxFacebookYouTubeInstagramTwitterNos partenairesPartenaires de BBC AfriqueBBC News, AfriquePourquoi vous pouvez faire confiance à BBC NewsConditions d'utilisationA propos de la BBCPolitique de confidentialitéCookiesContactez la BBCAdChoices / Do Not Sell My Info© 2023 BBC. La BBC n'est pas responsable du contenu des sites externes. Découvrez notre approche en matière de liens externes.\n",
      "0.0\n"
     ]
    }
   ],
   "source": [
    "check_lang('https://www.bbc.com/afrique/media/photogalleries')"
   ]
  },
  {
   "cell_type": "code",
   "execution_count": 33,
   "metadata": {},
   "outputs": [
    {
     "name": "stdout",
     "output_type": "stream",
     "text": [
      "ไทยรัฐ สำนักข่าวอันดับ 1 ของไทย | ไทยรัฐออนไลน์ไทยรัฐออนไลน์ข่าวพระราชสำนักทั่วไทยในกระแสการเมืองเศรษฐกิจต่างประเทศอาชญากรรมยานยนต์เทคโนโลยีราคาทองคำรายงานพิเศษวิดีโอหนังสือพิมพ์ไทยรัฐทีวีดูย้อนหลังผังรายการLiveไลฟ์สไตล์กีฬาฟุตบอลต่างประเทศฟุตบอลไทยSport insiderไฟต์สปอร์ตกีฬาโลกวิดีโอแกลเลอรี่ฟุตบอลโลก 2022บันเทิงดวงหวยนิยายโปรโมชั่นซื้อ-ขายส่วนลดเช็คราคาThairathPlusยิงดับ \"พล.ต.ท.ปัญญา\" ผบช.น.ยันฝีมือภรรยา อยู่ในอาการช็อก ยังให้การไม่ได้LiveLiveเข้าสู่ระบบสมัครสมาชิกค้นหาHamburgerHamburgerค้นหาTHAIRATH MEMBERSHIPเข้าสู่ระบบสมัครสมาชิกLive ชมรายการสดข่าวBackข่าวข่าวล่าสุดพระราชสำนักทั่วไทยในกระแสการเมืองเศรษฐกิจต่างประเทศอาชญากรรมยานยนต์เทคโนโลยีราคาทองคำรายงานพิเศษกีฬาBackฟุตบอลต่างประเทศฟุตบอลไทยSport insiderไฟต์สปอร์ตกีฬาโลกวิดีโอแกลเลอรี่ฟุตบอลโลก 2022ไทยรัฐทีวีBackดูย้อนหลังวาไรตี้บันเทิงกีฬาผังรายการLiveโปรโมชั่นBackโปรโมชั่นซื้อ-ขายส่วนลดเช็คราคาThairath Talkหนังสือพิมพ์คอลัมน์บันเทิงดวงหวยนิยายวิดีโอPodcastไลฟ์สไตล์กิจกรรมThairath PlusBackThairath PlusSpeakMoneyEveryday LifeNature MatterSubcultureFuturismSparkMirrorBackMirror100 ปี ชาตกาล  กำพล วัชรพลร่วมงานกับเราเกี่ยวกับเราติดต่อเราติดต่อโฆษณาfacebookfacebooktwittertwitterinstagraminstagramyoutubeyoutube\n",
      "\n",
      "\n",
      "\n",
      "19 ก.พ. 2566 17:32 น.ข่าวอาชญากรรมไทยรัฐออนไลน์ยิงดับ \"พล.ต.ท.ปัญญา\" ผบช.น.ยันฝีมือภรรยา อยู่ในอาการช็อก ยังให้การไม่ได้แชร์ข่าวแชร์ข่าวพล.ต.ท.ธิติ แสงสว่าง ผบช.น.เผยมูลเหตุ พล.ต.ท.ปัญญา ถูกยิงเสียชีวิต เป็นเรื่องปัญหาความเครียดภายในครอบครัว คุมตัวผู้ก่อเหตุสอบปากคำที่ สน.ธรรมศาลา ยังอยู่ในอาการช็อก ไม่สามารถให้การใดๆ ได้เมื่อเวลา 17.50 น. วันที่ 19 ก.พ. 66 ผู้สื่อข่าวรายงานความคืบหน้ากรณี พล.ต.ท.ปัญญา ปิ่นสุข ผบช.ประจำ สง.ผบ.ตร. อายุ 59 ปี ถูกยิงเสียชีวิตหน้าบ้านพักเลขที่ 278 ซอยบรมฯ 70 ถนนบรมราชชนนี แขวงศาลาธรรมสพน์ เขตทวีวัฒนา กรุงเทพฯ โดยภรรยาเป็นผู้มาพบศพคนแรกโดยทาง พล.ต.ท.ธิติ แสงสว่าง ผบช.น.อยู่ระหว่างตรวจสอบที่เกิดเหตุ เพื่อหาร่องรอยหรือหลักฐานทางคดี เบื้องต้นพบอาวุธปืนตกอยู่ในที่เกิดเหตุจำนวน 2 กระบอกเป็นแม็กกาซีน ยี่ห้อ ซิกซาวเออร์ 1 กระบอก และปืนลูกโม่ไม่ทราบยี่ห้อ 1 กระบอกพล.ต.ท.ธิติ แสงสว่าง ผบช.น.เผยว่า เป็นปัญหาความเครียดของคนภายในครอบครัว สำหรับผู้ก่อเหตุ คือ ภรรยาของผู้เสียชีวิต ถูกนำตัวไปสอบปากคำที่ สน.ธรรมศาลา อยู่ในอาการช็อก ยังไม่สามารถให้การใดๆ ได้สำหรับ พล.ต.ท.ปัญญา ปิ่นสุข ผู้เสียชีวิต ผบช.น.เผยว่า เจ้าตัวเป็นคนนิสัยดี น่ารัก ใจเย็น สุภาพ เป็นคนมีความรู้ ขยันทำงาน ยืนยันว่าไม่ได้มีปัญหากับเพื่อนร่วมงาน. SPONSOREDSPONSORED\n",
      "85.63432835820896\n"
     ]
    }
   ],
   "source": [
    "check_lang('https://www.thairath.co.th/news/crime/2633816')\n"
   ]
  },
  {
   "cell_type": "code",
   "execution_count": null,
   "metadata": {},
   "outputs": [],
   "source": []
  }
 ],
 "metadata": {
  "kernelspec": {
   "display_name": "base",
   "language": "python",
   "name": "python3"
  },
  "language_info": {
   "codemirror_mode": {
    "name": "ipython",
    "version": 3
   },
   "file_extension": ".py",
   "mimetype": "text/x-python",
   "name": "python",
   "nbconvert_exporter": "python",
   "pygments_lexer": "ipython3",
   "version": "3.8.16"
  },
  "orig_nbformat": 4,
  "vscode": {
   "interpreter": {
    "hash": "d6dbe31fb58d2a925cb6cf70124d8310e9312b8d1336a5bee8b6adf692fc3cfd"
   }
  }
 },
 "nbformat": 4,
 "nbformat_minor": 2
}
