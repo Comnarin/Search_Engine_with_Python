{
 "cells": [
  {
   "cell_type": "code",
   "execution_count": 91,
   "metadata": {},
   "outputs": [],
   "source": [
    "import requests\n",
    "from bs4 import BeautifulSoup \n",
    "import re\n",
    "import unicodedata\n",
    "import pythainlp.util\n",
    "import spacy\n",
    "from spacy.tokenizer import Tokenizer\n",
    "from spacy.lang.en import English\n",
    "from pythainlp.tokenize import word_tokenize\n",
    "from pythainlp.util import find_keyword\n",
    "from pythainlp.util import rank\n",
    "#from pythainlp.summarize import extract_keywords\n",
    "from pythainlp.summarize import summarize\n",
    "import itertools\n",
    "import sqlite3\n",
    "from urllib.parse import urljoin\n",
    "import time\n",
    "from pythainlp.tag import tag_provinces\n",
    "from datetime import datetime\n"
   ]
  },
  {
   "cell_type": "code",
   "execution_count": 92,
   "metadata": {},
   "outputs": [],
   "source": [
    "class spyder:\n",
    "    def __init__( self ,target_links,base_url ):\n",
    "        self.base_url = base_url\n",
    "        self.target_links = target_links\n",
    "    \n",
    "    def get_crawler(self):\n",
    "        self.result_crawler = self.crawl(self.base_url,0,set())\n",
    "        return self.result_crawler\n",
    "    \n",
    "    def get_check_domain(self):\n",
    "        self.check_domain_result = self.check_domain(self.base_url,self.get_crawler())\n",
    "        return self.check_domain_result\n",
    "    \n",
    "    def get_check_not_domain(self):\n",
    "        self.check_not_domain_result = self.check_not_domain(self.base_url,self.get_crawler())   \n",
    "        return self.check_not_domain_result\n",
    "    \n",
    "    def get_check_ref(self):\n",
    "        self.check_ref_result = self.check_ref(self.get_check_not_domain(),self.target_links)\n",
    "        return self.check_ref_result\n",
    "    \n",
    "    def get_all(self):\n",
    "        crawl = self.crawl(self.base_url,0,set())\n",
    "        check_domain =  self.check_domain(self.base_url,crawl) \n",
    "        check_not_domain = self.check_not_domain(self.base_url,crawl)\n",
    "        check_ref = self.check_ref(check_not_domain,self.target_links)\n",
    "        return check_domain,check_ref\n",
    "    \n",
    "    def crawl(self,url, depth,visited):\n",
    "        if depth < 3 :\n",
    "            visited.add(url)\n",
    "            headers = {'User-Agent': \"Mozilla/5.0 (Windows NT 10.0; Win64; x64) AppleWebKit/537.36 (KHTML, like Gecko) Chrome/42.0.2311.135 Safari/537.36 Edge/12.246\"}\n",
    "            time.sleep(0.3)\n",
    "            response = requests.get(url,headers=headers)\n",
    "            try:\n",
    "                soup = BeautifulSoup(response.text, 'html.parser')\n",
    "            except:\n",
    "                soup = BeautifulSoup(response.text, 'lxml')\n",
    "            links = soup.find_all('a')\n",
    "            links = [link.get('href') for link in links if link.get('href') and not link.get('href').startswith('#')]\n",
    "            links = [urljoin(url, link) for link in links if link]\n",
    "\n",
    "            for link in links:\n",
    "                if link not in visited:\n",
    "                    link = link.replace(' ','')\n",
    "                    visited.add(link)\n",
    "                    if link.startswith(url):\n",
    "                        self.crawl(link,depth=depth+1, visited=visited)\n",
    "        return visited\n",
    "    \n",
    "    def check_domain(self,base_url,links):\n",
    "        result= set()\n",
    "        for link in links :\n",
    "            if link.startswith(base_url):\n",
    "                result.add(link)\n",
    "        return result\n",
    "    \n",
    "    def check_not_domain(self,base_url,links):\n",
    "        result= set()\n",
    "        for link in links :\n",
    "            if not link.startswith(base_url):\n",
    "                result.add(link)\n",
    "        return result\n",
    "    \n",
    "    def check_ref(self,links,target_links):\n",
    "        for i in links:\n",
    "            for j in target_links:\n",
    "                if i.startswith(j):\n",
    "                    target_links[j]+=1\n",
    "        return target_links"
   ]
  },
  {
   "cell_type": "code",
   "execution_count": 104,
   "metadata": {},
   "outputs": [],
   "source": [
    "def scrape_tags(url):\n",
    "  response = requests.get(url)\n",
    "  soup = BeautifulSoup(response.text, 'html.parser')\n",
    "  try:\n",
    "    title_tag = soup.find('title').text\n",
    "  except:\n",
    "    title_tag = soup.find('title')\n",
    "  body_tag = soup.find('body')\n",
    "  text_below_body = body_tag.get_text() \n",
    "  body_list =[]\n",
    "  body_list.append(text_below_body)\n",
    "  return (body_list,title_tag)\n"
   ]
  },
  {
   "cell_type": "code",
   "execution_count": 94,
   "metadata": {},
   "outputs": [],
   "source": [
    "def cleansing(body):\n",
    "    for i in body:\n",
    "        output = i.replace('\\n', '  ').replace('\\xa0', '  ').replace('®', ' ').replace(';', ' ')\n",
    "        output = \" \".join(output.split())\n",
    "    return output"
   ]
  },
  {
   "cell_type": "code",
   "execution_count": 98,
   "metadata": {},
   "outputs": [],
   "source": [
    "# Neither spaCy nor NLTK have any methods for filtering punctuations \n",
    "def remove_punctuations(normalized_tokens):\n",
    "    punctuations=['?',':','!',',','.',';','|','(',')','--','\\n']\n",
    "    for word in normalized_tokens:\n",
    "        if word in punctuations:\n",
    "            normalized_tokens.remove(word)  \n",
    "    return normalized_tokens"
   ]
  },
  {
   "cell_type": "code",
   "execution_count": 96,
   "metadata": {},
   "outputs": [],
   "source": [
    "def normalized_text(doc:str):\n",
    "    vocab = English()\n",
    "    # Create a Tokenizer with the default settings for English\n",
    "    tokenizer = vocab.tokenizer\n",
    "    tokens = tokenizer(doc)\n",
    "    # just keeping pos tagger and lemmatizer\n",
    "    nlp = spacy.load('en_core_web_sm', disable=['parser', 'ner',\n",
    "                                            'tok2vec', 'attribute_ruler'])\n",
    "    doc = nlp(doc)   \n",
    "    lemma_list = []\n",
    "    for token in doc:\n",
    "        lemma_list.append(token.lemma_)\n",
    "    normalized_tokens =[] \n",
    "    for word in lemma_list:\n",
    "        lexeme = nlp.vocab[word]\n",
    "        if lexeme.is_stop == False:\n",
    "            normalized_tokens.append(word) \n",
    "    normalized_tokens = remove_punctuations(normalized_tokens)\n",
    "    return normalized_tokens"
   ]
  },
  {
   "cell_type": "code",
   "execution_count": 97,
   "metadata": {},
   "outputs": [],
   "source": [
    "def get_word(body):\n",
    "    words = normalized_text(body)\n",
    "    word_freq = {}\n",
    "    for word in words:\n",
    "        if word in word_freq:\n",
    "            word_freq[word] += 1\n",
    "        else:\n",
    "            word_freq[word] = 1\n",
    "    return word_freq"
   ]
  },
  {
   "cell_type": "code",
   "execution_count": null,
   "metadata": {},
   "outputs": [],
   "source": [
    "body,title = scrape_tags('https://en.wikipedia.org/wiki/Main_Page')\n",
    "body=cleansing(body)"
   ]
  },
  {
   "cell_type": "code",
   "execution_count": null,
   "metadata": {},
   "outputs": [],
   "source": [
    "target_links = {'https://www.bbc.com/news':0}\n",
    "for i in target_links:\n",
    "    get_link = spyder(target_links,i)\n",
    "    target_links = get_link.get_check_ref()\n",
    "    print(target_links)"
   ]
  },
  {
   "cell_type": "code",
   "execution_count": 105,
   "metadata": {},
   "outputs": [],
   "source": [
    "def get_doc(target_links):\n",
    "    doc=[]\n",
    "    for i in target_links:\n",
    "        web_spyder=spyder(target_links,i)\n",
    "        domain_links =web_spyder.get_check_domain()\n",
    "        for j in domain_links:\n",
    "            print(j)\n",
    "            j.replace(\" \", \"\")\n",
    "            d=dict()    \n",
    "            body, title = scrape_tags(j)\n",
    "            body=cleansing(body)\n",
    "            word = get_word(body)\n",
    "            d['link']= j\n",
    "            d['title'] = title\n",
    "            d['body']=body\n",
    "            d['location']='location'\n",
    "            d['word'] = word\n",
    "            for k in target_links:\n",
    "                if j.startswith(k):\n",
    "                    d['ref'] = target_links[k]\n",
    "            doc.append(d)\n",
    "            print(d)\n",
    "    return doc"
   ]
  },
  {
   "cell_type": "code",
   "execution_count": 106,
   "metadata": {},
   "outputs": [
    {
     "name": "stdout",
     "output_type": "stream",
     "text": [
      "https://www.bbc.com/news/world-africa-59517501\n",
      "{'link': 'https://www.bbc.com/news/world-africa-59517501', 'title': 'Why France faces so much anger in West Africa - BBC News', 'body': 'BBC HomepageSkip to contentAccessibility HelpYour accountHomeNewsSportReelWorklifeTravelFutureMore menuMore menuSearch BBCHomeNewsSportReelWorklifeTravelFutureCultureMusicTVWeatherSoundsClose menuBBC NewsMenuHomeWar in UkraineCoronavirusClimateVideoWorldAsiaUKBusinessTechMoreScienceStoriesEntertainment & ArtsHealthWorld News TVIn PicturesReality CheckNewsbeatLong ReadsWorldAfricaAustraliaEuropeLatin AmericaMiddle EastUS & CanadaWhy France faces so much anger in West AfricaPublished5 December 2021Shareclose panelShare pageCopy linkAbout sharingRelated TopicsSahel Islamist insurgencyImage source, Getty ImagesImage caption, Mali has witnessed several protests against FranceBy Paul MellyAfrica analystIt all started so positively. Where have things gone wrong? Why does France now appear so unpopular in Africa?French President Emmanuel Macron has increased aid to the continent, begun the return of cultural artefacts stolen during the colonial wars and reached out beyond the usual inter-government ties to engage younger generations and civil society.He has kept French troops in the Sahel to fight the jihadist militants that kill so many local civilians, police and soldiers and supported the regional bloc Ecowas as it tries to defend electoral politics against military takeovers.This year he flew to Rwanda to publicly acknowledge French failures during the 1994 genocide.Yet his country is now the target of embittered African complaints and criticism on a scale that is probably unprecedented. Last month, a convoy of French troops heading north to support the fight against Islamist militants was repeatedly blockaded by protesters as it crossed Burkina Faso and Niger.In September Mali\\'s Prime Minister Choguel MaÃ¯ga was met with a wave of sympathetic comment when he used a speech at the UN to accuse France of \"abandoning his country in mid-flight\", after Mr Macron began to scale back the deployment of troops in the country.Among progressive West African commentators and urban youth, it is now commonplace to hear calls for the abolition of the CFA franc - the regional currency used by many francophone countries and which is pegged to the euro under a French government guarantee. Its critics say this enables France to control the economies of those countries which use it, while France says it guarantees economic stability.Neo-colonial arroganceWhat explains this paradox? How is it that a president more concerned for Africa than most recent predecessors, and more aware too of how the continent is changing, encounters a level of French unpopularity not felt for decades?Certainly, Mr Macron\\'s self-confident - critics would say arrogant - personal style is a factor.Image source, AFPImage caption, Despite reaching out to Africa, President Macron has faced a backlashHe has made his share of diplomatic blunders.After 13 French troops died in a helicopter crash in Mali in November 2019 he demanded that West African leaders fly to France for an emergency summit, an outburst perceived as neo-colonial arrogance, particularly as Mali and Niger had suffered far heavier recent military losses. President Macron was forced into a rapid course-correction, flying to Niamey, Niger\\'s capital, to pay his respects to the NigÃ©rien military dead and postponing the summit until January 2020.But the causes of France\\'s current discomfort also extend back to decades before Mr Macron\\'s election in 2017.\"You can cite historical controversies linked to colonisation. Many of us are the children of parents who knew the colonial period and its humiliations,\" explains Ivorian political analyst Sylvain Nguessan.During the early post-independence decades, France maintained a dense web of personal connections with African leaders and elites - dubbed \"franÃ§afrique\" - which too often slid into a mutual protection of vested interests, with little regard for human rights or transparency.Among outside powers, Paris was far from alone in colluding with dictatorial allies, but its relationships were particularly close and unquestioning. Charisma and changeThe most damning failure came in Rwanda in 1994, when France failed to act even as its ally, the regime of then-President Juvenal Habyarimana, began to prepare genocide.Image source, AFPImage caption, The CFA is a colonial-era currency that is still used in several former French colonies in AfricaFrom the mid-1990s onwards several governments worked to reform France\\'s engagement with Africa and give more priority to development and democratic governance. But momentum later faltered.Nicolas Sarkozy began his tenure as president in 2007 by remarking, with a spectacular lack of tact, that \"the African man has not sufficiently entered into history\". He favoured old allies such as the Bongo family, who have governed Gabon since 1967.When FranÃ§ois Hollande became president in 2012 he had no choice but to focus on security issues in the Sahel - a swathe of land south of the Sahara desert. He never really had the political strength to revive reform efforts.But with Mr Macron\\'s accession to office, France had a president fully aware of the need for change - and with the political clout and personal enthusiasm to attack the task.In 2017 he told students in the Burkinabe capital, Ouagadougou, that France would back a reform of the CFA franc if African governments wanted this. He also invited civil society, youth and cultural figures to this year\\'s France-Africa summit in Montpellier, rather than the usual flock of presidents.Sahel - a festering woundYet his readiness to speak plainly, challenge old structures and question comfortable assumptions has not always played well, even among those who are clamouring for change.Image source, AFPImage caption, Despite France\\'s counter-terrorism operation, militants are still a major problem in the vast Sahel region of West AfricaMoreover, the situation in the Sahel has deteriorated into a festering wound. The French military presence fuels an increasingly widespread sense of grievance across West Africa.Despite a massive and sustained military effort - with more than 5,000 troops deployed and more than 50 killed - France has not been able to decisively overcome the threat from jihadists, whose attacks on local communities and security forces continue.The reasons are complex, both military and social, environmental and economic. Yet a significant proportion of local public opinion feels that France, as a high-tech Western military power, should have been able to \"sort\" the problem and should now get out of the way if it cannot do so.Those feelings seem to have motivated the protesters who blockaded the French army convoy.And this comes after earlier causes of resentments, as Mr Nguessan points out: \"The speeches of Sarkozy in Dakar, Macron in Ouagadougou the war in Ivory Coast the discouraging results of the campaign against terrorism. \"Questions related to the currency, debt, support for local dictators and ill-chosen words.\"Image source, AFPImage caption, France is still regarded as a prop for the old guard establishment - even if supporting democratic bodiesBut underlying social and communal factors also shape the attitudes of some.One senior Sahel military officer says he sees the French as allies of Tuareg former separatist rebels in northern Mali - an allegation fiercely and credibly denied in Paris.Similar complexities surround France\\'s support for West Africa regional body Ecowas - which is currently trying to pressure coup leaders in Mali and Guinea to rapidly return their countries to civilian constitutional rule. A growing number of young people regard the regional bloc as an incumbent presidents\\' club, too slow to criticise civilian rulers who manipulate democratic rules and unwilling to acknowledge the strength of popular support for military leaders promising reform.So in backing Ecowas as the legitimate African crisis management institution, France ends up being perceived as a prop for the old guard establishment. Paul Melly is a consulting fellow with the Africa Programme at the think-tank Chatham House in London.More on fighting Sahelian jihadists:ANALYSIS: West Africa faces up to policing its terror triangleBACKGROUNDER: Critical stage for fight against jihadis in West AfricaRelated TopicsFranceEmmanuel MacronSahel Islamist insurgencyAround the BBCAfrica Today podcastsTop StoriesXi Jinping\\'s power grab - and why it mattersPublished12 hours agoStreet fighting in Bakhmut but Russia not in controlPublished6 hours agoRussian minister laughed at for Ukraine war claims. VideoRussian minister laughed at for Ukraine war claimsPublished7 hours agoFeaturesThe children left behind in Cuba\\'s mass exodusXi Jinping\\'s power grab - and why it mattersSnow, Fire and Lights: Photos of the WeekCan Nigeria\\'s election result be overturned?At conservative gathering, Trump is still the favouriteWhat\\'s the least amount of exercise we can get away with? Why Alex Murdaugh was spared the death penaltyWhy Trudeau is facing calls for a public inquiryThe shocking legacy of the Dutch \\'Hunger Winter\\'Elsewhere on the BBCThe university that changed the world11 of the best films to watch in MarchWhy scraping burnt toast may be wiseMost Read1Street fighting in Bakhmut but Russia not in control2US-made cheese can be called \\'gruyere\\' - court3Why Alex Murdaugh was spared the death penalty4AOC under investigation for Met Gala dress5The children left behind in Cuba\\'s exodus6Xi Jinping\\'s power grab - and why it matters7Alex Murdaugh\\'s legal troubles are far from over8Nelson\\'s 97th-minute stunner gives Arsenal victory9Saving Private Ryan actor Tom Sizemore dies at 6110Walkie Talkie architect Rafael ViÃ±oly dies aged 78BBC News ServicesOn your mobileOn smart speakersGet news alertsContact BBC NewsHomeNewsSportReelWorklifeTravelFutureCultureMusicTVWeatherSoundsTerms of UseAbout the BBCPrivacy PolicyCookiesAccessibility HelpParental GuidanceContact the BBCGet Personalised NewslettersWhy you can trust the BBCAdvertise with usAdChoices / Do Not Sell My InfoÂ© 2023 BBC. The BBC is not responsible for the content of external sites. Read about our approach to external linking.', 'location': 'location', 'word': {'bbc': 4, 'homepageskip': 1, 'contentaccessibility': 1, 'helpyour': 1, 'accounthomenewssportreelworklifetravelfuturemore': 1, 'menumore': 1, 'menusearch': 1, 'bbchomenewssportreelworklifetravelfutureculturemusictvweathersoundsclose': 1, 'menubbc': 1, 'newsmenuhomewar': 1, 'ukrainecoronavirusclimatevideoworldasiaukbusinesstechmoresciencestoriesentertainment': 1, '&': 2, 'artshealthworld': 1, 'news': 3, 'tvin': 1, 'picturesreality': 1, 'checknewsbeatlong': 1, 'readsworldafricaaustraliaeuropelatin': 1, 'americamiddle': 1, 'eastus': 1, 'canadawhy': 1, 'france': 19, 'faces': 2, 'anger': 1, 'west': 8, 'africapublished5': 1, 'december': 1, '2021shareclose': 1, 'panelshare': 1, 'pagecopy': 1, 'linkabout': 1, 'sharingrelated': 1, 'topicssahel': 1, 'islamist': 3, 'insurgencyimage': 1, 'source': 5, 'getty': 1, 'imagesimage': 1, 'caption': 5, 'mali': 6, 'witnessed': 1, 'protests': 1, 'franceby': 1, 'paul': 2, 'mellyafrica': 1, 'analystit': 1, 'started': 1, 'positively': 1, 'things': 1, 'gone': 1, 'wrong': 1, 'appear': 1, 'unpopular': 1, 'africa?french': 1, 'president': 8, 'emmanuel': 1, 'macron': 8, 'increased': 1, 'aid': 1, 'continent': 2, 'begun': 1, 'return': 2, 'cultural': 2, 'artefacts': 1, 'stolen': 1, 'colonial': 5, 'wars': 1, 'reached': 1, 'usual': 2, 'inter': 1, '-': 33, 'government': 2, 'ties': 1, 'engage': 1, 'younger': 1, 'generations': 1, 'civil': 2, 'society': 2, 'kept': 1, 'french': 10, 'troops': 5, 'sahel': 6, 'fight': 3, 'jihadist': 1, 'militants': 3, 'kill': 1, 'local': 4, 'civilians': 1, 'police': 1, 'soldiers': 1, 'supported': 1, 'regional': 4, 'bloc': 2, 'ecowas': 3, 'tries': 1, 'defend': 1, 'electoral': 1, 'politics': 1, 'military': 9, 'takeovers': 1, 'year': 2, 'flew': 1, 'rwanda': 2, 'publicly': 1, 'acknowledge': 2, 'failures': 1, '1994': 2, 'genocide': 2, 'country': 3, 'target': 1, 'embittered': 1, 'african': 7, 'complaints': 1, 'criticism': 1, 'scale': 2, 'probably': 1, 'unprecedented': 1, 'month': 1, 'convoy': 2, 'heading': 1, 'north': 1, 'support': 4, 'repeatedly': 1, 'blockaded': 2, 'protesters': 2, 'crossed': 1, 'burkina': 1, 'faso': 1, 'niger': 3, 'september': 1, 'prime': 1, 'minister': 3, 'choguel': 1, 'maã¯ga': 1, 'met': 2, 'wave': 1, 'sympathetic': 1, 'comment': 1, 'speech': 1, 'un': 1, 'accuse': 1, '\"': 11, 'abandoning': 1, 'mid': 1, 'flight': 1, 'mr': 5, 'began': 3, 'deployment': 1, 'progressive': 1, 'commentators': 1, 'urban': 1, 'youth': 2, 'commonplace': 1, 'hear': 1, 'calls': 2, 'abolition': 1, 'cfa': 3, 'franc': 2, 'currency': 3, 'francophone': 1, 'countries': 3, 'pegged': 1, 'euro': 1, 'guarantee': 1, 'critics': 2, 'enables': 1, 'control': 1, 'economies': 1, 'use': 1, 'says': 2, 'guarantees': 1, 'economic': 2, 'stability': 1, 'neo': 2, 'arrogancewhat': 1, 'explains': 2, 'paradox': 1, 'concerned': 1, 'africa': 8, 'recent': 2, 'predecessors': 1, 'aware': 2, 'changing': 1, 'encounters': 1, 'level': 1, 'unpopularity': 1, 'felt': 1, 'decades?certainly': 1, 'self': 1, 'confident': 1, 'arrogant': 1, 'personal': 3, 'style': 1, 'factor': 1, 'image': 3, 'afpimage': 4, 'despite': 3, 'reaching': 1, 'faced': 1, 'backlashhe': 1, 'share': 1, 'diplomatic': 1, 'blunders': 1, '13': 1, 'died': 1, 'helicopter': 1, 'crash': 1, 'november': 1, '2019': 1, 'demanded': 1, 'leaders': 4, 'fly': 1, 'emergency': 1, 'summit': 3, 'outburst': 1, 'perceived': 2, 'arrogance': 1, 'particularly': 2, 'suffered': 1, 'far': 3, 'heavier': 1, 'losses': 1, 'forced': 1, 'rapid': 1, 'course': 1, 'correction': 1, 'flying': 1, 'niamey': 1, 'capital': 2, 'pay': 1, 'respects': 1, 'nigã': 1, '©': 2, 'rien': 1, 'dead': 1, 'postponing': 1, 'january': 1, '2020.but': 1, 'causes': 2, 'current': 1, 'discomfort': 1, 'extend': 1, 'decades': 2, 'election': 2, '2017.\"you': 1, 'cite': 1, 'historical': 1, 'controversies': 1, 'linked': 1, 'colonisation': 1, 'children': 3, 'parents': 1, 'knew': 1, 'period': 1, 'humiliations': 1, 'ivorian': 1, 'political': 3, 'analyst': 1, 'sylvain': 1, 'nguessan': 2, 'early': 1, 'post': 1, 'independence': 1, 'maintained': 1, 'dense': 1, 'web': 1, 'connections': 1, 'elites': 1, 'dubbed': 1, 'franã§afrique': 1, 'slid': 1, 'mutual': 1, 'protection': 1, 'vested': 1, 'interests': 1, 'little': 1, 'regard': 2, 'human': 1, 'rights': 1, 'transparency': 1, 'outside': 1, 'powers': 1, 'paris': 2, 'colluding': 1, 'dictatorial': 1, 'allies': 3, 'relationships': 1, 'close': 1, 'unquestioning': 1, 'charisma': 1, 'changethe': 1, 'damning': 1, 'failure': 1, 'came': 1, 'failed': 1, 'act': 1, 'ally': 1, 'regime': 1, 'juvenal': 1, 'habyarimana': 1, 'prepare': 1, 'era': 1, 'colonies': 1, 'africafrom': 1, 'mid-1990s': 1, 'onwards': 1, 'governments': 2, 'worked': 1, 'reform': 4, 'engagement': 1, 'priority': 1, 'development': 1, 'democratic': 3, 'governance': 1, 'momentum': 1, 'later': 1, 'faltered': 1, 'nicolas': 1, 'sarkozy': 2, 'tenure': 1, '2007': 1, 'remarking': 1, 'spectacular': 1, 'lack': 1, 'tact': 1, 'man': 1, 'sufficiently': 1, 'entered': 1, 'history': 1, 'favoured': 1, 'old': 4, 'bongo': 1, 'family': 1, 'governed': 1, 'gabon': 1, '1967.when': 1, 'franã§ois': 1, 'hollande': 1, '2012': 1, 'choice': 1, 'focus': 1, 'security': 2, 'issues': 1, 'swathe': 1, 'land': 1, 'south': 1, 'sahara': 1, 'desert': 1, 'strength': 2, 'revive': 1, 'efforts': 1, 'accession': 1, 'office': 1, 'fully': 1, 'need': 1, 'change': 2, 'clout': 1, 'enthusiasm': 1, 'attack': 1, 'task': 1, '2017': 1, 'told': 1, 'students': 1, 'burkinabe': 1, 'ouagadougou': 2, 'wanted': 1, 'invited': 1, 'figures': 1, 'montpellier': 1, 'flock': 1, 'presidents': 2, 'festering': 2, 'woundyet': 1, 'readiness': 1, 'speak': 1, 'plainly': 1, 'challenge': 1, 'structures': 1, 'question': 1, 'comfortable': 1, 'assumptions': 1, 'played': 1, 'clamouring': 1, 'counter': 1, 'terrorism': 2, 'operation': 1, 'major': 1, 'problem': 2, 'vast': 1, 'region': 1, 'africamoreover': 1, 'situation': 1, 'deteriorated': 1, 'wound': 1, 'presence': 1, 'fuels': 1, 'increasingly': 1, 'widespread': 1, 'sense': 1, 'grievance': 1, 'massive': 1, 'sustained': 1, 'effort': 1, '5,000': 1, 'deployed': 1, '50': 1, 'killed': 1, 'able': 2, 'decisively': 1, 'overcome': 1, 'threat': 1, 'jihadists': 2, 'attacks': 1, 'communities': 1, 'forces': 1, 'continue': 1, 'reasons': 1, 'complex': 1, 'social': 2, 'environmental': 1, 'significant': 1, 'proportion': 1, 'public': 2, 'opinion': 1, 'feels': 1, 'high': 1, 'tech': 1, 'western': 1, 'power': 4, 'sort': 1, 'way': 1, 'feelings': 1, 'motivated': 1, 'army': 1, 'comes': 1, 'earlier': 1, 'resentments': 1, 'points': 1, 'speeches': 1, 'dakar': 1, 'war': 3, 'ivory': 1, 'coast': 1, 'discouraging': 1, 'results': 1, 'campaign': 1, 'questions': 1, 'related': 1, 'debt': 1, 'dictators': 1, 'ill': 1, 'chosen': 1, 'words': 1, '\"image': 1, 'regarded': 1, 'prop': 2, 'guard': 2, 'establishment': 2, 'supporting': 1, 'bodiesbut': 1, 'underlying': 1, 'communal': 1, 'factors': 1, 'shape': 1, 'attitudes': 1, 'senior': 1, 'officer': 1, 'sees': 1, 'tuareg': 1, 'separatist': 1, 'rebels': 1, 'northern': 1, 'allegation': 1, 'fiercely': 1, 'credibly': 1, 'denied': 1, 'similar': 1, 'complexities': 1, 'surround': 1, 'body': 1, 'currently': 1, 'trying': 1, 'pressure': 1, 'coup': 1, 'guinea': 1, 'rapidly': 1, 'civilian': 2, 'constitutional': 1, 'rule': 1, 'growing': 1, 'number': 1, 'young': 1, 'people': 1, 'incumbent': 1, \"'\": 4, 'club': 1, 'slow': 1, 'criticise': 1, 'rulers': 1, 'manipulate': 1, 'rules': 1, 'unwilling': 1, 'popular': 1, 'promising': 1, 'backing': 1, 'legitimate': 1, 'crisis': 1, 'management': 1, 'institution': 1, 'ends': 1, 'melly': 1, 'consulting': 1, 'fellow': 1, 'programme': 1, 'think': 1, 'tank': 1, 'chatham': 1, 'house': 1, 'london': 1, 'fighting': 3, 'sahelian': 1, 'analysis': 1, 'policing': 1, 'terror': 1, 'trianglebackgrounder': 1, 'critical': 1, 'stage': 1, 'jihadis': 1, 'africarelated': 1, 'topicsfranceemmanuel': 1, 'macronsahel': 1, 'insurgencyaround': 1, 'bbcafrica': 1, 'today': 1, 'podcaststop': 1, 'storiesxi': 1, 'jinping': 3, 'grab': 3, 'matterspublished12': 1, 'hours': 3, 'agostreet': 1, 'bakhmut': 2, 'russia': 2, 'controlpublished6': 1, 'agorussian': 1, 'laughed': 2, 'ukraine': 2, 'claims': 1, 'videorussian': 1, 'claimspublished7': 1, 'agofeaturesthe': 1, 'left': 2, 'cuba': 2, 'mass': 1, 'exodusxi': 1, 'matterssnow': 1, 'fire': 1, 'lights': 1, 'photos': 1, 'weekcan': 1, 'nigeria': 1, 'result': 1, 'overturned?at': 1, 'conservative': 1, 'gathering': 1, 'trump': 1, 'favouritewhat': 1, 'exercise': 1, 'away': 1, 'alex': 2, 'murdaugh': 3, 'spared': 2, 'death': 2, 'penaltywhy': 1, 'trudeau': 1, 'facing': 1, 'inquirythe': 1, 'shocking': 1, 'legacy': 1, 'dutch': 1, 'hunger': 1, \"winter'elsewhere\": 1, 'bbcthe': 1, 'university': 1, 'changed': 1, 'world11': 1, 'best': 1, 'films': 1, 'watch': 1, 'marchwhy': 1, 'scraping': 1, 'burnt': 1, 'toast': 1, 'wisemost': 1, 'read1street': 1, 'control2us': 1, 'cheese': 1, 'called': 1, 'gruyere': 1, 'court3why': 1, 'penalty4aoc': 1, 'investigation': 1, 'gala': 1, 'dress5the': 1, 'exodus6xi': 1, 'matters7alex': 1, 'legal': 1, 'troubles': 1, 'over8nelson': 1, '97th': 1, 'minute': 1, 'stunner': 1, 'gives': 1, 'arsenal': 1, 'victory9saving': 1, 'private': 1, 'ryan': 1, 'actor': 1, 'tom': 1, 'sizemore': 1, 'dies': 2, '6110walkie': 1, 'talkie': 1, 'architect': 1, 'rafael': 1, 'viã±oly': 1, 'aged': 1, '78bbc': 1, 'serviceson': 1, 'mobileon': 1, 'smart': 1, 'speakersget': 1, 'alertscontact': 1, 'newshomenewssportreelworklifetravelfutureculturemusictvweathersoundsterms': 1, 'useabout': 1, 'bbcprivacy': 1, 'policycookiesaccessibility': 1, 'helpparental': 1, 'guidancecontact': 1, 'bbcget': 1, 'personalised': 1, 'newsletterswhy': 1, 'trust': 1, 'bbcadvertise': 1, 'usadchoices': 1, '/': 1, 'sell': 1, 'infoâ': 1, '2023': 1, 'responsible': 1, 'content': 1, 'external': 2, 'sites': 1, 'read': 1, 'approach': 1, 'linking': 1}, 'ref': 0}\n",
      "https://www.bbc.com/news/health-64001807\n",
      "{'link': 'https://www.bbc.com/news/health-64001807', 'title': \"What's the least exercise we can get away with? - BBC News\", 'body': 'BBC HomepageSkip to contentAccessibility HelpYour accountHomeNewsSportReelWorklifeTravelFutureMore menuMore menuSearch BBCHomeNewsSportReelWorklifeTravelFutureCultureMusicTVWeatherSoundsClose menuBBC NewsMenuHomeWar in UkraineCoronavirusClimateVideoWorldAsiaUKBusinessTechMoreScienceStoriesEntertainment & ArtsHealthWorld News TVIn PicturesReality CheckNewsbeatLong ReadsHealthCoronavirusWhat\\'s the least exercise we can get away with?Published20 hours agoShareclose panelShare pageCopy linkAbout sharingImage source, Getty ImagesBy James GallagherInside Health presenter, BBC Radio 4How much exercise do you manage to do?In a parallel universe I practically live in the swimming pool, cycle everywhere and knock out 10km (six miles) runs just for fun. However, in the real world of work, family and being a carer, my weekly swim feels like an achievement. We are recommended to do nearly two and a half hours (150 minutes) of moderate-intensity exercise each week. About a quarter of the population do not even manage half an hour.So is there something easier we can aim for? What is the least amount of exercise that will start to improve our health? Someone who is keen to make exercise advice less intimidating is Dr Zoe Saynor, assistant professor of clinical exercise physiology at Portsmouth University, not to mention a retired elite-level rugby player. She is going to help me look for an answer. To this end, I\\'ve been wearing an activity tracker for a week.Image caption, Dr Zoe Saynor invited me to her laboratory at the University of PortsmouthI\\'m going to get my excuses in early - it was an incredibly busy week at work, and I was tied to my desk most of the time I was wearing it. The results are still horrifying. I managed only one minute of vigorous exercise (equivalent to running) every day, and 16 minutes of moderate exercise (something like a brisk walk). \"That\\'s a picture that we see time and time again in lots of people living in modern society,\" says Dr Saynor.Whatever state my body is in, a lot is going to depend on that single hour of swimming I squeeze in most weekends. Listen to Inside Health podcast: The lazy guide to exerciseGo fast, or go far? If you want to spend less time exercising - but still achieve high results - then the only option is to work harder.\"There\\'s clear evidence that if you want to do shorter exercise sessions, they need to be of a higher intensity,\" says Dr Saynor.In official guidance, the alternative to doing 150 minutes of moderate activity is to do 75 minutes vigorously.High-intensity interval training (HIIT), involving short but very explosive bouts of activity, gets a lot of attention. However, Dr Saynor says most people cannot stick to it because HIIT requires exercising at such intense levels.What is the bare minimum?When it comes down to the least amount of exercise people should do, Dr Saynor says she is a firm believer in 5,000 to 6,000 steps a day. It is easy to scoff at advice to get off the bus one stop early, or go for a stroll on your lunch break but it does seem to make a difference. A study of nearly 80,000 people published in JAMA Internal Medicine showed that walking a bit more every day reduced the risk of cancer, cardiovascular disease or an early death. That pattern continues until you reach about 10,000 steps a day - again, faster steps are worth more than slow ones. \"If you have no time to suddenly do 10,000 steps a day, can we get you to do 5,000 steps faster? We will see an improvement in your health,\" Dr Saynor says.You do not even have to do formal exercise like going for a run, hitting the gym or swimming to see a noticeable health benefit. A study, published in Nature Medicine, looked at 25,000 people who do not \"exercise\" as such but perform small vigorous bouts of activity in day-to-day life. This could be really unextraordinary stuff - running for a train, pushing the vacuum cleaner around, playing with the kids or the dogs, carrying in the heavy shopping or taking the stairs. The research showed between three and four minutes of short vigorous activity in bursts over the day had a profound health benefit.\"The people that are displaying this intermittent activity can reduce their risk of major diseases, such as heart disease and cancer, by up to 50%,\" Mark Hamer, professor of sport and exercise medicine at University College London, tells me. \"Over the last decade, the guidelines have been slowly edging away from the message of 30 minutes a day more towards the message of \\'anything counts\\', and I think these results back up that message.\" Image source, Getty ImagesLie back in the bath - and get fit?If you still do not have time to do it, there may be another way - and it sounds much more enjoyable.How does a bath, hot tub or sauna sound?I have changed into my favourite swim shorts - a fetching pink-flamingo pair - and I am being lowered into a very warm bath. This is a precisely controlled experiment so I cannot just hop in. Researcher Thomas James has to winch me into a pool of water at 40C so only my head and neck are above water.The point of 40C is that it is higher than my core body temperature (37C), so all the time I am in here my body is working hard to lose heat. Very quickly I can feel the sweat beading on my forehead but on the rest of my body it is just being washed away and is not cooling me down. \"Hot water is actually particularly lethal in this respect,\" says Mr James.If I spent too long in here I would overheat and die of heatstroke. My heart pumps harder and more quickly as it tries to lose heat by getting blood closer to the surface of my skin. \"Your heart will be working hard, similar to what you would see with light intensity exercise,\" he says. \"We\\'re seeing reductions in blood pressure, even in healthy people.\"The big idea is to enhance exercise. \"This is a really good way of mimicking some of those benefits you get from exercise but the evidence is certainly pretty clear that exercise is best and then the two together get the biggest health benefits,\" says Mr James, adding: \"I think this will really play a big part in the future.\"So if you go to the gym and then hit the sauna or a hot tub afterwards you might get a cheeky boost. However, the team at Portsmouth caution people to stick to the recommendations. \"Don\\'t go, \\'I\\'m going to stay in here as long as I can.\\' Do it for enjoyment,\" says Mr James.The advice is often between 10 and 20 minutes depending on exactly what facilities you are using, so do check. Obviously all of us should be aiming to do the recommended amount of exercise but, given that many of us find that impossible, it is hugely reassuring that there are significant benefits to be had just by doing a little bit more than we are already.Inside Health was produced by Erika Wright. More from Inside HealthCold: What does an unheated room do to your body?Covid: Have I dodged it and what does it mean?Multiple sclerosis: Is a virus we all have causing MS?Long Covid: \\'I\\'ve had long Covid for two years now\\'Related TopicsJames GallagherCost of livingTop StoriesXi Jinping\\'s power grab - and why it mattersPublished12 hours agoStreet fighting in Bakhmut but Russia not in controlPublished6 hours agoRussian minister laughed at for Ukraine war claims. VideoRussian minister laughed at for Ukraine war claimsPublished7 hours agoFeaturesThe children left behind in Cuba\\'s mass exodusXi Jinping\\'s power grab - and why it mattersSnow, Fire and Lights: Photos of the WeekCan Nigeria\\'s election result be overturned?At conservative gathering, Trump is still the favouriteWhat\\'s the least amount of exercise we can get away with? Why Alex Murdaugh was spared the death penaltyWhy Trudeau is facing calls for a public inquiryThe shocking legacy of the Dutch \\'Hunger Winter\\'Elsewhere on the BBCThe university that changed the world11 of the best films to watch in MarchWhy scraping burnt toast may be wiseMost Read1Street fighting in Bakhmut but Russia not in control2US-made cheese can be called \\'gruyere\\' - court3Why Alex Murdaugh was spared the death penalty4AOC under investigation for Met Gala dress5The children left behind in Cuba\\'s exodus6Xi Jinping\\'s power grab - and why it matters7Alex Murdaugh\\'s legal troubles are far from over8Nelson\\'s 97th-minute stunner gives Arsenal victory9Saving Private Ryan actor Tom Sizemore dies at 6110Walkie Talkie architect Rafael ViÃ±oly dies aged 78BBC News ServicesOn your mobileOn smart speakersGet news alertsContact BBC NewsHomeNewsSportReelWorklifeTravelFutureCultureMusicTVWeatherSoundsTerms of UseAbout the BBCPrivacy PolicyCookiesAccessibility HelpParental GuidanceContact the BBCGet Personalised NewslettersWhy you can trust the BBCAdvertise with usAdChoices / Do Not Sell My InfoÂ© 2023 BBC. The BBC is not responsible for the content of external sites. Read about our approach to external linking.', 'location': 'location', 'word': {'bbc': 5, 'homepageskip': 1, 'contentaccessibility': 1, 'helpyour': 1, 'accounthomenewssportreelworklifetravelfuturemore': 1, 'menumore': 1, 'menusearch': 1, 'bbchomenewssportreelworklifetravelfutureculturemusictvweathersoundsclose': 1, 'menubbc': 1, 'newsmenuhomewar': 1, 'ukrainecoronavirusclimatevideoworldasiaukbusinesstechmoresciencestoriesentertainment': 1, '&': 1, 'artshealthworld': 1, 'news': 3, 'tvin': 1, 'picturesreality': 1, 'checknewsbeatlong': 1, 'readshealthcoronaviruswhat': 1, 'exercise': 19, 'away': 4, 'with?published20': 1, 'hours': 5, 'agoshareclose': 1, 'panelshare': 1, 'pagecopy': 1, 'linkabout': 1, 'sharingimage': 1, 'source': 2, 'getty': 2, 'imagesby': 1, 'james': 5, 'gallagherinside': 1, 'health': 8, 'presenter': 1, 'radio': 1, '4how': 1, 'manage': 2, 'do?in': 1, 'parallel': 1, 'universe': 1, 'practically': 1, 'live': 1, 'swimming': 3, 'pool': 2, 'cycle': 1, 'knock': 1, '10': 2, 'km': 1, 'miles': 1, 'runs': 1, 'fun': 1, 'real': 1, 'world': 1, 'work': 3, 'family': 1, 'carer': 1, 'weekly': 1, 'swim': 2, 'feels': 1, 'like': 3, 'achievement': 1, 'recommended': 2, 'nearly': 2, 'half': 2, '150': 2, 'minutes': 7, 'moderate': 3, '-': 21, 'intensity': 4, 'week': 3, 'quarter': 1, 'population': 1, 'hour': 2, 'easier': 1, 'aim': 1, 'start': 1, 'improve': 1, 'keen': 1, 'advice': 3, 'intimidating': 1, 'dr': 7, 'zoe': 2, 'saynor': 7, 'assistant': 1, 'professor': 2, 'clinical': 1, 'physiology': 1, 'portsmouth': 2, 'university': 4, 'mention': 1, 'retired': 1, 'elite': 1, 'level': 1, 'rugby': 1, 'player': 1, 'going': 5, 'help': 1, 'look': 1, 'answer': 1, 'end': 1, 'wearing': 2, 'activity': 6, 'tracker': 1, 'image': 2, 'caption': 1, 'invited': 1, 'laboratory': 1, \"portsmouthi'm\": 1, 'excuses': 1, 'early': 3, 'incredibly': 1, 'busy': 1, 'tied': 1, 'desk': 1, 'time': 7, 'results': 3, 'horrifying': 1, 'managed': 1, 'minute': 2, 'vigorous': 3, 'equivalent': 1, 'running': 2, 'day': 9, '16': 1, 'brisk': 1, 'walk': 1, '\"': 20, 'picture': 1, 'lots': 1, 'people': 8, 'living': 1, 'modern': 1, 'society': 1, 'says': 9, 'state': 1, 'body': 4, 'lot': 2, 'depend': 1, 'single': 1, 'squeeze': 1, 'weekends': 1, 'listen': 1, 'inside': 3, 'podcast': 1, 'lazy': 1, 'guide': 1, 'exercisego': 1, 'fast': 1, 'far': 2, 'want': 2, 'spend': 1, 'exercising': 2, 'achieve': 1, 'high': 2, 'option': 1, 'harder': 2, '\"there': 1, 'clear': 2, 'evidence': 2, 'shorter': 1, 'sessions': 1, 'need': 1, 'higher': 2, 'official': 1, 'guidance': 1, 'alternative': 1, '75': 1, 'vigorously': 1, 'interval': 1, 'training': 1, 'hiit': 2, 'involving': 1, 'short': 2, 'explosive': 1, 'bouts': 2, 'gets': 1, 'attention': 1, 'stick': 2, 'requires': 1, 'intense': 1, 'levels': 1, 'bare': 1, 'minimum?when': 1, 'comes': 1, 'firm': 1, 'believer': 1, '5,000': 2, '6,000': 1, 'steps': 5, 'easy': 1, 'scoff': 1, 'bus': 1, 'stop': 1, 'stroll': 1, 'lunch': 1, 'break': 1, 'difference': 1, 'study': 2, '80,000': 1, 'published': 2, 'jama': 1, 'internal': 1, 'medicine': 3, 'showed': 2, 'walking': 1, 'bit': 2, 'reduced': 1, 'risk': 2, 'cancer': 2, 'cardiovascular': 1, 'disease': 2, 'death': 3, 'pattern': 1, 'continues': 1, 'reach': 1, '10,000': 2, 'faster': 2, 'worth': 1, 'slow': 1, 'ones': 1, 'suddenly': 1, 'improvement': 1, 'formal': 1, 'run': 1, 'hitting': 1, 'gym': 2, 'noticeable': 1, 'benefit': 2, 'nature': 1, 'looked': 1, '25,000': 1, 'perform': 1, 'small': 1, 'life': 1, 'unextraordinary': 1, 'stuff': 1, 'train': 1, 'pushing': 1, 'vacuum': 1, 'cleaner': 1, 'playing': 1, 'kids': 1, 'dogs': 1, 'carrying': 1, 'heavy': 1, 'shopping': 1, 'taking': 1, 'stairs': 1, 'research': 1, 'bursts': 1, 'profound': 1, '\"the': 2, 'displaying': 1, 'intermittent': 1, 'reduce': 1, 'major': 1, 'diseases': 1, 'heart': 3, '50': 1, '%': 1, 'mark': 1, 'hamer': 1, 'sport': 1, 'college': 1, 'london': 1, 'tells': 1, 'decade': 1, 'guidelines': 1, 'slowly': 1, 'edging': 1, 'message': 3, '30': 1, \"'\": 8, 'counts': 1, 'think': 2, 'imageslie': 1, 'bath': 3, 'fit?if': 1, 'way': 2, 'sounds': 1, 'enjoyable': 1, 'hot': 3, 'tub': 2, 'sauna': 2, 'sound?i': 1, 'changed': 2, 'favourite': 1, 'shorts': 1, 'fetching': 1, 'pink': 1, 'flamingo': 1, 'pair': 1, 'lowered': 1, 'warm': 1, 'precisely': 1, 'controlled': 1, 'experiment': 1, 'hop': 1, 'researcher': 1, 'thomas': 1, 'winch': 1, 'water': 3, '40c': 2, 'head': 1, 'neck': 1, 'point': 1, 'core': 1, 'temperature': 1, '37c': 1, 'working': 2, 'hard': 2, 'lose': 2, 'heat': 2, 'quickly': 2, 'feel': 1, 'sweat': 1, 'beading': 1, 'forehead': 1, 'rest': 1, 'washed': 1, 'cooling': 1, 'actually': 1, 'particularly': 1, 'lethal': 1, 'respect': 1, 'mr': 3, 'spent': 1, 'long': 3, 'overheat': 1, 'die': 1, 'heatstroke': 1, 'pumps': 1, 'tries': 1, 'getting': 1, 'blood': 2, 'closer': 1, 'surface': 1, 'skin': 1, 'similar': 1, 'light': 1, 'seeing': 1, 'reductions': 1, 'pressure': 1, 'healthy': 1, 'big': 2, 'idea': 1, 'enhance': 1, 'good': 1, 'mimicking': 1, 'benefits': 3, 'certainly': 1, 'pretty': 1, 'best': 2, 'biggest': 1, 'adding': 1, 'play': 1, 'future': 1, '\"so': 1, 'hit': 1, 'cheeky': 1, 'boost': 1, 'team': 1, 'caution': 1, 'recommendations': 1, 'stay': 1, 'enjoyment': 1, '20': 1, 'depending': 1, 'exactly': 1, 'facilities': 1, ',': 5, 'check': 1, 'obviously': 1, 'aiming': 1, 'given': 1, 'find': 1, 'impossible': 1, 'hugely': 1, 'reassuring': 1, 'significant': 1, 'little': 1, 'produced': 1, 'erika': 1, 'wright': 1, 'healthcold': 1, 'unheated': 1, 'room': 1, 'body?covid': 1, 'dodged': 1, 'mean?multiple': 1, 'sclerosis': 1, 'virus': 1, 'causing': 1, 'ms?long': 1, 'covid': 2, 'years': 1, \"now'related\": 1, 'topicsjames': 1, 'gallaghercost': 1, 'livingtop': 1, 'storiesxi': 1, 'jinping': 3, 'power': 3, 'grab': 3, 'matterspublished12': 1, 'agostreet': 1, 'fighting': 2, 'bakhmut': 2, 'russia': 2, 'controlpublished6': 1, 'agorussian': 1, 'minister': 2, 'laughed': 2, 'ukraine': 2, 'war': 2, 'claims': 1, 'videorussian': 1, 'claimspublished7': 1, 'agofeaturesthe': 1, 'children': 2, 'left': 2, 'cuba': 2, 'mass': 1, 'exodusxi': 1, 'matterssnow': 1, 'fire': 1, 'lights': 1, 'photos': 1, 'weekcan': 1, 'nigeria': 1, 'election': 1, 'result': 1, 'overturned?at': 1, 'conservative': 1, 'gathering': 1, 'trump': 1, 'favouritewhat': 1, 'alex': 2, 'murdaugh': 3, 'spared': 2, 'penaltywhy': 1, 'trudeau': 1, 'facing': 1, 'calls': 1, 'public': 1, 'inquirythe': 1, 'shocking': 1, 'legacy': 1, 'dutch': 1, 'hunger': 1, \"winter'elsewhere\": 1, 'bbcthe': 1, 'world11': 1, 'films': 1, 'watch': 1, 'marchwhy': 1, 'scraping': 1, 'burnt': 1, 'toast': 1, 'wisemost': 1, 'read1street': 1, 'control2us': 1, 'cheese': 1, 'called': 1, 'gruyere': 1, 'court3why': 1, 'penalty4aoc': 1, 'investigation': 1, 'met': 1, 'gala': 1, 'dress5the': 1, 'exodus6xi': 1, 'matters7alex': 1, 'legal': 1, 'troubles': 1, 'over8nelson': 1, '97th': 1, 'stunner': 1, 'gives': 1, 'arsenal': 1, 'victory9saving': 1, 'private': 1, 'ryan': 1, 'actor': 1, 'tom': 1, 'sizemore': 1, 'dies': 2, '6110walkie': 1, 'talkie': 1, 'architect': 1, 'rafael': 1, 'viã±oly': 1, 'aged': 1, '78bbc': 1, 'serviceson': 1, 'mobileon': 1, 'smart': 1, 'speakersget': 1, 'alertscontact': 1, 'newshomenewssportreelworklifetravelfutureculturemusictvweathersoundsterms': 1, 'useabout': 1, 'bbcprivacy': 1, 'policycookiesaccessibility': 1, 'helpparental': 1, 'guidancecontact': 1, 'bbcget': 1, 'personalised': 1, 'newsletterswhy': 1, 'trust': 1, 'bbcadvertise': 1, 'usadchoices': 1, '/': 1, 'sell': 1, 'infoâ': 1, '©': 1, '2023': 1, 'responsible': 1, 'content': 1, 'external': 2, 'sites': 1, 'read': 1, 'approach': 1, 'linking': 1, '.': 1}, 'ref': 0}\n",
      "https://www.bbc.com/news/topics/cywd23g04get\n",
      "{'link': 'https://www.bbc.com/news/topics/cywd23g04get', 'title': 'Colombia - BBC News', 'body': \"BBC HomepageSkip to contentAccessibility HelpYour accountHomeNewsSportReelWorklifeTravelFutureMore menuMore menuSearch BBCHomeNewsSportReelWorklifeTravelFutureCultureMusicTVWeatherSoundsClose menuBBC NewsMenuHomeWar in UkraineCoronavirusClimateVideoWorldAsiaUKBusinessTechMoreScienceStoriesEntertainment & ArtsHealthWorld News TVIn PicturesReality CheckNewsbeatLong ReadsColombiaPolice officers taken hostage in Colombia freedAttributionLatin America & CaribbeanPosted19 hours ago19hWatch: Police held hostage in Colombia protest. Video, 00:00:21Watch: Police held hostage in Colombia protestAttributionLatin America & CaribbeanPosted1 day ago1d0:21US arrests four over Haiti leader's assassinationAttributionUS & CanadaPosted14 February14 FebColombia media guideAttributionLatin America & CaribbeanPosted14 February14 FebColombia country profileAttributionLatin America & CaribbeanPosted14 February14 FebSecond balloon over Latin America is ours - ChinaAttributionWorldPosted6 February6 FebColombian drug lord Otoniel pleads guiltyAttributionLatin America & CaribbeanPosted26 January26 Jan'Endangered' name Nigel given to rare monkeyAttributionSussexPosted23 January23 JanColombian VP says she escaped assassination attemptAttributionLatin America & CaribbeanPosted10 January10 JanThe life-saving secret message in a Colombian pop songAttributionLatin America & CaribbeanPosted1 January1 JanWitness History. Colombia's 'false positives' killings. Audio, 9 minutesWitness HistoryColombia's 'false positives' killingsWhen Colombia's military murdered thousands of innocent civiliansAttributionBBC World ServiceAvailable for over a year9 minsColombia's life-saving pop song. Audio, 00:03:59Colombia's life-saving pop songAttributionLatin America & CaribbeanPosted20 December 202220 Dec 20223:59Row over festivity divides Afro-Colombian townAttributionLatin America & CaribbeanPosted14 December 202214 Dec 2022Dozens killed as bus buried by Colombia mudslideAttributionLatin America & CaribbeanPosted5 December 20225 Dec 2022Colombia makes progress in peace talks with rebelsAttributionLatin America & CaribbeanPosted4 December 20224 Dec 2022The Scotsman bringing rugby for peace to Colombia. Video, 00:02:06The Scotsman bringing rugby for peace to ColombiaAttributionScottish RugbyPosted30 November 202230 Nov 20222:06Colombia in new peace talks with leftist ELN rebelsAttributionLatin America & CaribbeanPosted22 November 202222 Nov 2022The Documentary Podcast. Colombia's life-saving pop song. Audio, 28 minutesThe Documentary PodcastColombia's life-saving pop songHow a message hidden inside a pop song saved the lives of soldiers in captivityAttributionBBC World ServiceAvailable for over a year28 minsRecord crop for cocaine production in ColombiaAttributionLatin America & CaribbeanPosted21 October 202221 Oct 2022Colombian drug kingpin Don Mario sentenced in USAttributionLatin America & CaribbeanPosted18 October 202218 Oct 2022Venezuelan migration soars to 7.1m amid crisisAttributionLatin America & CaribbeanPosted17 October 202217 Oct 2022'Truss the Brief?' World reacts to UK turmoilAttributionWorldPosted17 October 202217 Oct 2022'Why I went to the world's most dangerous border'AttributionBirmingham & Black CountryPosted16 October 202216 Oct 2022Castrating Pablo Escobar's hippos. Video, 00:02:13Castrating Pablo Escobar's hipposAttributionStoriesPosted16 October 202216 Oct 20222:13previous pagePage 1 of 2312345623next pageHomeNewsSportReelWorklifeTravelFutureCultureMusicTVWeatherSoundsTerms of UseAbout the BBCPrivacy PolicyCookiesAccessibility HelpParental GuidanceContact the BBCGet Personalised NewslettersWhy you can trust the BBCAdvertise with usAdChoices / Do Not Sell My InfoÂ© 2023 BBC. The BBC is not responsible for the content of external sites. Read about our approach to external linking.\", 'location': 'location', 'word': {'bbc': 3, 'homepageskip': 1, 'contentaccessibility': 1, 'helpyour': 1, 'accounthomenewssportreelworklifetravelfuturemore': 1, 'menumore': 1, 'menusearch': 1, 'bbchomenewssportreelworklifetravelfutureculturemusictvweathersoundsclose': 1, 'menubbc': 1, 'newsmenuhomewar': 1, 'ukrainecoronavirusclimatevideoworldasiaukbusinesstechmoresciencestoriesentertainment': 1, '&': 18, 'artshealthworld': 1, 'news': 1, 'tvin': 1, 'picturesreality': 1, 'checknewsbeatlong': 1, 'readscolombiapolice': 1, 'officers': 1, 'taken': 1, 'hostage': 3, 'colombia': 8, 'freedattributionlatin': 1, 'america': 16, 'caribbeanposted19': 1, 'hours': 1, 'ago19hwatch': 1, 'police': 2, 'held': 2, 'protest': 1, 'video': 3, '00:00:21watch': 1, 'protestattributionlatin': 1, 'caribbeanposted1': 2, 'day': 1, 'ago1d0:21us': 1, 'arrests': 1, 'haiti': 1, 'leader': 1, 'assassinationattributionus': 1, 'canadaposted14': 1, 'february14': 3, 'febcolombia': 2, 'media': 1, 'guideattributionlatin': 1, 'caribbeanposted14': 3, 'country': 1, 'profileattributionlatin': 1, 'febsecond': 1, 'balloon': 1, 'latin': 1, '-': 7, 'chinaattributionworldposted6': 1, 'february6': 1, 'febcolombian': 1, 'drug': 2, 'lord': 1, 'otoniel': 1, 'pleads': 1, 'guiltyattributionlatin': 1, 'caribbeanposted26': 1, 'january26': 1, \"jan'endangered\": 1, \"'\": 6, 'nigel': 1, 'given': 1, 'rare': 1, 'monkeyattributionsussexposted23': 1, 'january23': 1, 'jancolombian': 1, 'vp': 1, 'says': 1, 'escaped': 1, 'assassination': 1, 'attemptattributionlatin': 1, 'caribbeanposted10': 1, 'january10': 1, 'janthe': 1, 'life': 5, 'saving': 5, 'secret': 1, 'message': 2, 'colombian': 2, 'pop': 6, 'songattributionlatin': 2, 'january1': 1, 'janwitness': 1, 'history': 1, 'false': 2, 'positives': 2, 'killings': 1, 'audio': 3, '9': 1, 'minuteswitness': 1, 'historycolombia': 1, 'killingswhen': 1, 'military': 1, 'murdered': 1, 'thousands': 1, 'innocent': 1, 'civiliansattributionbbc': 1, 'world': 4, 'serviceavailable': 2, 'year9': 1, 'minscolombia': 1, 'song': 3, '00:03:59colombia': 1, 'caribbeanposted20': 1, 'december': 4, '202220': 1, 'dec': 4, '20223:59row': 1, 'festivity': 1, 'divides': 1, 'afro': 1, 'townattributionlatin': 1, '202214': 1, '2022dozens': 1, 'killed': 1, 'bus': 1, 'buried': 1, 'mudslideattributionlatin': 1, 'caribbeanposted5': 1, '20225': 1, '2022colombia': 1, 'makes': 1, 'progress': 1, 'peace': 4, 'talks': 2, 'rebelsattributionlatin': 2, 'caribbeanposted4': 1, '20224': 1, '2022the': 2, 'scotsman': 2, 'bringing': 2, 'rugby': 2, '00:02:06the': 1, 'colombiaattributionscottish': 1, 'rugbyposted30': 1, 'november': 2, '202230': 1, 'nov': 2, '20222:06colombia': 1, 'new': 1, 'leftist': 1, 'eln': 1, 'caribbeanposted22': 1, '202222': 1, 'documentary': 2, 'podcast': 1, '28': 1, 'minutesthe': 1, 'podcastcolombia': 1, 'songhow': 1, 'hidden': 1, 'inside': 1, 'saved': 1, 'lives': 1, 'soldiers': 1, 'captivityattributionbbc': 1, 'year28': 1, 'minsrecord': 1, 'crop': 1, 'cocaine': 1, 'production': 1, 'colombiaattributionlatin': 1, 'caribbeanposted21': 1, 'october': 6, '202221': 1, 'oct': 6, '2022colombian': 1, 'kingpin': 1, 'don': 1, 'mario': 1, 'sentenced': 1, 'usattributionlatin': 1, 'caribbeanposted18': 1, '202218': 1, '2022venezuelan': 1, 'migration': 1, 'soars': 1, '7.1': 1, 'm': 1, 'amid': 1, 'crisisattributionlatin': 1, 'caribbeanposted17': 1, '202217': 2, \"2022'truss\": 1, 'brief': 1, 'reacts': 1, 'uk': 1, 'turmoilattributionworldposted17': 1, \"2022'why\": 1, 'went': 1, 'dangerous': 1, \"border'attributionbirmingham\": 1, 'black': 1, 'countryposted16': 1, '202216': 2, '2022castrating': 1, 'pablo': 2, 'escobar': 2, 'hippos': 1, '00:02:13castrating': 1, 'hipposattributionstoriesposted16': 1, '20222:13previous': 1, 'pagepage': 1, '1': 1, '2312345623next': 1, 'pagehomenewssportreelworklifetravelfutureculturemusictvweathersoundsterms': 1, 'useabout': 1, 'bbcprivacy': 1, 'policycookiesaccessibility': 1, 'helpparental': 1, 'guidancecontact': 1, 'bbcget': 1, 'personalised': 1, 'newsletterswhy': 1, 'trust': 1, 'bbcadvertise': 1, 'usadchoices': 1, '/': 1, 'sell': 1, 'infoâ': 1, '©': 1, '2023': 1, 'responsible': 1, 'content': 1, 'external': 2, 'sites': 1, 'read': 1, 'approach': 1, 'linking': 1}, 'ref': 0}\n",
      "https://www.bbc.com/news/av/world-us-canada-64841442\n",
      "{'link': 'https://www.bbc.com/news/av/world-us-canada-64841442', 'title': 'Man wades through waist-high snow in California - BBC News', 'body': \"BBC HomepageSkip to contentAccessibility HelpYour accountHomeNewsSportReelWorklifeTravelFutureMore menuMore menuSearch BBCHomeNewsSportReelWorklifeTravelFutureCultureMusicTVWeatherSoundsClose menuBBC NewsMenuHomeWar in UkraineCoronavirusClimateVideoWorldAsiaUKBusinessTechMoreScienceStoriesEntertainment & ArtsHealthWorld News TVIn PicturesReality CheckNewsbeatLong ReadsWorldAfricaAustraliaEuropeLatin AmericaMiddle EastUS & CanadaMan wades through waist-high snow in CaliforniaThis video can not be playedTo play this video you need to enable JavaScript in your browser.Man wades through waist-high snow in CaliforniaCloseCalifornia is enduring an unusually severe winter. At least 13 counties have declared a state of emergency from the severity of the winter storm and some residents have been stranded in their homes.Published1 day agoSectionBBC NewsSubsectionUS & CanadaShareclose panelShare pageCopy linkAbout sharingRead descriptionExplore moreMan wades through waist-high snow in California. Video, 00:00:31Man wades through waist-high snow in CaliforniaPublished1 day agoSubsectionUS & Canada0:31Up Next. Rare snow carpets swathes of storm-hit California. Video, 00:00:58Rare snow carpets swathes of storm-hit CaliforniaPublished7 days agoSubsectionUS & CanadaUp Next0:58Parts of southern California receive historic snow. Video, 00:00:45Parts of southern California receive historic snowPublished24 FebruarySubsectionUS & Canada0:45Watch waves gush ashore as storms batter California. Video, 00:01:12Watch waves gush ashore as storms batter CaliforniaPublished6 JanuarySubsectionUS & Canada1:12Editor's recommendationsWATCH: Huge fire burns after Indonesia depot explosion. Video, 00:01:12WATCH: Huge fire burns after Indonesia depot explosionPublished11 hours agoSubsectionAsia1:12Australia's 'biggest drug bust' nets $700m of cocaine. Video, 00:00:51Australia's 'biggest drug bust' nets $700m of cocainePublished9 hours agoSubsectionAustralia0:51Thanks, but no big speech, in Ken Bruce's sign off. Video, 00:01:37Thanks, but no big speech, in Ken Bruce's sign offPublished1 day agoSubsectionUK1:37Tear gas fired at Greece train crash protesters. Video, 00:00:45Tear gas fired at Greece train crash protestersPublished1 day agoSubsectionEurope0:45Ros Atkins on... The creeping TikTok bans. Video, 00:03:16Ros Atkins on... The creeping TikTok bansPublished1 day agoSubsectionTechnology3:16Hong Kong skyscraper fire seen on city's skyline. Video, 00:00:46Hong Kong skyscraper fire seen on city's skylinePublished2 days agoSubsectionAsia0:46Watch: Matt Hancock message row in 83 seconds. Video, 00:01:23Watch: Matt Hancock message row in 83 secondsPublished2 days agoSubsectionUK Politics1:23One-minute World News. Video, 00:01:03One-minute World NewsPublished16 hours agoSectionBBC News1:03Isabel Oakeshott: Why I leaked Hancock's messages. Video, 00:02:12Isabel Oakeshott: Why I leaked Hancock's messagesPublished2 days agoSubsectionUK2:12Tears of relief after man found in Amazon jungle. Video, 00:00:36Tears of relief after man found in Amazon junglePublished3 days agoSubsectionLatin America & Caribbean0:36HomeNewsSportReelWorklifeTravelFutureCultureMusicTVWeatherSoundsTerms of UseAbout the BBCPrivacy PolicyCookiesAccessibility HelpParental GuidanceContact the BBCGet Personalised NewslettersWhy you can trust the BBCAdvertise with usAdChoices / Do Not Sell My InfoÂ© 2023 BBC. The BBC is not responsible for the content of external sites. Read about our approach to external linking.\", 'location': 'location', 'word': {'bbc': 3, 'homepageskip': 1, 'contentaccessibility': 1, 'helpyour': 1, 'accounthomenewssportreelworklifetravelfuturemore': 1, 'menumore': 1, 'menusearch': 1, 'bbchomenewssportreelworklifetravelfutureculturemusictvweathersoundsclose': 1, 'menubbc': 1, 'newsmenuhomewar': 1, 'ukrainecoronavirusclimatevideoworldasiaukbusinesstechmoresciencestoriesentertainment': 1, '&': 8, 'artshealthworld': 1, 'news': 2, 'tvin': 1, 'picturesreality': 1, 'checknewsbeatlong': 1, 'readsworldafricaaustraliaeuropelatin': 1, 'americamiddle': 1, 'eastus': 1, 'canadaman': 1, 'wades': 4, 'waist': 4, '-': 8, 'high': 4, 'snow': 7, 'californiathis': 1, 'video': 16, 'playedto': 1, 'play': 1, 'need': 1, 'enable': 1, 'javascript': 1, 'browser': 1, 'man': 3, 'californiaclosecalifornia': 1, 'enduring': 1, 'unusually': 1, 'severe': 1, 'winter': 2, '13': 1, 'counties': 1, 'declared': 1, 'state': 1, 'emergency': 1, 'severity': 1, 'storm': 3, 'residents': 1, 'stranded': 1, 'homes': 1, 'published1': 1, 'day': 5, 'agosectionbbc': 2, 'newssubsectionus': 1, 'canadashareclose': 1, 'panelshare': 1, 'pagecopy': 1, 'linkabout': 1, 'sharingread': 1, 'descriptionexplore': 1, 'moreman': 1, 'california': 5, '00:00:31man': 1, 'californiapublished1': 1, 'agosubsectionus': 2, 'canada0:31up': 1, 'rare': 1, 'carpets': 2, 'swathes': 2, 'hit': 2, '00:00:58rare': 1, 'californiapublished7': 1, 'days': 5, 'canadaup': 1, 'next0:58parts': 1, 'southern': 2, 'receive': 2, 'historic': 2, '00:00:45parts': 1, 'snowpublished24': 1, 'februarysubsectionus': 1, 'canada0:45watch': 1, 'waves': 2, 'gush': 2, 'ashore': 2, 'storms': 2, 'batter': 2, '00:01:12watch': 2, 'californiapublished6': 1, 'januarysubsectionus': 1, 'canada1:12editor': 1, 'recommendationswatch': 1, 'huge': 2, 'fire': 4, 'burns': 2, 'indonesia': 2, 'depot': 2, 'explosion': 1, 'explosionpublished11': 1, 'hours': 3, 'agosubsectionasia1:12australia': 1, \"'\": 4, 'biggest': 2, 'drug': 2, 'bust': 2, 'nets': 2, '$': 2, '700': 2, 'm': 2, 'cocaine': 1, '00:00:51australia': 1, 'cocainepublished9': 1, 'agosubsectionaustralia0:51thanks': 1, 'big': 2, 'speech': 2, 'ken': 2, 'bruce': 2, 'sign': 2, '00:01:37thanks': 1, 'offpublished1': 1, 'agosubsectionuk1:37tear': 1, 'gas': 2, 'fired': 2, 'greece': 2, 'train': 2, 'crash': 2, 'protesters': 1, '00:00:45tear': 1, 'protesterspublished1': 1, 'agosubsectioneurope0:45ros': 1, 'atkins': 2, '...': 2, 'creeping': 2, 'tiktok': 2, 'bans': 1, '00:03:16ros': 1, 'banspublished1': 1, 'agosubsectiontechnology3:16hong': 1, 'kong': 2, 'skyscraper': 2, 'seen': 2, 'city': 2, 'skyline': 1, '00:00:46hong': 1, 'skylinepublished2': 1, 'agosubsectionasia0:46watch': 1, 'matt': 2, 'hancock': 4, 'message': 2, 'row': 2, '83': 2, 'seconds': 1, '00:01:23watch': 1, 'secondspublished2': 1, 'agosubsectionuk': 1, 'politics1:23one': 1, 'minute': 2, 'world': 2, '00:01:03one': 1, 'newspublished16': 1, 'news1:03isabel': 1, 'oakeshott': 2, 'leaked': 2, 'messages': 1, '00:02:12isabel': 1, 'messagespublished2': 1, 'agosubsectionuk2:12tears': 1, 'relief': 2, 'found': 2, 'amazon': 2, 'jungle': 1, '00:00:36tears': 1, 'junglepublished3': 1, 'agosubsectionlatin': 1, 'america': 1, 'caribbean0:36homenewssportreelworklifetravelfutureculturemusictvweathersoundsterms': 1, 'useabout': 1, 'bbcprivacy': 1, 'policycookiesaccessibility': 1, 'helpparental': 1, 'guidancecontact': 1, 'bbcget': 1, 'personalised': 1, 'newsletterswhy': 1, 'trust': 1, 'bbcadvertise': 1, 'usadchoices': 1, '/': 1, 'sell': 1, 'infoâ': 1, '©': 1, '2023': 1, 'responsible': 1, 'content': 1, 'external': 2, 'sites': 1, 'read': 1, 'approach': 1, 'linking': 1}, 'ref': 0}\n",
      "https://www.bbc.com/news/world-latin-america-64399222\n"
     ]
    },
    {
     "ename": "KeyboardInterrupt",
     "evalue": "",
     "output_type": "error",
     "traceback": [
      "\u001b[0;31m---------------------------------------------------------------------------\u001b[0m",
      "\u001b[0;31mKeyboardInterrupt\u001b[0m                         Traceback (most recent call last)",
      "Cell \u001b[0;32mIn[106], line 1\u001b[0m\n\u001b[0;32m----> 1\u001b[0m doc\u001b[39m=\u001b[39mget_doc(target_links)\n",
      "Cell \u001b[0;32mIn[105], line 10\u001b[0m, in \u001b[0;36mget_doc\u001b[0;34m(target_links)\u001b[0m\n\u001b[1;32m      8\u001b[0m j\u001b[39m.\u001b[39mreplace(\u001b[39m\"\u001b[39m\u001b[39m \u001b[39m\u001b[39m\"\u001b[39m, \u001b[39m\"\u001b[39m\u001b[39m\"\u001b[39m)\n\u001b[1;32m      9\u001b[0m d\u001b[39m=\u001b[39m\u001b[39mdict\u001b[39m()    \n\u001b[0;32m---> 10\u001b[0m body, title \u001b[39m=\u001b[39m scrape_tags(j)\n\u001b[1;32m     11\u001b[0m body\u001b[39m=\u001b[39mcleansing(body)\n\u001b[1;32m     12\u001b[0m word \u001b[39m=\u001b[39m get_word(body)\n",
      "Cell \u001b[0;32mIn[104], line 2\u001b[0m, in \u001b[0;36mscrape_tags\u001b[0;34m(url)\u001b[0m\n\u001b[1;32m      1\u001b[0m \u001b[39mdef\u001b[39;00m \u001b[39mscrape_tags\u001b[39m(url):\n\u001b[0;32m----> 2\u001b[0m   response \u001b[39m=\u001b[39m requests\u001b[39m.\u001b[39;49mget(url)\n\u001b[1;32m      3\u001b[0m   soup \u001b[39m=\u001b[39m BeautifulSoup(response\u001b[39m.\u001b[39mtext, \u001b[39m'\u001b[39m\u001b[39mhtml.parser\u001b[39m\u001b[39m'\u001b[39m)\n\u001b[1;32m      4\u001b[0m   \u001b[39mtry\u001b[39;00m:\n",
      "File \u001b[0;32m~/opt/anaconda3/lib/python3.8/site-packages/requests/api.py:76\u001b[0m, in \u001b[0;36mget\u001b[0;34m(url, params, **kwargs)\u001b[0m\n\u001b[1;32m     65\u001b[0m \u001b[39mr\u001b[39m\u001b[39m\"\"\"Sends a GET request.\u001b[39;00m\n\u001b[1;32m     66\u001b[0m \n\u001b[1;32m     67\u001b[0m \u001b[39m:param url: URL for the new :class:`Request` object.\u001b[39;00m\n\u001b[0;32m   (...)\u001b[0m\n\u001b[1;32m     72\u001b[0m \u001b[39m:rtype: requests.Response\u001b[39;00m\n\u001b[1;32m     73\u001b[0m \u001b[39m\"\"\"\u001b[39;00m\n\u001b[1;32m     75\u001b[0m kwargs\u001b[39m.\u001b[39msetdefault(\u001b[39m'\u001b[39m\u001b[39mallow_redirects\u001b[39m\u001b[39m'\u001b[39m, \u001b[39mTrue\u001b[39;00m)\n\u001b[0;32m---> 76\u001b[0m \u001b[39mreturn\u001b[39;00m request(\u001b[39m'\u001b[39;49m\u001b[39mget\u001b[39;49m\u001b[39m'\u001b[39;49m, url, params\u001b[39m=\u001b[39;49mparams, \u001b[39m*\u001b[39;49m\u001b[39m*\u001b[39;49mkwargs)\n",
      "File \u001b[0;32m~/opt/anaconda3/lib/python3.8/site-packages/requests/api.py:61\u001b[0m, in \u001b[0;36mrequest\u001b[0;34m(method, url, **kwargs)\u001b[0m\n\u001b[1;32m     57\u001b[0m \u001b[39m# By using the 'with' statement we are sure the session is closed, thus we\u001b[39;00m\n\u001b[1;32m     58\u001b[0m \u001b[39m# avoid leaving sockets open which can trigger a ResourceWarning in some\u001b[39;00m\n\u001b[1;32m     59\u001b[0m \u001b[39m# cases, and look like a memory leak in others.\u001b[39;00m\n\u001b[1;32m     60\u001b[0m \u001b[39mwith\u001b[39;00m sessions\u001b[39m.\u001b[39mSession() \u001b[39mas\u001b[39;00m session:\n\u001b[0;32m---> 61\u001b[0m     \u001b[39mreturn\u001b[39;00m session\u001b[39m.\u001b[39;49mrequest(method\u001b[39m=\u001b[39;49mmethod, url\u001b[39m=\u001b[39;49murl, \u001b[39m*\u001b[39;49m\u001b[39m*\u001b[39;49mkwargs)\n",
      "File \u001b[0;32m~/opt/anaconda3/lib/python3.8/site-packages/requests/sessions.py:542\u001b[0m, in \u001b[0;36mSession.request\u001b[0;34m(self, method, url, params, data, headers, cookies, files, auth, timeout, allow_redirects, proxies, hooks, stream, verify, cert, json)\u001b[0m\n\u001b[1;32m    537\u001b[0m send_kwargs \u001b[39m=\u001b[39m {\n\u001b[1;32m    538\u001b[0m     \u001b[39m'\u001b[39m\u001b[39mtimeout\u001b[39m\u001b[39m'\u001b[39m: timeout,\n\u001b[1;32m    539\u001b[0m     \u001b[39m'\u001b[39m\u001b[39mallow_redirects\u001b[39m\u001b[39m'\u001b[39m: allow_redirects,\n\u001b[1;32m    540\u001b[0m }\n\u001b[1;32m    541\u001b[0m send_kwargs\u001b[39m.\u001b[39mupdate(settings)\n\u001b[0;32m--> 542\u001b[0m resp \u001b[39m=\u001b[39m \u001b[39mself\u001b[39;49m\u001b[39m.\u001b[39;49msend(prep, \u001b[39m*\u001b[39;49m\u001b[39m*\u001b[39;49msend_kwargs)\n\u001b[1;32m    544\u001b[0m \u001b[39mreturn\u001b[39;00m resp\n",
      "File \u001b[0;32m~/opt/anaconda3/lib/python3.8/site-packages/requests/sessions.py:697\u001b[0m, in \u001b[0;36mSession.send\u001b[0;34m(self, request, **kwargs)\u001b[0m\n\u001b[1;32m    694\u001b[0m         \u001b[39mpass\u001b[39;00m\n\u001b[1;32m    696\u001b[0m \u001b[39mif\u001b[39;00m \u001b[39mnot\u001b[39;00m stream:\n\u001b[0;32m--> 697\u001b[0m     r\u001b[39m.\u001b[39;49mcontent\n\u001b[1;32m    699\u001b[0m \u001b[39mreturn\u001b[39;00m r\n",
      "File \u001b[0;32m~/opt/anaconda3/lib/python3.8/site-packages/requests/models.py:831\u001b[0m, in \u001b[0;36mResponse.content\u001b[0;34m(self)\u001b[0m\n\u001b[1;32m    829\u001b[0m         \u001b[39mself\u001b[39m\u001b[39m.\u001b[39m_content \u001b[39m=\u001b[39m \u001b[39mNone\u001b[39;00m\n\u001b[1;32m    830\u001b[0m     \u001b[39melse\u001b[39;00m:\n\u001b[0;32m--> 831\u001b[0m         \u001b[39mself\u001b[39m\u001b[39m.\u001b[39m_content \u001b[39m=\u001b[39m \u001b[39mb\u001b[39;49m\u001b[39m'\u001b[39;49m\u001b[39m'\u001b[39;49m\u001b[39m.\u001b[39;49mjoin(\u001b[39mself\u001b[39;49m\u001b[39m.\u001b[39;49miter_content(CONTENT_CHUNK_SIZE)) \u001b[39mor\u001b[39;00m \u001b[39mb\u001b[39m\u001b[39m'\u001b[39m\u001b[39m'\u001b[39m\n\u001b[1;32m    833\u001b[0m \u001b[39mself\u001b[39m\u001b[39m.\u001b[39m_content_consumed \u001b[39m=\u001b[39m \u001b[39mTrue\u001b[39;00m\n\u001b[1;32m    834\u001b[0m \u001b[39m# don't need to release the connection; that's been handled by urllib3\u001b[39;00m\n\u001b[1;32m    835\u001b[0m \u001b[39m# since we exhausted the data.\u001b[39;00m\n",
      "File \u001b[0;32m~/opt/anaconda3/lib/python3.8/site-packages/requests/models.py:753\u001b[0m, in \u001b[0;36mResponse.iter_content.<locals>.generate\u001b[0;34m()\u001b[0m\n\u001b[1;32m    751\u001b[0m \u001b[39mif\u001b[39;00m \u001b[39mhasattr\u001b[39m(\u001b[39mself\u001b[39m\u001b[39m.\u001b[39mraw, \u001b[39m'\u001b[39m\u001b[39mstream\u001b[39m\u001b[39m'\u001b[39m):\n\u001b[1;32m    752\u001b[0m     \u001b[39mtry\u001b[39;00m:\n\u001b[0;32m--> 753\u001b[0m         \u001b[39mfor\u001b[39;00m chunk \u001b[39min\u001b[39;00m \u001b[39mself\u001b[39m\u001b[39m.\u001b[39mraw\u001b[39m.\u001b[39mstream(chunk_size, decode_content\u001b[39m=\u001b[39m\u001b[39mTrue\u001b[39;00m):\n\u001b[1;32m    754\u001b[0m             \u001b[39myield\u001b[39;00m chunk\n\u001b[1;32m    755\u001b[0m     \u001b[39mexcept\u001b[39;00m ProtocolError \u001b[39mas\u001b[39;00m e:\n",
      "File \u001b[0;32m~/opt/anaconda3/lib/python3.8/site-packages/urllib3/response.py:576\u001b[0m, in \u001b[0;36mHTTPResponse.stream\u001b[0;34m(self, amt, decode_content)\u001b[0m\n\u001b[1;32m    574\u001b[0m \u001b[39melse\u001b[39;00m:\n\u001b[1;32m    575\u001b[0m     \u001b[39mwhile\u001b[39;00m \u001b[39mnot\u001b[39;00m is_fp_closed(\u001b[39mself\u001b[39m\u001b[39m.\u001b[39m_fp):\n\u001b[0;32m--> 576\u001b[0m         data \u001b[39m=\u001b[39m \u001b[39mself\u001b[39;49m\u001b[39m.\u001b[39;49mread(amt\u001b[39m=\u001b[39;49mamt, decode_content\u001b[39m=\u001b[39;49mdecode_content)\n\u001b[1;32m    578\u001b[0m         \u001b[39mif\u001b[39;00m data:\n\u001b[1;32m    579\u001b[0m             \u001b[39myield\u001b[39;00m data\n",
      "File \u001b[0;32m~/opt/anaconda3/lib/python3.8/site-packages/urllib3/response.py:519\u001b[0m, in \u001b[0;36mHTTPResponse.read\u001b[0;34m(self, amt, decode_content, cache_content)\u001b[0m\n\u001b[1;32m    517\u001b[0m \u001b[39melse\u001b[39;00m:\n\u001b[1;32m    518\u001b[0m     cache_content \u001b[39m=\u001b[39m \u001b[39mFalse\u001b[39;00m\n\u001b[0;32m--> 519\u001b[0m     data \u001b[39m=\u001b[39m \u001b[39mself\u001b[39;49m\u001b[39m.\u001b[39;49m_fp\u001b[39m.\u001b[39;49mread(amt) \u001b[39mif\u001b[39;00m \u001b[39mnot\u001b[39;00m fp_closed \u001b[39melse\u001b[39;00m \u001b[39mb\u001b[39m\u001b[39m\"\u001b[39m\u001b[39m\"\u001b[39m\n\u001b[1;32m    520\u001b[0m     \u001b[39mif\u001b[39;00m (\n\u001b[1;32m    521\u001b[0m         amt \u001b[39m!=\u001b[39m \u001b[39m0\u001b[39m \u001b[39mand\u001b[39;00m \u001b[39mnot\u001b[39;00m data\n\u001b[1;32m    522\u001b[0m     ):  \u001b[39m# Platform-specific: Buggy versions of Python.\u001b[39;00m\n\u001b[0;32m   (...)\u001b[0m\n\u001b[1;32m    528\u001b[0m         \u001b[39m# not properly close the connection in all cases. There is\u001b[39;00m\n\u001b[1;32m    529\u001b[0m         \u001b[39m# no harm in redundantly calling close.\u001b[39;00m\n\u001b[1;32m    530\u001b[0m         \u001b[39mself\u001b[39m\u001b[39m.\u001b[39m_fp\u001b[39m.\u001b[39mclose()\n",
      "File \u001b[0;32m~/opt/anaconda3/lib/python3.8/http/client.py:459\u001b[0m, in \u001b[0;36mHTTPResponse.read\u001b[0;34m(self, amt)\u001b[0m\n\u001b[1;32m    456\u001b[0m \u001b[39mif\u001b[39;00m amt \u001b[39mis\u001b[39;00m \u001b[39mnot\u001b[39;00m \u001b[39mNone\u001b[39;00m:\n\u001b[1;32m    457\u001b[0m     \u001b[39m# Amount is given, implement using readinto\u001b[39;00m\n\u001b[1;32m    458\u001b[0m     b \u001b[39m=\u001b[39m \u001b[39mbytearray\u001b[39m(amt)\n\u001b[0;32m--> 459\u001b[0m     n \u001b[39m=\u001b[39m \u001b[39mself\u001b[39;49m\u001b[39m.\u001b[39;49mreadinto(b)\n\u001b[1;32m    460\u001b[0m     \u001b[39mreturn\u001b[39;00m \u001b[39mmemoryview\u001b[39m(b)[:n]\u001b[39m.\u001b[39mtobytes()\n\u001b[1;32m    461\u001b[0m \u001b[39melse\u001b[39;00m:\n\u001b[1;32m    462\u001b[0m     \u001b[39m# Amount is not given (unbounded read) so we must check self.length\u001b[39;00m\n\u001b[1;32m    463\u001b[0m     \u001b[39m# and self.chunked\u001b[39;00m\n",
      "File \u001b[0;32m~/opt/anaconda3/lib/python3.8/http/client.py:503\u001b[0m, in \u001b[0;36mHTTPResponse.readinto\u001b[0;34m(self, b)\u001b[0m\n\u001b[1;32m    498\u001b[0m         b \u001b[39m=\u001b[39m \u001b[39mmemoryview\u001b[39m(b)[\u001b[39m0\u001b[39m:\u001b[39mself\u001b[39m\u001b[39m.\u001b[39mlength]\n\u001b[1;32m    500\u001b[0m \u001b[39m# we do not use _safe_read() here because this may be a .will_close\u001b[39;00m\n\u001b[1;32m    501\u001b[0m \u001b[39m# connection, and the user is reading more bytes than will be provided\u001b[39;00m\n\u001b[1;32m    502\u001b[0m \u001b[39m# (for example, reading in 1k chunks)\u001b[39;00m\n\u001b[0;32m--> 503\u001b[0m n \u001b[39m=\u001b[39m \u001b[39mself\u001b[39;49m\u001b[39m.\u001b[39;49mfp\u001b[39m.\u001b[39;49mreadinto(b)\n\u001b[1;32m    504\u001b[0m \u001b[39mif\u001b[39;00m \u001b[39mnot\u001b[39;00m n \u001b[39mand\u001b[39;00m b:\n\u001b[1;32m    505\u001b[0m     \u001b[39m# Ideally, we would raise IncompleteRead if the content-length\u001b[39;00m\n\u001b[1;32m    506\u001b[0m     \u001b[39m# wasn't satisfied, but it might break compatibility.\u001b[39;00m\n\u001b[1;32m    507\u001b[0m     \u001b[39mself\u001b[39m\u001b[39m.\u001b[39m_close_conn()\n",
      "File \u001b[0;32m~/opt/anaconda3/lib/python3.8/socket.py:669\u001b[0m, in \u001b[0;36mSocketIO.readinto\u001b[0;34m(self, b)\u001b[0m\n\u001b[1;32m    667\u001b[0m \u001b[39mwhile\u001b[39;00m \u001b[39mTrue\u001b[39;00m:\n\u001b[1;32m    668\u001b[0m     \u001b[39mtry\u001b[39;00m:\n\u001b[0;32m--> 669\u001b[0m         \u001b[39mreturn\u001b[39;00m \u001b[39mself\u001b[39;49m\u001b[39m.\u001b[39;49m_sock\u001b[39m.\u001b[39;49mrecv_into(b)\n\u001b[1;32m    670\u001b[0m     \u001b[39mexcept\u001b[39;00m timeout:\n\u001b[1;32m    671\u001b[0m         \u001b[39mself\u001b[39m\u001b[39m.\u001b[39m_timeout_occurred \u001b[39m=\u001b[39m \u001b[39mTrue\u001b[39;00m\n",
      "File \u001b[0;32m~/opt/anaconda3/lib/python3.8/ssl.py:1241\u001b[0m, in \u001b[0;36mSSLSocket.recv_into\u001b[0;34m(self, buffer, nbytes, flags)\u001b[0m\n\u001b[1;32m   1237\u001b[0m     \u001b[39mif\u001b[39;00m flags \u001b[39m!=\u001b[39m \u001b[39m0\u001b[39m:\n\u001b[1;32m   1238\u001b[0m         \u001b[39mraise\u001b[39;00m \u001b[39mValueError\u001b[39;00m(\n\u001b[1;32m   1239\u001b[0m           \u001b[39m\"\u001b[39m\u001b[39mnon-zero flags not allowed in calls to recv_into() on \u001b[39m\u001b[39m%s\u001b[39;00m\u001b[39m\"\u001b[39m \u001b[39m%\u001b[39m\n\u001b[1;32m   1240\u001b[0m           \u001b[39mself\u001b[39m\u001b[39m.\u001b[39m\u001b[39m__class__\u001b[39m)\n\u001b[0;32m-> 1241\u001b[0m     \u001b[39mreturn\u001b[39;00m \u001b[39mself\u001b[39;49m\u001b[39m.\u001b[39;49mread(nbytes, buffer)\n\u001b[1;32m   1242\u001b[0m \u001b[39melse\u001b[39;00m:\n\u001b[1;32m   1243\u001b[0m     \u001b[39mreturn\u001b[39;00m \u001b[39msuper\u001b[39m()\u001b[39m.\u001b[39mrecv_into(buffer, nbytes, flags)\n",
      "File \u001b[0;32m~/opt/anaconda3/lib/python3.8/ssl.py:1099\u001b[0m, in \u001b[0;36mSSLSocket.read\u001b[0;34m(self, len, buffer)\u001b[0m\n\u001b[1;32m   1097\u001b[0m \u001b[39mtry\u001b[39;00m:\n\u001b[1;32m   1098\u001b[0m     \u001b[39mif\u001b[39;00m buffer \u001b[39mis\u001b[39;00m \u001b[39mnot\u001b[39;00m \u001b[39mNone\u001b[39;00m:\n\u001b[0;32m-> 1099\u001b[0m         \u001b[39mreturn\u001b[39;00m \u001b[39mself\u001b[39;49m\u001b[39m.\u001b[39;49m_sslobj\u001b[39m.\u001b[39;49mread(\u001b[39mlen\u001b[39;49m, buffer)\n\u001b[1;32m   1100\u001b[0m     \u001b[39melse\u001b[39;00m:\n\u001b[1;32m   1101\u001b[0m         \u001b[39mreturn\u001b[39;00m \u001b[39mself\u001b[39m\u001b[39m.\u001b[39m_sslobj\u001b[39m.\u001b[39mread(\u001b[39mlen\u001b[39m)\n",
      "\u001b[0;31mKeyboardInterrupt\u001b[0m: "
     ]
    }
   ],
   "source": [
    "doc=get_doc(target_links)"
   ]
  },
  {
   "cell_type": "code",
   "execution_count": null,
   "metadata": {},
   "outputs": [],
   "source": [
    "import sqlite3\n",
    "\n",
    "# Connect to SQLite3 database\n",
    "conn = sqlite3.connect('inverted_index2.db')\n",
    "cursor = conn.cursor()\n",
    "\n",
    "# Create tables for words, documents, and word frequencies\n",
    "conn.execute('''\n",
    "CREATE TABLE words (\n",
    "    ID INTEGER PRIMARY KEY,\n",
    "    Word TEXT NOT NULL UNIQUE\n",
    ");\n",
    "''')\n",
    "\n",
    "conn.execute('''\n",
    "CREATE TABLE documents (\n",
    "    ID INTEGER PRIMARY KEY,\n",
    "    Link TEXT NOT NULL UNIQUE ,\n",
    "    Title TEXT,\n",
    "    Body TEXT,\n",
    "    Location TEXT,\n",
    "    Ref INTEGER,\n",
    "    Time TEXT\n",
    ");\n",
    "''')\n",
    "\n",
    "conn.execute('''\n",
    "CREATE TABLE word_frequencies (\n",
    "    Word_ID INTEGER ,\n",
    "    Doc_ID INTEGER ,\n",
    "    Frequency INTEGER NOT NULL,\n",
    "    TF_IDF REAL ,\n",
    "    PRIMARY KEY (word_id, doc_id),\n",
    "    FOREIGN KEY (word_id) REFERENCES words(id),\n",
    "    FOREIGN KEY (doc_id) REFERENCES documents(id)\n",
    ");\n",
    "''')"
   ]
  },
  {
   "cell_type": "code",
   "execution_count": null,
   "metadata": {},
   "outputs": [],
   "source": [
    "def insert_to_database(doc):\n",
    "  for i in doc:\n",
    "    conn.execute('''INSERT INTO documents (Link, Title, Body, Location, Ref,Time) VALUES (?, ?, ?, ?, ?, ?);''', (i['link'], i['title'], i['body'],i['location'],i['ref'],datetime.now()))\n",
    "    doc_id = conn.execute(\"SELECT last_insert_rowid()\").fetchone()[0]\n",
    "    \n",
    "    for j in i['word'].keys():\n",
    "      word_id = conn.execute(\"SELECT id FROM words WHERE word = ?\", (j,)).fetchone()\n",
    "      if not word_id:\n",
    "        conn.execute(\"INSERT INTO words (word) VALUES (?)\", (j,))\n",
    "        word_id = conn.execute(\"SELECT last_insert_rowid()\").fetchone()[0]\n",
    "      else:\n",
    "        word_id = word_id[0]\n",
    "      \n",
    "      conn.execute('''INSERT INTO word_frequencies (word_id, doc_id, Frequency) VALUES (?, ?, ?);''', (word_id, doc_id, i['word'][j]))\n",
    "    \n",
    "  conn.commit()\n",
    "#conn.close()"
   ]
  },
  {
   "cell_type": "code",
   "execution_count": null,
   "metadata": {},
   "outputs": [],
   "source": [
    "insert_to_database(doc)"
   ]
  },
  {
   "cell_type": "code",
   "execution_count": null,
   "metadata": {},
   "outputs": [],
   "source": [
    "def update_data(link):\n",
    "    "
   ]
  }
 ],
 "metadata": {
  "kernelspec": {
   "display_name": "base",
   "language": "python",
   "name": "python3"
  },
  "language_info": {
   "codemirror_mode": {
    "name": "ipython",
    "version": 3
   },
   "file_extension": ".py",
   "mimetype": "text/x-python",
   "name": "python",
   "nbconvert_exporter": "python",
   "pygments_lexer": "ipython3",
   "version": "3.8.16"
  },
  "orig_nbformat": 4,
  "vscode": {
   "interpreter": {
    "hash": "f77b640396ee907328d3f2b1dbf7d1073670d4b49ce003bfc4c9fbcbcb50868c"
   }
  }
 },
 "nbformat": 4,
 "nbformat_minor": 2
}
