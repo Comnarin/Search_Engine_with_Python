{
 "cells": [
  {
   "cell_type": "code",
   "execution_count": 1,
   "metadata": {},
   "outputs": [],
   "source": [
    "from nltk import word_tokenize, pos_tag, ne_chunk\n",
    "from nltk import Tree\n",
    "\n",
    "def get_continuous_chunks(text, label):\n",
    "    chunked = ne_chunk(pos_tag(word_tokenize(text)))\n",
    "    prev = None\n",
    "    continuous_chunk = []\n",
    "    current_chunk = []\n",
    "\n",
    "    for subtree in chunked:\n",
    "        if type(subtree) == Tree and subtree.label() == label:\n",
    "            current_chunk.append(\" \".join([token for token, pos in subtree.leaves()]))\n",
    "        if current_chunk:\n",
    "            named_entity = \" \".join(current_chunk)\n",
    "            if named_entity not in continuous_chunk:\n",
    "                continuous_chunk.append(named_entity)\n",
    "                current_chunk = []\n",
    "        else:\n",
    "            continue\n",
    "\n",
    "    return continuous_chunk\n",
    "def eng_location(doc):\n",
    "    return get_continuous_chunks(doc, 'GPE')"
   ]
  },
  {
   "cell_type": "code",
   "execution_count": 2,
   "metadata": {},
   "outputs": [
    {
     "data": {
      "text/plain": [
       "['New York']"
      ]
     },
     "execution_count": 2,
     "metadata": {},
     "output_type": "execute_result"
    }
   ],
   "source": [
    "sent = \"What is the weather in New York today?\"\n",
    "get_continuous_chunks(sent, 'GPE')"
   ]
  },
  {
   "cell_type": "code",
   "execution_count": 3,
   "metadata": {},
   "outputs": [
    {
     "data": {
      "text/plain": [
       "['Beijing',\n",
       " 'Chinese',\n",
       " 'Chinese China',\n",
       " 'Chinese China Japan',\n",
       " 'Chinese China China',\n",
       " 'Beijing China',\n",
       " 'November',\n",
       " 'Covid',\n",
       " 'Covid China',\n",
       " 'China',\n",
       " 'Chinese Hong Kong',\n",
       " 'Japan',\n",
       " 'Thailand',\n",
       " 'South Korea',\n",
       " 'Chinese China China Statista',\n",
       " 'China Chinese',\n",
       " 'China April',\n",
       " 'Shanghai',\n",
       " 'Hangzhou',\n",
       " 'Covid Beijing',\n",
       " 'Shanghai Beijing']"
      ]
     },
     "execution_count": 3,
     "metadata": {},
     "output_type": "execute_result"
    }
   ],
   "source": [
    "doc = \"\"\"\n",
    "    People rush to book travel as borders finally reopenPublished28 December 2022Shareclose panelShare pageCopy linkAbout sharingRelated TopicsCoronavirus pandemicImage source, \n",
    "    EPA-EFE/REX/ShutterstockBy Alys DaviesBBC NewsChinese people have rushed to book overseas travel after Beijing announced it would reopen its borders next month.Passport applications \n",
    "    for Chinese citizens wishing to travel internationally will resume from 8 January, the immigration administration said.It follows an announcement on Monday that ended almost three years \n",
    "    of strict quarantine rules for arrivals.Travel sites have since reported a spike in traffic.But Chinese tourists will not have unfettered access to all countries.Officials in the US \n",
    "    are considering new restrictions on travellers from China due to concerns about a surge in cases and a lack of transparency from the Chinese government.\"There are mounting concerns in \n",
    "    the international community on the ongoing Covid-19 surges in China and the lack of transparent data, including viral genomic sequence data,\" US officials said in a statement quoted by \n",
    "    news agencies.\"Without this data, it is becoming increasingly difficult for public health officials to ensure that they will be able to identify any potential new variants and take prompt\n",
    "     measures to reduce the spread.\"Japan - one of the most popular destinations for Chinese travellers - has announced that all travellers from China must show a negative Covid test on \n",
    "     arrival, or quarantine for seven days, because of the surge in cases there.India has also said travellers from China (as well as some other countries) must show a negative Covid test \n",
    "     when they arrive - though this was announced before Beijing's easing of restrictions.The easing of travel rules in China - the last part of the country's zero-Covid policy - comes as \n",
    "     the country battles a new wave of infections.Resentment against the government's policy - which sparked rare public protests against President Xi Jinping in November - led to a relaxation \n",
    "     of Covid restrictions across the country.But an increase in Covid cases followed, with reports of hospitals overwhelmed and a shortage of drugs.The announcement on outbound travel on\n",
    "      Tuesday came after Monday's news, which axed quarantine rules for travellers arriving in China. It also scrapped a cap on the daily number of flights.On the same day, the National Health \n",
    "      Commission announced that Covid would be formally downgraded to a Class B infectious disease on 8 January.Before the relaxation of travel rules, people were strongly discouraged from \n",
    "      travelling abroad. The sale of outbound group and package travel was banned, according to marketing solutions company Dragon Trail International.Within half an hour of Monday's notice \n",
    "      that China's borders would reopen, data from travel site Trip.com - cited in Chinese media - showed searches for popular destinations had increased ten-fold year-on-year. Macau, \n",
    "      Hong Kong, Japan, Thailand and South Korea were the most popular destinations.Image source, ReutersIn addition, Chinese travel agency Qunar saw flight enquiries on its website increase \n",
    "      seven-fold within the first 15 minutes after the announcement, the China Daily reports.Before the pandemic, the number of outbound tourists from China stood at 155 million in 2019, \n",
    "      according to Statista. This number dropped to 20 million in 2020.This year, some people in China will hope to visit family and loved ones during Chinese New Year, which begins \n",
    "      on 22 January.But inside China, there has been a mixed reaction.\"I'm happy about it but also speechless. If we're doing this [reopening] anyway - why did I have to suffer all the daily\n",
    "       Covid tests and lockdowns this year?\" said Rachel Liu, who lives in Shanghai.She said she had endured three months of lockdown in April - but nearly everyone in her family had become \n",
    "       infected in recent weeks.She said her parents, grandparents and partner - living across three different cities in Xi'an, Shanghai and Hangzhou - had all come down with fever \n",
    "       last week.Many have also expressed concern online about borders reopening as Covid cases peak.\"Why can't we wait until this wave passes to open up? The medical workers are already \n",
    "       worn out, and old people won't survive two infections in one month,\" read one top-liked comment on Weibo.People in cities like Beijing and Shanghai, which experience chilly \n",
    "       temperatures in the winter, say they're running out of flu and cold medicine. It's feared that hundreds of deaths may be going unreported as crematoriums are overwhelmed. \n",
    "       In the capital, Beijing, authorities say they are planning to distribute the Pfizer tablets, Paxlovid, in order to try to reduce the severity of infections. But health centres \n",
    "       contacted by The Global Times on Monday said the drug had yet to be delivered.On Monday, President Xi issued his first remarks on the changes, calling on officials to \n",
    "       do what was \"feasible\" to save lives.China's about-turn has put Mr Xi in a tough spot. He was the driving force behind zero-Covid, which many blamed for restricting people's lives\n",
    "        excessively and crippling the economy. But having abandoned it, analysts say he now has to take responsibility for the huge wave of infections and hospital admissions. Many have \n",
    "        questioned why the country was not better prepared.Are you hoping to visit China in the new year to see family? Share your experiences by emailing haveyoursay@bbc.co.uk.Please \n",
    "        include a contact number if you are willing to speak to a BBC journalist.\n",
    "\"\"\"\n",
    "get_continuous_chunks(doc, 'GPE')"
   ]
  },
  {
   "cell_type": "code",
   "execution_count": 4,
   "metadata": {},
   "outputs": [
    {
     "data": {
      "text/plain": [
       "['Beijing',\n",
       " 'Chinese',\n",
       " 'Chinese China',\n",
       " 'Chinese China Japan',\n",
       " 'Chinese China China',\n",
       " 'Beijing China',\n",
       " 'November',\n",
       " 'Covid',\n",
       " 'Covid China',\n",
       " 'China',\n",
       " 'Chinese Hong Kong',\n",
       " 'Japan',\n",
       " 'Thailand',\n",
       " 'South Korea',\n",
       " 'Chinese China China Statista',\n",
       " 'China Chinese',\n",
       " 'China April',\n",
       " 'Shanghai',\n",
       " 'Hangzhou',\n",
       " 'Covid Beijing',\n",
       " 'Shanghai Beijing']"
      ]
     },
     "execution_count": 4,
     "metadata": {},
     "output_type": "execute_result"
    }
   ],
   "source": [
    "eng_location(doc)"
   ]
  },
  {
   "cell_type": "code",
   "execution_count": null,
   "metadata": {},
   "outputs": [],
   "source": []
  }
 ],
 "metadata": {
  "kernelspec": {
   "display_name": "Python 3",
   "language": "python",
   "name": "python3"
  },
  "language_info": {
   "codemirror_mode": {
    "name": "ipython",
    "version": 3
   },
   "file_extension": ".py",
   "mimetype": "text/x-python",
   "name": "python",
   "nbconvert_exporter": "python",
   "pygments_lexer": "ipython3",
   "version": "3.8.9"
  },
  "orig_nbformat": 4,
  "vscode": {
   "interpreter": {
    "hash": "31f2aee4e71d21fbe5cf8b01ff0e069b9275f58929596ceb00d14d90e3e16cd6"
   }
  }
 },
 "nbformat": 4,
 "nbformat_minor": 2
}
