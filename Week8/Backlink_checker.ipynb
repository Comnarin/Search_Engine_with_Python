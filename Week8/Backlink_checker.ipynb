{
 "cells": [
  {
   "cell_type": "code",
   "execution_count": 2,
   "metadata": {},
   "outputs": [],
   "source": [
    "import requests\n",
    "from bs4 import BeautifulSoup \n",
    "import re\n",
    "import unicodedata\n",
    "import pythainlp.util\n",
    "from pythainlp.tokenize import word_tokenize\n",
    "from pythainlp.util import find_keyword\n",
    "from pythainlp.util import rank\n",
    "#from pythainlp.summarize import extract_keywords\n",
    "from pythainlp.summarize import summarize\n",
    "import itertools\n",
    "import sqlite3\n",
    "from urllib.parse import urljoin\n",
    "import time"
   ]
  },
  {
   "cell_type": "code",
   "execution_count": null,
   "metadata": {},
   "outputs": [],
   "source": [
    "def crawl(url, depth,visited):\n",
    "    if depth < 2 :\n",
    "        visited.add(url)\n",
    "        headers = {'User-Agent': \"Mozilla/5.0 (Windows NT 10.0; Win64; x64) AppleWebKit/537.36 (KHTML, like Gecko) Chrome/42.0.2311.135 Safari/537.36 Edge/12.246\"}\n",
    "        time.sleep(0.25)\n",
    "        response = requests.get(url,headers=headers)\n",
    "        try:\n",
    "            soup = BeautifulSoup(response.text, 'html.parser')\n",
    "        except:\n",
    "            soup = BeautifulSoup(response.text, 'lxml')\n",
    "        links = soup.find_all('a')\n",
    "        links = [link.get('href') for link in links if link.get('href') and not link.get('href').startswith('#')]\n",
    "        links = [urljoin(url, link) for link in links if link]\n",
    "\n",
    "        for link in links:\n",
    "            if link not in visited:\n",
    "                visited.add(link)\n",
    "                #if link.startswith(url):\n",
    "                crawl(link,depth=depth+1, visited=visited)\n",
    "    return visited\n",
    "base_url = 'https://news.kapook.com'\n",
    "website_dict3 = crawl(base_url, 0, set())\n",
    "print(website_dict3)"
   ]
  },
  {
   "cell_type": "code",
   "execution_count": null,
   "metadata": {},
   "outputs": [],
   "source": [
    "def check_domain(base_url,links):\n",
    "    result= set()\n",
    "    for link in links :\n",
    "        if link.startswith(base_url):\n",
    "            result.add(link)\n",
    "    return result\n",
    "\n",
    "websitedict4=check_domain(base_url,website_dict3)"
   ]
  },
  {
   "cell_type": "code",
   "execution_count": null,
   "metadata": {},
   "outputs": [],
   "source": [
    "def check_not_domain(base_url,links):\n",
    "    result= set()\n",
    "    for link in links :\n",
    "        if not link.startswith(base_url):\n",
    "            result.add(link)\n",
    "    return result\n",
    "\n",
    "not_domain = check_not_domain(base_url,website_dict3)\n",
    "print(not_domain)"
   ]
  },
  {
   "cell_type": "code",
   "execution_count": 1,
   "metadata": {},
   "outputs": [
    {
     "ename": "NameError",
     "evalue": "name 'not_domain' is not defined",
     "output_type": "error",
     "traceback": [
      "\u001b[0;31m---------------------------------------------------------------------------\u001b[0m",
      "\u001b[0;31mNameError\u001b[0m                                 Traceback (most recent call last)",
      "Cell \u001b[0;32mIn[1], line 9\u001b[0m\n\u001b[1;32m      6\u001b[0m                 target_links[base_url]\u001b[39m+\u001b[39m\u001b[39m=\u001b[39m\u001b[39m1\u001b[39m\n\u001b[1;32m      7\u001b[0m     \u001b[39mreturn\u001b[39;00m target_links\n\u001b[0;32m----> 9\u001b[0m ref\u001b[39m=\u001b[39mcheck_ref(target_links,not_domain)\n\u001b[1;32m     10\u001b[0m \u001b[39mprint\u001b[39m(ref)\n",
      "\u001b[0;31mNameError\u001b[0m: name 'not_domain' is not defined"
     ]
    }
   ],
   "source": [
    "target_links= {'https://www.thairath.co.th':0,'https://news.kapook.com':0}\n",
    "def check_ref(base,links):\n",
    "    for i in links:\n",
    "        for j in base:\n",
    "            if i.startswith(j):\n",
    "                target_links[base_url]+=1\n",
    "    return target_links\n",
    "\n",
    "ref=check_ref(target_links,not_domain)\n",
    "print(ref)\n",
    "           "
   ]
  },
  {
   "cell_type": "code",
   "execution_count": null,
   "metadata": {},
   "outputs": [],
   "source": [
    "target_links= {'https://www.thairath.co.th':0,'https://news.kapook.com':0}\n",
    "list_targey_links =list(target_links)\n",
    "print(list_targey_links)"
   ]
  },
  {
   "cell_type": "code",
   "execution_count": null,
   "metadata": {},
   "outputs": [],
   "source": [
    "class spyder:\n",
    "    def __init__( self ,target_links,base_url ):\n",
    "        self.base_url = base_url\n",
    "    \n",
    "    def get_crawler(self):\n",
    "        self.result_crawler = self.crawl(self.base_url,0,set())\n",
    "        return self.result_crawler\n",
    "    \n",
    "    def get_check_domain(self):\n",
    "        self.check_domain_result = self.check_domain(self.base_url,self.get_crawler())\n",
    "        return self.check_domain_result\n",
    "    \n",
    "    def get_check_not_domain(self):\n",
    "        self.check_not_domain_result = self.check_not_domain(self.base_url,self.get_crawler())   \n",
    "        return self.check_not_domain_result\n",
    "    \n",
    "    def get_check_ref(self):\n",
    "        self.check_ref_result = self.check_ref(self.base_url,self.get_check_not_domain(),target_links)\n",
    "        return self.check_ref_result\n",
    "    \n",
    "    def get_all(self):\n",
    "        crawl = self.crawl(self.base_url,0,set())\n",
    "        check_domain =  self.check_domain(self.base_url,self.get_crawler()) \n",
    "        check_not_domain = self.check_domain(self.base_url,self.get_crawler())\n",
    "        check_ref = self.check_ref(self.base_url,self.get_check_not_domain(),target_links)\n",
    "        return crawl,check_domain,check_not_domain,check_ref\n",
    "    \n",
    "    def crawl(self,url, depth,visited):\n",
    "        if depth < 1 :\n",
    "            visited.add(url)\n",
    "            headers = {'User-Agent': \"Mozilla/5.0 (Windows NT 10.0; Win64; x64) AppleWebKit/537.36 (KHTML, like Gecko) Chrome/42.0.2311.135 Safari/537.36 Edge/12.246\"}\n",
    "            time.sleep(0.3)\n",
    "            response = requests.get(url,headers=headers)\n",
    "            try:\n",
    "                soup = BeautifulSoup(response.text, 'html.parser')\n",
    "            except:\n",
    "                soup = BeautifulSoup(response.text, 'lxml')\n",
    "            links = soup.find_all('a')\n",
    "            links = [link.get('href') for link in links if link.get('href') and not link.get('href').startswith('#')]\n",
    "            links = [urljoin(url, link) for link in links if link]\n",
    "\n",
    "            for link in links:\n",
    "                if link not in visited:\n",
    "                    visited.add(link)\n",
    "                    #if link.startswith(url):\n",
    "                    crawl(link,depth=depth+1, visited=visited)\n",
    "        return visited\n",
    "    \n",
    "    def check_domain(self,base_url,links):\n",
    "        result= set()\n",
    "        for link in links :\n",
    "            if link.startswith(base_url):\n",
    "                result.add(link)\n",
    "        return result\n",
    "    \n",
    "    def check_not_domain(self,base_url,links):\n",
    "        result= set()\n",
    "        for link in links :\n",
    "            if not link.startswith(base_url):\n",
    "                result.add(link)\n",
    "        return result\n",
    "    \n",
    "    def check_ref(self,base,links,target_links):\n",
    "        for i in links:\n",
    "            for j in target_links:\n",
    "                if i.startswith(j):\n",
    "                    target_links[j]+=1\n",
    "        return target_links"
   ]
  },
  {
   "cell_type": "code",
   "execution_count": 73,
   "metadata": {},
   "outputs": [
    {
     "name": "stdout",
     "output_type": "stream",
     "text": [
      "{'https://www.thairath.co.th': 0, 'https://news.kapook.com': 0}\n",
      "------------------------------------------------------------------------------------------------------------------\n",
      "{'https://www.thairath.co.th': 2, 'https://news.kapook.com': 0}\n",
      "------------------------------------------------------------------------------------------------------------------\n"
     ]
    }
   ],
   "source": [
    "target_links = {'https://www.thairath.co.th':0,'https://news.kapook.com':0}\n",
    "for i in target_links:\n",
    "    web_spyder=spyder(target_links,i)\n",
    "    print(web_spyder.get_check_ref())\n",
    "    print('------------------------------------------------------------------------------------------------------------------')"
   ]
  },
  {
   "cell_type": "code",
   "execution_count": null,
   "metadata": {},
   "outputs": [],
   "source": [
    "base_url = 'https://www.thairath.co.th'\n",
    "target_links=['https://www.thairath.co.th','https://www.facebook.com']\n",
    "website = crawl(base_url, 0, visited=set())\n",
    "domain = check_domain(base_url,website)\n",
    "not_domain = check_not_domain(base_url,website)\n",
    "ref = check_ref(target_links,not_domain)\n",
    "print(website)\n",
    "print('-------------------------------------------')\n",
    "print(domain)\n",
    "print('-------------------------------------------')\n",
    "print(not_domain)\n",
    "print('-------------------------------------------')\n",
    "print(ref)"
   ]
  }
 ],
 "metadata": {
  "kernelspec": {
   "display_name": "base",
   "language": "python",
   "name": "python3"
  },
  "language_info": {
   "codemirror_mode": {
    "name": "ipython",
    "version": 3
   },
   "file_extension": ".py",
   "mimetype": "text/x-python",
   "name": "python",
   "nbconvert_exporter": "python",
   "pygments_lexer": "ipython3",
   "version": "3.8.16"
  },
  "orig_nbformat": 4,
  "vscode": {
   "interpreter": {
    "hash": "f77b640396ee907328d3f2b1dbf7d1073670d4b49ce003bfc4c9fbcbcb50868c"
   }
  }
 },
 "nbformat": 4,
 "nbformat_minor": 2
}
