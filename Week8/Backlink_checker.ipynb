{
 "cells": [
  {
   "cell_type": "code",
   "execution_count": null,
   "metadata": {},
   "outputs": [],
   "source": [
    "import requests\n",
    "from bs4 import BeautifulSoup \n",
    "import re\n",
    "import unicodedata\n",
    "import pythainlp.util\n",
    "from pythainlp.tokenize import word_tokenize\n",
    "from pythainlp.util import find_keyword\n",
    "from pythainlp.util import rank\n",
    "#from pythainlp.summarize import extract_keywords\n",
    "from pythainlp.summarize import summarize\n",
    "import itertools\n",
    "import sqlite3\n",
    "from urllib.parse import urljoin"
   ]
  },
  {
   "cell_type": "code",
   "execution_count": null,
   "metadata": {},
   "outputs": [],
   "source": [
    "def crawl(url, depth,visited = set()):\n",
    "    if depth < 3 :\n",
    "        visited.add(url)\n",
    "        headers = {'User-Agent': \"Mozilla/5.0 (Windows NT 10.0; Win64; x64) AppleWebKit/537.36 (KHTML, like Gecko) Chrome/42.0.2311.135 Safari/537.36 Edge/12.246\"}\n",
    "        response = requests.get(url,headers=headers)\n",
    "        soup = BeautifulSoup(response.text, 'html.parser')\n",
    "        links = soup.find_all('a')\n",
    "        links = [link.get('href') for link in links if link.get('href') and not link.get('href').startswith('#')]\n",
    "        links = [urljoin(url, link) for link in links if link]\n",
    "\n",
    "        for link in links:\n",
    "            if link not in visited:\n",
    "                visited.add(link)\n",
    "                crawl(link,depth=depth+1, visited=visited)\n",
    "    return visited\n",
    "base_url = 'https://www.thairath.co.th'\n",
    "website_dict3 = crawl(base_url, 0, visited=set())\n",
    "print(website_dict3)"
   ]
  },
  {
   "cell_type": "code",
   "execution_count": null,
   "metadata": {},
   "outputs": [],
   "source": [
    "def check_domain(base_url,links):\n",
    "    result= set()\n",
    "    for link in links :\n",
    "        if link.startswith(base_url):\n",
    "            result.add(link)\n",
    "    return result\n",
    "\n",
    "check_domain(base_url,website_dict3)"
   ]
  },
  {
   "cell_type": "code",
   "execution_count": null,
   "metadata": {},
   "outputs": [],
   "source": [
    "def check_not_domain(base_url,links):\n",
    "    result= set()\n",
    "    for link in links :\n",
    "        if not link.startswith(base_url):\n",
    "            result.add(link)\n",
    "    return result\n",
    "\n",
    "not_domain = check_not_domain(base_url,website_dict3)\n",
    "print(not_domain)"
   ]
  },
  {
   "cell_type": "code",
   "execution_count": null,
   "metadata": {},
   "outputs": [],
   "source": [
    "target_links=['https://www.thairath.co.th','https://www.facebook.com']\n",
    "def check_ref(base,links):\n",
    "    base_links=dict()\n",
    "    for i in base:\n",
    "        base_links[i] = 0\n",
    "    for i in links:\n",
    "        for j in base:\n",
    "            if i.startswith(j):\n",
    "                base_links[j]+=1\n",
    "    return base_links\n",
    "\n",
    "ref=check_ref(target_links,not_domain)\n",
    "print(ref)\n",
    "                "
   ]
  },
  {
   "cell_type": "code",
   "execution_count": null,
   "metadata": {},
   "outputs": [],
   "source": [
    "class spyder:\n",
    "    def __init__( self , base_url , target_links ):\n",
    "        self.base_url = base_url\n",
    "        self.target_links = target_links\n",
    "    def crawl(self,url, depth,visited = set()):\n",
    "        "
   ]
  },
  {
   "cell_type": "code",
   "execution_count": null,
   "metadata": {},
   "outputs": [],
   "source": [
    "base_url = 'https://www.thairath.co.th'\n",
    "target_links=['https://www.thairath.co.th','https://www.facebook.com']\n",
    "website = crawl(base_url, 0, visited=set())\n",
    "domain = check_domain(base_url,website)\n",
    "not_domain = check_not_domain(base_url,website)\n",
    "ref = check_ref(target_links,not_domain)\n",
    "print(website)\n",
    "print('-------------------------------------------')\n",
    "print(domain)\n",
    "print('-------------------------------------------')\n",
    "print(not_domain)\n",
    "print('-------------------------------------------')\n",
    "print(ref)"
   ]
  }
 ],
 "metadata": {
  "kernelspec": {
   "display_name": "base",
   "language": "python",
   "name": "python3"
  },
  "language_info": {
   "codemirror_mode": {
    "name": "ipython",
    "version": 3
   },
   "file_extension": ".py",
   "mimetype": "text/x-python",
   "name": "python",
   "nbconvert_exporter": "python",
   "pygments_lexer": "ipython3",
   "version": "3.8.16"
  },
  "orig_nbformat": 4,
  "vscode": {
   "interpreter": {
    "hash": "f77b640396ee907328d3f2b1dbf7d1073670d4b49ce003bfc4c9fbcbcb50868c"
   }
  }
 },
 "nbformat": 4,
 "nbformat_minor": 2
}
