{
 "cells": [
  {
   "cell_type": "code",
   "execution_count": 1,
   "metadata": {},
   "outputs": [
    {
     "name": "stderr",
     "output_type": "stream",
     "text": [
      "E\n",
      "======================================================================\n",
      "ERROR: /Users/narin/Library/Jupyter/runtime/kernel-cf9178cf-9f34-473a-bba4-130c4a20910a (unittest.loader._FailedTest)\n",
      "----------------------------------------------------------------------\n",
      "AttributeError: module '__main__' has no attribute '/Users/narin/Library/Jupyter/runtime/kernel-cf9178cf-9f34-473a-bba4-130c4a20910a'\n",
      "\n",
      "----------------------------------------------------------------------\n",
      "Ran 1 test in 0.002s\n",
      "\n",
      "FAILED (errors=1)\n"
     ]
    },
    {
     "ename": "SystemExit",
     "evalue": "True",
     "output_type": "error",
     "traceback": [
      "An exception has occurred, use %tb to see the full traceback.\n",
      "\u001b[0;31mSystemExit\u001b[0m\u001b[0;31m:\u001b[0m True\n"
     ]
    },
    {
     "name": "stderr",
     "output_type": "stream",
     "text": [
      "/Library/Frameworks/Python.framework/Versions/3.10/lib/python3.10/site-packages/IPython/core/interactiveshell.py:3369: UserWarning: To exit: use 'exit', 'quit', or Ctrl-D.\n",
      "  warn(\"To exit: use 'exit', 'quit', or Ctrl-D.\", stacklevel=1)\n"
     ]
    }
   ],
   "source": [
    "import unittest\n",
    "class Check_repeat_TestCase(unittest.TestCase):\n",
    "    def test_main(self):\n",
    "        result = findDuplicates([1,2,3,4,5,6,1,2,7,8,9,7,9,1,2,4,2,2])\n",
    "        assert result == {1: {'count': 2, 'indices': [6, 13]},2: {'count': 4, 'indices': [7, 14, 16, 17]},7: {'count': 1, 'indices': [11]},9: {'count': 1, 'indices': [12]},4: {'count': 1, 'indices': [15]}}\n",
    "\n",
    "    def test_threeargs(self):\n",
    "        result = findDuplicates([1,2,3,4,5,6,7,8])\n",
    "        assert result == []\n",
    "\n",
    "    def test_noargs(self):\n",
    "        result = findDuplicates([])\n",
    "        assert result == []\n",
    "\n",
    "def findDuplicates(array):\n",
    "  Table = {}\n",
    "  duplicates = {}\n",
    "\n",
    "  for i in range(0, len(array)):\n",
    "    \n",
    "    if array[i] in Table:\n",
    "      if array[i] in duplicates:\n",
    "        duplicates[array[i]][\"count\"] += 1\n",
    "        duplicates[array[i]][\"indices\"].append(i)\n",
    "      else: \n",
    "        duplicates[array[i]] = {\"count\": 1, \"indices\": [i]}\n",
    "    else:\n",
    "      Table[array[i]] = True\n",
    "\n",
    "  return duplicates\n",
    "\n",
    "\n",
    "if __name__ == \"__main__\":\n",
    "    unittest.main()\n"
   ]
  },
  {
   "cell_type": "code",
   "execution_count": 9,
   "metadata": {},
   "outputs": [
    {
     "name": "stdout",
     "output_type": "stream",
     "text": [
      "Invalid Array Type\n",
      "{}\n"
     ]
    }
   ],
   "source": [
    "array='a'\n",
    "Table = {}\n",
    "duplicates = {}\n",
    "if type(array) != list:\n",
    "    print(\"Invalid Array Type\")\n",
    "\n",
    "for i in range(0, len(array)):\n",
    "    if array[i] in Table:\n",
    "        if array[i] in duplicates:\n",
    "            duplicates[array[i]][\"count\"] += 1\n",
    "            duplicates[array[i]][\"indices\"].append(i)\n",
    "        else: \n",
    "            duplicates[array[i]] = {\"count\": 1, \"indices\": [i]}       \n",
    "    else:\n",
    "        Table[array[i]] = True\n",
    "print (duplicates)\n"
   ]
  },
  {
   "cell_type": "code",
   "execution_count": null,
   "metadata": {},
   "outputs": [],
   "source": []
  }
 ],
 "metadata": {
  "kernelspec": {
   "display_name": "Python 3",
   "language": "python",
   "name": "python3"
  },
  "language_info": {
   "codemirror_mode": {
    "name": "ipython",
    "version": 3
   },
   "file_extension": ".py",
   "mimetype": "text/x-python",
   "name": "python",
   "nbconvert_exporter": "python",
   "pygments_lexer": "ipython3",
   "version": "3.10.0"
  },
  "orig_nbformat": 4,
  "vscode": {
   "interpreter": {
    "hash": "aee8b7b246df8f9039afb4144a1f6fd8d2ca17a180786b69acc140d282b71a49"
   }
  }
 },
 "nbformat": 4,
 "nbformat_minor": 2
}
