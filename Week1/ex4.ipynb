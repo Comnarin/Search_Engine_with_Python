{
 "cells": [
  {
   "cell_type": "code",
   "execution_count": null,
   "metadata": {},
   "outputs": [],
   "source": [
    "def findDuplicates(array):\n",
    "  Table = {}\n",
    "  duplicates = {}\n",
    "\n",
    "  for i in range(0, len(array)):\n",
    "    if array[i] in Table:\n",
    "      if array[i] in duplicates:\n",
    "        duplicates[array[i]][\"count\"] += 1\n",
    "        duplicates[array[i]][\"indices\"].append(i)\n",
    "      else: \n",
    "        duplicates[array[i]] = {\"count\": 1, \"indices\": [i]}\n",
    "    else:\n",
    "      Table[array[i]] = True\n",
    "\n",
    "  return duplicates\n",
    "\n",
    "findDuplicates([1,2,3,4,5,6,1,2,7,8,9,7,9,1,2,4,2,2])"
   ]
  }
 ],
 "metadata": {
  "kernelspec": {
   "display_name": "Python 3",
   "language": "python",
   "name": "python3"
  },
  "language_info": {
   "name": "python",
   "version": "3.10.0 (v3.10.0:b494f5935c, Oct  4 2021, 14:59:19) [Clang 12.0.5 (clang-1205.0.22.11)]"
  },
  "orig_nbformat": 4,
  "vscode": {
   "interpreter": {
    "hash": "aee8b7b246df8f9039afb4144a1f6fd8d2ca17a180786b69acc140d282b71a49"
   }
  }
 },
 "nbformat": 4,
 "nbformat_minor": 2
}
