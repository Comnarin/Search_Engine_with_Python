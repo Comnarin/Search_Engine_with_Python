{
 "cells": [
  {
   "cell_type": "code",
   "execution_count": null,
   "metadata": {},
   "outputs": [],
   "source": [
    "xlist = [12, 70, 1, 999, 50, 20, 1000, 150, 300, 200, 90, 900, 40, 140,130,30]\n",
    "clist = [200,-10]\n",
    "c1 = clist[0]\n",
    "c2 = clist[1]\n",
    "for x1 in xlist:\n",
    "    for x2 in xlist:\n",
    "        if x2!=x1:\n",
    "            for x3 in xlist:\n",
    "                if x3 not in [x1,x2]:\n",
    "                    for x4 in xlist:\n",
    "                        if x4 not in[x1,x2,x3]:\n",
    "                            for x5 in xlist:\n",
    "                                if x5 not in[x1,x2,x3,x4]:\n",
    "                                    for x6 in xlist:\n",
    "                                        if x6 not in [x1,x2,x3,x4,x5]:\n",
    "                                            for x7 in xlist:\n",
    "                                                if x7 not in[x1,x2,x3,x4,x5,x6]:\n",
    "                                                    for x8 in xlist:\n",
    "                                                        if x8 not in [x1,x2,x3,x4,x5,x6,x7]:\n",
    "                                                            if x1+x2 == c1 and x4 == x3 + x1 and x8-x6 ==c2 and x7 == x5 + x6:\n",
    "                                                                print(x1,x2,x3,x4,x5,x6,x7,x8)   \n",
    "                                                        \n",
    "                                                                \n",
    "                                                                \n",
    "\n",
    "                                        "
   ]
  }
 ],
 "metadata": {
  "kernelspec": {
   "display_name": "Python 3",
   "language": "python",
   "name": "python3"
  },
  "language_info": {
   "name": "python",
   "version": "3.10.0 (v3.10.0:b494f5935c, Oct  4 2021, 14:59:19) [Clang 12.0.5 (clang-1205.0.22.11)]"
  },
  "orig_nbformat": 4,
  "vscode": {
   "interpreter": {
    "hash": "aee8b7b246df8f9039afb4144a1f6fd8d2ca17a180786b69acc140d282b71a49"
   }
  }
 },
 "nbformat": 4,
 "nbformat_minor": 2
}
