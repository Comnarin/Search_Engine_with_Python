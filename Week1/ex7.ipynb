{
 "cells": [
  {
   "cell_type": "code",
   "execution_count": 2,
   "metadata": {},
   "outputs": [
    {
     "name": "stdout",
     "output_type": "stream",
     "text": [
      "70 130 20 90 50 150 200 140\n",
      "70 130 20 90 150 50 200 40\n",
      "50 150 20 70 90 40 130 30\n",
      "50 150 90 140 40 30 70 20\n",
      "130 70 20 150 50 40 90 30\n",
      "130 70 20 150 90 50 140 40\n"
     ]
    }
   ],
   "source": [
    "xlist = [12, 70, 1, 999, 50, 20, 1000, 150, 300, 200, 90, 900, 40, 140,130,30]\n",
    "clist = [200,-10]\n",
    "c1 = clist[0]\n",
    "c2 = clist[1]\n",
    "for x1 in xlist:\n",
    "    for x2 in xlist:\n",
    "        if x2!=x1:\n",
    "            for x3 in xlist:\n",
    "                if x3 not in [x1,x2]:\n",
    "                    for x4 in xlist:\n",
    "                        if x4 not in[x1,x2,x3]:\n",
    "                            for x5 in xlist:\n",
    "                                if x5 not in[x1,x2,x3,x4]:\n",
    "                                    for x6 in xlist:\n",
    "                                        if x6 not in [x1,x2,x3,x4,x5]:\n",
    "                                            for x7 in xlist:\n",
    "                                                if x7 not in[x1,x2,x3,x4,x5,x6]:\n",
    "                                                    for x8 in xlist:\n",
    "                                                        if x8 not in [x1,x2,x3,x4,x5,x6,x7]:\n",
    "                                                            if x1+x2 == c1 and x4 == x3 + x1 and x8-x6 ==c2 and x7 == x5 + x6:\n",
    "                                                                print(x1,x2,x3,x4,x5,x6,x7,x8)   \n",
    "                                                        \n",
    "                                                                \n",
    "                                                                \n",
    "\n",
    "                                        "
   ]
  },
  {
   "cell_type": "code",
   "execution_count": 44,
   "metadata": {},
   "outputs": [
    {
     "name": "stdout",
     "output_type": "stream",
     "text": [
      "130 70 20 150 50 40 90 30\n",
      "130 70 20 150 90 50 140 40\n",
      "70 130 20 90 50 150 200 140\n",
      "70 130 20 90 150 50 200 40\n",
      "50 150 20 70 90 40 130 30\n",
      "50 150 90 140 40 30 70 20\n"
     ]
    }
   ],
   "source": [
    "xlist = set([12, 70, 1, 999, 50, 20, 1000, 150, 300, 200, 90, 900, 40, 140, 130,30])\n",
    "c1 = 200\n",
    "c2 = -10\n",
    "\n",
    "for x1 in xlist:\n",
    "    for x2 in xlist:\n",
    "        if x2 != x1 and x1 + x2 == c1:\n",
    "            x3_values = [x3 for x3 in xlist if x3 not in {x1, x2}]\n",
    "            for x3 in x3_values:\n",
    "                x4_values = [x4 for x4 in xlist if x4 not in {x1, x2, x3}]\n",
    "                for x4 in x4_values:\n",
    "                    if x4 == x3 + x1:\n",
    "                        x5_values = [x5 for x5 in xlist if x5 not in {x1, x2, x3, x4}]\n",
    "                        for x5 in x5_values:\n",
    "                            x6_values = [x6 for x6 in xlist if x6 not in {x1, x2, x3, x4, x5}]\n",
    "                            for x6 in x6_values:\n",
    "                                x7_values = [x7 for x7 in xlist if x7 not in {x1, x2, x3, x4, x5, x6}]\n",
    "                                for x7 in x7_values:\n",
    "                                    x8_values = [x8 for x8 in xlist if x8 not in {x1, x2, x3, x4, x5, x6, x7}]\n",
    "                                    for x8 in x8_values:\n",
    "                                        if x8 - x6 == c2 and x7 == x5 + x6:\n",
    "                                            print(x1, x2, x3, x4, x5, x6, x7, x8)\n"
   ]
  },
  {
   "cell_type": "code",
   "execution_count": null,
   "metadata": {},
   "outputs": [],
   "source": [
    "from unittest.mock import patch, mock_open\n",
    "with patch(\"builtins.open\", mock_open(read_data=\"\"\"16 200 -10\"\"\")) as mock_file:\n",
    "    x = funtion(open(\"path/to/open\").read())\n",
    "    assert open(\"path/to/open\").read() == \"data\"#answer\n",
    "mock_file.assert_called_with(\"path/to/open\")"
   ]
  },
  {
   "cell_type": "code",
   "execution_count": null,
   "metadata": {},
   "outputs": [],
   "source": [
    "from unittest.mock import patch, mock_open\n",
    "with patch(\"builtins.open\", mock_open(read_data=\"\"\"16 200 -10 12 70 1 999 50 20 1000 150 300 200 90 900 40 140 130 30\"\"\")) as mock_file:\n",
    "    x = readfile(open(\"path/to/open\").read())\n",
    "    x = calculate()\n",
    "    assert open(\"path/to/open\").read() == \"[50 150 20 70 90 40 130 30]\"#answer\n",
    "mock_file.assert_called_with(\"path/to/open\")\n",
    "#Ex7\n",
    "def readfile(input_file):\n",
    "    lines = []\n",
    "    with open(input_file, 'r') as file:\n",
    "        for line in file:\n",
    "            line = line.strip()\n",
    "            lines.append(line)\n",
    "    return(lines)\n",
    "\n",
    "def calculate(lines):\n",
    "    x1,x2,x3,x4,x5,x6,x7,x8 = int,int,int,int,int,int,int,int\n",
    "    c_values=lines[1:3]\n",
    "    x_values=lines[3:]\n",
    "    for i in range(0 ,len(c_values)):\n",
    "        c_values[i] = int(c_values[i])\n",
    "    for i in range(0 ,len(x_values)):\n",
    "        x_values[i] = int(x_values[i])\n",
    "    x_values = set(x_values)\n",
    "    c1 = c_values[0]\n",
    "    c2 = c_values[1]\n",
    "    for x1 in x_values:\n",
    "        for x2 in x_values:\n",
    "            if x2 != x1 and x1 + x2 == c1:\n",
    "                x3_values = [x3 for x3 in x_values if x3 not in {x1, x2}]\n",
    "                for x3 in x3_values:\n",
    "                    x4_values = [x4 for x4 in x_values if x4 not in {x1, x2, x3}]\n",
    "                    for x4 in x4_values:\n",
    "                        if x4 == x3 + x1:\n",
    "                            x5_values = [x5 for x5 in x_values if x5 not in {x1, x2, x3, x4}]\n",
    "                            for x5 in x5_values:\n",
    "                                x6_values = [x6 for x6 in x_values if x6 not in {x1, x2, x3, x4, x5}]\n",
    "                                for x6 in x6_values:\n",
    "                                    x7_values = [x7 for x7 in x_values if x7 not in {x1, x2, x3, x4, x5, x6}]\n",
    "                                    for x7 in x7_values:\n",
    "                                        x8_values = [x8 for x8 in x_values if x8 not in {x1, x2, x3, x4, x5, x6, x7}]\n",
    "                                        for x8 in x8_values:\n",
    "                                            if x8 - x6 == c2 and x7 == x5 + x6:\n",
    "                                                return(x1,x2,x3,x4,x5,x6,x7,x8)   \n",
    "\n",
    "\n"
   ]
  },
  {
   "cell_type": "code",
   "execution_count": 40,
   "metadata": {},
   "outputs": [],
   "source": [
    "def readfile(input_file):\n",
    "    lines = []\n",
    "    with open(input_file, 'r') as file:\n",
    "        for line in file:\n",
    "            line = line.strip()\n",
    "            lines.append(line)      \n",
    "    return(lines)\n",
    "\n",
    "def calculate(lines):\n",
    "    c1=lines[1]\n",
    "    c2=lines[2]   \n",
    "    xlist=set(lines[3:])\n",
    "    for x1 in xlist:\n",
    "        for x2 in xlist:\n",
    "            if x2 != x1 and x1 + x2 == c1:\n",
    "                x3_values = [x3 for x3 in xlist if x3 not in {x1, x2}]\n",
    "                for x3 in x3_values:\n",
    "                    x4_values = [x4 for x4 in xlist if x4 not in {x1, x2, x3}]\n",
    "                    for x4 in x4_values:\n",
    "                        if x4 == x3 + x1:\n",
    "                            x5_values = [x5 for x5 in xlist if x5 not in {x1, x2, x3, x4}]\n",
    "                            for x5 in x5_values:\n",
    "                                x6_values = [x6 for x6 in xlist if x6 not in {x1, x2, x3, x4, x5}]\n",
    "                                for x6 in x6_values:\n",
    "                                    x7_values = [x7 for x7 in xlist if x7 not in {x1, x2, x3, x4, x5, x6}]\n",
    "                                    for x7 in x7_values:\n",
    "                                        x8_values = [x8 for x8 in xlist if x8 not in {x1, x2, x3, x4, x5, x6, x7}]\n",
    "                                        for x8 in x8_values:\n",
    "                                            if x8 - x6 == c2 and x7 == x5 + x6:\n",
    "                                                return(x1, x2, x3, x4, x5, x6, x7, x8)\n",
    "                     "
   ]
  },
  {
   "cell_type": "code",
   "execution_count": 41,
   "metadata": {},
   "outputs": [],
   "source": [
    "calculate(readfile('EX7softdev2.txt'))"
   ]
  },
  {
   "cell_type": "code",
   "execution_count": 8,
   "metadata": {},
   "outputs": [
    {
     "data": {
      "text/plain": [
       "(130, 70, 20, 150, 50, 40, 90, 30)"
      ]
     },
     "execution_count": 8,
     "metadata": {},
     "output_type": "execute_result"
    }
   ],
   "source": [
    "def readfile(input_file):\n",
    "        lines = []\n",
    "        with open(input_file, 'r') as file:\n",
    "            for line in file:\n",
    "                line = line.strip()\n",
    "                lines.append(line)\n",
    "        return(lines)\n",
    "\n",
    "def calculate(lines):\n",
    "        x1,x2,x3,x4,x5,x6,x7,x8 = int,int,int,int,int,int,int,int\n",
    "        c_values=lines[1:3]\n",
    "        x_values=lines[3:]\n",
    "        for i in range(0 ,len(c_values)):\n",
    "            c_values[i] = int(c_values[i])\n",
    "        for i in range(0 ,len(x_values)):\n",
    "            x_values[i] = int(x_values[i])\n",
    "        x_values = set(x_values)\n",
    "        c1 = c_values[0]\n",
    "        c2 = c_values[1]\n",
    "        for x1 in x_values:\n",
    "            for x2 in x_values:\n",
    "                if x2 != x1 and x1 + x2 == c1:\n",
    "                    x3_values = [x3 for x3 in x_values if x3 not in {x1, x2}]\n",
    "                    for x3 in x3_values:\n",
    "                        x4_values = [x4 for x4 in x_values if x4 not in {x1, x2, x3}]\n",
    "                        for x4 in x4_values:\n",
    "                            if x4 == x3 + x1:\n",
    "                                x5_values = [x5 for x5 in x_values if x5 not in {x1, x2, x3, x4}]\n",
    "                                for x5 in x5_values:\n",
    "                                    x6_values = [x6 for x6 in x_values if x6 not in {x1, x2, x3, x4, x5}]\n",
    "                                    for x6 in x6_values:\n",
    "                                        x7_values = [x7 for x7 in x_values if x7 not in {x1, x2, x3, x4, x5, x6}]\n",
    "                                        for x7 in x7_values:\n",
    "                                            x8_values = [x8 for x8 in x_values if x8 not in {x1, x2, x3, x4, x5, x6, x7}]\n",
    "                                            for x8 in x8_values:\n",
    "                                                if x8 - x6 == c2 and x7 == x5 + x6:\n",
    "                                                    return(x1,x2,x3,x4,x5,x6,x7,x8) \n",
    "\n",
    "calculate(readfile('EX7softdev2.txt'))"
   ]
  },
  {
   "cell_type": "code",
   "execution_count": 3,
   "metadata": {},
   "outputs": [
    {
     "ename": "ValueError",
     "evalue": "invalid mode: 'EX7softdev2.txt'",
     "output_type": "error",
     "traceback": [
      "\u001b[0;31m---------------------------------------------------------------------------\u001b[0m",
      "\u001b[0;31mValueError\u001b[0m                                Traceback (most recent call last)",
      "Cell \u001b[0;32mIn[3], line 1\u001b[0m\n\u001b[0;32m----> 1\u001b[0m solve(\u001b[39m'\u001b[39;49m\u001b[39mEX7softdev2.txt\u001b[39;49m\u001b[39m'\u001b[39;49m)\n",
      "Cell \u001b[0;32mIn[1], line 39\u001b[0m, in \u001b[0;36msolve\u001b[0;34m(input_file)\u001b[0m\n\u001b[1;32m     38\u001b[0m \u001b[39mdef\u001b[39;00m \u001b[39msolve\u001b[39m(input_file):\n\u001b[0;32m---> 39\u001b[0m     x \u001b[39m=\u001b[39m readfile(input_file)\n\u001b[1;32m     40\u001b[0m     Result \u001b[39m=\u001b[39m calculate(x)\n\u001b[1;32m     41\u001b[0m     \u001b[39mreturn\u001b[39;00m (Result)\n",
      "Cell \u001b[0;32mIn[1], line 3\u001b[0m, in \u001b[0;36mreadfile\u001b[0;34m(input_file)\u001b[0m\n\u001b[1;32m      1\u001b[0m \u001b[39mdef\u001b[39;00m \u001b[39mreadfile\u001b[39m(input_file):\n\u001b[1;32m      2\u001b[0m         lines \u001b[39m=\u001b[39m []\n\u001b[0;32m----> 3\u001b[0m         \u001b[39mwith\u001b[39;00m \u001b[39mopen\u001b[39;49m(input_file, \u001b[39m'\u001b[39;49m\u001b[39mEX7softdev2.txt\u001b[39;49m\u001b[39m'\u001b[39;49m) \u001b[39mas\u001b[39;00m file:\n\u001b[1;32m      4\u001b[0m             \u001b[39mfor\u001b[39;00m line \u001b[39min\u001b[39;00m file:\n\u001b[1;32m      5\u001b[0m                 line \u001b[39m=\u001b[39m line\u001b[39m.\u001b[39mstrip()\n",
      "File \u001b[0;32m~/Library/Python/3.9/lib/python/site-packages/IPython/core/interactiveshell.py:282\u001b[0m, in \u001b[0;36m_modified_open\u001b[0;34m(file, *args, **kwargs)\u001b[0m\n\u001b[1;32m    275\u001b[0m \u001b[39mif\u001b[39;00m file \u001b[39min\u001b[39;00m {\u001b[39m0\u001b[39m, \u001b[39m1\u001b[39m, \u001b[39m2\u001b[39m}:\n\u001b[1;32m    276\u001b[0m     \u001b[39mraise\u001b[39;00m \u001b[39mValueError\u001b[39;00m(\n\u001b[1;32m    277\u001b[0m         \u001b[39mf\u001b[39m\u001b[39m\"\u001b[39m\u001b[39mIPython won\u001b[39m\u001b[39m'\u001b[39m\u001b[39mt let you open fd=\u001b[39m\u001b[39m{\u001b[39;00mfile\u001b[39m}\u001b[39;00m\u001b[39m by default \u001b[39m\u001b[39m\"\u001b[39m\n\u001b[1;32m    278\u001b[0m         \u001b[39m\"\u001b[39m\u001b[39mas it is likely to crash IPython. If you know what you are doing, \u001b[39m\u001b[39m\"\u001b[39m\n\u001b[1;32m    279\u001b[0m         \u001b[39m\"\u001b[39m\u001b[39myou can use builtins\u001b[39m\u001b[39m'\u001b[39m\u001b[39m open.\u001b[39m\u001b[39m\"\u001b[39m\n\u001b[1;32m    280\u001b[0m     )\n\u001b[0;32m--> 282\u001b[0m \u001b[39mreturn\u001b[39;00m io_open(file, \u001b[39m*\u001b[39;49margs, \u001b[39m*\u001b[39;49m\u001b[39m*\u001b[39;49mkwargs)\n",
      "\u001b[0;31mValueError\u001b[0m: invalid mode: 'EX7softdev2.txt'"
     ]
    }
   ],
   "source": [
    "solve('EX7softdev2.txt')"
   ]
  },
  {
   "cell_type": "code",
   "execution_count": null,
   "metadata": {},
   "outputs": [],
   "source": []
  }
 ],
 "metadata": {
  "kernelspec": {
   "display_name": "Python 3",
   "language": "python",
   "name": "python3"
  },
  "language_info": {
   "codemirror_mode": {
    "name": "ipython",
    "version": 3
   },
   "file_extension": ".py",
   "mimetype": "text/x-python",
   "name": "python",
   "nbconvert_exporter": "python",
   "pygments_lexer": "ipython3",
   "version": "3.9.6 (default, Sep 26 2022, 11:37:49) \n[Clang 14.0.0 (clang-1400.0.29.202)]"
  },
  "orig_nbformat": 4,
  "vscode": {
   "interpreter": {
    "hash": "31f2aee4e71d21fbe5cf8b01ff0e069b9275f58929596ceb00d14d90e3e16cd6"
   }
  }
 },
 "nbformat": 4,
 "nbformat_minor": 2
}
