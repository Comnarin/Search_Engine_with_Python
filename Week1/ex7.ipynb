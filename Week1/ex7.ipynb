{
 "cells": [
  {
   "cell_type": "code",
   "execution_count": 1,
   "metadata": {},
   "outputs": [
    {
     "name": "stdout",
     "output_type": "stream",
     "text": [
      "70 130 20 90 50 150 200 140\n",
      "70 130 20 90 150 50 200 40\n",
      "50 150 20 70 90 40 130 30\n",
      "50 150 90 140 40 30 70 20\n",
      "130 70 20 150 50 40 90 30\n",
      "130 70 20 150 90 50 140 40\n"
     ]
    }
   ],
   "source": [
    "xlist = [12, 70, 1, 999, 50, 20, 1000, 150, 300, 200, 90, 900, 40, 140,130,30]\n",
    "clist = [200,-10]\n",
    "c1 = clist[0]\n",
    "c2 = clist[1]\n",
    "for x1 in xlist:\n",
    "    for x2 in xlist:\n",
    "        if x2!=x1:\n",
    "            for x3 in xlist:\n",
    "                if x3 not in [x1,x2]:\n",
    "                    for x4 in xlist:\n",
    "                        if x4 not in[x1,x2,x3]:\n",
    "                            for x5 in xlist:\n",
    "                                if x5 not in[x1,x2,x3,x4]:\n",
    "                                    for x6 in xlist:\n",
    "                                        if x6 not in [x1,x2,x3,x4,x5]:\n",
    "                                            for x7 in xlist:\n",
    "                                                if x7 not in[x1,x2,x3,x4,x5,x6]:\n",
    "                                                    for x8 in xlist:\n",
    "                                                        if x8 not in [x1,x2,x3,x4,x5,x6,x7]:\n",
    "                                                            if x1+x2 == c1 and x4 == x3 + x1 and x8-x6 ==c2 and x7 == x5 + x6:\n",
    "                                                                print(x1,x2,x3,x4,x5,x6,x7,x8)   \n",
    "                                                        \n",
    "                                                                \n",
    "                                                                \n",
    "\n",
    "                                        "
   ]
  },
  {
   "cell_type": "code",
   "execution_count": 6,
   "metadata": {},
   "outputs": [],
   "source": [
    "from collections import deque\n",
    "\n",
    "xlist = [12, 70, 1, 999, 50, 20, 1000, 150, 300, 200, 90, 900, 40, 140,130,30]\n",
    "clist = [200,-10]\n",
    "c1 = clist[0]\n",
    "c2 = clist[1]\n",
    "queue = deque()\n",
    "\n",
    "queue.append((0, 0, 0, 0, 0, 0, 0, 0))\n",
    "\n",
    "while queue:\n",
    "  # Pop the next node from the queue\n",
    "  x1, x2, x3, x4, x5, x6, x7, x8 = queue.popleft()\n",
    "\n",
    "  # Check if the node is a valid solution\n",
    "  if c1 == x1 + x2 and x4 == x3 + x1 and x8 == c2 + x6 and x7 == x5 + x6:\n",
    "    # Print the values of x1 to x8 as they form a valid solution\n",
    "    print(f\"x1 = {x1}, x2 = {x2}, x3 = {x3}, x4 = {x4}, x5 = {x5}, x6 = {x6}, x7 = {x7}, x8 = {x8}\")\n",
    "    continue\n",
    "\n",
    "  # Generate the children of the current node\n",
    "  for x1_ in xlist:\n",
    "    for x2_ in xlist:\n",
    "      queue.append((x1_, x2_, x3, x4, x5, x6, x7, x8))\n",
    "  for x3_ in xlist:\n",
    "    for x4_ in xlist:\n",
    "      queue.append((x1, x2, x3_, x4_, x5, x6, x7, x8))\n",
    "  for x5_ in xlist:\n",
    "    for x6_ in xlist:\n",
    "      queue.append((x1, x2, x3, x4, x5_, x6_, x7, x8))\n",
    "  for x7_ in xlist:\n",
    "    queue.append((x1, x2, x3, x4, x5, x6, x7_, x8))\n",
    "  for x8_ in xlist:\n",
    "    queue.append((x1, x2, x3, x4, x5, x6, x7, x8_))\n",
    "\n"
   ]
  },
  {
   "cell_type": "code",
   "execution_count": null,
   "metadata": {},
   "outputs": [],
   "source": []
  }
 ],
 "metadata": {
  "kernelspec": {
   "display_name": "Python 3",
   "language": "python",
   "name": "python3"
  },
  "language_info": {
   "codemirror_mode": {
    "name": "ipython",
    "version": 3
   },
   "file_extension": ".py",
   "mimetype": "text/x-python",
   "name": "python",
   "nbconvert_exporter": "python",
   "pygments_lexer": "ipython3",
   "version": "3.10.0"
  },
  "orig_nbformat": 4,
  "vscode": {
   "interpreter": {
    "hash": "aee8b7b246df8f9039afb4144a1f6fd8d2ca17a180786b69acc140d282b71a49"
   }
  }
 },
 "nbformat": 4,
 "nbformat_minor": 2
}
