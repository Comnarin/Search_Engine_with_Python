{
 "cells": [
  {
   "cell_type": "code",
   "execution_count": 2,
   "metadata": {},
   "outputs": [
    {
     "name": "stdout",
     "output_type": "stream",
     "text": [
      "70 130 20 90 50 150 200 140\n",
      "70 130 20 90 150 50 200 40\n",
      "50 150 20 70 90 40 130 30\n",
      "50 150 90 140 40 30 70 20\n",
      "130 70 20 150 50 40 90 30\n",
      "130 70 20 150 90 50 140 40\n"
     ]
    }
   ],
   "source": [
    "xlist = [12, 70, 1, 999, 50, 20, 1000, 150, 300, 200, 90, 900, 40, 140,130,30]\n",
    "clist = [200,-10]\n",
    "c1 = clist[0]\n",
    "c2 = clist[1]\n",
    "for x1 in xlist:\n",
    "    for x2 in xlist:\n",
    "        if x2!=x1:\n",
    "            for x3 in xlist:\n",
    "                if x3 not in [x1,x2]:\n",
    "                    for x4 in xlist:\n",
    "                        if x4 not in[x1,x2,x3]:\n",
    "                            for x5 in xlist:\n",
    "                                if x5 not in[x1,x2,x3,x4]:\n",
    "                                    for x6 in xlist:\n",
    "                                        if x6 not in [x1,x2,x3,x4,x5]:\n",
    "                                            for x7 in xlist:\n",
    "                                                if x7 not in[x1,x2,x3,x4,x5,x6]:\n",
    "                                                    for x8 in xlist:\n",
    "                                                        if x8 not in [x1,x2,x3,x4,x5,x6,x7]:\n",
    "                                                            if x1+x2 == c1 and x4 == x3 + x1 and x8-x6 ==c2 and x7 == x5 + x6:\n",
    "                                                                print(x1,x2,x3,x4,x5,x6,x7,x8)   \n",
    "                                                        \n",
    "                                                                \n",
    "                                                                \n",
    "\n",
    "                                        "
   ]
  },
  {
   "cell_type": "code",
   "execution_count": 44,
   "metadata": {},
   "outputs": [
    {
     "name": "stdout",
     "output_type": "stream",
     "text": [
      "130 70 20 150 50 40 90 30\n",
      "130 70 20 150 90 50 140 40\n",
      "70 130 20 90 50 150 200 140\n",
      "70 130 20 90 150 50 200 40\n",
      "50 150 20 70 90 40 130 30\n",
      "50 150 90 140 40 30 70 20\n"
     ]
    }
   ],
   "source": [
    "xlist = set([12, 70, 1, 999, 50, 20, 1000, 150, 300, 200, 90, 900, 40, 140, 130,30])\n",
    "c1 = 200\n",
    "c2 = -10\n",
    "\n",
    "for x1 in xlist:\n",
    "    for x2 in xlist:\n",
    "        if x2 != x1 and x1 + x2 == c1:\n",
    "            x3_values = [x3 for x3 in xlist if x3 not in {x1, x2}]\n",
    "            for x3 in x3_values:\n",
    "                x4_values = [x4 for x4 in xlist if x4 not in {x1, x2, x3}]\n",
    "                for x4 in x4_values:\n",
    "                    if x4 == x3 + x1:\n",
    "                        x5_values = [x5 for x5 in xlist if x5 not in {x1, x2, x3, x4}]\n",
    "                        for x5 in x5_values:\n",
    "                            x6_values = [x6 for x6 in xlist if x6 not in {x1, x2, x3, x4, x5}]\n",
    "                            for x6 in x6_values:\n",
    "                                x7_values = [x7 for x7 in xlist if x7 not in {x1, x2, x3, x4, x5, x6}]\n",
    "                                for x7 in x7_values:\n",
    "                                    x8_values = [x8 for x8 in xlist if x8 not in {x1, x2, x3, x4, x5, x6, x7}]\n",
    "                                    for x8 in x8_values:\n",
    "                                        if x8 - x6 == c2 and x7 == x5 + x6:\n",
    "                                            print(x1, x2, x3, x4, x5, x6, x7, x8)\n"
   ]
  },
  {
   "cell_type": "code",
   "execution_count": null,
   "metadata": {},
   "outputs": [],
   "source": [
    "from unittest.mock import patch, mock_open\n",
    "with patch(\"builtins.open\", mock_open(read_data=\"\"\"16 200 -10\"\"\")) as mock_file:\n",
    "    x = funtion(open(\"path/to/open\").read())\n",
    "    assert open(\"path/to/open\").read() == \"data\"#answer\n",
    "mock_file.assert_called_with(\"path/to/open\")"
   ]
  },
  {
   "cell_type": "code",
   "execution_count": null,
   "metadata": {},
   "outputs": [],
   "source": [
    "from unittest.mock import patch, mock_open\n",
    "with patch(\"builtins.open\", mock_open(read_data=\"\"\"16 200 -10 12 70 1 999 50 20 1000 150 300 200 90 900 40 140 130 30\"\"\")) as mock_file:\n",
    "    x = readfile(open(\"path/to/open\").read())\n",
    "    x = calculate()\n",
    "    assert open(\"path/to/open\").read() == \"[50 150 20 70 90 40 130 30]\"#answer\n",
    "mock_file.assert_called_with(\"path/to/open\")\n",
    "#Ex7\n",
    "def readfile(input_file):\n",
    "    lines = []\n",
    "    with open(input_file, 'r') as file:\n",
    "        for line in file:\n",
    "            line = line.strip()\n",
    "            lines.append(line)\n",
    "    return(lines)\n",
    "\n",
    "def calculate(lines):\n",
    "    x1,x2,x3,x4,x5,x6,x7,x8 = int,int,int,int,int,int,int,int\n",
    "    c_values=lines[1:3]\n",
    "    x_values=lines[3:]\n",
    "    for i in range(0 ,len(c_values)):\n",
    "        c_values[i] = int(c_values[i])\n",
    "    for i in range(0 ,len(x_values)):\n",
    "        x_values[i] = int(x_values[i])\n",
    "    x_values = set(x_values)\n",
    "    c1 = c_values[0]\n",
    "    c2 = c_values[1]\n",
    "    for x1 in x_values:\n",
    "        for x2 in x_values:\n",
    "            if x2 != x1 and x1 + x2 == c1:\n",
    "                x3_values = [x3 for x3 in x_values if x3 not in {x1, x2}]\n",
    "                for x3 in x3_values:\n",
    "                    x4_values = [x4 for x4 in x_values if x4 not in {x1, x2, x3}]\n",
    "                    for x4 in x4_values:\n",
    "                        if x4 == x3 + x1:\n",
    "                            x5_values = [x5 for x5 in x_values if x5 not in {x1, x2, x3, x4}]\n",
    "                            for x5 in x5_values:\n",
    "                                x6_values = [x6 for x6 in x_values if x6 not in {x1, x2, x3, x4, x5}]\n",
    "                                for x6 in x6_values:\n",
    "                                    x7_values = [x7 for x7 in x_values if x7 not in {x1, x2, x3, x4, x5, x6}]\n",
    "                                    for x7 in x7_values:\n",
    "                                        x8_values = [x8 for x8 in x_values if x8 not in {x1, x2, x3, x4, x5, x6, x7}]\n",
    "                                        for x8 in x8_values:\n",
    "                                            if x8 - x6 == c2 and x7 == x5 + x6:\n",
    "                                                return(x1,x2,x3,x4,x5,x6,x7,x8)   \n",
    "\n",
    "\n"
   ]
  },
  {
   "cell_type": "code",
   "execution_count": 40,
   "metadata": {},
   "outputs": [],
   "source": [
    "def readfile(input_file):\n",
    "    lines = []\n",
    "    with open(input_file, 'r') as file:\n",
    "        for line in file:\n",
    "            line = line.strip()\n",
    "            lines.append(line)      \n",
    "    return(lines)\n",
    "\n",
    "def calculate(lines):\n",
    "    c1=lines[1]\n",
    "    c2=lines[2]   \n",
    "    xlist=set(lines[3:])\n",
    "    for x1 in xlist:\n",
    "        for x2 in xlist:\n",
    "            if x2 != x1 and x1 + x2 == c1:\n",
    "                x3_values = [x3 for x3 in xlist if x3 not in {x1, x2}]\n",
    "                for x3 in x3_values:\n",
    "                    x4_values = [x4 for x4 in xlist if x4 not in {x1, x2, x3}]\n",
    "                    for x4 in x4_values:\n",
    "                        if x4 == x3 + x1:\n",
    "                            x5_values = [x5 for x5 in xlist if x5 not in {x1, x2, x3, x4}]\n",
    "                            for x5 in x5_values:\n",
    "                                x6_values = [x6 for x6 in xlist if x6 not in {x1, x2, x3, x4, x5}]\n",
    "                                for x6 in x6_values:\n",
    "                                    x7_values = [x7 for x7 in xlist if x7 not in {x1, x2, x3, x4, x5, x6}]\n",
    "                                    for x7 in x7_values:\n",
    "                                        x8_values = [x8 for x8 in xlist if x8 not in {x1, x2, x3, x4, x5, x6, x7}]\n",
    "                                        for x8 in x8_values:\n",
    "                                            if x8 - x6 == c2 and x7 == x5 + x6:\n",
    "                                                return(x1, x2, x3, x4, x5, x6, x7, x8)\n",
    "                     "
   ]
  },
  {
   "cell_type": "code",
   "execution_count": 41,
   "metadata": {},
   "outputs": [],
   "source": [
    "calculate(readfile('EX7softdev2.txt'))"
   ]
  },
  {
   "cell_type": "code",
   "execution_count": null,
   "metadata": {},
   "outputs": [],
   "source": []
  }
 ],
 "metadata": {
  "kernelspec": {
   "display_name": "base",
   "language": "python",
   "name": "python3"
  },
  "language_info": {
   "codemirror_mode": {
    "name": "ipython",
    "version": 3
   },
   "file_extension": ".py",
   "mimetype": "text/x-python",
   "name": "python",
   "nbconvert_exporter": "python",
   "pygments_lexer": "ipython3",
   "version": "3.9.7"
  },
  "orig_nbformat": 4,
  "vscode": {
   "interpreter": {
    "hash": "d6dbe31fb58d2a925cb6cf70124d8310e9312b8d1336a5bee8b6adf692fc3cfd"
   }
  }
 },
 "nbformat": 4,
 "nbformat_minor": 2
}
