{
 "cells": [
  {
   "cell_type": "code",
   "execution_count": 1,
   "metadata": {},
   "outputs": [
    {
     "name": "stdout",
     "output_type": "stream",
     "text": [
      "[{0, 1, -1}, {0, 2, -2}, {0, -4, 4}, {0, 3, -3}, {4, -3, -1}, {3, -2, -1}, {1, 2, -3}, {1, 3, -4}]\n",
      "No Triplet Found\n"
     ]
    }
   ],
   "source": [
    "def findtriple(array):\n",
    "    Result =\"\"\n",
    "    found = False\n",
    "    l=[]\n",
    "    for i in range(len(array) - 1):\n",
    "        s = set()\n",
    "        for j in range(i + 1, len(array)):\n",
    "            x = -(array[i] + array[j])\n",
    "            if x in s:\n",
    "                tripleset=set()\n",
    "                tripleset.add(x)\n",
    "                tripleset.add(array[i])\n",
    "                tripleset.add(array[j])\n",
    "                l.append(tripleset)\n",
    "                found = True\n",
    "            else:\n",
    "                s.add(array[j])\n",
    "    if found == False:\n",
    "        Result = \"No_Triplet_Found\"\n",
    "    else:\n",
    "        Result = l\n",
    "    return Result\n",
    "array=[0,-1,-2,-3,1,2,-4,4,3]\n",
    "findtriple(array)\n",
    "findtriple([1,2,3,4,5,6,7])"
   ]
  },
  {
   "cell_type": "code",
   "execution_count": null,
   "metadata": {},
   "outputs": [],
   "source": []
  }
 ],
 "metadata": {
  "kernelspec": {
   "display_name": "Python 3.9.7 ('base')",
   "language": "python",
   "name": "python3"
  },
  "language_info": {
   "codemirror_mode": {
    "name": "ipython",
    "version": 3
   },
   "file_extension": ".py",
   "mimetype": "text/x-python",
   "name": "python",
   "nbconvert_exporter": "python",
   "pygments_lexer": "ipython3",
   "version": "3.9.7"
  },
  "orig_nbformat": 4,
  "vscode": {
   "interpreter": {
    "hash": "d6dbe31fb58d2a925cb6cf70124d8310e9312b8d1336a5bee8b6adf692fc3cfd"
   }
  }
 },
 "nbformat": 4,
 "nbformat_minor": 2
}
