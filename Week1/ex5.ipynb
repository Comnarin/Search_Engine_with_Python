{
 "cells": [
  {
   "cell_type": "code",
   "execution_count": 1,
   "metadata": {},
   "outputs": [
    {
     "name": "stdout",
     "output_type": "stream",
     "text": [
      "[{0, 1, -1}, {0, 2, -2}, {0, -4, 4}, {0, 3, -3}, {4, -3, -1}, {3, -2, -1}, {1, 2, -3}, {1, 3, -4}]\n"
     ]
    }
   ],
   "source": [
    "def findtriple(array):\n",
    "    found = False\n",
    "    l=[]\n",
    "    for i in range(len(array) - 1):\n",
    "        s = set()\n",
    "        for j in range(i + 1, len(array)):\n",
    "            x = -(array[i] + array[j])\n",
    "            if x in s:\n",
    "                tripleset=set()\n",
    "                tripleset.add(x)\n",
    "                tripleset.add(array[i])\n",
    "                tripleset.add(array[j])\n",
    "                l.append(tripleset)\n",
    "                found = True\n",
    "            else:\n",
    "                s.add(array[j])\n",
    "    if found == False:\n",
    "        print(\"No Triplet Found\")\n",
    "    else:\n",
    "        print(l)\n",
    "array=[0,-1,-2,-3,1,2,-4,4,3]\n",
    "findtriple(array)"
   ]
  },
  {
   "cell_type": "code",
   "execution_count": null,
   "metadata": {},
   "outputs": [],
   "source": []
  }
 ],
 "metadata": {
  "kernelspec": {
   "display_name": "Python 3",
   "language": "python",
   "name": "python3"
  },
  "language_info": {
   "codemirror_mode": {
    "name": "ipython",
    "version": 3
   },
   "file_extension": ".py",
   "mimetype": "text/x-python",
   "name": "python",
   "nbconvert_exporter": "python",
   "pygments_lexer": "ipython3",
   "version": "3.10.0"
  },
  "orig_nbformat": 4,
  "vscode": {
   "interpreter": {
    "hash": "aee8b7b246df8f9039afb4144a1f6fd8d2ca17a180786b69acc140d282b71a49"
   }
  }
 },
 "nbformat": 4,
 "nbformat_minor": 2
}
