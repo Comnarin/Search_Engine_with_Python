{
 "cells": [
  {
   "cell_type": "code",
   "execution_count": null,
   "metadata": {},
   "outputs": [],
   "source": [
    "def findtriple(array):\n",
    "    found = False\n",
    "    l=[]\n",
    "    for i in range(len(array) - 1):\n",
    "        s = set()\n",
    "        for j in range(i + 1, len(array)):\n",
    "            x = -(array[i] + array[j])\n",
    "            if x in s:\n",
    "                tripleset=set()\n",
    "                tripleset.add(x)\n",
    "                tripleset.add(array[i])\n",
    "                tripleset.add(array[j])\n",
    "                l.append(tripleset)\n",
    "                found = True\n",
    "            else:\n",
    "                s.add(array[j])\n",
    "    if found == False:\n",
    "        print(\"No Triplet Found\")\n",
    "    else:\n",
    "        print(l)\n",
    "array=[0,-1,-2,-3,1,2,-4,4,3]\n",
    "findtriple(array)"
   ]
  }
 ],
 "metadata": {
  "kernelspec": {
   "display_name": "Python 3",
   "language": "python",
   "name": "python3"
  },
  "language_info": {
   "name": "python",
   "version": "3.10.0 (v3.10.0:b494f5935c, Oct  4 2021, 14:59:19) [Clang 12.0.5 (clang-1205.0.22.11)]"
  },
  "orig_nbformat": 4,
  "vscode": {
   "interpreter": {
    "hash": "aee8b7b246df8f9039afb4144a1f6fd8d2ca17a180786b69acc140d282b71a49"
   }
  }
 },
 "nbformat": 4,
 "nbformat_minor": 2
}
