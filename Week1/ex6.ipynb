{
 "cells": [
  {
   "cell_type": "code",
   "execution_count": 6,
   "metadata": {},
   "outputs": [],
   "source": [
    "\n",
    "def sum_of_10_matrix():\n",
    "    def find_count(matrix_value):\n",
    "            count = 0\n",
    "            for m in range (matrix):\n",
    "                row = matrix_value[m]\n",
    "                total = 0\n",
    "                for j in range(len(row)) :\n",
    "                    if total == 10:\n",
    "                            count +=1\n",
    "                    total = 0\n",
    "                    \n",
    "                    for i in range(j,len(row)):\n",
    "                        if total == 10:\n",
    "                            count +=1\n",
    "                            total = 0\n",
    "                        elif total < 10:\n",
    "                            total+=row[i]\n",
    "            return count\n",
    "                \n",
    "    time = int(input(\"time : \"))\n",
    "    Result = []\n",
    "\n",
    "    for i in range(time):\n",
    "        matrix = int(input(\"Matrix : \"))\n",
    "        value = []\n",
    "\n",
    "        for j in range(matrix):\n",
    "            value += input('value : ').split()\n",
    "\n",
    "        list_of_integers = [int(item) for item in value]\n",
    "        rows = []\n",
    "        rows_size = matrix\n",
    "\n",
    "        for i in range(0, len(list_of_integers), rows_size):\n",
    "            rows.append(list_of_integers[i:i+rows_size])\n",
    "        n = matrix \n",
    "        columns = []\n",
    "\n",
    "        for i in range(n):\n",
    "            column = []\n",
    "            for j in range(n):\n",
    "                column.append(rows[j][i])\n",
    "            columns.append(column)\n",
    "            \n",
    "        Result.append(find_count(rows)+find_count(columns))\n",
    "    return Result\n"
   ]
  },
  {
   "cell_type": "code",
   "execution_count": 7,
   "metadata": {},
   "outputs": [
    {
     "data": {
      "text/plain": [
       "[4]"
      ]
     },
     "execution_count": 7,
     "metadata": {},
     "output_type": "execute_result"
    }
   ],
   "source": [
    "sum_of_10_matrix()"
   ]
  },
  {
   "cell_type": "code",
   "execution_count": 49,
   "metadata": {},
   "outputs": [
    {
     "ename": "IndexError",
     "evalue": "list index out of range",
     "output_type": "error",
     "traceback": [
      "\u001b[1;31m---------------------------------------------------------------------------\u001b[0m",
      "\u001b[1;31mIndexError\u001b[0m                                Traceback (most recent call last)",
      "\u001b[1;32m~\\AppData\\Local\\Temp/ipykernel_16428/1231154638.py\u001b[0m in \u001b[0;36m<module>\u001b[1;34m\u001b[0m\n\u001b[0;32m     39\u001b[0m         \u001b[0mcolumn\u001b[0m \u001b[1;33m=\u001b[0m \u001b[1;33m[\u001b[0m\u001b[1;33m]\u001b[0m\u001b[1;33m\u001b[0m\u001b[1;33m\u001b[0m\u001b[0m\n\u001b[0;32m     40\u001b[0m         \u001b[1;32mfor\u001b[0m \u001b[0mj\u001b[0m \u001b[1;32min\u001b[0m \u001b[0mrange\u001b[0m\u001b[1;33m(\u001b[0m\u001b[0mn\u001b[0m\u001b[1;33m)\u001b[0m\u001b[1;33m:\u001b[0m\u001b[1;33m\u001b[0m\u001b[1;33m\u001b[0m\u001b[0m\n\u001b[1;32m---> 41\u001b[1;33m             \u001b[0mcolumn\u001b[0m\u001b[1;33m.\u001b[0m\u001b[0mappend\u001b[0m\u001b[1;33m(\u001b[0m\u001b[0mrows\u001b[0m\u001b[1;33m[\u001b[0m\u001b[0mj\u001b[0m\u001b[1;33m]\u001b[0m\u001b[1;33m[\u001b[0m\u001b[0mi\u001b[0m\u001b[1;33m]\u001b[0m\u001b[1;33m)\u001b[0m\u001b[1;33m\u001b[0m\u001b[1;33m\u001b[0m\u001b[0m\n\u001b[0m\u001b[0;32m     42\u001b[0m         \u001b[0mcolumns\u001b[0m\u001b[1;33m.\u001b[0m\u001b[0mappend\u001b[0m\u001b[1;33m(\u001b[0m\u001b[0mcolumn\u001b[0m\u001b[1;33m)\u001b[0m\u001b[1;33m\u001b[0m\u001b[1;33m\u001b[0m\u001b[0m\n\u001b[0;32m     43\u001b[0m \u001b[1;33m\u001b[0m\u001b[0m\n",
      "\u001b[1;31mIndexError\u001b[0m: list index out of range"
     ]
    }
   ],
   "source": [
    "def find_count(matrix_value):\n",
    "            count = 0\n",
    "            for m in range (matrix):\n",
    "                row = matrix_value[m]\n",
    "                total = 0\n",
    "                for j in range(len(row)) :\n",
    "                    if total == 10:\n",
    "                            count +=1\n",
    "                    total = 0\n",
    "                    \n",
    "                    for i in range(j,len(row)):\n",
    "                        if total == 10:\n",
    "                            count +=1\n",
    "                            total = 0\n",
    "                        elif total < 10:\n",
    "                            total+=row[i]\n",
    "            return count\n",
    "                \n",
    "time = int(input(\"time : \"))\n",
    "Result = []\n",
    "\n",
    "for i in range(time):\n",
    "    matrix = int(input(\"Matrix : \"))\n",
    "    value = []\n",
    "\n",
    "    for j in range(matrix):\n",
    "        value += input('value : ').split()\n",
    "\n",
    "    list_of_integers = [int(item) for item in value]\n",
    "    rows = []\n",
    "    rows_size = matrix\n",
    "\n",
    "    for i in range(0, len(list_of_integers), rows_size):\n",
    "        rows.append(list_of_integers[i:i+rows_size])\n",
    "    n = matrix \n",
    "    columns = []\n",
    "\n",
    "    for i in range(n):\n",
    "        column = []\n",
    "        for j in range(n):\n",
    "            column.append(rows[j][i])\n",
    "        columns.append(column)\n",
    "            \n",
    "    Result.append(find_count(rows)+find_count(columns))"
   ]
  },
  {
   "cell_type": "code",
   "execution_count": 48,
   "metadata": {},
   "outputs": [
    {
     "name": "stdout",
     "output_type": "stream",
     "text": [
      "\n",
      "[[1, 2, 3, 4], [1, 2, 3, 4], [1, 2, 3, 4], [1, 2, 3, 4]]\n",
      "\n",
      "[[1, 1, 1, 1], [2, 2, 2, 2], [3, 3, 3, 3], [4, 4, 4, 4]]\n",
      "\n",
      "[[2, 2, 2, 2, 2], [2, 2, 2, 2, 2], [2, 2, 2, 2, 2], [2, 2, 2, 2, 2], [2, 2, 2, 2, 2]]\n",
      "\n",
      "[[2, 2, 2, 2, 2], [2, 2, 2, 2, 2], [2, 2, 2, 2, 2], [2, 2, 2, 2, 2], [2, 2, 2, 2, 2]]\n"
     ]
    }
   ],
   "source": [
    "time =[]\n",
    "size =[]\n",
    "data_rows =[]\n",
    "data_columns =[]\n",
    "\n",
    "time = int(input(\"time : \"))\n",
    "for i in range(time):\n",
    "    matrix = int(input(\"Matrix : \"))\n",
    "    size.append(matrix)\n",
    "    value =[]\n",
    "    for i in range(size[i]):\n",
    "        value += input('value : ').split()\n",
    "    \n",
    "    list_of_integers = [int(item) for item in value]\n",
    "    rows =[]\n",
    "    for i in range(0, len(list_of_integers),size[-1]):\n",
    "        rows.append(list_of_integers[i:i+size[-1]])\n",
    "    \n",
    "    data_rows.append(rows)\n",
    "    \n",
    "    columns = []\n",
    "    for i in range(size[-1]):\n",
    "        column = []\n",
    "        for j in range(size[-1]):\n",
    "            column.append(rows[j][i])\n",
    "        columns.append(column)\n",
    "    data_columns.append(columns)\n",
    "##print(time)\n",
    "##print(size)\n",
    "##print(data)\n",
    "print(\"\")\n",
    "print(data_rows[0])\n",
    "print(\"\")\n",
    "print(data_columns[0])\n",
    "print(\"\")\n",
    "print(data_rows[1])\n",
    "print(\"\")\n",
    "print(data_columns[1])\n",
    "    \n"
   ]
  },
  {
   "cell_type": "code",
   "execution_count": 13,
   "metadata": {},
   "outputs": [
    {
     "name": "stdout",
     "output_type": "stream",
     "text": [
      "[[1, 2, 3, 4], [1, 2, 3, 4], [1, 2, 3, 4], [1, 2, 3, 4]]\n"
     ]
    }
   ],
   "source": [
    "matrix = int(input(\"Matrix : \"))\n",
    "value = []\n",
    "\n",
    "for j in range(matrix):\n",
    "    value += input('value : ').split()\n",
    "\n",
    "list_of_integers = [int(item) for item in value]\n",
    "rows = []\n",
    "rows = []\n",
    "rows_size = matrix\n",
    "\n",
    "for i in range(0, len(list_of_integers), rows_size):\n",
    "    rows.append(list_of_integers[i:i+rows_size])\n",
    "print(rows)"
   ]
  },
  {
   "cell_type": "code",
   "execution_count": 79,
   "metadata": {},
   "outputs": [],
   "source": [
    "class sum_of_10_matrix():\n",
    "    def __init__(self) :\n",
    "        self.matrix = []\n",
    "        self.Result = []\n",
    "    def Input(self):\n",
    "        self.size = []\n",
    "        self.data_rows = []\n",
    "        self.data_columns =[]\n",
    "        self.time = int(input(\"time : \"))\n",
    "        for i in range(time):\n",
    "            matrix = int(input(\"Matrix : \"))\n",
    "            self.size.append(matrix)\n",
    "            value =[]\n",
    "            for i in range(self.size[i]):\n",
    "                value += input('value : ').split()\n",
    "            \n",
    "            list_of_integers = [int(item) for item in value]\n",
    "            rows =[]\n",
    "            for i in range(0, len(list_of_integers),self.size[-1]):\n",
    "                rows.append(list_of_integers[i:i+self.size[-1]])\n",
    "            \n",
    "            self.data_rows.append(rows)\n",
    "    \n",
    "            columns = []\n",
    "            for i in range(self.size[-1]):\n",
    "                column = []\n",
    "                for j in range(self.size[-1]):\n",
    "                    column.append(rows[j][i])\n",
    "                columns.append(column)\n",
    "            self.data_columns.append(columns)\n",
    "        return self.data_rows,self.data_columns\n",
    "        \n",
    "    def find_count(self,matrix_value,size):\n",
    "            count = 0\n",
    "            for m in range (size):\n",
    "                row = matrix_value[m]\n",
    "                total = 0\n",
    "                for j in range(len(row)) :\n",
    "                    if total == 10:\n",
    "                            count +=1\n",
    "                    total = 0\n",
    "                    \n",
    "                    for i in range(j,len(row)):\n",
    "                        if total == 10:\n",
    "                            count +=1\n",
    "                            total = 0\n",
    "                        elif total < 10:\n",
    "                            total+=row[i]\n",
    "            return count\n",
    "                \n",
    "    def calculator(self):\n",
    "        for i in range(self.time):\n",
    "            #print(i)\n",
    "            #print(self.data_rows[i])\n",
    "            #print(self.size[i])\n",
    "            #print(self.data_columns[i])\n",
    "            self.Result += (self.find_count(self.data_rows[i],self.size[i]))\n",
    "            self.Result += (self.find_count(self.data_columns[i],self.size[i]))\n",
    "        return self.Result\n"
   ]
  },
  {
   "cell_type": "code",
   "execution_count": 80,
   "metadata": {},
   "outputs": [
    {
     "name": "stdout",
     "output_type": "stream",
     "text": [
      "[4]\n",
      "4\n",
      "0\n",
      "[]\n"
     ]
    }
   ],
   "source": [
    "a = sum_of_10_matrix()\n",
    "a.Input()\n",
    "Result = a.calculator()\n",
    "print(Result)"
   ]
  },
  {
   "cell_type": "code",
   "execution_count": null,
   "metadata": {},
   "outputs": [],
   "source": []
  }
 ],
 "metadata": {
  "kernelspec": {
   "display_name": "Python 3.9.7 ('base')",
   "language": "python",
   "name": "python3"
  },
  "language_info": {
   "codemirror_mode": {
    "name": "ipython",
    "version": 3
   },
   "file_extension": ".py",
   "mimetype": "text/x-python",
   "name": "python",
   "nbconvert_exporter": "python",
   "pygments_lexer": "ipython3",
   "version": "3.9.7"
  },
  "orig_nbformat": 4,
  "vscode": {
   "interpreter": {
    "hash": "d6dbe31fb58d2a925cb6cf70124d8310e9312b8d1336a5bee8b6adf692fc3cfd"
   }
  }
 },
 "nbformat": 4,
 "nbformat_minor": 2
}
