{
 "cells": [
  {
   "cell_type": "code",
   "execution_count": 6,
   "metadata": {},
   "outputs": [],
   "source": [
    "\n",
    "def sum_of_10_matrix():\n",
    "    def find_count(matrix_value):\n",
    "            count = 0\n",
    "            for m in range (matrix):\n",
    "                row = matrix_value[m]\n",
    "                total = 0\n",
    "                for j in range(len(row)) :\n",
    "                    if total == 10:\n",
    "                            count +=1\n",
    "                    total = 0\n",
    "                    \n",
    "                    for i in range(j,len(row)):\n",
    "                        if total == 10:\n",
    "                            count +=1\n",
    "                            total = 0\n",
    "                        elif total < 10:\n",
    "                            total+=row[i]\n",
    "            return count\n",
    "                \n",
    "    time = int(input(\"time : \"))\n",
    "    Result = []\n",
    "\n",
    "    for i in range(time):\n",
    "        matrix = int(input(\"Matrix : \"))\n",
    "        value = []\n",
    "\n",
    "        for j in range(matrix):\n",
    "            value += input('value : ').split()\n",
    "\n",
    "        list_of_integers = [int(item) for item in value]\n",
    "        rows = []\n",
    "        rows_size = matrix\n",
    "\n",
    "        for i in range(0, len(list_of_integers), rows_size):\n",
    "            rows.append(list_of_integers[i:i+rows_size])\n",
    "        n = matrix \n",
    "        columns = []\n",
    "\n",
    "        for i in range(n):\n",
    "            column = []\n",
    "            for j in range(n):\n",
    "                column.append(rows[j][i])\n",
    "            columns.append(column)\n",
    "            \n",
    "        Result.append(find_count(rows)+find_count(columns))\n",
    "    return Result\n"
   ]
  },
  {
   "cell_type": "code",
   "execution_count": 7,
   "metadata": {},
   "outputs": [
    {
     "data": {
      "text/plain": [
       "[4]"
      ]
     },
     "execution_count": 7,
     "metadata": {},
     "output_type": "execute_result"
    }
   ],
   "source": [
    "sum_of_10_matrix()"
   ]
  },
  {
   "cell_type": "code",
   "execution_count": 8,
   "metadata": {},
   "outputs": [],
   "source": [
    "def find_count(matrix_value):\n",
    "            count = 0\n",
    "            for m in range (matrix):\n",
    "                row = matrix_value[m]\n",
    "                total = 0\n",
    "                for j in range(len(row)) :\n",
    "                    if total == 10:\n",
    "                            count +=1\n",
    "                    total = 0\n",
    "                    \n",
    "                    for i in range(j,len(row)):\n",
    "                        if total == 10:\n",
    "                            count +=1\n",
    "                            total = 0\n",
    "                        elif total < 10:\n",
    "                            total+=row[i]\n",
    "            return count\n",
    "                \n",
    "time = int(input(\"time : \"))\n",
    "Result = []\n",
    "\n",
    "for i in range(time):\n",
    "    matrix = int(input(\"Matrix : \"))\n",
    "    value = []\n",
    "\n",
    "    for j in range(matrix):\n",
    "        value += input('value : ').split()\n",
    "\n",
    "    list_of_integers = [int(item) for item in value]\n",
    "    rows = []\n",
    "    rows_size = matrix\n",
    "\n",
    "    for i in range(0, len(list_of_integers), rows_size):\n",
    "        rows.append(list_of_integers[i:i+rows_size])\n",
    "    n = matrix \n",
    "    columns = []\n",
    "\n",
    "    for i in range(n):\n",
    "        column = []\n",
    "        for j in range(n):\n",
    "            column.append(rows[j][i])\n",
    "        columns.append(column)\n",
    "            \n",
    "    Result.append(find_count(rows)+find_count(columns))"
   ]
  },
  {
   "cell_type": "code",
   "execution_count": 35,
   "metadata": {},
   "outputs": [
    {
     "name": "stdout",
     "output_type": "stream",
     "text": [
      "Rows ไอควย\n",
      "[[1, 2, 3, 4, 1], [2, 3, 4, 1, 2], [3, 4, 1, 2, 3], [4, 2, 2, 2, 2], [2, 2, 2, 2, 2], [2, 2, 2, 2, 2], [2, 2, 2, 2, 2], [2, 2, 2, 2, 2], [2], [1, 2, 3, 4], [1, 2, 3, 4], [1, 2, 3, 4], [1, 2, 3, 4]]\n",
      "Rows ไอควย\n",
      "[[1, 2, 3, 4, 1], [2, 3, 4, 1, 2], [3, 4, 1, 2, 3], [4, 2, 2, 2, 2], [2, 2, 2, 2, 2], [2, 2, 2, 2, 2], [2, 2, 2, 2, 2], [2, 2, 2, 2, 2], [2], [1, 2, 3, 4], [1, 2, 3, 4], [1, 2, 3, 4], [1, 2, 3, 4], [1, 2, 3, 4, 1], [2, 3, 4, 1, 2], [3, 4, 1, 2, 3], [4, 2, 2, 2, 2], [2, 2, 2, 2, 2], [2, 2, 2, 2, 2], [2, 2, 2, 2, 2], [2, 2, 2, 2, 2], [2]]\n",
      "\n",
      "[[1, 2, 3, 4, 1], [2, 3, 4, 1, 2], [3, 4, 1, 2, 3], [4, 2, 2, 2, 2], [2, 2, 2, 2, 2], [2, 2, 2, 2, 2], [2, 2, 2, 2, 2], [2, 2, 2, 2, 2], [2], [1, 2, 3, 4], [1, 2, 3, 4], [1, 2, 3, 4], [1, 2, 3, 4], [1, 2, 3, 4, 1], [2, 3, 4, 1, 2], [3, 4, 1, 2, 3], [4, 2, 2, 2, 2], [2, 2, 2, 2, 2], [2, 2, 2, 2, 2], [2, 2, 2, 2, 2], [2, 2, 2, 2, 2], [2]]\n",
      "\n",
      "[[1, 2, 3, 4, 1], [2, 3, 4, 1, 2], [3, 4, 1, 2, 3], [4, 2, 2, 2, 2], [2, 2, 2, 2, 2], [2, 2, 2, 2, 2], [2, 2, 2, 2, 2], [2, 2, 2, 2, 2], [2], [1, 2, 3, 4], [1, 2, 3, 4], [1, 2, 3, 4], [1, 2, 3, 4], [1, 2, 3, 4, 1], [2, 3, 4, 1, 2], [3, 4, 1, 2, 3], [4, 2, 2, 2, 2], [2, 2, 2, 2, 2], [2, 2, 2, 2, 2], [2, 2, 2, 2, 2], [2, 2, 2, 2, 2], [2]]\n"
     ]
    }
   ],
   "source": [
    "time =[]\n",
    "size =[]\n",
    "data =[]\n",
    "value =[]\n",
    "time = int(input(\"time : \"))\n",
    "for i in range(time):\n",
    "    matrix = int(input(\"Matrix : \"))\n",
    "    size.append(matrix)\n",
    "    for i in range(size[i]):\n",
    "        value += input('value : ').split()\n",
    "    list_of_integers = [int(item) for item in value]\n",
    "    rows =[]\n",
    "    for i in range(0, len(list_of_integers),size[-1]):\n",
    "        rows.append(list_of_integers[i:i+size[-1]])\n",
    "    print(\"Rows ไอควย\")\n",
    "    print(rows)\n",
    "    data.append(rows)\n",
    "##print(time)\n",
    "##print(size)\n",
    "##print(data)\n",
    "print(\"\")\n",
    "print(data[0])\n",
    "print(\"\")\n",
    "print(data[1])\n"
   ]
  },
  {
   "cell_type": "code",
   "execution_count": 13,
   "metadata": {},
   "outputs": [
    {
     "name": "stdout",
     "output_type": "stream",
     "text": [
      "[[1, 2, 3, 4], [1, 2, 3, 4], [1, 2, 3, 4], [1, 2, 3, 4]]\n"
     ]
    }
   ],
   "source": [
    "matrix = int(input(\"Matrix : \"))\n",
    "value = []\n",
    "\n",
    "for j in range(matrix):\n",
    "    value += input('value : ').split()\n",
    "\n",
    "list_of_integers = [int(item) for item in value]\n",
    "rows = []\n",
    "rows = []\n",
    "rows_size = matrix\n",
    "\n",
    "for i in range(0, len(list_of_integers), rows_size):\n",
    "    rows.append(list_of_integers[i:i+rows_size])\n",
    "print(rows)"
   ]
  },
  {
   "cell_type": "code",
   "execution_count": null,
   "metadata": {},
   "outputs": [],
   "source": []
  }
 ],
 "metadata": {
  "kernelspec": {
   "display_name": "Python 3.9.7 ('base')",
   "language": "python",
   "name": "python3"
  },
  "language_info": {
   "codemirror_mode": {
    "name": "ipython",
    "version": 3
   },
   "file_extension": ".py",
   "mimetype": "text/x-python",
   "name": "python",
   "nbconvert_exporter": "python",
   "pygments_lexer": "ipython3",
   "version": "3.9.7"
  },
  "orig_nbformat": 4,
  "vscode": {
   "interpreter": {
    "hash": "d6dbe31fb58d2a925cb6cf70124d8310e9312b8d1336a5bee8b6adf692fc3cfd"
   }
  }
 },
 "nbformat": 4,
 "nbformat_minor": 2
}
