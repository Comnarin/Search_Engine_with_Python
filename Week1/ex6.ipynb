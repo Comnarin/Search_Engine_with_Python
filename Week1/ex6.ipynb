{
 "cells": [
  {
   "cell_type": "code",
   "execution_count": 5,
   "metadata": {},
   "outputs": [
    {
     "name": "stdout",
     "output_type": "stream",
     "text": [
      "2\n"
     ]
    }
   ],
   "source": [
    "row = [1,2,7,3]\n",
    "count = 0\n",
    "total = 0\n",
    "for j in range(len(row)) :\n",
    "    if total == 10:\n",
    "            count +=1\n",
    "    total = 0\n",
    "   \n",
    "    for i in range(j,len(row)):\n",
    "        if total == 10:\n",
    "            count +=1\n",
    "            total = 0\n",
    "        elif total < 10:\n",
    "            total+=row[i]\n",
    "print(count)"
   ]
  },
  {
   "cell_type": "code",
   "execution_count": 11,
   "metadata": {},
   "outputs": [],
   "source": [
    "class sum_of_10_matrix():\n",
    "    def __init__(self) :\n",
    "        self.matrix = []\n",
    "        self.Result = []\n",
    "    def Input(self):\n",
    "        self.size = []\n",
    "        self.data_rows = []\n",
    "        self.data_columns =[]\n",
    "        self.time = int(input(\"time : \"))\n",
    "        for i in range(self.time):\n",
    "            matrix = int(input(\"Matrix : \"))\n",
    "            self.size.append(matrix)\n",
    "            value =[]\n",
    "            for i in range(self.size[i]):\n",
    "                value += input('value : ').split()\n",
    "            \n",
    "            list_of_integers = [int(item) for item in value]\n",
    "            rows =[]\n",
    "            for i in range(0, len(list_of_integers),self.size[-1]):\n",
    "                rows.append(list_of_integers[i:i+self.size[-1]])\n",
    "            \n",
    "            self.data_rows.append(rows)\n",
    "    \n",
    "            columns = []\n",
    "            for i in range(self.size[-1]):\n",
    "                column = []\n",
    "                for j in range(self.size[-1]):\n",
    "                    column.append(rows[j][i])\n",
    "                columns.append(column)\n",
    "            self.data_columns.append(columns)\n",
    "        return self.data_rows,self.data_columns\n",
    "        \n",
    "    def find_count(self,matrix_value,size):\n",
    "            count = 0\n",
    "            for m in range (size):\n",
    "                row = matrix_value[m]\n",
    "                total = 0\n",
    "                for j in range(len(row)) :\n",
    "                    if total == 10:\n",
    "                            count +=1\n",
    "                    total = 0\n",
    "                    \n",
    "                    for i in range(j,len(row)):\n",
    "                        if total == 10:\n",
    "                            count +=1\n",
    "                            total = 0\n",
    "                        elif total < 10:\n",
    "                            total+=row[i]\n",
    "            return count\n",
    "                \n",
    "    def calculator(self):\n",
    "        \n",
    "        #print(self.time)\n",
    "        for i in range(self.time):\n",
    "            total = 0\n",
    "            total += (self.find_count(self.data_rows[i],self.size[i]))\n",
    "            total += (self.find_count(self.data_columns[i],self.size[i]))\n",
    "            self.Result.append(total)\n",
    "        return self.Result\n",
    "\n"
   ]
  },
  {
   "cell_type": "code",
   "execution_count": 13,
   "metadata": {},
   "outputs": [
    {
     "name": "stdout",
     "output_type": "stream",
     "text": [
      "Invalid time\n",
      "([[[1, 1], [1, 1]]], [[[1, 1], [1, 1]]])\n"
     ]
    }
   ],
   "source": [
    "a = sum_of_10_matrix()\n",
    "result = a.Input()\n",
    "print(result)"
   ]
  },
  {
   "cell_type": "code",
   "execution_count": null,
   "metadata": {},
   "outputs": [],
   "source": []
  }
 ],
 "metadata": {
  "kernelspec": {
   "display_name": "base",
   "language": "python",
   "name": "python3"
  },
  "language_info": {
   "codemirror_mode": {
    "name": "ipython",
    "version": 3
   },
   "file_extension": ".py",
   "mimetype": "text/x-python",
   "name": "python",
   "nbconvert_exporter": "python",
   "pygments_lexer": "ipython3",
   "version": "3.8.8"
  },
  "orig_nbformat": 4,
  "vscode": {
   "interpreter": {
    "hash": "f77b640396ee907328d3f2b1dbf7d1073670d4b49ce003bfc4c9fbcbcb50868c"
   }
  }
 },
 "nbformat": 4,
 "nbformat_minor": 2
}
