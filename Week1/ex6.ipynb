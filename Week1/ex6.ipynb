{
 "cells": [
  {
   "cell_type": "code",
   "execution_count": null,
   "metadata": {},
   "outputs": [],
   "source": [
    "def find_count(matrix_value):\n",
    "        count = 0\n",
    "        for m in range (matrix):\n",
    "            row = matrix_value[m]\n",
    "            total = 0\n",
    "            for j in range(len(row)) :\n",
    "                if total == 10:\n",
    "                        count +=1\n",
    "                total = 0\n",
    "            \n",
    "                for i in range(j,len(row)):\n",
    "                    if total == 10:\n",
    "                        count +=1\n",
    "                        total = 0\n",
    "                    elif total < 10:\n",
    "                        total+=row[i]\n",
    "        return count\n",
    "        \n",
    "time = int(input(\"time : \"))\n",
    "Result = []\n",
    "for i in range(time):\n",
    "    matrix = int(input(\"Matrix : \"))\n",
    "    value = []\n",
    "\n",
    "    for j in range(matrix):\n",
    "        value += input('value : ').split()\n",
    "\n",
    "    list_of_integers = [int(item) for item in value]\n",
    "    rows = []\n",
    "    rows_size = matrix\n",
    "\n",
    "    for i in range(0, len(list_of_integers), rows_size):\n",
    "        rows.append(list_of_integers[i:i+rows_size])\n",
    "    n = matrix \n",
    "    columns = []\n",
    "\n",
    "    for i in range(n):\n",
    "        column = []\n",
    "        for j in range(n):\n",
    "            column.append(rows[j][i])\n",
    "        columns.append(column)\n",
    "    \n",
    "    Result.append(find_count(rows)+find_count(columns))\n",
    "for i in Result:\n",
    "    print(i)"
   ]
  }
 ],
 "metadata": {
  "language_info": {
   "name": "python"
  },
  "orig_nbformat": 4
 },
 "nbformat": 4,
 "nbformat_minor": 2
}
