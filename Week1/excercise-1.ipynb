{
 "cells": [
  {
   "cell_type": "code",
   "execution_count": 30,
   "metadata": {},
   "outputs": [
    {
     "name": "stdout",
     "output_type": "stream",
     "text": [
      "The repeating elemets are [{1, 2, 'count : '}, {2, 'count : '}, {2, 'count : ', 7}, {9, 2, 'count : '}]\n"
     ]
    }
   ],
   "source": [
    "def check_repeat(array):\n",
    "    found = False\n",
    "    check_duplicate=[]\n",
    "    duplicate=[]\n",
    "    result=[]\n",
    "    for i in range (len(array)):\n",
    "        count = 1\n",
    "        if array[i] in check_duplicate:\n",
    "            count += 1\n",
    "            s=set()\n",
    "            t = tuple()\n",
    "            s.add(array[i])\n",
    "            result.append(s)\n",
    "            found = True\n",
    "        else:\n",
    "            check_duplicate.append(array[i])\n",
    "    if found == True:\n",
    "        print('The repeating elemets are',result)\n",
    "    else:\n",
    "        print('There is no duplicate')\n",
    "array = [1,2,3,4,5,6,1,2,7,8,9,7,9]\n",
    "check_repeat(array)\n"
   ]
  },
  {
   "cell_type": "code",
   "execution_count": 3,
   "metadata": {},
   "outputs": [
    {
     "name": "stdout",
     "output_type": "stream",
     "text": [
      "[{0, 1, -1}, {0, 2, -2}, {0, -4, 4}, {0, 3, -3}, {4, -3, -1}, {3, -2, -1}, {1, 2, -3}, {1, 3, -4}]\n"
     ]
    }
   ],
   "source": [
    "def findtriple(array):\n",
    "    found = False\n",
    "    l=[]\n",
    "    for i in range(len(inputa) - 1):\n",
    "        s = set()\n",
    "        for j in range(i + 1, len(inputa)):\n",
    "            x = -(inputa[i] + inputa[j])\n",
    "            if x in s:\n",
    "                tripleset=set()\n",
    "                tripleset.add(x)\n",
    "                tripleset.add(inputa[i])\n",
    "                tripleset.add(inputa[j])\n",
    "                l.append(tripleset)\n",
    "                found = True\n",
    "            else:\n",
    "                s.add(inputa[j])\n",
    "    if found == False:\n",
    "        print(\"No Triplet Found\")\n",
    "    else:\n",
    "        print(l)\n",
    "array=[0,-1,-2,-3,1,2,-4,4,3]\n",
    "findtriple(array)"
   ]
  },
  {
   "cell_type": "code",
   "execution_count": 90,
   "metadata": {},
   "outputs": [
    {
     "name": "stdout",
     "output_type": "stream",
     "text": [
      "[1, 3, 5, 7, 2, 4, 8, 2, 6, 3, 1, 1, 2, 3, 5, 6]\n",
      "[[1, 3, 5, 7], [2, 4, 8, 2], [6, 3, 1, 1], [2, 3, 5, 6]]\n",
      "4\n",
      "3\n"
     ]
    }
   ],
   "source": [
    "time = int(input(\"time : \"))\n",
    "\n",
    "for i in range(time):\n",
    "    metrix = int(input(\"Metrix : \"))\n",
    "    value = []\n",
    "    for j in range(metrix):\n",
    "        value += input('value : ').split()\n",
    "    \n",
    "    list_of_integers = [int(item) for item in value]\n",
    "    rows = list()\n",
    "    rows_size = metrix\n",
    "\n",
    "    for i in range(0, len(list_of_integers), rows_size):\n",
    "        rows.append(list_of_integers[i:i+rows_size])\n",
    "\n",
    "    n = metrix # number of rows and columns in the matrix\n",
    "\n",
    "    # create an empty list to store the column values\n",
    "    columns = []\n",
    "\n",
    "    # iterate over the rows in the matrix\n",
    "    for i in range(n):\n",
    "    # create a new list to store the values in the current column\n",
    "        column = []\n",
    "    \n",
    "    # iterate over the columns in the matrix\n",
    "\n",
    "        for j in range(n):\n",
    "        # add the value at the current row and column to the column list\n",
    "            column.append(rows[j][i])\n",
    "        \n",
    "    # add the column list to the columns list\n",
    "        columns.append(column)\n",
    "\n",
    "    count = 0\n",
    "    for m in range (metrix):\n",
    "        row = rows[m]\n",
    "        total = 0\n",
    "        for j in range(len(row)) :\n",
    "            if total == 10:\n",
    "                    count +=1\n",
    "            total = 0\n",
    "        \n",
    "            for i in range(j,len(row)):\n",
    "                if total == 10:\n",
    "                    count +=1\n",
    "                    total = 0\n",
    "                elif total < 10:\n",
    "                    total+=row[i]\n",
    "\n",
    "    for m in range (metrix):\n",
    "        row = columns[m]\n",
    "        total = 0\n",
    "        for j in range(len(row)) :\n",
    "            if total == 10:\n",
    "                    count +=1\n",
    "            total = 0\n",
    "        \n",
    "            for i in range(j,len(row)):\n",
    "                if total == 10:\n",
    "                    count +=1\n",
    "                    total = 0\n",
    "                elif total < 10:\n",
    "                    total+=row[i]\n",
    "    print(count)"
   ]
  },
  {
   "cell_type": "code",
   "execution_count": 5,
   "metadata": {},
   "outputs": [
    {
     "name": "stdout",
     "output_type": "stream",
     "text": [
      "['16 200 -10', '12', '70', '1', '999', '50', '20', '1000', '150', '300', '200', '90', '900', '40', '140', '130', '30']\n"
     ]
    }
   ],
   "source": [
    "#EX7\n",
    "# Create an empty list\n",
    "lines = []\n",
    "\n",
    "# Open the file in read mode\n",
    "with open('EX7softdev2.txt', 'r') as file:\n",
    "  # Iterate over the lines of the file\n",
    "  for line in file:\n",
    "    # Strip the line of any leading or trailing whitespace\n",
    "    line = line.strip()\n",
    "    # Append the line to the list\n",
    "    lines.append(line)\n",
    "\n",
    "# Print the list\n",
    "print(lines)\n",
    "\n"
   ]
  },
  {
   "cell_type": "code",
   "execution_count": 40,
   "metadata": {},
   "outputs": [
    {
     "name": "stdout",
     "output_type": "stream",
     "text": [
      "The repeating elemets are [{'array': 1, 'index': [0, 6], 'count': 3}, {'array': 2, 'index': [1, 7], 'count': 2}, {'array': 7, 'index': [8, 11], 'count': 2}, {'array': 9, 'index': [10, 12], 'count': 2}, {'array': 1, 'index': [0, 13], 'count': 3}]\n"
     ]
    }
   ],
   "source": [
    "def check_repeat(array):\n",
    "    found = False\n",
    "    check_duplicate=[]\n",
    "    duplicate=[]\n",
    "    result = []\n",
    "    for i in range (len(array)):\n",
    "        l=[]\n",
    "        l.append(array.index(array[i]))\n",
    "        if array[i] in check_duplicate:\n",
    "            l.append(i)\n",
    "            d = dict(array = array[i],index = l,count =array.count(array[i]))\n",
    "            result.append(d)\n",
    "            found = True\n",
    "        else:\n",
    "            check_duplicate.append(array[i])\n",
    "    if found == True:\n",
    "        print('The repeating elemets are',result)\n",
    "    else:\n",
    "        print('There is no duplicate')\n",
    "array = [1,2,3,4,5,6,1,2,7,8,9,7,9,1]\n",
    "check_repeat(array)"
   ]
  },
  {
   "cell_type": "code",
   "execution_count": 48,
   "metadata": {},
   "outputs": [
    {
     "data": {
      "text/plain": [
       "{1: {'count': 2, 'indices': [6, 13]},\n",
       " 2: {'count': 4, 'indices': [7, 14, 16, 17]},\n",
       " 7: {'count': 1, 'indices': [11]},\n",
       " 9: {'count': 1, 'indices': [12]},\n",
       " 4: {'count': 1, 'indices': [15]}}"
      ]
     },
     "execution_count": 48,
     "metadata": {},
     "output_type": "execute_result"
    }
   ],
   "source": [
    "def findDuplicates(array):\n",
    "  Table = {}\n",
    "  duplicates = {}\n",
    "\n",
    "  for i in range(0, len(array)):\n",
    "    if array[i] in Table:\n",
    "      if array[i] in duplicates:\n",
    "        duplicates[array[i]][\"count\"] += 1\n",
    "        duplicates[array[i]][\"indices\"].append(i)\n",
    "      else: \n",
    "        duplicates[array[i]] = {\"count\": 1, \"indices\": [i]}\n",
    "    else:\n",
    "      Table[array[i]] = True\n",
    "\n",
    "  return duplicates\n",
    "\n",
    "findDuplicates([1,2,3,4,5,6,1,2,7,8,9,7,9,1,2,4,2,2])\n"
   ]
  },
  {
   "cell_type": "code",
   "execution_count": null,
   "metadata": {},
   "outputs": [],
   "source": [
    "fin"
   ]
  }
 ],
 "metadata": {
  "kernelspec": {
   "display_name": "Python 3.10.0 64-bit",
   "language": "python",
   "name": "python3"
  },
  "language_info": {
   "codemirror_mode": {
    "name": "ipython",
    "version": 3
   },
   "file_extension": ".py",
   "mimetype": "text/x-python",
   "name": "python",
   "nbconvert_exporter": "python",
   "pygments_lexer": "ipython3",
   "version": "3.11.1 (v3.11.1:a7a450f84a, Dec  6 2022, 15:24:06) [Clang 13.0.0 (clang-1300.0.29.30)]"
  },
  "orig_nbformat": 4,
  "vscode": {
   "interpreter": {
    "hash": "aee8b7b246df8f9039afb4144a1f6fd8d2ca17a180786b69acc140d282b71a49"
   }
  }
 },
 "nbformat": 4,
 "nbformat_minor": 2
}
