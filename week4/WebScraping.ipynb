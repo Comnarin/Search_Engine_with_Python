{
 "cells": [
  {
   "cell_type": "code",
   "execution_count": null,
   "metadata": {},
   "outputs": [],
   "source": [
    "# -*- coding: utf-8 -*-\n",
    "from collections import Counter\n",
    "from typing import Dict, List\n",
    "\n",
    "from pythainlp.corpus import thai_stopwords\n",
    "\n",
    "_STOPWORDS = thai_stopwords()\n",
    "\n",
    "\n",
    "def rank(words: List[str], exclude_stopwords: bool = False) -> Counter:\n",
    "    \"\"\"\n",
    "    :Example:\n",
    "\n",
    "    Include stopwords in counting word frequency::\n",
    "\n",
    "        from pythainlp.util import rank\n",
    "\n",
    "        words = [\"บันทึก\", \"เหตุการณ์\", \" \", \"มี\", \"การ\", \"บันทึก\", \\\\\n",
    "        \"เป็น\", \" \", \"ลายลักษณ์อักษร\"]\n",
    "\n",
    "        rank(words)\n",
    "        # output:\n",
    "        # Counter(\n",
    "        #     {\n",
    "        #         ' ': 2,\n",
    "        #         'การ': 1,\n",
    "        #         'บันทึก': 2,\n",
    "        #         'มี': 1,\n",
    "        #         'ลายลักษณ์อักษร': 1,\n",
    "        #         'เป็น': 1,\n",
    "        #         'เหตุการณ์': 1\n",
    "        #     })\n",
    "\n",
    "    Exclude stopword in counting word frequency::\n",
    "\n",
    "        from pythainlp.util import rank\n",
    "\n",
    "        words = [\"บันทึก\", \"เหตุการณ์\", \" \", \"มี\", \"การ\", \"บันทึก\", \\\\\n",
    "            \"เป็น\", \" \", \"ลายลักษณ์อักษร\"]\n",
    "\n",
    "        rank(words)\n",
    "        # output:\n",
    "        # Counter(\n",
    "        #     {\n",
    "        #         ' ': 2,\n",
    "        #         'บันทึก': 2,\n",
    "        #         'ลายลักษณ์อักษร': 1,\n",
    "        #         'เหตุการณ์': 1\n",
    "        #     })\n",
    "    \"\"\"\n",
    "    if not words:\n",
    "        return None\n",
    "\n",
    "    if exclude_stopwords:\n",
    "        words = [word for word in words if word not in _STOPWORDS]\n",
    "\n",
    "    return Counter(words)\n",
    "\n",
    "\n",
    "\n",
    "def find_keyword(word_list: List[str], min_len: int = 3) -> Dict[str, int]:\n",
    "    \"\"\"\n",
    "    This function count the frequency of words in the list\n",
    "    where stopword is excluded and returns as a frequency dictionary.\n",
    "\n",
    "    :param list word_list: a list of words\n",
    "    :param int min_len: the mininum frequency for words to obtain\n",
    "\n",
    "    :return: a dictionary object with key-value pair as word and its raw count\n",
    "    :rtype: dict[str, int]\n",
    "\n",
    "    :Example:\n",
    "    ::\n",
    "\n",
    "        from pythainlp.util import find_keyword\n",
    "\n",
    "        words = [\"บันทึก\", \"เหตุการณ์\", \"บันทึก\", \"เหตุการณ์\",\n",
    "                 \" \", \"มี\", \"การ\", \"บันทึก\", \"เป็น\", \" \", \"ลายลักษณ์อักษร\"\n",
    "                 \"และ\", \"การ\", \"บันทึก\",\"เสียง\",\"ใน\",\"เหตุการณ์\"]\n",
    "\n",
    "        find_keyword(words)\n",
    "        # output: {'บันทึก': 4, 'เหตุการณ์': 3}\n",
    "\n",
    "        find_keyword(words, min_len=1)\n",
    "        # output: {' ': 2, 'บันทึก': 4, 'ลายลักษณ์อักษรและ': 1,\n",
    "         'เสียง': 1, 'เหตุการณ์': 3}\n",
    "    \"\"\"\n",
    "    word_list = rank(word_list, exclude_stopwords=True)\n",
    "\n",
    "    return {k: v for k, v in word_list.items() if v >= min_len}"
   ]
  },
  {
   "cell_type": "code",
   "execution_count": null,
   "metadata": {},
   "outputs": [],
   "source": []
  },
  {
   "cell_type": "code",
   "execution_count": null,
   "metadata": {},
   "outputs": [],
   "source": [
    "import requests\n",
    "from bs4 import BeautifulSoup as bs\n",
    "import re\n",
    "import unicodedata\n",
    "import pythainlp.util\n",
    "from pythainlp.tokenize import word_tokenize\n",
    "from pythainlp.util import find_keyword\n",
    "from pythainlp.util import rank\n",
    "#from pythainlp.summarize import extract_keywords\n",
    "from pythainlp.summarize import summarize\n",
    "URL2 = 'https://www.matichon.co.th/sport/footballlocal/news_3760911'\n",
    "URL = 'https://www.thairath.co.th/news/local/2595926'\n",
    "URL3 = 'https://www.sanook.com/news/8732166/'\n",
    "headers = {'User-Agent': \"Mozilla/5.0 (Windows NT 10.0; Win64; x64) AppleWebKit/537.36 (KHTML, like Gecko) Chrome/42.0.2311.135 Safari/537.36 Edge/12.246\"}\n",
    "article = requests.get(url=URL ,headers=headers)\n",
    "soup = bs(article.content, \"html.parser\")\n",
    "list_word =[]\n",
    "for i in soup.find_all('p'):\n",
    "  list_word.append(i.text)\n",
    "#print(list_word)\n",
    "for i in list_word:\n",
    "    for i in list_word:\n",
    "        if pythainlp.util.countthai(i)<30:\n",
    "            list_word.remove(i)\n",
    "sentence = ' '.join(list_word)\n",
    "#print(sentence)\n",
    "\n",
    "#?sentence = word_tokenize(sentence, engine=\"newmm\")\n",
    "# output: ['ยุคเริ่มแรกของ ราชวงศ์หมิง']\n",
    "#print(sentence)\n",
    "\n",
    "keyword = word_tokenize(sentence, engine=\"newmm\")\n",
    "\n",
    "print(list_word)\n",
    "\n",
    "print(sentence)\n",
    "print(\"----------keyword-------------\")\n",
    "\n",
    "print(find_keyword(keyword))\n",
    "print(\"---------summarize----------\")\n",
    "summarize(sentence,n=10)\n",
    "     \n",
    "        "
   ]
  },
  {
   "cell_type": "code",
   "execution_count": null,
   "metadata": {},
   "outputs": [],
   "source": []
  },
  {
   "cell_type": "code",
   "execution_count": null,
   "metadata": {},
   "outputs": [],
   "source": []
  },
  {
   "cell_type": "code",
   "execution_count": null,
   "metadata": {},
   "outputs": [],
   "source": [
    "from pythainlp.tokenize import word_tokenize\n",
    "\n",
    "text = \"โอเคบ่พวกเรารัก ภาษาบ้านเกิด\"\n",
    "\n",
    "word_tokenize(text, engine=\"newmm\")\n",
    "# output: ['โอเค', 'บ่', 'พวกเรา', 'รัก', 'ภาษา', 'บ้านเกิด']"
   ]
  },
  {
   "cell_type": "code",
   "execution_count": null,
   "metadata": {},
   "outputs": [],
   "source": [
    "from pythainlp.util import find_keyword\n",
    "\n",
    "\n",
    "print(list_word)\n",
    "find_keyword(list_word)"
   ]
  },
  {
   "cell_type": "code",
   "execution_count": null,
   "metadata": {},
   "outputs": [],
   "source": [
    "from pythainlp.util import rank\n",
    "rank(keyword)\n",
    "\n",
    "\n",
    "     \n",
    "        "
   ]
  },
  {
   "cell_type": "code",
   "execution_count": null,
   "metadata": {},
   "outputs": [],
   "source": [
    "import requests\n",
    "from bs4 import BeautifulSoup as bs\n",
    "import re\n",
    "import unicodedata\n",
    "URL = 'https://www.bbc.com/news/world-us-canada-64197625'\n",
    "headers = {'User-Agent': \"Mozilla/5.0 (Windows NT 10.0; Win64; x64) AppleWebKit/537.36 (KHTML, like Gecko) Chrome/42.0.2311.135 Safari/537.36 Edge/12.246\"}\n",
    "article = requests.get(url=URL)\n",
    "soup = bs(article.content, \"html.parser\")\n",
    "list_word =[]\n",
    "for i in soup.find_all('p'):\n",
    "  list_word.append(i.text)\n",
    "print(list_word)\n"
   ]
  },
  {
   "cell_type": "code",
   "execution_count": null,
   "metadata": {},
   "outputs": [],
   "source": [
    "from pythainlp.tokenize import word_tokenize\n",
    "\n",
    "text = \"ยิ่งกว่าคลับฟรายเดย์ เจ้าสาวสุดช้ำ แต่งงานแค่ 6 เดือน เจ้าบ่าวหนีไปกับเมียน้อย ที่ไม่ใช่คนอื่นไกล แต่เป็นน้องสาวแท้ๆ ของตัวเอง เมื่อเร็วๆ นี้ เรื่องราวของสามีที่เพิ่งแต่งงานใหม่ แต่หนีไปกับเมียน้อยของเขา ได้สร้างความตกตะลึงต่อสาธารณะชน เมื่อมีการเปิดเผยตัวตนของเมียน้อยของเจ้าบ่าวรายนี้ ตามรายงานของสื่อ เมื่อ 6 เดือนที่แล้ว งานแต่งงานในพื้นที่เมืองอัมโรฮา รัฐอุตตรประเทศ ประเทศอินเดีย ถูกจัดขึ้นท่ามกลางความสุขชื่นมื่นของคู่หนุ่มสาว  อย่างไรก็ตาม เพียง 6 เดือนต่อมา บ่าวสาวคู่นี้ก็โด่งดังไปทั่วอินเดีย ด้วยเรื่องราวของเจ้าบ่าวที่หนีไปกับเมียน้อยของเขา แต่สิ่งที่น่าตกใจที่สุดคือเมียน้อยของเขา ไม่ใช่ใครอื่น แต่เป็นน้องสาวแท้ๆ ของเจ้าสาว เหตุการณ์ดังกล่าว มีจุดเริ่มต้นเกิดขึ้นในวันหนึ่ง หลังจากคู่บ่าวสาวไปเยี่ยมบ้านภรรยาของเขา เมื่อนายปัญจยัตได้พบกับน้องภรรยา เขาก็ตกหลุมรักเธอทันที และหยุดคิดถึงน้องสาวของภรรยาไม่ได้ ขณะที่ฝ่ายหญิงก็แอบชอบพี่เขยเช่นกัน ในที่สุดพวกเขาก็สร้างความสัมพันธ์ลับๆ ลับหลังภรรยา หลังจากอยู่กินกับภรรยาใหม่ได้ 6 เดือน แต่ใจเป็นของน้องภรรยา นายปัญจยัตก็ตัดสินใจหนีไปกับเมียน้อย เพื่อใช้ชีวิตอิสระและมีความสุขร่วมกัน หลังจากรู้เรื่องนี้ ภรรยาก็เหมือนตกตะลึง เธอไม่คาดคิดว่าคนที่ทำลายความสุขของครอบครัวคือน้องสาวแท้ๆ ของเธอ ด้วยความโกรธที่น้องสาวของเธอหนีไปกับสามี เธอจึงแจ้งให้ทั้งสองครอบครัวทราบ เพื่อเรียกร้องการหย่าร้าง และโพสต์เปิดโปงทั้งคู่บนโลกออนไลน์ หลังจากเหตุการณ์ถูกเผยแพร่ออกไปบนสื่อสังคมออนไลน์ ก็ได้รับความสนใจจากชาวเน็ตอย่างมาก คนส่วนใหญ่วิจารณ์บุคคลที่สามที่เข้ามาทำลายความสุขของครอบครัวคนอื่น และทุกคนยิ่งเดือดดาลมากขึ้นเมื่อรู้ว่าตัวต้นเหตุเป็นน้องสาวแท้ๆ ของภรรยา หลายคนยังให้คำปลอบโยนกับหญิงสาว และหวังว่าเธอจะมีสภาพจิตใจดีขึ้นในไม่ช้า ขอขอบคุณ ข้อมูล :Saostar ภาพ :ภาพประกอบ PeopleImages / iStockphoto ของหมวด ต่างประเทศ ติดตามNews ข่าวด่วน เกาะกระแสข่าวดัง บน Facebook คลิกที่นี่ และร่วมเป็นแฟนเพจเราบน Facebook.. ได้ที่นี่เลย!! สงวนลิขสิทธิ์ © 2566 บริษัท เทนเซ็นต์ (ประเทศไทย) จำกัด\"\n",
    "\n",
    "word_tokenize(text, engine=\"newmm\")\n",
    "# output: ['โอเค', 'บ่', 'พวกเรา', 'รัก', 'ภาษา', 'บ้านเกิด']"
   ]
  },
  {
   "cell_type": "code",
   "execution_count": null,
   "metadata": {},
   "outputs": [],
   "source": [
    "import pythainlp\n",
    "\n",
    "pythainlp.__version__"
   ]
  },
  {
   "cell_type": "code",
   "execution_count": null,
   "metadata": {},
   "outputs": [],
   "source": [
    "from pythainlp.summarize import summarize\n",
    "\n",
    "\n",
    "\n",
    "text = \"ถ้าพูดถึงขนมหวานในตำนานที่ชื่นใจที่สุดแล้วละก็ต้องไม่พ้น น้ำแข็งใส แน่ๆ เพราะว่าเป็นอะไรที่ชื่นใจสุดๆ\"\n",
    "summarize(text, 1,engine=\"mt5-cpe-kmutt-thai-sentence-sum\")\n",
    "# output: ['น้ําแข็งใสเป็นอะไรที่ชื่นใจที่สุด']"
   ]
  },
  {
   "cell_type": "code",
   "execution_count": null,
   "metadata": {},
   "outputs": [],
   "source": []
  }
 ],
 "metadata": {
  "kernelspec": {
   "display_name": "base",
   "language": "python",
   "name": "python3"
  },
  "language_info": {
   "codemirror_mode": {
    "name": "ipython",
    "version": 3
   },
   "file_extension": ".py",
   "mimetype": "text/x-python",
   "name": "python",
   "nbconvert_exporter": "python",
   "pygments_lexer": "ipython3",
   "version": "3.9.13"
  },
  "orig_nbformat": 4,
  "vscode": {
   "interpreter": {
    "hash": "d6dbe31fb58d2a925cb6cf70124d8310e9312b8d1336a5bee8b6adf692fc3cfd"
   }
  }
 },
 "nbformat": 4,
 "nbformat_minor": 2
}
