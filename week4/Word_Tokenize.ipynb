{
 "cells": [
  {
   "cell_type": "code",
   "execution_count": 9,
   "metadata": {},
   "outputs": [
    {
     "name": "stdout",
     "output_type": "stream",
     "text": [
      "Covid in China: People rush to book travel as borders finally reopenPublished28 December 2022Shareclose panelShare pageCopy linkAbout sharingRelated TopicsCoronavirus pandemicImage source, EPA-EFE/REX/ShutterstockBy Alys DaviesBBC NewsChinese people have rushed to book overseas travel after Beijing announced it would reopen its borders next month.Passport applications for Chinese citizens wishing to travel internationally will resume from 8 January, the immigration administration said.It follows an announcement on Monday that ended almost three years of strict quarantine rules for arrivals.Travel sites have since reported a spike in traffic.But Chinese tourists will not have unfettered access to all countries.Officials in the US are considering new restrictions on travellers from China due to concerns about a surge in cases and a lack of transparency from the Chinese government.\"There are mounting concerns in the international community on the ongoing Covid-19 surges in China and the lack of transparent data, including viral genomic sequence data,\" US officials said in a statement quoted by news agencies.\"Without this data, it is becoming increasingly difficult for public health officials to ensure that they will be able to identify any potential new variants and take prompt measures to reduce the spread.\"Japan - one of the most popular destinations for Chinese travellers - has announced that all travellers from China must show a negative Covid test on arrival, or quarantine for seven days, because of the surge in cases there.India has also said travellers from China (as well as some other countries) must show a negative Covid test when they arrive - though this was announced before Beijing's easing of restrictions.The easing of travel rules in China - the last part of the country's zero-Covid policy - comes as the country battles a new wave of infections.Resentment against the government's policy - which sparked rare public protests against President Xi Jinping in November - led to a relaxation of Covid restrictions across the country.But an increase in Covid cases followed, with reports of hospitals overwhelmed and a shortage of drugs.The announcement on outbound travel on Tuesday came after Monday's news, which axed quarantine rules for travellers arriving in China. It also scrapped a cap on the daily number of flights.On the same day, the National Health Commission announced that Covid would be formally downgraded to a Class B infectious disease on 8 January.Before the relaxation of travel rules, people were strongly discouraged from travelling abroad. The sale of outbound group and package travel was banned, according to marketing solutions company Dragon Trail International.Within half an hour of Monday's notice that China's borders would reopen, data from travel site Trip.com - cited in Chinese media - showed searches for popular destinations had increased ten-fold year-on-year. Macau, Hong Kong, Japan, Thailand and South Korea were the most popular destinations.Image source, ReutersIn addition, Chinese travel agency Qunar saw flight enquiries on its website increase seven-fold within the first 15 minutes after the announcement, the China Daily reports.Before the pandemic, the number of outbound tourists from China stood at 155 million in 2019, according to Statista. This number dropped to 20 million in 2020.This year, some people in China will hope to visit family and loved ones during Chinese New Year, which begins on 22 January.But inside China, there has been a mixed reaction.\"I'm happy about it but also speechless. If we're doing this [reopening] anyway - why did I have to suffer all the daily Covid tests and lockdowns this year?\" said Rachel Liu, who lives in Shanghai.She said she had endured three months of lockdown in April - but nearly everyone in her family had become infected in recent weeks.She said her parents, grandparents and partner - living across three different cities in Xi'an, Shanghai and Hangzhou - had all come down with fever last week.Many have also expressed concern online about borders reopening as Covid cases peak.\"Why can't we wait until this wave passes to open up? The medical workers are already worn out, and old people won't survive two infections in one month,\" read one top-liked comment on Weibo.People in cities like Beijing and Shanghai, which experience chilly temperatures in the winter, say they're running out of flu and cold medicine. It's feared that hundreds of deaths may be going unreported as crematoriums are overwhelmed. In the capital, Beijing, authorities say they are planning to distribute the Pfizer tablets, Paxlovid, in order to try to reduce the severity of infections. But health centres contacted by The Global Times on Monday said the drug had yet to be delivered.On Monday, President Xi issued his first remarks on the changes, calling on officials to do what was \"feasible\" to save lives.China's about-turn has put Mr Xi in a tough spot. He was the driving force behind zero-Covid, which many blamed for restricting people's lives excessively and crippling the economy. But having abandoned it, analysts say he now has to take responsibility for the huge wave of infections and hospital admissions. Many have questioned why the country was not better prepared.Are you hoping to visit China in the new year to see family? Share your experiences by emailing haveyoursay@bbc.co.uk.Please include a contact number if you are willing to speak to a BBC journalist. You can also get in touch in the following ways:WhatsApp: +44 7756 165803Tweet: @BBC_HaveYourSayUpload pictures or videoPlease read our terms & conditions and privacy policy\n",
      "\n",
      "If you are reading this page and can't see the form you will need to visit the mobile version of the BBC website to submit your question or comment or you can email us at HaveYourSay@bbc.co.uk. Please include your name, age and location with any submission. More on China's Covid waveThis video can not be playedTo play this video you need to enable JavaScript in your browser.Media caption, WATCH: Shoppers appear to flee Shanghai Ikea in AugustChina's hospitals seem to be filling up - WHO'Everyone I know is getting a fever' - Covid hits China How many Covid cases are there in China?Related TopicsTourismCoronavirus lockdown measuresAsiaTravelChinaUnited StatesCoronavirus pandemic\n"
     ]
    }
   ],
   "source": [
    "from bs4 import BeautifulSoup as bs\n",
    "import requests\n",
    "url = 'https://www.bbc.com/news/world-asia-china-64102176'\n",
    "\n",
    "article = requests.get(url)\n",
    "\n",
    "soup = bs(article.content, 'html.parser')\n",
    "title = soup.find(\"article\", class_=\"ssrcss-pv1rh6-ArticleWrapper e1nh2i2l6\").text\n",
    "print(title)"
   ]
  },
  {
   "cell_type": "code",
   "execution_count": 11,
   "metadata": {},
   "outputs": [
    {
     "name": "stdout",
     "output_type": "stream",
     "text": [
      "['xi', 'before', 'seven', 'year,', 'citizens', '2019,', 'worn', 'drug', \"augustchina's\", 'times', 'they', '2020.this', 'wishing', 'reported', 'pandemic,', 'topicscoronavirus', 'top-liked', 'there', 'scrapped', 'abroad.', 'package', 'internationally', \"country's\", 'china?related', 'able', 'measures', 'were', 'her', 'running', 'different', 'comment', 'immigration', 'class', 'traffic.but', 'including', 'weeks.she', 'source,', 'a', 'say', 'flights.on', 'lockdown', 'book', 'first', 'applications', 'quoted', 'filling', 'notice', 'reutersin', 'travelling', 'hospital', 'put', 'mounting', 'issued', 'followed,', 'flu', 'spot.', 'company', 'topicstourismcoronavirus', 'november', 'international', '(as', 'reopenpublished28', 'data,', 'tests', 'pfizer', 'though', 'location', 'authorities', 'to', 'haveyoursay@bbc.co.uk.', 'did', 'was', 'we', 'workers', 'save', 'resume', 'qunar', 'changes,', 'travel', 'if', 'agencies.\"without', 'reopen', 'about', 'when', 'can', 'this', 'arrivals.travel', 'against', 'may', 'strongly', 'overwhelmed', 'reaction.\"i\\'m', 'as', 'experiences', 'analysts', 'years', 'having', 'inside', 'pandemic', 'countries.officials', 'news,', 'family?', 'with', 'across', 'tablets,', 'already', 'pandemicimage', 'country', \"people's\", 'comes', 'deaths', 'kong,', 'within', 'january,', 'battles', 'rachel', 'play', 'of', 'concern', 'excessively', 'come', 'will', '7756', 'for', '2022shareclose', 'online', 'page', 'led', 'months', 'reduce', 'driving', 'mixed', 'and', 'have', 'now', 'linkabout', 'epa-efe/rex/shutterstockby', 'protests', 'stood', 'saw', 'cases', 'monday', 'its', 'public', 'it', 'days,', 'winter,', 'hangzhou', 'viral', 'two', 'sharingrelated', 'on', 'flee', 'new', 'rare', 'contacted', 'everyone', 'month,\"', 'who', 'liu,', 'number', 'said', 'you', 'which', 'conditions', 'arrival,', 'genomic', \"it's\", \"won't\", 'speak', 'why', 'has', 'also', 'ongoing', 'anyway', 'agency', 'contact', 'by', 'share', 'trail', 'lack', 'almost', 'know', 'infected', 'please', 'read', 'open', 'announced', 'email', 'one', 'browser.media', 'japan,', '&', 'parents,', 'crippling', 'international.within', 'she', 'shanghai,', 'data', 'tough', 'until', 'our', 'year-on-year.', 'out', 'reports.before', 'travellers', 'privacy', \"can't\", 'watch:', 'capital,', 'show', 'statescoronavirus', 'disease', 'see', 'country.but', 'version', 'tuesday', 'measuresasiatravelchinaunited', 'china,', 'beijing,', 'searches', 'next', 'pictures', 'came', 'unfettered', 'submit', 'age', 'hospitals', 'infections.resentment', 'destinations', 'ikea', 'wait', 'national', 'try', 'wavethis', 'arrive', 'site', 'infections.', '[reopening]', 'playedto', 'centres', 'other', 'commission', 'day,', 'suffer', 'there.india', 'crematoriums', 'president', 'visit', 'ensure', 'mr', 'prepared.are', 'administration', 'fever', 'spread.\"japan', 'week.many', 'i', 'not', 'that', 'shanghai', 'negative', 'out,', 'hoping', 'like', 'tourists', 'us', 'after', 'group', 'infectious', 'restrictions', 'april', 'following', \"xi'an,\", 'officials', 'economy.', 'monday,', 'up', '\"feasible\"', 'journalist.', 'lockdowns', 'three', 'transparency', 'willing', '155', 'what', 'question', 'responsibility', 'shoppers', 'admissions.', \"they're\", 'how', 'hundreds', 'calling', 'sites', 'chilly', 'discouraged', 'your', 'increased', 'china', 'trip.com', 'force', 'jinping', 'weibo.people', 'surges', 'outbound', 'family', 'finally', 'increase', 'cold', 'chinese', 'china.', 'half', 'abandoned', 'community', 'speechless.', \"beijing's\", 'terms', 'any', 'hong', 'overwhelmed.', \"lives.china's\", 'government.\"there', 'beijing', 'ones', 'said.it', 'during', '20', 'sequence', 'an', 'potential', 'or', 'behind', 'according', 'form', 'infections', 'zero-covid', 'minutes', 'countries)', 'considering', 'appear', 'concerns', 'take', 'ways:whatsapp:', \"who'everyone\", 'peak.\"why', 'macau,', 'get', 'javascript', 'policy', 'follows', 'expressed', 'caption,', 'reading', 'part', 'would', 'temperatures', 'emailing', 'daviesbbc', 'cited', 'delivered.on', 'enable', 'month.passport', \"fever'\", 'covid-19', 'grandparents', \"monday's\", 'axed', 'due', 'old', 'december', 'borders', 'year?\"', 'alys', '8', 'he', 'begins', 'hour', 'restricting', 'partner', 'better', 'it,', 'name,', 'are', 'reports', 'announcement,', 'getting', 'medicine.', 'is', 'feared', 'wave', '15', 'but', 'pagecopy', 'variants', 'at', 'the', 'china:', 'had', 'doing', 'some', 'strict', 'downgraded', 'become', 'mobile', 'dropped', 'questioned', 'loved', 'huge', 'difficult', 'happy', 'addition,', 'quarantine', 'experience', 'lives', 'bbc', 'ended', '22', \"government's\", 'endured', 'transparent', 'more', 'sparked', '-', 'many', 'survive', 'haveyoursay@bbc.co.uk.please', 'increasingly', 'ten-fold', 'touch', 'becoming', 'remarks', 'daily', 'surge', 'severity', 'his', 'rushed', 'order', 'since', 'test', 'thailand', 'do', \"china's\", 'south', 'easing', 'down', 'all', 'showed', 'from', 'videoplease', 'shortage', 'seem', 'solutions', 'destinations.image', 'access', 'sale', 'unreported', 'dragon', 'been', 'need', 'recent', 'rules', 'data,\"', 'people', 'popular', 'enquiries', 'nearly', 'media', 'overseas', 'yet', 'cap', 'announcement', 'website', 'same', 'hits', 'include', 'health', 'rules,', 'global', 'seven-fold', 'distribute', 'video', 'most', '+44', 'panelshare', 'statement', 'formally', 'because', 'living', 'reopening', 'january.before', 'arriving', 'cities', 'planning', '165803tweet:', 'be', 'blamed', 'million', 'prompt', 'shanghai.she', 'reopen,', 'must', 'restrictions.the', 'statista.', 'b', 'relaxation', 'zero-covid,', 'paxlovid,', 'up?', 'well', 'marketing', 'passes', 'korea', 'about-turn', 'newschinese', 'medical', 'drugs.the', 'year', '@bbc_haveyoursayupload', 'going', 'submission.', 'identify', 'news', 'hope', 'banned,', 'in', 'last', 'january.but', 'rush', 'spike', 'flight', 'covid', \"we're\"]\n",
      "['a', 'this']\n"
     ]
    }
   ],
   "source": [
    "import nltk\n",
    "text = 'you are sitting on a chair'\n",
    "def tokenize(text):\n",
    "    text = text.rstrip('.')\n",
    "    tokens = text.split()\n",
    "    tokens = [token.lower() for token in tokens]\n",
    "    return list(set(tokens))\n",
    "\n",
    "tokens = tokenize(title)\n",
    "print(tokens)\n",
    "\n",
    "from nltk.corpus import wordnet\n",
    "\n",
    "def is_verb(word):\n",
    "    # Check if the word is a verb\n",
    "    if wordnet.synsets(word, pos=wordnet.VERB):\n",
    "        return True\n",
    "    return False\n",
    "\n",
    "def remove_verbs(tokens):\n",
    "    # Remove all verbs from the list of tokens\n",
    "    return [token for token in tokens if not is_verb(token)]\n",
    "\n",
    "sentence = \"This is a sentence.\"\n",
    "tokens = tokenize(sentence)\n",
    "filtered_tokens = remove_verbs(tokens)\n",
    "print(filtered_tokens)"
   ]
  },
  {
   "cell_type": "code",
   "execution_count": null,
   "metadata": {},
   "outputs": [],
   "source": []
  }
 ],
 "metadata": {
  "kernelspec": {
   "display_name": "base",
   "language": "python",
   "name": "python3"
  },
  "language_info": {
   "codemirror_mode": {
    "name": "ipython",
    "version": 3
   },
   "file_extension": ".py",
   "mimetype": "text/x-python",
   "name": "python",
   "nbconvert_exporter": "python",
   "pygments_lexer": "ipython3",
   "version": "3.8.8"
  },
  "orig_nbformat": 4,
  "vscode": {
   "interpreter": {
    "hash": "f77b640396ee907328d3f2b1dbf7d1073670d4b49ce003bfc4c9fbcbcb50868c"
   }
  }
 },
 "nbformat": 4,
 "nbformat_minor": 2
}
