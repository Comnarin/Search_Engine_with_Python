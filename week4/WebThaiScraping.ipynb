{
 "cells": [
  {
   "cell_type": "code",
   "execution_count": 443,
   "metadata": {},
   "outputs": [],
   "source": [
    "import requests\n",
    "from bs4 import BeautifulSoup as bs\n",
    "import re\n",
    "import unicodedata\n",
    "class thairath:\n",
    "    def __init__(self, url:str):\n",
    "        article = requests.get(url)\n",
    "        self.soup = bs(article.content, \"html.parser\")\n",
    "        self.body = self.get_body()\n",
    "        self.title = self.get_title()\n",
    "\n",
    "    def get_body(self) -> list:\n",
    "        self.list =[]\n",
    "        for i in self.soup.find('div', {'class':'__item_article-content css-fr5263 e1wlf1s615'}).find_all('p'):\n",
    "            self.list.append(i.text)\n",
    "        return self.clean_string(self.list)\n",
    "    \n",
    "    def get_title(self) -> str:\n",
    "        self.title = self.soup.find('div', {'class':'__item_article-headline css-1jxy7j e1wlf1s67'}).find('h1').text\n",
    "        self.result = unicodedata.normalize(\"NFKD\", self.title)\n",
    "        return self.result\n",
    "\n",
    "    def clean_string(self,body):\n",
    "        self.sentence = ''\n",
    "        for word in self.list:\n",
    "            self.sentence += word + ' '\n",
    "        return self.sentence\n",
    "    \n",
    "    def clean_tag(self,tag):\n",
    "        to_clean = re.compile('<.*?>')\n",
    "        self.cleantext = re.sub(to_clean, '', str(tag))\n",
    "        return self.cleantext\n",
    "    \n",
    "    "
   ]
  },
  {
   "cell_type": "code",
   "execution_count": 444,
   "metadata": {},
   "outputs": [],
   "source": [
    "parsed = thairath('https://www.thairath.co.th/news/local/2592538')"
   ]
  },
  {
   "cell_type": "code",
   "execution_count": 447,
   "metadata": {},
   "outputs": [
    {
     "data": {
      "text/plain": [
       "'ถอดรหัสโควิด 2566 ไม่จบ...ติดใหม่แน่'"
      ]
     },
     "execution_count": 447,
     "metadata": {},
     "output_type": "execute_result"
    }
   ],
   "source": [
    "parsed.title"
   ]
  },
  {
   "cell_type": "code",
   "execution_count": 448,
   "metadata": {},
   "outputs": [
    {
     "data": {
      "text/plain": [
       "'ตอนนี้งานวิจัยอย่างน้อย 2 ชิ้น ให้ข้อมูลออกมาในแนวเดียวกันว่า “วัคซีนเข็มกระตุ้น”...ที่เกิน 3 เข็มขึ้นไป ไม่ได้ช่วยให้ภูมิคุ้มกันชนิดเม็ดเลือดขาว T cell สูงขึ้น เนื่องจากวัคซีนเป็นการกระตุ้นด้วยโปรตีนหนามสไปก์ซึ่งมีส่วนของโปรตีนที่ T cell จะจับได้จำกัดอยู่แล้ว เข็มกระตุ้นที่ฉีดซ้ำไปเหมือนไม่ทำให้ระดับของ T cell สูงขึ้นเหมือนที่พบในระดับของแอนติบอดี ภูมิคุ้มกันที่จะได้ประโยชน์จากวัคซีนเข็มกระตุ้นดูเหมือนจะเป็นจากแอนติบอดีเป็นหลัก ซึ่ง “แอนติบอดี” อยู่ในร่างกายได้ไม่นานเท่า “T cell” และ ความจำเพาะของแอนติบอดีมีผลโดยตรงต่อการทำงานของแอนติบอดีในการยับยั้งการติดเชื้อ และจะลดลงตามสายพันธุ์ไวรัสที่เปลี่ยนแปลงไป การป้องกันการติดเชื้อจึงยากมากๆจากภูมิของวัคซีน โดยจะแตกต่างจากภูมิของการติดเชื้อ ซึ่งร่างกายสร้างแอนติบอดีที่จำเพาะต่อไวรัสสายพันธุ์ปัจจุบันมากกว่ามาก SPONSORED ดร.อนันต์ จงแก้ววัฒนา นักไวรัสวิทยา สวทช. โพสต์แสดงความคิดเห็นไว้ในเฟซบุ๊กส่วนตัว...สะท้อนข้อมูลย้ำว่า ดังนั้นประโยชน์ของการกระตุ้นภูมิด้วยวัคซีนในปัจจุบันที่เห็นชัดคือ การสร้างแอนติบอดีต่อสไปก์ให้มากขึ้น เพื่อลดอาการรุนแรงของโรค คือเพื่อช่วยจัดการกับเซลล์ที่ติดเชื้อและทำลายแหล่งผลิตไวรัส ทำให้ไวรัสลดจำนวนลงไวขึ้น ซึ่งเป็นกลไกการป้องกันอาการรุนแรงจากการติดเชื้อนั้น ซึ่งในบางครั้งแอนติบอดีอาจทำงานได้ไม่เต็มที่จากหลายสาเหตุ เช่น สร้างออกมาน้อยไม่เพียงพอในผู้ป่วยบางราย หรือความจำเพาะต่อสไปก์ไม่มากพอที่จะกระตุ้นให้เกิดการทำลายเซลล์ที่ติดเชื้อ หรือสร้างขึ้นมาช้ากว่าปกติ ส่งผลให้ “ผู้ป่วย” มีอาการหนักและเสียชีวิตได้ ดังนั้น...ถ้าเป็นเคสแบบนี้ “ยาต้านไวรัส” จะมีบทบาทสำคัญมากๆในการช่วยลดไวรัสในร่างกายลงอีกแรง ไวรัสเปลี่ยนตัวเองจนแอนติบอดีจับแทบไม่ได้แล้ว แต่ทำไมฉีดวัคซีนแล้วยังป้องกันอาการหนักจากโควิดได้ดี ถ้าพิจารณาแต่เฉพาะแอนติบอดีที่วัคซีนกระตุ้นขึ้นมา (ไม่รวมถึง T cell ที่อาจมีบทบาท ร่วมด้วย) เราสามารถแบ่งแอนติบอดีได้เป็น 2 ประเภทใหญ่ๆคือ... ตัวที่จับกับโปรตีนสไปก์ได้และยับยั้งไวรัสไม่ให้เข้าสู่เซลล์ได้ด้วย หรือ Neutralizing antibody (NAb) แอนติบอดีเหล่านี้มีบทบาทสำคัญมากๆในการป้องกันการติดเชื้อในร่างกาย เพราะหน้าที่คือดักจับไวรัสและป้องกันไม่ให้ติดเซลล์ได้ Nab...นี่แหละครับที่คนส่วนใหญ่สนใจและใช้เป็นตัววัดการหนีภูมิของไวรัสแต่ละสายพันธุ์ ถ้า...NAb จับไวรัสได้น้อยลงแน่นอน...โอกาสที่คนจะติดเชื้อก็มีมาก ขึ้นไปด้วย แอนติบอดีประเภทที่ 2 คือ แอนติบอดีที่จับโปรตีนสไปก์เหมือนกันแต่ไปจับตรงตำแหน่งอื่นๆที่ไม่ได้มีผลต่อการยับยั้งการติดเชื้อเข้าสู่เซลล์ของไวรัส เมื่อยับยั้งไม่ได้...หลายคนก็มองว่าอาจจะไม่ค่อยมีประโยชน์อะไรต่อการป้องกันโควิด วันนี้มีบทความตีพิมพ์ในวารสาร nature reviews immunology ระบุว่า แอนติบอดีประเภทที่ 2 นี่แหละที่เป็นตัวช่วยพยุงประสิทธิภาพวัคซีนให้ยังคงสามารถป้องกันอาการป่วยหนักหรือเสียชีวิต โควิดยุคปลายปี 2022 ไปปีหน้า ศ.นพ.ธีระวัฒน์ เหมะจุฑา หรือ “หมอดื้อ” คณะแพทยศาสตร์ โรงพยาบาลจุฬา จุฬาลงกรณ์ มหาวิทยาลัย ให้มุมมองไว้ตั้งแต่ช่วงปลายปีที่ผ่านมา บอกว่า ไม่จบ... ติดใหม่แน่ เพราะไวรัสผันตัวไปหนีภูมิที่สร้างจากวัคซีนทั้งหมดและที่ได้จากการติดเชื้อตามธรรมชาติ SPONSORED ขณะนี้มีหลากหลาย เช่น BQ.1, BQ.1.1, XBB, และ XBB.1 น่าสนใจด้วยว่า “วัคซีนชุดใหม่” ที่สร้างจากโอมิครอน อาจหยุดสายย่อยเหล่านี้และในอนาคตไม่ได้ ข้อมูลนี้เป็นรายงานสถานการณ์โควิดของจอห์น ฮอปกินส์ ทั้งไม่ว่า mRNA 3 เข็ม หรือ 4 เข็ม 3 เข็ม บวก 1 วัคซีนใหม่ โอมิครอน...3 เข็ม บวกติดเชื้อ BA.2 ...3 เข็ม บวกติดเชื้อ BA.4/5 กลุ่มสุดท้ายดูจะดีกว่าเพื่อน...เนื่องจากภูมิที่ได้จากการติดเชื้อหรือวัคซีนทั้งหมด รวมของยุคใหม่ โอมิครอนจะไปจงรักภักดี สร้างภูมิต่อไวรัสอู่ฮั่น (immune imprinting) โดยได้ภูมิต่อต้านโอมิครอนสายย่อยใหม่ไม่มากจาก hybrid immune damping effect ประเด็นต่อมา...หลายคนอาจจะตั้งคำถาม สถานการณ์เช่นนี้ต้อง “จิตตก” มั้ย? “ยังก่อน แม้ติดได้ แต่คอยสังเกตว่ารุนแรงขึ้นมั้ย” ศ.นพ.ธีระวัฒน์ ว่า “ง่ายๆ ดูจากคนรอบๆตัวก็รู้” ต่อเนื่องด้วยประเด็นที่ว่าเมื่อติดแล้วจะทำอย่างไร? ...เราก็ใช้สูตรเดิม มีฟ้าทะลายโจรอยู่แล้วไม่ใช่หรือ 60 มิลลิกรัม (เด็ก 10 มิลลิกรัม) โดยมีแอนโดรกราโฟไลท์สาระสำคัญ...เช้า กลางวันและเย็นไปห้าวันกินทันทีเมื่อไม่สบาย ซึ่งข้อแนะนำที่ว่านี้กระทรวงสาธารณสุขรับรองการใช้...ไม่ใช่ข้อมูลปลอม SPONSORED ทั้งนี้เนื่องจากสมุนไพรของไทยเราออกฤทธิ์ที่หลายขั้นตอนในการต่อต้านไวรัสไม่ใช่ขั้นตอนเดี่ยวแบบยาปัจจุบัน บางคนอาจจะมีคำถามต่อไปด้วยว่า...แล้วทำไมไม่ใช้ฟาวิพิราเวียร์ โมลนูพิราเวียร์ แพกซ์ โลวิดไปเลย หรือไปฉีดแอนติบอดี และ evusheld กันล่วงหน้า? จากหลักฐานที่ว่าโควิดสายพันธุ์ย่อยใหม่ แสดงพลังดื้อยาเหล่านี้มากขึ้นเรื่อยๆแล้ว ตามรอยที่ปลายปี 2020 เริ่มดื้อฟาวิฯเป็นต้นมา ดังนั้น ฟ้าฯก่อน 2 วันเอาไม่อยู่ ต่อโมลนูฯก็ได้ แต่โมลนูฯ และแพกซ์ฯ มี rebound...สะท้อนกลับขึ้นมาใหม่ได้ภายใน 28 วัน ที่สำคัญ...ระวังการใช้แอนติบอดี เพราะมีการประกาศเลิกใช้เกือบหมดทุกตัวแล้วในต่างประเทศ เอาละครับ “โควิด-19” ยังคงอยู่กับเราๆท่านๆ เมื่อระบาดมากขึ้นๆแล้วในระดับนโยบายจะถึงขั้นต้องปิดบ้านล็อกดาวน์มั้ย? คำถามนี้ ศ.นพ.ธีระวัฒน์ มองว่า ไม่น่าแล้ว เพราะไม่เหมือนสมัยปี 2020 ตอนนี้...คนน่าจะอดตายกันหมด ที่ต้องทำก็คือปรับตัวตามสถานการณ์ ถ้าสายย่อยทำท่ารุนแรงก็วินัยเคร่งครัดมากขึ้น ติดตัวด้วยฟ้าทะลายโจรและยาอื่นๆไว้ การ์ดไม่ตก ป้องกันตัวอย่างเต็มที่แล้ว เมื่อเป็นเช่นนี้หากจะถามถึงตัวช่วยอย่าง “วัคซีน” คือคำตอบสุดท้าย สำคัญมากน้อยอย่างไร? SPONSORED ข้อนี้คุณหมอดื้อคิดว่าขณะนี้คงไม่ใช่ ย้ำ...ถ้าจะฉีดไม่ใช่เรื่องเสียหาย ตามความสมัครใจภาวนาอย่าให้แพ้ ถึงเวลาใช้ชีวิตแบบปกติตามสถานการณ์ได้แล้ว และล่าสุดควบรวมกับรายงานของศูนย์จีโนม โรงพยาบาลรามาธิบดี...ฉีดวัคซีน mRNA มาก แม้รวมวัคซีนใหม่ bivalent ยิ่งติดมาก “ยุ่งแล้ว! ศูนย์จีโนมฯรายงานความคืบหน้าล่าสุด นักวิทย์ระดับโลก พบหากได้รับวัคซีนเทพ mRNA จำนวนครั้งมาก จะเพิ่มความเสี่ยงติดเชื้อโควิดมากเท่านั้น” สวมหน้ากาก รักษาระยะห่าง แอลกอฮอล์ติดตัวใช้บ่อยๆ เลี่ยงที่แออัด การ์ดอย่าตกๆๆ...ตนเป็นที่พึ่งแห่งตน...ดีที่สุด เอวังก็มีด้วยประการฉะนี้. '"
      ]
     },
     "execution_count": 448,
     "metadata": {},
     "output_type": "execute_result"
    }
   ],
   "source": [
    "parsed.body"
   ]
  },
  {
   "cell_type": "code",
   "execution_count": 234,
   "metadata": {},
   "outputs": [],
   "source": [
    "class sanook:\n",
    "    def __init__(self, url:str):\n",
    "        article = requests.get(url)\n",
    "        self.soup = bs(article.content, \"html.parser\")\n",
    "        self.body = self.get_body()\n",
    "        self.title = self.get_title()\n",
    "\n",
    "    def get_body(self) -> list:\n",
    "        self.list =[]\n",
    "        for i in self.soup.find('div', {'class':'jsx-1783182675 jsx-3337025177 EntryReaderInner'}).find_all('p'):\n",
    "            self.list.append(i.text)\n",
    "        return self.clean_string(self.list)\n",
    "    \n",
    "    def get_title(self) -> str:\n",
    "        self.title = self.soup.find('div', {'class':'jsx-223461968 EntryHeading clearfix'}).find('h1')\n",
    "        return self.clean_tag(self.title)\n",
    "\n",
    "    def clean_string(self,body):\n",
    "        self.sentence = ''\n",
    "        for word in self.list:\n",
    "            self.sentence += word + ' '\n",
    "        sentence_filter = [x.replace('\\xa0', '') for x in self.list if x is not None]\n",
    "        return self.sentence\n",
    "    \n",
    "    def clean_tag(self,tag):\n",
    "        to_clean = re.compile('<.*?>')\n",
    "        self.cleantext = re.sub(to_clean, '', str(tag))\n",
    "        return self.cleantext"
   ]
  },
  {
   "cell_type": "code",
   "execution_count": 235,
   "metadata": {},
   "outputs": [],
   "source": [
    "web_sanook = sanook('https://www.sanook.com/news/8721354/')"
   ]
  },
  {
   "cell_type": "code",
   "execution_count": 236,
   "metadata": {},
   "outputs": [
    {
     "data": {
      "text/plain": [
       "'หนุ่มเซ็ง สั่งกะเพราหอยนางรม เปิดมาหอยเละเหม็นทั้งกล่อง ร้านอ้างหอยมันหด'"
      ]
     },
     "execution_count": 236,
     "metadata": {},
     "output_type": "execute_result"
    }
   ],
   "source": [
    "web_sanook.title"
   ]
  },
  {
   "cell_type": "code",
   "execution_count": 237,
   "metadata": {},
   "outputs": [
    {
     "data": {
      "text/plain": [
       "'ไม่ตรงปกอย่างแรง หนุ่มเซ็งสั่งกะเพราหอยนางรมผ่านแอปฯ ชื่อดัง เห็นภาพรีวิวสุดน่ากิน เปิดมาหอยเละเหม็นทั้งกล่อง ทางร้านอ้างหอยมันหด ล่าสุดยอมคืนตังค์ จากที่มีผู้ใช้เฟซบุ๊กรายหนึ่งได้ออกมาโพสต์ภาพในกลุ่ม พวกเราคือผู้บริโภค หลังสั่งข้าวกะเพราหอยนางรมจากร้านแห่งหนึ่งในจังหวัดสมุทรปราการ ผ่านแอปฯ สั่งอาหารชื่อดัง จากรูปอาหารดูดีน่ากินมาก เมื่ออาหารมาถึงพบว่าหอยไม่สด บางตัวก็เน่าเละแล้วมีกลิ่นเหม็นทั้งกล่องไม่สามารถกินได้ โดยเจ้าของโพสต์ระบุว่า “สั่งกะเพราหอยนางรม จากร้านแถวบางปลา สมุทรปราการ ในแอปฯ ระบุชื่อร้าน “คุณxxxกระเพราสายโหด” ดูสิ่งที่ได้รับ หอยเละไม่เป็นตัว มีกลิ่นเหม็น ของไม่สดแถมยังเสียอีกต่างหาก แต่ทำส่งให้ลูกค้า” หลังจากที่โพสต์ออกไปด้านชาวเน็ตต่างวิพากษ์วิจารณ์กันจำนวนมาก บ้างก็บอกว่าไม่ตรงปกอย่างแรง และภาพที่ทางร้านใช้โฆษณาดันไปเหมือนกับของร้านดัง ชาวเน็ตตั้งข้อสังเกตทางร้านเอาภาพคนอื่นมาใช้หรือไม่ ล่าสุด เมื่อช่วงเย็นวันที่ 3 มกราคม 2566 ผู้สื่อข่าวเดินทางไปพบกับ นายขวัญชัย ศรีอุทัยภรณ์ อายุ 44 ปี เจ้าของโพสต์ เล่าว่า เมื่อวานที่ผ่านมาตนสั่งอาหารผ่านแอปฯ มา 4 อย่าง มีกะเพราหอยนางรม ต้มยำไข่ปลา แกงจืดไข่น้ำ และข้าวผัด โดยเมนูที่สั่งมาปกติทุกอย่าง ยกเว้นกะเพราหอยนางรม ที่มีแต่ซากหอยไม่เป็นตัว และมีกลิ่นเหม็น ตนจึงโทรไปหาร้าน ตอนแรกทางร้านไม่ยอมรับ บอกว่าผัดแล้วหอยมันหด ตนจึงบอกร้านไปว่าถ้าหดไม่ใช่แบบนี้ เลยบอกให้ทางร้านขับรถมาดู เพราะตนยังไม่ได้ทำอะไรกับกล่องข้าวเลย แต่ทางร้านก็ไม่ได้มา แล้วก็ขอโทษตนบอกจะโอนเงินคืนมาให้ ซึ่งตนก็บอกไปว่าเรื่องเงินไม่มีปัญหา แต่เอาของเสียมาเสริฟให้ลูกค้า ถ้าเกิดเป็นเด็กหรือใครกินเข้าไปก็จะเป็นอันตราย หลังจากที่ตนโทรคุยก็แอดไลน์ร้านแล้วส่งภาพหอยนางรมไปให้ร้านดู ทางร้านก็ส่งสลิปที่โอนเงินคืนค่าผัดกระเพราหอยนางรมมา 60 บาท ตนก็ขอฝากถึงทุกร้านค้าที่ให้บริการด้านอาหาร ให้ควบคุมเรื่องคุณภาพอาหารที่ก่อนจะมาถึงมือผู้บริโภคด้วย '"
      ]
     },
     "execution_count": 237,
     "metadata": {},
     "output_type": "execute_result"
    }
   ],
   "source": [
    "web_sanook.body"
   ]
  },
  {
   "cell_type": "code",
   "execution_count": 262,
   "metadata": {},
   "outputs": [],
   "source": [
    "class matichon:\n",
    "    def __init__(self, URL:str):\n",
    "        headers = {'User-Agent': \"Mozilla/5.0 (Windows NT 10.0; Win64; x64) AppleWebKit/537.36 (KHTML, like Gecko) Chrome/42.0.2311.135 Safari/537.36 Edge/12.246\"}\n",
    "        # Here the user agent is for Edge browser on windows 10. You can find your browser user agent from the above given link.\n",
    "        article = requests.get(url=URL, headers=headers)\n",
    "        self.soup = bs(article.content, \"html.parser\")\n",
    "        self.body = self.get_body()\n",
    "        self.title = self.get_title()\n",
    "\n",
    "    def get_body(self) -> list:\n",
    "        self.list =[]\n",
    "        for i in self.soup.find('div',{'itemprop':'articleBody'}).find_all('p'):\n",
    "            self.list.append(i.text)\n",
    "        return self.clean_string(self.list)\n",
    "    \n",
    "    def get_title(self) -> str:\n",
    "        self.title = self.soup.find('header', {'class':'td-post-title'}).find('h1')\n",
    "        return self.clean_tag(self.title)\n",
    "\n",
    "    def clean_string(self,body):\n",
    "        self.sentence = ''\n",
    "        for word in self.list:\n",
    "            self.sentence += word + ' '\n",
    "        sentence_filter = [x.replace('\\n', '') for x in self.list if x is not None]\n",
    "        return self.sentence\n",
    "    \n",
    "    def clean_tag(self,tag):\n",
    "        to_clean = re.compile('<.*?>')\n",
    "        self.cleantext = re.sub(to_clean, '', str(tag))\n",
    "        return self.cleantext"
   ]
  },
  {
   "cell_type": "code",
   "execution_count": 263,
   "metadata": {},
   "outputs": [],
   "source": [
    "web_matichon = matichon('https://www.matichon.co.th/politics/news_3755442')"
   ]
  },
  {
   "cell_type": "code",
   "execution_count": 264,
   "metadata": {},
   "outputs": [
    {
     "data": {
      "text/plain": [
       "'‘เสรีพิศุทธ์’ เข้ารพ. จากอาการออกซิเจนในเลือดต่ำ ประกาศหยุดปราบโกงชั่วคราว'"
      ]
     },
     "execution_count": 264,
     "metadata": {},
     "output_type": "execute_result"
    }
   ],
   "source": [
    "web_matichon.title"
   ]
  },
  {
   "cell_type": "code",
   "execution_count": 265,
   "metadata": {},
   "outputs": [
    {
     "data": {
      "text/plain": [
       "'เมื่อวันที่ 3 มกราคม เพจเฟซบุ๊ก “พลตำรวจเอกเสรีพิศุทธ์ เตมียเวส” ได้โพสต์คลิปวิดีโอ พล.ต.อ.เสรีพิศุทธ์ เตมียเวส ส.ส.บัญชีรายชื่อ และหัวหน้าพรรคเสรีรวมไทย ขณะนอนรักษาตัวอยู่ในโรงพยาบาลพร้อมระบุข้อความว่า “สรีพิศุทธ์ ป่วย พักโหน่ยนะ ขอหยุดปราบโกงชั่วคราว ทั้งนี้ในคลิปวิดีโอดังกล่าว พล.ต.อ.เสรีพิศุทธ์ ระบุว่า ขอหยุดปราบโกงชั่วคราว เพราะป่วยครับ นอนรักษาตัวที่ โรงพยาบาลศิริราช ปิยมหาราชการุณย์ จากอาการอ๊อกซิเจนในเลือดต่ำ ตอนนี้กำลังให้ยา หมอบอกทำงานหนักเกินไป คาด 2-3 วันคงหาย  '"
      ]
     },
     "execution_count": 265,
     "metadata": {},
     "output_type": "execute_result"
    }
   ],
   "source": [
    "web_matichon.body"
   ]
  },
  {
   "cell_type": "code",
   "execution_count": 379,
   "metadata": {},
   "outputs": [],
   "source": [
    "class BBC:\n",
    "    def __init__(self, URL:str):\n",
    "        headers = {'User-Agent': \"Mozilla/5.0 (Windows NT 10.0; Win64; x64) AppleWebKit/537.36 (KHTML, like Gecko) Chrome/42.0.2311.135 Safari/537.36 Edge/12.246\"}\n",
    "        # Here the user agent is for Edge browser on windows 10. You can find your browser user agent from the above given link.\n",
    "        article = requests.get(url=URL, headers=headers)\n",
    "        self.soup = bs(article.content, \"html.parser\")\n",
    "        self.body = self.get_body()\n",
    "        self.title = self.get_title()\n",
    "\n",
    "    def get_body(self) -> list:\n",
    "        self.list =[]\n",
    "        for i in self.soup.find('article',{'class':'ssrcss-pv1rh6-ArticleWrapper e1nh2i2l6'}).find_all('p'):\n",
    "            self.list.append(i.text)\n",
    "        return self.clean_string(self.list)\n",
    "    \n",
    "    def get_title(self) -> str:\n",
    "        self.title = self.soup.find('header', {'class':'ssrcss-1eqcsb1-HeadingWrapper e1nh2i2l5'}).find('h1')\n",
    "        return self.clean_tag(self.title)\n",
    "\n",
    "    def clean_string(self,body):\n",
    "        self.sentence = ''\n",
    "        for word in self.list:\n",
    "            self.sentence += word + ' '\n",
    "        sentence_filter = [x.replace('\\n', '') for x in self.list if x is not None]\n",
    "        return self.sentence\n",
    "    \n",
    "    def clean_tag(self,tag):\n",
    "        to_clean = re.compile('<.*?>')\n",
    "        self.cleantext = re.sub(to_clean, '', str(tag))\n",
    "        return self.cleantext"
   ]
  },
  {
   "cell_type": "code",
   "execution_count": 380,
   "metadata": {},
   "outputs": [],
   "source": [
    "web_BBC = BBC('https://www.bbc.com/news/world-asia-china-64155721')"
   ]
  },
  {
   "cell_type": "code",
   "execution_count": 381,
   "metadata": {},
   "outputs": [
    {
     "data": {
      "text/plain": [
       "\"China Covid: Beijing criticises 'political' rules for its tourists\""
      ]
     },
     "execution_count": 381,
     "metadata": {},
     "output_type": "execute_result"
    }
   ],
   "source": [
    "web_BBC.title"
   ]
  },
  {
   "cell_type": "code",
   "execution_count": 382,
   "metadata": {},
   "outputs": [
    {
     "data": {
      "text/plain": [
       "'The Chinese government has suggested that travel restrictions imposed by several countries on Chinese arrivals are politically motivated - and has warned that it may retaliate.  The US, India and the UK are among the nations that have introduced mandatory testing for arrivals from China.  The country has recently seen a surge in Covid cases following the easing of its strict controls.  And there are fears that cases and deaths are being vastly underreported.  China\\'s last daily Covid update, on 24 December, reported fewer than 5,000 cases - but some analysts claim the daily caseload is already over two million, and could peak at almost four million this month. A lack of data - and China\\'s announcement that it was easing curbs on travel from 8 January - led to more than a dozen countries announcing Covid testing on arrivals from China. The World Health Organization (WHO) has urged China to share more real-time information and a spokeswoman for the foreign ministry on Tuesday said that Beijing was willing to \"improve communication with the world\". However, spokeswoman Mao Ning said the government was \"firmly opposed to attempts to manipulate the epidemic prevention and control measures for political purposes, and will take corresponding measures...according to the principle of reciprocity.\" China\\'s borders have been largely closed since March 2020 - meaning few foreigners were able to enter and those that did had to undergo rigorous testing and quarantine.  The European Union\\'s disease prevention agency and Australia\\'s Chief Medical Officer have both argued that high levels of vaccination and immunity reduce the threat that Covid poses.  But despite that, countries - including in the EU - have imposed testing for Chinese arrivals.  \"I think we\\'re performing our duty in protecting French people by asking for tests,\" France\\'s Prime Minister Elisabeth Borne said on Tuesday. \"We\\'re doing it while respecting the rules of the World Health Organization and we will continue to do it.\" The European Commission, the executive body of the European Union, has said an overwhelming number of member states favour introducing travel restrictions. Some countries have already introduced their own measures but a decision on whether that will be extended to all EU countries is expected on Wednesday.  It\\'s not the first time that Beijing has been at odds with the international community over the virus. It was first detected in Wuhan in central China in late 2019 and the government resisted attempts to investigate the origins. Meanwhile, China has on Tuesday rejected an offer from the European Union to supply an unspecified number of Covid-19 vaccines to help deal with the surge in cases, saying it has an \"adequate supply\". Official data shows China has given more than 3.4 billion doses - the vast majority of which are CoronaVac.  The government has so far insisted in using only Chinese-made vaccines, which have been proven to be less effective than other Western-developed mRNA vaccines against the Omicron variant.  Covid test to be required for China arrivals in England France, Spain and others bring in China Covid tests US demands Covid tests for visitors from China '"
      ]
     },
     "execution_count": 382,
     "metadata": {},
     "output_type": "execute_result"
    }
   ],
   "source": [
    "web_BBC.body"
   ]
  },
  {
   "cell_type": "code",
   "execution_count": 471,
   "metadata": {},
   "outputs": [],
   "source": [
    "class CNN:\n",
    "    def __init__(self, URL:str):\n",
    "        headers = {'User-Agent': \"Mozilla/5.0 (Windows NT 10.0; Win64; x64) AppleWebKit/537.36 (KHTML, like Gecko) Chrome/42.0.2311.135 Safari/537.36 Edge/12.246\"}\n",
    "        # Here the user agent is for Edge browser on windows 10. You can find your browser user agent from the above given link.\n",
    "        article = requests.get(url=URL, headers=headers)\n",
    "        self.soup = bs(article.content, \"html.parser\")\n",
    "        self.body = self.get_body()\n",
    "        self.title = self.get_title()\n",
    "\n",
    "    def get_body(self) -> list:\n",
    "        self.list =[]\n",
    "        for i in self.soup.find('div',{'class':'article__content-container'}).find_all('p'):\n",
    "            self.list.append(i.text)\n",
    "        return self.clean_string(self.list)\n",
    "    \n",
    "    def get_title(self) -> str:\n",
    "        self.title = self.soup.find('div', {'class':'headline__wrapper'}).find('h1')\n",
    "        self.title_filter = [x.replace('\\n',\"\") for x in self.title if x is not None]\n",
    "        self.string = self.title_filter[0]\n",
    "        self.string = self.string.strip()\n",
    "        return self.string\n",
    "\n",
    "    def clean_string(self,body):\n",
    "        self.sentence = ''\n",
    "        for word in self.list:\n",
    "            self.sentence += word + ''\n",
    "        self.sentence_filter = [x.replace('\\n',\"\") for x in self.list if x is not None]\n",
    "        return self.sentence_filter\n",
    "    \n",
    "    def clean_tag(self,tag):\n",
    "        to_clean = re.compile('<.*?>')\n",
    "        self.cleantext = re.sub(to_clean, '', str(tag))\n",
    "        return self.cleantext"
   ]
  },
  {
   "cell_type": "code",
   "execution_count": 472,
   "metadata": {},
   "outputs": [],
   "source": [
    "web_CNN = CNN('https://edition.cnn.com/2023/01/03/china/china-covid-peak-2022-intl-hnk')"
   ]
  },
  {
   "cell_type": "code",
   "execution_count": 473,
   "metadata": {},
   "outputs": [
    {
     "data": {
      "text/plain": [
       "'Major Chinese cities past Covid peak as wave moves to rural areas, new study projects'"
      ]
     },
     "execution_count": 473,
     "metadata": {},
     "output_type": "execute_result"
    }
   ],
   "source": [
    "web_CNN.title\n"
   ]
  },
  {
   "cell_type": "code",
   "execution_count": 474,
   "metadata": {},
   "outputs": [
    {
     "data": {
      "text/plain": [
       "['      The wave of Covid infections sweeping across China may already have peaked in some of the country’s largest cities, including Shanghai and Beijing, according to a new study.  ',\n",
       " '      The study, published on December 29 in the peer-reviewed journal Frontiers of Medicine, said mathematical modeling predicted the latest wave of infections would pass through China’s major cities by the end of 2022, whereas more rural areas would be hit by the surge in mid-to-late January.   ',\n",
       " '      The spread could be “dramatically enhanced” by travels expected during the upcoming Spring Festival, a national holiday period surrounding the Lunar New Year, which falls on January 22, the study said.   ',\n",
       " '      For nearly three years, the Chinese government used strict lockdowns, centralized quarantines, mass testing and rigorous contact tracing to curb the spread of the virus. That costly strategy was abandoned in early December, following an explosion of protests across the country against stringent restrictions that have upended businesses and daily life.  ',\n",
       " '      Researchers from universities and health institutions in Shanghai modeled the curves of daily new Covid-19 cases and accumulated total cases from the beginning of October to November 29, before the country began easing its nucleic testing requirements.   ',\n",
       " '      “The results showed that Guangzhou already passed the recent wave, while Beijing, Shanghai, and Chongqing urban areas are in the midst of the current wave that would likely pass by the end of 2022,” the study said.   ',\n",
       " '      In Chongqing’s rural areas, the Spring Festival travel rush “could accelerate” the onset of the upcoming wave by up to 30 days, it added.    ',\n",
       " '      “It is reasonable to speculate that the Omicron outbreak in Chinese mainland might appear in multiple waves, with re-appearance of new local surges possibly in late 2023,” the study said.   ',\n",
       " '      The study recommended emergency measures should be directed at delivering over-the-counter medicine to symptomatic patients who are low-risk, vaccinated, and under 60 years. It also recommended to timely treat high risk populations that are vaccinated and older than 60 years with anti-viral drugs.   ',\n",
       " 'From the unwinding of zero-Covid to economic recovery: What to watch in China in 2023',\n",
       " '      Chinese leader Xi Jinping had previously staked his political legitimacy on zero-Covid, but the sudden policy U-turn caught the public and the country’s fragile health system unprepared, leaving many to question his wisdom.',\n",
       " '      Widespread shortages of cold and fever medicine have left hospitals scrambling to cope with an unprecedented surge of infections. And while China’s tightly-sealed borders are gradually opening up, some countries appear cautious to receive travelers from the country, imposing new requirements for a negative Covid test before travel.   ',\n",
       " '      Some studies estimate the death toll could be in excess of a million, if China fails to roll out booster shots and antiviral drugs fast enough.  ',\n",
       " '      The government has launched a booster campaign for the elderly, but many remain reluctant to take it due to concerns about side effects.   ']"
      ]
     },
     "execution_count": 474,
     "metadata": {},
     "output_type": "execute_result"
    }
   ],
   "source": [
    "web_CNN.body"
   ]
  },
  {
   "cell_type": "code",
   "execution_count": null,
   "metadata": {},
   "outputs": [],
   "source": []
  }
 ],
 "metadata": {
  "kernelspec": {
   "display_name": "base",
   "language": "python",
   "name": "python3"
  },
  "language_info": {
   "codemirror_mode": {
    "name": "ipython",
    "version": 3
   },
   "file_extension": ".py",
   "mimetype": "text/x-python",
   "name": "python",
   "nbconvert_exporter": "python",
   "pygments_lexer": "ipython3",
   "version": "3.9.7"
  },
  "orig_nbformat": 4,
  "vscode": {
   "interpreter": {
    "hash": "d6dbe31fb58d2a925cb6cf70124d8310e9312b8d1336a5bee8b6adf692fc3cfd"
   }
  }
 },
 "nbformat": 4,
 "nbformat_minor": 2
}
