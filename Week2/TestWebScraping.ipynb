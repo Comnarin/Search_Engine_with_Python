{
 "cells": [
  {
   "cell_type": "code",
   "execution_count": 23,
   "metadata": {},
   "outputs": [
    {
     "name": "stdout",
     "output_type": "stream",
     "text": [
      "Successful\n",
      "[None, None, None, None, None, None, None, None, None, None, None, None, None, None, None, None, None, None, None, None, None, None, None, None, None, None, None, None, None, None, None, None, None, None, None, None, None, None, None, None, None, None, None, None, None, None, None, None, None, None, None, None, None, None, None, None, None, None, None, None, None, None, None, None, None, None, None, None, None, None, None, None, None, None, None, None, None, None, None, None, None, None, None, None, None, None, None, None, None, None, None, None, None, None, None, None, None, None, None, None, None, None, None, None, None, None, None, None, None, None, None, None, None, None, None, None, None, None, None, None, None, None, None, None, None, None, None, None, None, None, None, None, None, None, None, None, None, None, None, None, None, None, None, None, None, None, None, None, None, None, None, None, None, None, None, None, None, None, None, None, None, None, None, None, None, None, None, None, None, None, None, None, None, None, None, None, None, None, None, None, None, None, None, None, None, None, None, None, None, None, None, None, None, None, None, None, None, None, None, None, None, None, None, None, None, None, None, None, None, None, None, None, None, None, None, None, None, None, None, None, None, None, None, None, None, None, None, None, None, None, None, None, None, None, None, None, None, None, None, None, None, None, None, None, None, None]\n",
      "['3 - 2', '0 - 5', '3 - 3', '2 - 0', '2 - 2', '0 - 1', '1 - 2', '0 - 1', '0 - 3', '2 - 0', '0 - 2', '0 - 1', '0 - 1', '1 - 2', '0 - 1', '1 - 0', '2 - 1', '0 - 3', '2 - 0', '1 - 0', '2 - 1', '2 - 3', '0 - 1', '0 - 6', '3 - 1', '', '0 - 2', '4 - 2', '1 - 0', '1 - 1', '2 - 1', '6 - 1', '2 - 1', '1 - 0', '2 - 4', '1 - 1', '0 - 0', '1 - 9', '2 - 1', '1 - 0', '0 - 3', '0 - 1', '2 - 1', '0 - 3', '0 - 5', '1 - 3', '1 - 5', '3 - 2', '0 - 3', '2 - 1', '1 - 0', '1 - 4', '2 - 0', '2 - 0', '6 - 0', '1 - 3', '1 - 0', '0 - 1', '1 - 1', '1 - 1', '0 - 2', '3 - 1', '1 - 2', '2 - 2', '0 - 3', '2 - 8', '2 - 1', '0 - 3', '1 - 0', '1 - 0', '2 - 1', '1 - 3', '1 - 0', '3 - 0', '5 - 1', '3 - 2', '1 - 8', '1 - 3', '1 - 0', '1 - 0', '2 - 0', '6 - 0', '3 - 0', '2 - 1', '0 - 3', '4 - 0', '', '0 - 0', '0 - 2', '2 - 1', '0 - 3', '1 - 1', '1 - 1', '2 - 1', '5 - 1', '1 - 2', '1 - 3', '0 - 2', '0 - 1', '1 - 1', '0 - 0', '0 - 1', '2 - 2', '1 - 1', '0 - 3', '3 - 2', '5 - 0', '4 - 2', '3 - 0', '1 - 1', '1 - 2', '3 - 1', '4 - 1', '4 - 0']\n"
     ]
    }
   ],
   "source": [
    "from bs4 import BeautifulSoup\n",
    "import requests\n",
    "url = \"https://football.kapook.com/result.php\"\n",
    "res = requests.get(url)\n",
    "res.encoding = \"utf-8\"\n",
    "if res.status_code == 200:\n",
    "    print(\"Successful\")\n",
    "elif res.status_code == 404:\n",
    "    print(\"Error 404 page not found\")\n",
    "else:\n",
    "    print(\"Not both 200 and 404\")\n",
    " # soup = BeautifulSoup(res.text)\n",
    "soup = BeautifulSoup(res.text, 'html.parser')\n",
    "scores = soup.find_all(\"td\", class_=\"text_center\")\n",
    "matchs = soup.find_all(\"a\", class_=\"tooltip_top match\")\n",
    "# Create an empty list\n",
    "score_list = []\n",
    "match_list = []\n",
    "for match in matchs:\n",
    "    \n",
    "    # Create a new variable --> obj to store \n",
    "    # only course name getting rid of unwanted tags\n",
    "    obj = match.string\n",
    "    \n",
    "    # Append each course into a course_list variable\n",
    "    match_list.append(obj)\n",
    "print(match_list)\n",
    "for score in scores:\n",
    "    \n",
    "    # Create a new variable --> obj to store \n",
    "    # only course name getting rid of unwanted tags\n",
    "    obj = score.string\n",
    "    \n",
    "    # Append each course into a course_list variable\n",
    "    score_list.append(obj)\n",
    "#print(course_list)\n",
    "Score_filter = [x.replace('\\r', '').replace('\\n', '').replace('\\t\\tc-c\\t', '').replace('\\t\\tN/A\\t',('')) for x in score_list if x is not None]\n",
    "\n",
    "print(Score_filter)\n"
   ]
  },
  {
   "cell_type": "code",
   "execution_count": 29,
   "metadata": {},
   "outputs": [
    {
     "name": "stdout",
     "output_type": "stream",
     "text": [
      "Successful\n",
      "[None, None, None, None, None, None, None, None, None, None, None, None, None, None, None, None, None, None, None, None, None, None, None, None, None, None, None, None, None, None, None, None, None, None, None, None, None, None, None, None, None, None, None, None, None, None, None, ' เว็บไซต์  www.kapook.com ไม่มี และ ไม่สนับสนุน การเล่นพนันฟุตบอล และการพนันรูปแบบอื่นๆทุกชนิด\\n\\tทีมงานหวังเพียงให้เยาวชน สนใจมุ่งเน้นด้านกีฬาเป็นสำคัญ ', None, None, '\\n\\t\\t...\\n\\t\\t', None, None, None, None]\n"
     ]
    }
   ],
   "source": [
    "from bs4 import BeautifulSoup\n",
    "import requests\n",
    "url = \"https://football.kapook.com/result.php\"\n",
    "res = requests.get(url)\n",
    "res.encoding = \"utf-8\"\n",
    "if res.status_code == 200:\n",
    "    print(\"Successful\")\n",
    "elif res.status_code == 404:\n",
    "    print(\"Error 404 page not found\")\n",
    "else:\n",
    "    print(\"Not both 200 and 404\")\n",
    " # soup = BeautifulSoup(res.text)\n",
    "soup = BeautifulSoup(res.text, 'html.parser')\n",
    "courses = soup.find_all(\"div\")\n",
    "\n",
    "# Create an empty list\n",
    "course_list = []\n",
    "\n",
    "for course in courses:\n",
    "    \n",
    "    # Create a new variable --> obj to store \n",
    "    # only course name getting rid of unwanted tags\n",
    "    obj = course.string\n",
    "    \n",
    "    # Append each course into a course_list variable\n",
    "    course_list.append(obj)\n",
    "print(course_list)"
   ]
  },
  {
   "cell_type": "code",
   "execution_count": null,
   "metadata": {},
   "outputs": [],
   "source": [
    "import requests\n",
    "from lxml import html\n",
    "\n",
    "USERNAME = \"<USERNAME>\"\n",
    "PASSWORD = \"<PASSWORD>\"\n",
    "\n",
    "LOGIN_URL = \"https://bitbucket.org/account/signin/?next=/\"\n",
    "URL = \"https://bitbucket.org/dashboard/repositories\"\n",
    "\n",
    "def main():\n",
    "    session_requests = requests.session()\n",
    "\n",
    "    # Get login csrf token\n",
    "    result = session_requests.get(LOGIN_URL)\n",
    "    tree = html.fromstring(result.text)\n",
    "    authenticity_token = list(set(tree.xpath(\"//input[@name='csrfmiddlewaretoken']/@value\")))[0]\n",
    "\n",
    "    # Create payload\n",
    "    payload = {\n",
    "        \"username\": USERNAME, \n",
    "        \"password\": PASSWORD, \n",
    "        \"csrfmiddlewaretoken\": authenticity_token\n",
    "    }\n",
    "\n",
    "    # Perform login\n",
    "    result = session_requests.post(LOGIN_URL, data = payload, headers = dict(referer = LOGIN_URL))\n",
    "\n",
    "    # Scrape url\n",
    "    result = session_requests.get(URL, headers = dict(referer = URL))\n",
    "    tree = html.fromstring(result.content)\n",
    "    bucket_names = tree.xpath(\"//div[@class='repo-list--repo']/a/text()\")\n",
    "\n",
    "    print(bucket_names)\n",
    "\n",
    "if __name__ == '__main__':\n",
    "    main()"
   ]
  }
 ],
 "metadata": {
  "kernelspec": {
   "display_name": "base",
   "language": "python",
   "name": "python3"
  },
  "language_info": {
   "codemirror_mode": {
    "name": "ipython",
    "version": 3
   },
   "file_extension": ".py",
   "mimetype": "text/x-python",
   "name": "python",
   "nbconvert_exporter": "python",
   "pygments_lexer": "ipython3",
   "version": "3.9.7 (default, Sep 16 2021, 16:59:28) [MSC v.1916 64 bit (AMD64)]"
  },
  "orig_nbformat": 4,
  "vscode": {
   "interpreter": {
    "hash": "d6dbe31fb58d2a925cb6cf70124d8310e9312b8d1336a5bee8b6adf692fc3cfd"
   }
  }
 },
 "nbformat": 4,
 "nbformat_minor": 2
}
