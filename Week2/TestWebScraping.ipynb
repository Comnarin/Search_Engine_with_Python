{
 "cells": [
  {
   "cell_type": "code",
   "execution_count": null,
   "metadata": {},
   "outputs": [
    {
     "ename": "",
     "evalue": "",
     "output_type": "error",
     "traceback": [
      "\u001b[1;31mRunning cells with 'base' requires ipykernel package.\n",
      "\u001b[1;31mRun the following command to install 'ipykernel' into the Python environment. \n",
      "\u001b[1;31mCommand: 'conda install -n base ipykernel --update-deps --force-reinstall'"
     ]
    }
   ],
   "source": [
    "from bs4 import BeautifulSoup\n",
    "import requests\n",
    "url = \"https://football.kapook.com/result.php\"\n",
    "res = requests.get(url)\n",
    "res.encoding = \"utf-8\"\n",
    "if res.status_code == 200:\n",
    "    print(\"Successful\")\n",
    "elif res.status_code == 404:\n",
    "    print(\"Error 404 page not found\")\n",
    "else:\n",
    "    print(\"Not both 200 and 404\")\n",
    " # soup = BeautifulSoup(res.text)\n",
    "soup = BeautifulSoup(res.text, 'html.parser')\n",
    "scores = soup.find_all(\"td\", class_=\"text_center\")\n",
    "matchs = soup.find_all(\"td\", class_=\"text_right\")\n",
    "# Create an empty list\n",
    "score_list = []\n",
    "match_list = []\n",
    "for match in matchs:\n",
    "    \n",
    "    # Create a new variable --> obj to store \n",
    "    # only course name getting rid of unwanted tags\n",
    "    obj = match.string\n",
    "    \n",
    "    # Append each course into a course_list variable\n",
    "    match_list.append(obj)\n",
    "print(match_list)\n",
    "for score in scores:\n",
    "    \n",
    "    # Create a new variable --> obj to store \n",
    "    # only course name getting rid of unwanted tags\n",
    "    obj = score.string\n",
    "    \n",
    "    # Append each course into a course_list variable\n",
    "    score_list.append(obj)\n",
    "#print(course_list)\n",
    "Score_filter = [x.replace('\\r', '').replace('\\n', '').replace('\\t\\tc-c\\t', '').replace('\\t\\tN/A\\t',('')) for x in course_list if x is not None]\n",
    "\n",
    "print(Score_filter)\n"
   ]
  },
  {
   "cell_type": "code",
   "execution_count": null,
   "metadata": {},
   "outputs": [],
   "source": []
  }
 ],
 "metadata": {
  "kernelspec": {
   "display_name": "base",
   "language": "python",
   "name": "python3"
  },
  "language_info": {
   "codemirror_mode": {
    "name": "ipython",
    "version": 3
   },
   "file_extension": ".py",
   "mimetype": "text/x-python",
   "name": "python",
   "nbconvert_exporter": "python",
   "pygments_lexer": "ipython3",
   "version": "3.8.8 (default, Apr 13 2021, 12:59:45) \n[Clang 10.0.0 ]"
  },
  "orig_nbformat": 4,
  "vscode": {
   "interpreter": {
    "hash": "8a5edab282632443219e051e4ade2d1d5bbc671c781051bf1437897cbdfea0f1"
   }
  }
 },
 "nbformat": 4,
 "nbformat_minor": 2
}
