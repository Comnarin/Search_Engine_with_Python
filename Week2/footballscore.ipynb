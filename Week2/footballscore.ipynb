{
 "cells": [
  {
   "cell_type": "code",
   "execution_count": 3,
   "metadata": {},
   "outputs": [],
   "source": [
    "import requests\n",
    "urls = \"https://fbref.com/en/comps/9/Premier-League-Stats\""
   ]
  },
  {
   "cell_type": "code",
   "execution_count": null,
   "metadata": {},
   "outputs": [],
   "source": [
    "data = requests.get(urls)\n",
    "data.text"
   ]
  },
  {
   "cell_type": "code",
   "execution_count": 5,
   "metadata": {},
   "outputs": [],
   "source": [
    "from bs4 import BeautifulSoup\n",
    "soup = BeautifulSoup(data.text) "
   ]
  },
  {
   "cell_type": "code",
   "execution_count": null,
   "metadata": {},
   "outputs": [],
   "source": [
    "standing_table = soup.select('table.stats_table')[0]\n",
    "standing_table"
   ]
  },
  {
   "cell_type": "code",
   "execution_count": null,
   "metadata": {},
   "outputs": [],
   "source": [
    "links = standing_table.find_all(\"a\")\n",
    "links"
   ]
  },
  {
   "cell_type": "code",
   "execution_count": null,
   "metadata": {},
   "outputs": [],
   "source": [
    "links = [l.get(\"href\") for l in links]\n",
    "links"
   ]
  },
  {
   "cell_type": "code",
   "execution_count": 9,
   "metadata": {},
   "outputs": [
    {
     "data": {
      "text/plain": [
       "['/en/squads/18bb7c10/Arsenal-Stats',\n",
       " '/en/squads/b8fd03ef/Manchester-City-Stats',\n",
       " '/en/squads/b2b47a98/Newcastle-United-Stats',\n",
       " '/en/squads/361ca564/Tottenham-Hotspur-Stats',\n",
       " '/en/squads/19538871/Manchester-United-Stats',\n",
       " '/en/squads/822bd0ba/Liverpool-Stats',\n",
       " '/en/squads/d07537b9/Brighton-and-Hove-Albion-Stats',\n",
       " '/en/squads/cff3d9bb/Chelsea-Stats',\n",
       " '/en/squads/fd962109/Fulham-Stats',\n",
       " '/en/squads/cd051869/Brentford-Stats',\n",
       " '/en/squads/47c64c55/Crystal-Palace-Stats',\n",
       " '/en/squads/8602292d/Aston-Villa-Stats',\n",
       " '/en/squads/a2d435b3/Leicester-City-Stats',\n",
       " '/en/squads/4ba7cbea/Bournemouth-Stats',\n",
       " '/en/squads/5bfb9659/Leeds-United-Stats',\n",
       " '/en/squads/7c21e445/West-Ham-United-Stats',\n",
       " '/en/squads/d3fd31cc/Everton-Stats',\n",
       " '/en/squads/e4a775cb/Nottingham-Forest-Stats',\n",
       " '/en/squads/33c895d4/Southampton-Stats',\n",
       " '/en/squads/8cec06e1/Wolverhampton-Wanderers-Stats']"
      ]
     },
     "execution_count": 9,
     "metadata": {},
     "output_type": "execute_result"
    }
   ],
   "source": [
    "links = [l for l in links if \"/squads/\" in l]\n",
    "links"
   ]
  },
  {
   "cell_type": "code",
   "execution_count": 10,
   "metadata": {},
   "outputs": [
    {
     "data": {
      "text/plain": [
       "['https://fbref.com/en/squads/18bb7c10/Arsenal-Stats',\n",
       " 'https://fbref.com/en/squads/b8fd03ef/Manchester-City-Stats',\n",
       " 'https://fbref.com/en/squads/b2b47a98/Newcastle-United-Stats',\n",
       " 'https://fbref.com/en/squads/361ca564/Tottenham-Hotspur-Stats',\n",
       " 'https://fbref.com/en/squads/19538871/Manchester-United-Stats',\n",
       " 'https://fbref.com/en/squads/822bd0ba/Liverpool-Stats',\n",
       " 'https://fbref.com/en/squads/d07537b9/Brighton-and-Hove-Albion-Stats',\n",
       " 'https://fbref.com/en/squads/cff3d9bb/Chelsea-Stats',\n",
       " 'https://fbref.com/en/squads/fd962109/Fulham-Stats',\n",
       " 'https://fbref.com/en/squads/cd051869/Brentford-Stats',\n",
       " 'https://fbref.com/en/squads/47c64c55/Crystal-Palace-Stats',\n",
       " 'https://fbref.com/en/squads/8602292d/Aston-Villa-Stats',\n",
       " 'https://fbref.com/en/squads/a2d435b3/Leicester-City-Stats',\n",
       " 'https://fbref.com/en/squads/4ba7cbea/Bournemouth-Stats',\n",
       " 'https://fbref.com/en/squads/5bfb9659/Leeds-United-Stats',\n",
       " 'https://fbref.com/en/squads/7c21e445/West-Ham-United-Stats',\n",
       " 'https://fbref.com/en/squads/d3fd31cc/Everton-Stats',\n",
       " 'https://fbref.com/en/squads/e4a775cb/Nottingham-Forest-Stats',\n",
       " 'https://fbref.com/en/squads/33c895d4/Southampton-Stats',\n",
       " 'https://fbref.com/en/squads/8cec06e1/Wolverhampton-Wanderers-Stats']"
      ]
     },
     "execution_count": 10,
     "metadata": {},
     "output_type": "execute_result"
    }
   ],
   "source": [
    "team_urls = [f\"https://fbref.com{l}\" for l in links]\n",
    "team_urls"
   ]
  },
  {
   "cell_type": "code",
   "execution_count": null,
   "metadata": {},
   "outputs": [],
   "source": [
    "team_urls = team_urls[4]\n",
    "data = requests.get(team_urls)\n",
    "data.text"
   ]
  },
  {
   "cell_type": "code",
   "execution_count": null,
   "metadata": {},
   "outputs": [],
   "source": [
    "import pandas as pd\n",
    "matches = pd.read_html(data.text,match = \"Scores & Fixtures\")\n",
    "matches"
   ]
  },
  {
   "cell_type": "code",
   "execution_count": 14,
   "metadata": {},
   "outputs": [
    {
     "data": {
      "text/html": [
       "<div>\n",
       "<style scoped>\n",
       "    .dataframe tbody tr th:only-of-type {\n",
       "        vertical-align: middle;\n",
       "    }\n",
       "\n",
       "    .dataframe tbody tr th {\n",
       "        vertical-align: top;\n",
       "    }\n",
       "\n",
       "    .dataframe thead th {\n",
       "        text-align: right;\n",
       "    }\n",
       "</style>\n",
       "<table border=\"1\" class=\"dataframe\">\n",
       "  <thead>\n",
       "    <tr style=\"text-align: right;\">\n",
       "      <th></th>\n",
       "      <th>Date</th>\n",
       "      <th>Time</th>\n",
       "      <th>Comp</th>\n",
       "      <th>Round</th>\n",
       "      <th>Day</th>\n",
       "      <th>Venue</th>\n",
       "      <th>Result</th>\n",
       "      <th>GF</th>\n",
       "      <th>GA</th>\n",
       "      <th>Opponent</th>\n",
       "      <th>xG</th>\n",
       "      <th>xGA</th>\n",
       "      <th>Poss</th>\n",
       "      <th>Attendance</th>\n",
       "      <th>Captain</th>\n",
       "      <th>Formation</th>\n",
       "      <th>Referee</th>\n",
       "      <th>Match Report</th>\n",
       "      <th>Notes</th>\n",
       "    </tr>\n",
       "  </thead>\n",
       "  <tbody>\n",
       "    <tr>\n",
       "      <th>0</th>\n",
       "      <td>2022-08-07</td>\n",
       "      <td>14:00</td>\n",
       "      <td>Premier League</td>\n",
       "      <td>Matchweek 1</td>\n",
       "      <td>Sun</td>\n",
       "      <td>Home</td>\n",
       "      <td>L</td>\n",
       "      <td>1.0</td>\n",
       "      <td>2.0</td>\n",
       "      <td>Brighton</td>\n",
       "      <td>1.4</td>\n",
       "      <td>1.5</td>\n",
       "      <td>62.0</td>\n",
       "      <td>73711.0</td>\n",
       "      <td>Harry Maguire</td>\n",
       "      <td>4-3-3</td>\n",
       "      <td>Paul Tierney</td>\n",
       "      <td>Match Report</td>\n",
       "      <td>NaN</td>\n",
       "    </tr>\n",
       "    <tr>\n",
       "      <th>1</th>\n",
       "      <td>2022-08-13</td>\n",
       "      <td>17:30</td>\n",
       "      <td>Premier League</td>\n",
       "      <td>Matchweek 2</td>\n",
       "      <td>Sat</td>\n",
       "      <td>Away</td>\n",
       "      <td>L</td>\n",
       "      <td>0.0</td>\n",
       "      <td>4.0</td>\n",
       "      <td>Brentford</td>\n",
       "      <td>0.9</td>\n",
       "      <td>1.6</td>\n",
       "      <td>66.0</td>\n",
       "      <td>17051.0</td>\n",
       "      <td>Harry Maguire</td>\n",
       "      <td>4-2-3-1</td>\n",
       "      <td>Stuart Attwell</td>\n",
       "      <td>Match Report</td>\n",
       "      <td>NaN</td>\n",
       "    </tr>\n",
       "    <tr>\n",
       "      <th>2</th>\n",
       "      <td>2022-08-22</td>\n",
       "      <td>20:00</td>\n",
       "      <td>Premier League</td>\n",
       "      <td>Matchweek 3</td>\n",
       "      <td>Mon</td>\n",
       "      <td>Home</td>\n",
       "      <td>W</td>\n",
       "      <td>2.0</td>\n",
       "      <td>1.0</td>\n",
       "      <td>Liverpool</td>\n",
       "      <td>1.8</td>\n",
       "      <td>1.3</td>\n",
       "      <td>30.0</td>\n",
       "      <td>74147.0</td>\n",
       "      <td>Bruno Fernandes</td>\n",
       "      <td>4-2-3-1</td>\n",
       "      <td>Michael Oliver</td>\n",
       "      <td>Match Report</td>\n",
       "      <td>NaN</td>\n",
       "    </tr>\n",
       "    <tr>\n",
       "      <th>3</th>\n",
       "      <td>2022-08-27</td>\n",
       "      <td>12:30</td>\n",
       "      <td>Premier League</td>\n",
       "      <td>Matchweek 4</td>\n",
       "      <td>Sat</td>\n",
       "      <td>Away</td>\n",
       "      <td>W</td>\n",
       "      <td>1.0</td>\n",
       "      <td>0.0</td>\n",
       "      <td>Southampton</td>\n",
       "      <td>1.1</td>\n",
       "      <td>1.4</td>\n",
       "      <td>51.0</td>\n",
       "      <td>31196.0</td>\n",
       "      <td>Bruno Fernandes</td>\n",
       "      <td>4-2-3-1</td>\n",
       "      <td>Andy Madley</td>\n",
       "      <td>Match Report</td>\n",
       "      <td>NaN</td>\n",
       "    </tr>\n",
       "    <tr>\n",
       "      <th>4</th>\n",
       "      <td>2022-09-01</td>\n",
       "      <td>20:00</td>\n",
       "      <td>Premier League</td>\n",
       "      <td>Matchweek 5</td>\n",
       "      <td>Thu</td>\n",
       "      <td>Away</td>\n",
       "      <td>W</td>\n",
       "      <td>1.0</td>\n",
       "      <td>0.0</td>\n",
       "      <td>Leicester City</td>\n",
       "      <td>1.5</td>\n",
       "      <td>0.7</td>\n",
       "      <td>47.0</td>\n",
       "      <td>32226.0</td>\n",
       "      <td>Bruno Fernandes</td>\n",
       "      <td>4-2-3-1</td>\n",
       "      <td>Craig Pawson</td>\n",
       "      <td>Match Report</td>\n",
       "      <td>NaN</td>\n",
       "    </tr>\n",
       "  </tbody>\n",
       "</table>\n",
       "</div>"
      ],
      "text/plain": [
       "         Date   Time            Comp        Round  Day Venue Result   GF   GA  \\\n",
       "0  2022-08-07  14:00  Premier League  Matchweek 1  Sun  Home      L  1.0  2.0   \n",
       "1  2022-08-13  17:30  Premier League  Matchweek 2  Sat  Away      L  0.0  4.0   \n",
       "2  2022-08-22  20:00  Premier League  Matchweek 3  Mon  Home      W  2.0  1.0   \n",
       "3  2022-08-27  12:30  Premier League  Matchweek 4  Sat  Away      W  1.0  0.0   \n",
       "4  2022-09-01  20:00  Premier League  Matchweek 5  Thu  Away      W  1.0  0.0   \n",
       "\n",
       "         Opponent   xG  xGA  Poss  Attendance          Captain Formation  \\\n",
       "0        Brighton  1.4  1.5  62.0     73711.0    Harry Maguire     4-3-3   \n",
       "1       Brentford  0.9  1.6  66.0     17051.0    Harry Maguire   4-2-3-1   \n",
       "2       Liverpool  1.8  1.3  30.0     74147.0  Bruno Fernandes   4-2-3-1   \n",
       "3     Southampton  1.1  1.4  51.0     31196.0  Bruno Fernandes   4-2-3-1   \n",
       "4  Leicester City  1.5  0.7  47.0     32226.0  Bruno Fernandes   4-2-3-1   \n",
       "\n",
       "          Referee  Match Report Notes  \n",
       "0    Paul Tierney  Match Report   NaN  \n",
       "1  Stuart Attwell  Match Report   NaN  \n",
       "2  Michael Oliver  Match Report   NaN  \n",
       "3     Andy Madley  Match Report   NaN  \n",
       "4    Craig Pawson  Match Report   NaN  "
      ]
     },
     "execution_count": 14,
     "metadata": {},
     "output_type": "execute_result"
    }
   ],
   "source": [
    "matches[0].head()"
   ]
  },
  {
   "cell_type": "code",
   "execution_count": null,
   "metadata": {},
   "outputs": [],
   "source": []
  }
 ],
 "metadata": {
  "kernelspec": {
   "display_name": "base",
   "language": "python",
   "name": "python3"
  },
  "language_info": {
   "codemirror_mode": {
    "name": "ipython",
    "version": 3
   },
   "file_extension": ".py",
   "mimetype": "text/x-python",
   "name": "python",
   "nbconvert_exporter": "python",
   "pygments_lexer": "ipython3",
   "version": "3.8.8"
  },
  "orig_nbformat": 4,
  "vscode": {
   "interpreter": {
    "hash": "f77b640396ee907328d3f2b1dbf7d1073670d4b49ce003bfc4c9fbcbcb50868c"
   }
  }
 },
 "nbformat": 4,
 "nbformat_minor": 2
}
